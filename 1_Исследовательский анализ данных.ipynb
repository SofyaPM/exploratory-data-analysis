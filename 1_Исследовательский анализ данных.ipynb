{
 "cells": [
  {
   "cell_type": "markdown",
   "metadata": {},
   "source": [
    "# Исследование объявлений о продаже квартир\n",
    "\n",
    "В вашем распоряжении данные сервиса Яндекс.Недвижимость — архив объявлений о продаже квартир в Санкт-Петербурге и соседних населённых пунктов за несколько лет. Нужно научиться определять рыночную стоимость объектов недвижимости. Ваша задача — установить параметры. Это позволит построить автоматизированную систему: она отследит аномалии и мошенническую деятельность. \n",
    "\n",
    "По каждой квартире на продажу доступны два вида данных. Первые вписаны пользователем, вторые — получены автоматически на основе картографических данных. Например, расстояние до центра, аэропорта, ближайшего парка и водоёма. "
   ]
  },
  {
   "cell_type": "markdown",
   "metadata": {},
   "source": [
    "### Откройте файл с данными и изучите общую информацию. "
   ]
  },
  {
   "cell_type": "code",
   "execution_count": 1,
   "metadata": {},
   "outputs": [],
   "source": [
    "# Импортируем библиотеки, которые могут понадобиться в ходе работы\n",
    "import pandas as pd\n",
    "import numpy\n",
    "import matplotlib.pyplot as plt \n",
    "import datetime\n",
    "import calendar\n",
    "import seaborn"
   ]
  },
  {
   "cell_type": "code",
   "execution_count": 2,
   "metadata": {},
   "outputs": [
    {
     "name": "stdout",
     "output_type": "stream",
     "text": [
      "       total_images  last_price  total_area first_day_exposition  rooms  \\\n",
      "0                20  13000000.0      108.00  2019-03-07T00:00:00      3   \n",
      "1                 7   3350000.0       40.40  2018-12-04T00:00:00      1   \n",
      "2                10   5196000.0       56.00  2015-08-20T00:00:00      2   \n",
      "3                 0  64900000.0      159.00  2015-07-24T00:00:00      3   \n",
      "4                 2  10000000.0      100.00  2018-06-19T00:00:00      2   \n",
      "...             ...         ...         ...                  ...    ...   \n",
      "23694             9   9700000.0      133.81  2017-03-21T00:00:00      3   \n",
      "23695            14   3100000.0       59.00  2018-01-15T00:00:00      3   \n",
      "23696            18   2500000.0       56.70  2018-02-11T00:00:00      2   \n",
      "23697            13  11475000.0       76.75  2017-03-28T00:00:00      2   \n",
      "23698             4   1350000.0       32.30  2017-07-21T00:00:00      1   \n",
      "\n",
      "       ceiling_height  floors_total  living_area  floor is_apartment  ...  \\\n",
      "0                2.70          16.0         51.0      8          NaN  ...   \n",
      "1                 NaN          11.0         18.6      1          NaN  ...   \n",
      "2                 NaN           5.0         34.3      4          NaN  ...   \n",
      "3                 NaN          14.0          NaN      9          NaN  ...   \n",
      "4                3.03          14.0         32.0     13          NaN  ...   \n",
      "...               ...           ...          ...    ...          ...  ...   \n",
      "23694            3.70           5.0         73.3      3          NaN  ...   \n",
      "23695             NaN           5.0         38.0      4          NaN  ...   \n",
      "23696             NaN           3.0         29.7      1          NaN  ...   \n",
      "23697            3.00          17.0          NaN     12          NaN  ...   \n",
      "23698            2.50           5.0         12.3      1          NaN  ...   \n",
      "\n",
      "       kitchen_area  balcony        locality_name  airports_nearest  \\\n",
      "0             25.00      NaN      Санкт-Петербург           18863.0   \n",
      "1             11.00      2.0       посёлок Шушары           12817.0   \n",
      "2              8.30      0.0      Санкт-Петербург           21741.0   \n",
      "3               NaN      0.0      Санкт-Петербург           28098.0   \n",
      "4             41.00      NaN      Санкт-Петербург           31856.0   \n",
      "...             ...      ...                  ...               ...   \n",
      "23694         13.83      NaN      Санкт-Петербург           24665.0   \n",
      "23695          8.50      NaN                Тосно               NaN   \n",
      "23696           NaN      NaN     село Рождествено               NaN   \n",
      "23697         23.30      2.0      Санкт-Петербург           39140.0   \n",
      "23698          9.00      NaN  поселок Новый Учхоз               NaN   \n",
      "\n",
      "      cityCenters_nearest  parks_around3000  parks_nearest  ponds_around3000  \\\n",
      "0                 16028.0               1.0          482.0               2.0   \n",
      "1                 18603.0               0.0            NaN               0.0   \n",
      "2                 13933.0               1.0           90.0               2.0   \n",
      "3                  6800.0               2.0           84.0               3.0   \n",
      "4                  8098.0               2.0          112.0               1.0   \n",
      "...                   ...               ...            ...               ...   \n",
      "23694              4232.0               1.0          796.0               3.0   \n",
      "23695                 NaN               NaN            NaN               NaN   \n",
      "23696                 NaN               NaN            NaN               NaN   \n",
      "23697             10364.0               2.0          173.0               3.0   \n",
      "23698                 NaN               NaN            NaN               NaN   \n",
      "\n",
      "       ponds_nearest  days_exposition  \n",
      "0              755.0              NaN  \n",
      "1                NaN             81.0  \n",
      "2              574.0            558.0  \n",
      "3              234.0            424.0  \n",
      "4               48.0            121.0  \n",
      "...              ...              ...  \n",
      "23694          381.0              NaN  \n",
      "23695            NaN             45.0  \n",
      "23696            NaN              NaN  \n",
      "23697          196.0            602.0  \n",
      "23698            NaN              NaN  \n",
      "\n",
      "[23699 rows x 22 columns]\n",
      "<class 'pandas.core.frame.DataFrame'>\n",
      "RangeIndex: 23699 entries, 0 to 23698\n",
      "Data columns (total 22 columns):\n",
      " #   Column                Non-Null Count  Dtype  \n",
      "---  ------                --------------  -----  \n",
      " 0   total_images          23699 non-null  int64  \n",
      " 1   last_price            23699 non-null  float64\n",
      " 2   total_area            23699 non-null  float64\n",
      " 3   first_day_exposition  23699 non-null  object \n",
      " 4   rooms                 23699 non-null  int64  \n",
      " 5   ceiling_height        14504 non-null  float64\n",
      " 6   floors_total          23613 non-null  float64\n",
      " 7   living_area           21796 non-null  float64\n",
      " 8   floor                 23699 non-null  int64  \n",
      " 9   is_apartment          2775 non-null   object \n",
      " 10  studio                23699 non-null  bool   \n",
      " 11  open_plan             23699 non-null  bool   \n",
      " 12  kitchen_area          21421 non-null  float64\n",
      " 13  balcony               12180 non-null  float64\n",
      " 14  locality_name         23650 non-null  object \n",
      " 15  airports_nearest      18157 non-null  float64\n",
      " 16  cityCenters_nearest   18180 non-null  float64\n",
      " 17  parks_around3000      18181 non-null  float64\n",
      " 18  parks_nearest         8079 non-null   float64\n",
      " 19  ponds_around3000      18181 non-null  float64\n",
      " 20  ponds_nearest         9110 non-null   float64\n",
      " 21  days_exposition       20518 non-null  float64\n",
      "dtypes: bool(2), float64(14), int64(3), object(3)\n",
      "memory usage: 3.7+ MB\n"
     ]
    },
    {
     "data": {
      "text/plain": [
       "23699"
      ]
     },
     "metadata": {},
     "output_type": "display_data"
    }
   ],
   "source": [
    "data = pd.read_csv('/datasets/real_estate_data.csv')\n",
    "# print(data)\n",
    "# Увидели, что данные\"склеились\", их необходимо разделить:\n",
    "data = pd.read_csv('/datasets/real_estate_data.csv', sep='\\t')\n",
    "print(data)\n",
    "# Изучим основную информацию о датафрейме:\n",
    "data.info()\n",
    "#23699 наблюдений в выборке\n",
    "# Посмотрим количество пропущенных значений в каждом столбце:\n",
    "data.isna().sum()\n",
    "# # Уже видны недочеты, требущие корректировки (например, касательно типов данных, пропусков). О них подробно будет сказано в Шаге 2.\n",
    "original_dataframe=data.shape[0]\n",
    "display(original_dataframe)\n"
   ]
  },
  {
   "cell_type": "code",
   "execution_count": 3,
   "metadata": {},
   "outputs": [
    {
     "data": {
      "text/html": [
       "<div>\n",
       "<style scoped>\n",
       "    .dataframe tbody tr th:only-of-type {\n",
       "        vertical-align: middle;\n",
       "    }\n",
       "\n",
       "    .dataframe tbody tr th {\n",
       "        vertical-align: top;\n",
       "    }\n",
       "\n",
       "    .dataframe thead th {\n",
       "        text-align: right;\n",
       "    }\n",
       "</style>\n",
       "<table border=\"1\" class=\"dataframe\">\n",
       "  <thead>\n",
       "    <tr style=\"text-align: right;\">\n",
       "      <th></th>\n",
       "      <th>total_images</th>\n",
       "      <th>last_price</th>\n",
       "      <th>total_area</th>\n",
       "      <th>rooms</th>\n",
       "      <th>ceiling_height</th>\n",
       "      <th>floors_total</th>\n",
       "      <th>living_area</th>\n",
       "      <th>floor</th>\n",
       "      <th>kitchen_area</th>\n",
       "      <th>balcony</th>\n",
       "      <th>airports_nearest</th>\n",
       "      <th>cityCenters_nearest</th>\n",
       "      <th>parks_around3000</th>\n",
       "      <th>parks_nearest</th>\n",
       "      <th>ponds_around3000</th>\n",
       "      <th>ponds_nearest</th>\n",
       "      <th>days_exposition</th>\n",
       "    </tr>\n",
       "  </thead>\n",
       "  <tbody>\n",
       "    <tr>\n",
       "      <th>count</th>\n",
       "      <td>23699.000000</td>\n",
       "      <td>2.369900e+04</td>\n",
       "      <td>23699.000000</td>\n",
       "      <td>23699.000000</td>\n",
       "      <td>14504.000000</td>\n",
       "      <td>23613.000000</td>\n",
       "      <td>21796.000000</td>\n",
       "      <td>23699.000000</td>\n",
       "      <td>21421.000000</td>\n",
       "      <td>12180.000000</td>\n",
       "      <td>18157.000000</td>\n",
       "      <td>18180.000000</td>\n",
       "      <td>18181.000000</td>\n",
       "      <td>8079.000000</td>\n",
       "      <td>18181.000000</td>\n",
       "      <td>9110.000000</td>\n",
       "      <td>20518.000000</td>\n",
       "    </tr>\n",
       "    <tr>\n",
       "      <th>mean</th>\n",
       "      <td>9.858475</td>\n",
       "      <td>6.541549e+06</td>\n",
       "      <td>60.348651</td>\n",
       "      <td>2.070636</td>\n",
       "      <td>2.771499</td>\n",
       "      <td>10.673824</td>\n",
       "      <td>34.457852</td>\n",
       "      <td>5.892358</td>\n",
       "      <td>10.569807</td>\n",
       "      <td>1.150082</td>\n",
       "      <td>28793.672193</td>\n",
       "      <td>14191.277833</td>\n",
       "      <td>0.611408</td>\n",
       "      <td>490.804555</td>\n",
       "      <td>0.770255</td>\n",
       "      <td>517.980900</td>\n",
       "      <td>180.888634</td>\n",
       "    </tr>\n",
       "    <tr>\n",
       "      <th>std</th>\n",
       "      <td>5.682529</td>\n",
       "      <td>1.088701e+07</td>\n",
       "      <td>35.654083</td>\n",
       "      <td>1.078405</td>\n",
       "      <td>1.261056</td>\n",
       "      <td>6.597173</td>\n",
       "      <td>22.030445</td>\n",
       "      <td>4.885249</td>\n",
       "      <td>5.905438</td>\n",
       "      <td>1.071300</td>\n",
       "      <td>12630.880622</td>\n",
       "      <td>8608.386210</td>\n",
       "      <td>0.802074</td>\n",
       "      <td>342.317995</td>\n",
       "      <td>0.938346</td>\n",
       "      <td>277.720643</td>\n",
       "      <td>219.727988</td>\n",
       "    </tr>\n",
       "    <tr>\n",
       "      <th>min</th>\n",
       "      <td>0.000000</td>\n",
       "      <td>1.219000e+04</td>\n",
       "      <td>12.000000</td>\n",
       "      <td>0.000000</td>\n",
       "      <td>1.000000</td>\n",
       "      <td>1.000000</td>\n",
       "      <td>2.000000</td>\n",
       "      <td>1.000000</td>\n",
       "      <td>1.300000</td>\n",
       "      <td>0.000000</td>\n",
       "      <td>0.000000</td>\n",
       "      <td>181.000000</td>\n",
       "      <td>0.000000</td>\n",
       "      <td>1.000000</td>\n",
       "      <td>0.000000</td>\n",
       "      <td>13.000000</td>\n",
       "      <td>1.000000</td>\n",
       "    </tr>\n",
       "    <tr>\n",
       "      <th>25%</th>\n",
       "      <td>6.000000</td>\n",
       "      <td>3.400000e+06</td>\n",
       "      <td>40.000000</td>\n",
       "      <td>1.000000</td>\n",
       "      <td>2.520000</td>\n",
       "      <td>5.000000</td>\n",
       "      <td>18.600000</td>\n",
       "      <td>2.000000</td>\n",
       "      <td>7.000000</td>\n",
       "      <td>0.000000</td>\n",
       "      <td>18585.000000</td>\n",
       "      <td>9238.000000</td>\n",
       "      <td>0.000000</td>\n",
       "      <td>288.000000</td>\n",
       "      <td>0.000000</td>\n",
       "      <td>294.000000</td>\n",
       "      <td>45.000000</td>\n",
       "    </tr>\n",
       "    <tr>\n",
       "      <th>50%</th>\n",
       "      <td>9.000000</td>\n",
       "      <td>4.650000e+06</td>\n",
       "      <td>52.000000</td>\n",
       "      <td>2.000000</td>\n",
       "      <td>2.650000</td>\n",
       "      <td>9.000000</td>\n",
       "      <td>30.000000</td>\n",
       "      <td>4.000000</td>\n",
       "      <td>9.100000</td>\n",
       "      <td>1.000000</td>\n",
       "      <td>26726.000000</td>\n",
       "      <td>13098.500000</td>\n",
       "      <td>0.000000</td>\n",
       "      <td>455.000000</td>\n",
       "      <td>1.000000</td>\n",
       "      <td>502.000000</td>\n",
       "      <td>95.000000</td>\n",
       "    </tr>\n",
       "    <tr>\n",
       "      <th>75%</th>\n",
       "      <td>14.000000</td>\n",
       "      <td>6.800000e+06</td>\n",
       "      <td>69.900000</td>\n",
       "      <td>3.000000</td>\n",
       "      <td>2.800000</td>\n",
       "      <td>16.000000</td>\n",
       "      <td>42.300000</td>\n",
       "      <td>8.000000</td>\n",
       "      <td>12.000000</td>\n",
       "      <td>2.000000</td>\n",
       "      <td>37273.000000</td>\n",
       "      <td>16293.000000</td>\n",
       "      <td>1.000000</td>\n",
       "      <td>612.000000</td>\n",
       "      <td>1.000000</td>\n",
       "      <td>729.000000</td>\n",
       "      <td>232.000000</td>\n",
       "    </tr>\n",
       "    <tr>\n",
       "      <th>max</th>\n",
       "      <td>50.000000</td>\n",
       "      <td>7.630000e+08</td>\n",
       "      <td>900.000000</td>\n",
       "      <td>19.000000</td>\n",
       "      <td>100.000000</td>\n",
       "      <td>60.000000</td>\n",
       "      <td>409.700000</td>\n",
       "      <td>33.000000</td>\n",
       "      <td>112.000000</td>\n",
       "      <td>5.000000</td>\n",
       "      <td>84869.000000</td>\n",
       "      <td>65968.000000</td>\n",
       "      <td>3.000000</td>\n",
       "      <td>3190.000000</td>\n",
       "      <td>3.000000</td>\n",
       "      <td>1344.000000</td>\n",
       "      <td>1580.000000</td>\n",
       "    </tr>\n",
       "  </tbody>\n",
       "</table>\n",
       "</div>"
      ],
      "text/plain": [
       "       total_images    last_price    total_area         rooms  ceiling_height  \\\n",
       "count  23699.000000  2.369900e+04  23699.000000  23699.000000    14504.000000   \n",
       "mean       9.858475  6.541549e+06     60.348651      2.070636        2.771499   \n",
       "std        5.682529  1.088701e+07     35.654083      1.078405        1.261056   \n",
       "min        0.000000  1.219000e+04     12.000000      0.000000        1.000000   \n",
       "25%        6.000000  3.400000e+06     40.000000      1.000000        2.520000   \n",
       "50%        9.000000  4.650000e+06     52.000000      2.000000        2.650000   \n",
       "75%       14.000000  6.800000e+06     69.900000      3.000000        2.800000   \n",
       "max       50.000000  7.630000e+08    900.000000     19.000000      100.000000   \n",
       "\n",
       "       floors_total   living_area         floor  kitchen_area       balcony  \\\n",
       "count  23613.000000  21796.000000  23699.000000  21421.000000  12180.000000   \n",
       "mean      10.673824     34.457852      5.892358     10.569807      1.150082   \n",
       "std        6.597173     22.030445      4.885249      5.905438      1.071300   \n",
       "min        1.000000      2.000000      1.000000      1.300000      0.000000   \n",
       "25%        5.000000     18.600000      2.000000      7.000000      0.000000   \n",
       "50%        9.000000     30.000000      4.000000      9.100000      1.000000   \n",
       "75%       16.000000     42.300000      8.000000     12.000000      2.000000   \n",
       "max       60.000000    409.700000     33.000000    112.000000      5.000000   \n",
       "\n",
       "       airports_nearest  cityCenters_nearest  parks_around3000  parks_nearest  \\\n",
       "count      18157.000000         18180.000000      18181.000000    8079.000000   \n",
       "mean       28793.672193         14191.277833          0.611408     490.804555   \n",
       "std        12630.880622          8608.386210          0.802074     342.317995   \n",
       "min            0.000000           181.000000          0.000000       1.000000   \n",
       "25%        18585.000000          9238.000000          0.000000     288.000000   \n",
       "50%        26726.000000         13098.500000          0.000000     455.000000   \n",
       "75%        37273.000000         16293.000000          1.000000     612.000000   \n",
       "max        84869.000000         65968.000000          3.000000    3190.000000   \n",
       "\n",
       "       ponds_around3000  ponds_nearest  days_exposition  \n",
       "count      18181.000000    9110.000000     20518.000000  \n",
       "mean           0.770255     517.980900       180.888634  \n",
       "std            0.938346     277.720643       219.727988  \n",
       "min            0.000000      13.000000         1.000000  \n",
       "25%            0.000000     294.000000        45.000000  \n",
       "50%            1.000000     502.000000        95.000000  \n",
       "75%            1.000000     729.000000       232.000000  \n",
       "max            3.000000    1344.000000      1580.000000  "
      ]
     },
     "metadata": {},
     "output_type": "display_data"
    },
    {
     "data": {
      "image/png": "[encoded data removed]",
      "text/plain": [
       "<Figure size 1080x1440 with 20 Axes>"
      ]
     },
     "metadata": {
      "needs_background": "light"
     },
     "output_type": "display_data"
    }
   ],
   "source": [
    "# В Шаге 1 Можно также попробовать построить предварительные гистограммы для всех числовых столбцов таблицы: \n",
    "data.hist(figsize=(15,20))\n",
    "# Некоторые гистограммы выглядят \"подозрительно\": например, last_price; ceiling_height (не наблюдается \"хвоста\").\n",
    "# Стоит также обратиться к методу describe и вывести общие статистические данные по каждому столбцу:\n",
    "display(data.describe())\n",
    "# Видны: количество наблюдений в наборе данных по столбцам, среднее арифметическое, стандартное отклонение, 1-3 квартили, минимальные и максимальные значения каждого столбца.\n"
   ]
  },
  {
   "cell_type": "markdown",
   "metadata": {},
   "source": [
    "**Помежуточный вывод:**\n",
    "на данном этапе мы убедились, что необходима предобработка данных вследствие наличия пропусков и некорректных типов данных в ряде столбцов. Также были выведены предварительные графики для каждого столбца и статистическая информация по ним. Некоторые графики выглядят странно; кроме того полезно бы было посмотреть графики на каждый параметр отдельно. Такая работа булет проведена в дальнейших шагах."
   ]
  },
  {
   "cell_type": "markdown",
   "metadata": {},
   "source": [
    "### Предобработка данных"
   ]
  },
  {
   "cell_type": "markdown",
   "metadata": {},
   "source": [
    "**Первые выводы**"
   ]
  },
  {
   "cell_type": "markdown",
   "metadata": {},
   "source": [
    "С помощью кодов `data.info()` и `data.isna().sum()` мы увидели типы данных всех столбцов и количество пропущенных в них значений.\n",
    "\n",
    "Первые выводы:\n",
    "\n",
    "столбец `first_day_exposition` должен иметь тип `datetime64`, так как информация здесь представляет собой даты и время публикации объявления;\n",
    "\n",
    "в столбцах `floors_total` , `ceiling_height` , `living_area` есть пропуски;\n",
    "\n",
    "столбец `is_apartment` должен иметь тип `bool` (по условию задачи - это булево знчение), также есть пропуски;\n",
    "\n",
    "в столбцах `kitchen_area`; `balcony` есть пропуски, также столбец должен иметь тип `int64`, так как количество балконов не может быть дробным; \n",
    "\n",
    "в столбцах `locality_name` , `airports_nearest` , `CityCenters_nearest`, `parks_around3000`, `parks_nearest`, `ponds_around3000`, `ponds_nearest`, `days_exposition` есть пропуски;\n",
    "\n",
    "Столбцы `parks_around3000`, `ponds_around3000` скорее должны быть также целочисленными данными, так как дробное количество парков и водоемов выглядит странно."
   ]
  },
  {
   "cell_type": "markdown",
   "metadata": {},
   "source": [
    "**Работа с типами данных и пропусками**"
   ]
  },
  {
   "cell_type": "code",
   "execution_count": 4,
   "metadata": {},
   "outputs": [
    {
     "name": "stdout",
     "output_type": "stream",
     "text": [
      "data.isna().sum()\n",
      " total_images                0\n",
      "last_price                  0\n",
      "total_area                  0\n",
      "first_day_exposition        0\n",
      "rooms                       0\n",
      "ceiling_height           9195\n",
      "floors_total               86\n",
      "living_area              1903\n",
      "floor                       0\n",
      "is_apartment                0\n",
      "studio                      0\n",
      "open_plan                   0\n",
      "kitchen_area             2278\n",
      "balcony                     0\n",
      "locality_name              49\n",
      "airports_nearest         5542\n",
      "cityCenters_nearest      5519\n",
      "parks_around3000         5518\n",
      "parks_nearest           15620\n",
      "ponds_around3000         5518\n",
      "ponds_nearest           14589\n",
      "days_exposition          3181\n",
      "dtype: int64\n",
      "<class 'pandas.core.frame.DataFrame'>\n",
      "RangeIndex: 23699 entries, 0 to 23698\n",
      "Data columns (total 22 columns):\n",
      " #   Column                Non-Null Count  Dtype         \n",
      "---  ------                --------------  -----         \n",
      " 0   total_images          23699 non-null  int64         \n",
      " 1   last_price            23699 non-null  float64       \n",
      " 2   total_area            23699 non-null  float64       \n",
      " 3   first_day_exposition  23699 non-null  datetime64[ns]\n",
      " 4   rooms                 23699 non-null  int64         \n",
      " 5   ceiling_height        14504 non-null  float64       \n",
      " 6   floors_total          23613 non-null  float64       \n",
      " 7   living_area           21796 non-null  float64       \n",
      " 8   floor                 23699 non-null  int64         \n",
      " 9   is_apartment          23699 non-null  bool          \n",
      " 10  studio                23699 non-null  bool          \n",
      " 11  open_plan             23699 non-null  bool          \n",
      " 12  kitchen_area          21421 non-null  float64       \n",
      " 13  balcony               23699 non-null  int64         \n",
      " 14  locality_name         23650 non-null  object        \n",
      " 15  airports_nearest      18157 non-null  float64       \n",
      " 16  cityCenters_nearest   18180 non-null  float64       \n",
      " 17  parks_around3000      18181 non-null  float64       \n",
      " 18  parks_nearest         8079 non-null   float64       \n",
      " 19  ponds_around3000      18181 non-null  float64       \n",
      " 20  ponds_nearest         9110 non-null   float64       \n",
      " 21  days_exposition       20518 non-null  float64       \n",
      "dtypes: bool(3), datetime64[ns](1), float64(13), int64(4), object(1)\n",
      "memory usage: 3.5+ MB\n"
     ]
    }
   ],
   "source": [
    "# Попробуем заменить пропуски там, где это возможно.\n",
    "# Например, пропуски в столбце с данными по числу балконов можно заменить на 0: логично предположить, что, если они не указаны, значит, скорее всего, их нет.\n",
    "# Заменим сразу и тип данных в столбце:\n",
    "data['balcony']=data['balcony'].fillna(0).astype('int')\n",
    "# Причины пропусков в days_exposition: объявление могло быть и не размещено, но заменять такие пропуски или убирать пока не стоит, их довольно много на фоне нашей выборки.\n",
    "# Столбец first_day_exposition содержит данные о датах и времени, поэтому необходимо изменить тип на datetime64:\n",
    "data['first_day_exposition'] = pd.to_datetime(data['first_day_exposition'], format='%Y-%m-%dT%H:%M:%S')\n",
    "# Предположим, что пропущенные значения в столбце is_apartment означают, что это не апартаменты, и присвоим пропускам значения False:\n",
    "data['is_apartment']=data['is_apartment'].fillna(False)\n",
    "# Убедились, что пропуски в вышеперечисленных столбцах теперь отустствуют:\n",
    "print('data.isna().sum()\\n', data.isna().sum())\n",
    "# Убедились, что некорректные типы данных изменены:\n",
    "data.info()\n",
    "# data['parks_around3000'].unique()\n",
    "# data['ponds_around3000'].unique()\n",
    "# Ранее было упомянуто, что столбцы `parks_around3000`, `ponds_around3000` скорее должны быть также целочисленными данными, однако, прменив метод unique(), видно, что дробных чисел ни в том, ни в другом столбце нет. Можем оставить как есть."
   ]
  },
  {
   "cell_type": "markdown",
   "metadata": {},
   "source": [
    "Для остальных столбцов заменять пропуски на 0 пока рискованно, мы не знаем природу их появления. Кроме того, убрав пропуски мы рискуем избавиться от значимой части массива данных, а это может привести к некорректному анализу данных. \n",
    "Среди возможных причин появления пропусков: человеческий фактор; технические неполадки, сбой при записи данных; распознавание текста; объединение/разъединение данных (наример, табличных).\n",
    "Кроме того, данные могли быть не сообщены изначально или их не удалось выяснить."
   ]
  },
  {
   "cell_type": "markdown",
   "metadata": {},
   "source": [
    "**Неявные дубликаты**\n",
    "\n",
    "Изучим уникальные значения в столбце с названиями населённых пунктов и устраним неявные дубликаты. "
   ]
  },
  {
   "cell_type": "code",
   "execution_count": 5,
   "metadata": {},
   "outputs": [
    {
     "data": {
      "text/plain": [
       "array(['Санкт-Петербург', 'посёлок Шушары', 'посёлок Янино-1',\n",
       "       'посёлок Парголово', 'Мурино', 'Ломоносов', 'Сертолово',\n",
       "       'Петергоф', 'Пушкин', 'Кудрово', 'Коммунар', 'Колпино',\n",
       "       'посёлок Красный Бор', 'Гатчина', 'деревня Фёдоровское', 'Выборг',\n",
       "       'Кронштадт', 'Кировск', 'деревня Новое Девяткино',\n",
       "       'посёлок Металлострой', 'посёлок Лебяжье', 'посёлок Сиверский',\n",
       "       'посёлок Молодцово', 'посёлок Кузьмоловский',\n",
       "       'садовое товарищество Новая Ропша', 'Павловск',\n",
       "       'деревня Пикколово', 'Всеволожск', 'Волхов', 'Кингисепп',\n",
       "       'Приозерск', 'Сестрорецк', 'деревня Куттузи', 'посёлок Аннино',\n",
       "       'посёлок Ефимовский', 'посёлок Плодовое', 'деревня Заклинье',\n",
       "       'посёлок Торковичи', 'посёлок Первомайское', 'Красное Село',\n",
       "       'посёлок Понтонный', 'Сясьстрой', 'деревня Старая',\n",
       "       'деревня Лесколово', 'посёлок Новый Свет', 'Сланцы',\n",
       "       'село Путилово', 'Ивангород', 'Шлиссельбург', 'Никольское',\n",
       "       'Зеленогорск', 'Сосновый Бор', 'деревня Оржицы',\n",
       "       'деревня Кальтино', 'посёлок Романовка', 'посёлок Бугры',\n",
       "       'посёлок Рощино', 'Кириши', 'Луга', 'Волосово', 'Отрадное',\n",
       "       'село Павлово', 'посёлок Оредеж', 'село Копорье',\n",
       "       'посёлок Молодёжное', 'Тихвин', 'посёлок Победа', 'деревня Нурма',\n",
       "       'посёлок Синявино', 'Тосно', 'посёлок Стрельна', 'Бокситогорск',\n",
       "       'посёлок Александровская', 'деревня Лопухинка', 'Пикалёво',\n",
       "       'посёлок Терволово', 'посёлок Советский', 'Подпорожье',\n",
       "       'посёлок Петровское', 'посёлок Токсово', 'посёлок Сельцо',\n",
       "       'посёлок Вырица', 'деревня Кипень', 'деревня Келози',\n",
       "       'деревня Вартемяги', 'посёлок Тельмана', 'посёлок Севастьяново',\n",
       "       'посёлок Большая Ижора', nan, 'посёлок Павлово',\n",
       "       'деревня Агалатово', 'посёлок Новогорелово', 'посёлок Лесогорский',\n",
       "       'деревня Лаголово', 'посёлок Цвелодубово', 'посёлок Рахья',\n",
       "       'деревня Белогорка', 'посёлок Заводской', 'посёлок Новоселье',\n",
       "       'деревня Большие Колпаны', 'деревня Горбунки', 'деревня Батово',\n",
       "       'деревня Заневка', 'деревня Иссад', 'Приморск',\n",
       "       'посёлок Фёдоровское', 'деревня Мистолово', 'Новая Ладога',\n",
       "       'посёлок Зимитицы', 'посёлок Барышево', 'деревня Разметелево',\n",
       "       'посёлок имени Свердлова', 'деревня Пеники', 'посёлок Рябово',\n",
       "       'деревня Пудомяги', 'посёлок станции Корнево', 'деревня Низино',\n",
       "       'деревня Бегуницы', 'посёлок Поляны', 'посёлок Мга',\n",
       "       'посёлок Елизаветино', 'посёлок Кузнечное', 'деревня Колтуши',\n",
       "       'посёлок Запорожское', 'деревня Гостилицы',\n",
       "       'деревня Малое Карлино', 'посёлок Мичуринское',\n",
       "       'посёлок имени Морозова', 'посёлок Песочный', 'посёлок Сосново',\n",
       "       'деревня Аро', 'посёлок Ильичёво', 'посёлок Тайцы',\n",
       "       'деревня Малое Верево', 'деревня Извара', 'посёлок станции Вещево',\n",
       "       'село Паша', 'деревня Калитино', 'посёлок Ульяновка',\n",
       "       'деревня Чудской Бор', 'посёлок Дубровка', 'деревня Мины',\n",
       "       'посёлок Войсковицы', 'деревня Коркино', 'посёлок Ропша',\n",
       "       'посёлок Приладожский', 'посёлок Щеглово', 'посёлок Гаврилово',\n",
       "       'Лодейное Поле', 'деревня Рабитицы', 'посёлок Никольский',\n",
       "       'деревня Кузьмолово', 'деревня Малые Колпаны',\n",
       "       'посёлок Петро-Славянка', 'посёлок Назия', 'посёлок Репино',\n",
       "       'посёлок Углово', 'посёлок Старая Малукса',\n",
       "       'садовое товарищество Рахья', 'деревня Меньково',\n",
       "       'деревня Старые Бегуницы', 'посёлок Сапёрный', 'посёлок Семрино',\n",
       "       'посёлок Глажево', 'посёлок Кобринское', 'деревня Гарболово',\n",
       "       'деревня Юкки', 'посёлок станции Приветнинское',\n",
       "       'деревня Мануйлово', 'деревня Пчева', 'посёлок Цвылёво',\n",
       "       'посёлок Мельниково', 'посёлок Пудость', 'посёлок Усть-Луга',\n",
       "       'Светогорск', 'Любань', 'посёлок Селезнёво', 'Каменногорск',\n",
       "       'деревня Кривко', 'посёлок Глебычево', 'деревня Парицы',\n",
       "       'посёлок Жилпосёлок', 'посёлок Войскорово', 'село Никольское',\n",
       "       'посёлок Стеклянный', 'посёлок Важины', 'посёлок Мыза-Ивановка',\n",
       "       'село Русско-Высоцкое', 'посёлок Форносово', 'село Старая Ладога',\n",
       "       'посёлок Житково', 'посёлок Виллози', 'деревня Лампово',\n",
       "       'деревня Шпаньково', 'деревня Лаврики', 'посёлок Сумино',\n",
       "       'посёлок Возрождение', 'деревня Старосиверская',\n",
       "       'посёлок Кикерино', 'деревня Старое Хинколово',\n",
       "       'посёлок Пригородный', 'посёлок Торфяное', 'посёлок Будогощь',\n",
       "       'посёлок Суходолье', 'посёлок Красная Долина', 'деревня Хапо-Ое',\n",
       "       'посёлок Дружная Горка', 'посёлок Лисий Нос', 'деревня Яльгелево',\n",
       "       'село Рождествено', 'деревня Старополье', 'посёлок Левашово',\n",
       "       'деревня Сяськелево', 'деревня Камышовка',\n",
       "       'садоводческое некоммерческое товарищество Лесная Поляна',\n",
       "       'деревня Хязельки', 'посёлок Жилгородок', 'деревня Ялгино',\n",
       "       'посёлок Новый Учхоз', 'посёлок Гончарово', 'посёлок Почап',\n",
       "       'посёлок Сапёрное', 'посёлок Платформа 69-й километр',\n",
       "       'посёлок Каложицы', 'деревня Фалилеево', 'деревня Пельгора',\n",
       "       'деревня Торошковичи', 'посёлок Белоостров', 'посёлок Алексеевка',\n",
       "       'посёлок Серебрянский', 'посёлок Лукаши', 'деревня Щеглово',\n",
       "       'деревня Тарасово', 'посёлок Кингисеппский', 'посёлок Ушаки',\n",
       "       'деревня Котлы', 'деревня Сижно', 'деревня Торосово',\n",
       "       'посёлок Форт Красная Горка', 'деревня Новолисино',\n",
       "       'посёлок станции Громово', 'деревня Глинка',\n",
       "       'деревня Старая Пустошь', 'посёлок Коммунары', 'посёлок Починок',\n",
       "       'посёлок Вознесенье', 'деревня Разбегаево', 'посёлок Гладкое',\n",
       "       'посёлок Тёсово-4', 'деревня Бор', 'посёлок Коробицыно',\n",
       "       'деревня Большая Вруда', 'деревня Курковицы', 'посёлок Кобралово',\n",
       "       'деревня Суоранда', 'посёлок Кондратьево',\n",
       "       'коттеджный посёлок Счастье', 'посёлок Любань', 'деревня Реброво',\n",
       "       'деревня Зимитицы', 'деревня Тойворово', 'посёлок Семиозерье',\n",
       "       'посёлок Лесное', 'посёлок Совхозный', 'посёлок Ленинское',\n",
       "       'посёлок Суйда', 'деревня Нижние Осельки', 'посёлок станции Свирь',\n",
       "       'посёлок Перово', 'Высоцк', 'село Шум', 'посёлок Котельский',\n",
       "       'посёлок станции Лужайка', 'деревня Большая Пустомержа',\n",
       "       'посёлок Красносельское', 'деревня Вахнова Кара', 'деревня Пижма',\n",
       "       'коттеджный посёлок Кивеннапа Север', 'посёлок Ромашки',\n",
       "       'деревня Каськово', 'деревня Куровицы', 'посёлок Плоское',\n",
       "       'посёлок Кирпичное', 'деревня Ям-Тесово', 'деревня Раздолье',\n",
       "       'деревня Терпилицы', 'посёлок Шугозеро', 'деревня Ваганово',\n",
       "       'посёлок Пушное', 'садовое товарищество Садко',\n",
       "       'посёлок Усть-Ижора', 'деревня Выскатка', 'посёлок Свирьстрой',\n",
       "       'посёлок Громово', 'деревня Кисельня', 'деревня Трубников Бор',\n",
       "       'посёлок Калитино', 'посёлок Высокоключевой',\n",
       "       'садовое товарищество Приладожский',\n",
       "       'посёлок Пансионат Зелёный Бор', 'деревня Ненимяки',\n",
       "       'деревня Снегирёвка', 'деревня Рапполово', 'деревня Пустынка',\n",
       "       'посёлок Рабитицы', 'деревня Большой Сабск', 'деревня Русско',\n",
       "       'деревня Лупполово', 'деревня Большое Рейзино',\n",
       "       'деревня Малая Романовка', 'посёлок Дружноселье', 'посёлок Пчевжа',\n",
       "       'посёлок Володарское', 'деревня Нижняя',\n",
       "       'коттеджный посёлок Лесное', 'деревня Тихковицы',\n",
       "       'деревня Борисова Грива', 'посёлок Дзержинского'], dtype=object)"
      ]
     },
     "execution_count": 5,
     "metadata": {},
     "output_type": "execute_result"
    }
   ],
   "source": [
    "data['locality_name'].unique()\n",
    "# Согласно заданию '...«поселок Рябово» и «поселок городского типа Рябово», «поселок Тельмана» и «посёлок Тельмана» — это обозначения одних и тех же населённых пунктов.'\n",
    "\n",
    "data['locality_name'] = data['locality_name'].str.replace('поселок', 'посёлок')\n",
    "data['locality_name'] = data['locality_name'].str.replace('поселок городского типа', 'посёлок')\n",
    "data['locality_name'] = data['locality_name'].str.replace('посёлок городского типа', 'посёлок')\n",
    "data['locality_name'] = data['locality_name'].str.replace('городской поселок', 'посёлок')\n",
    "data['locality_name'] = data['locality_name'].str.replace('городской посёлок', 'посёлок')\n",
    "data['locality_name'] = data['locality_name'].str.replace('городской посёлок', 'посёлок')\n",
    "data['locality_name'] = data['locality_name'].str.replace('посёлок при железнодорожной станции', 'посёлок станции')\n",
    "data['locality_name'] = data['locality_name'].str.replace('посёлок при станции', 'посёлок станции')\n",
    "# Стоит предположить, что Мурино и посёлок Мурино также являются неявными дубликатами:\n",
    "data['locality_name'] = data['locality_name'].str.replace('посёлок Мурино', 'Мурино')\n",
    "# То же допустим и для Кудрово:\n",
    "data['locality_name'] = data['locality_name'].str.replace('деревня Кудрово', 'Кудрово')\n",
    "# Деревню Гарболово и посёлок Гарболово также, по всей видимости, стоит считать неявными дубликатами:\n",
    "data['locality_name'] = data['locality_name'].str.replace('посёлок Гарболово', 'деревня Гарболово')\n",
    "# Данные касательно этих трех пунктов были сверены с интернет-картами и статьями, в том числе новостными (вручную). Данных по посёлку Мурино, деревни Кудрово и посёлку Гарболову найти не удалось. \n",
    "# В открытых источниках удалось найти информацию только про Мурино, Кудрово и деревню Гарболово.\n",
    "# Поэтому в данной работе предполагаются именно такие вышеназванные допущения.\n",
    "data['locality_name'].unique()\n",
    "# Таким образом, мы заменили неявные дубликаты в существующем столбце 'locality_name'\n"
   ]
  },
  {
   "cell_type": "markdown",
   "metadata": {},
   "source": [
    "**Редкие и выбивающиеся значения** "
   ]
  },
  {
   "cell_type": "code",
   "execution_count": 6,
   "metadata": {
    "scrolled": true
   },
   "outputs": [
    {
     "data": {
      "text/html": [
       "<div>\n",
       "<style scoped>\n",
       "    .dataframe tbody tr th:only-of-type {\n",
       "        vertical-align: middle;\n",
       "    }\n",
       "\n",
       "    .dataframe tbody tr th {\n",
       "        vertical-align: top;\n",
       "    }\n",
       "\n",
       "    .dataframe thead th {\n",
       "        text-align: right;\n",
       "    }\n",
       "</style>\n",
       "<table border=\"1\" class=\"dataframe\">\n",
       "  <thead>\n",
       "    <tr style=\"text-align: right;\">\n",
       "      <th></th>\n",
       "      <th>total_images</th>\n",
       "      <th>last_price</th>\n",
       "      <th>total_area</th>\n",
       "      <th>rooms</th>\n",
       "      <th>ceiling_height</th>\n",
       "      <th>floors_total</th>\n",
       "      <th>living_area</th>\n",
       "      <th>floor</th>\n",
       "      <th>kitchen_area</th>\n",
       "      <th>balcony</th>\n",
       "      <th>airports_nearest</th>\n",
       "      <th>cityCenters_nearest</th>\n",
       "      <th>parks_around3000</th>\n",
       "      <th>parks_nearest</th>\n",
       "      <th>ponds_around3000</th>\n",
       "      <th>ponds_nearest</th>\n",
       "      <th>days_exposition</th>\n",
       "    </tr>\n",
       "  </thead>\n",
       "  <tbody>\n",
       "    <tr>\n",
       "      <th>count</th>\n",
       "      <td>23699.000000</td>\n",
       "      <td>2.369900e+04</td>\n",
       "      <td>23699.000000</td>\n",
       "      <td>23699.000000</td>\n",
       "      <td>14504.000000</td>\n",
       "      <td>23613.000000</td>\n",
       "      <td>21796.000000</td>\n",
       "      <td>23699.000000</td>\n",
       "      <td>21421.000000</td>\n",
       "      <td>23699.000000</td>\n",
       "      <td>18157.000000</td>\n",
       "      <td>18180.000000</td>\n",
       "      <td>18181.000000</td>\n",
       "      <td>8079.000000</td>\n",
       "      <td>18181.000000</td>\n",
       "      <td>9110.000000</td>\n",
       "      <td>20518.000000</td>\n",
       "    </tr>\n",
       "    <tr>\n",
       "      <th>mean</th>\n",
       "      <td>9.858475</td>\n",
       "      <td>6.541549e+06</td>\n",
       "      <td>60.348651</td>\n",
       "      <td>2.070636</td>\n",
       "      <td>2.771499</td>\n",
       "      <td>10.673824</td>\n",
       "      <td>34.457852</td>\n",
       "      <td>5.892358</td>\n",
       "      <td>10.569807</td>\n",
       "      <td>0.591080</td>\n",
       "      <td>28793.672193</td>\n",
       "      <td>14191.277833</td>\n",
       "      <td>0.611408</td>\n",
       "      <td>490.804555</td>\n",
       "      <td>0.770255</td>\n",
       "      <td>517.980900</td>\n",
       "      <td>180.888634</td>\n",
       "    </tr>\n",
       "    <tr>\n",
       "      <th>std</th>\n",
       "      <td>5.682529</td>\n",
       "      <td>1.088701e+07</td>\n",
       "      <td>35.654083</td>\n",
       "      <td>1.078405</td>\n",
       "      <td>1.261056</td>\n",
       "      <td>6.597173</td>\n",
       "      <td>22.030445</td>\n",
       "      <td>4.885249</td>\n",
       "      <td>5.905438</td>\n",
       "      <td>0.959298</td>\n",
       "      <td>12630.880622</td>\n",
       "      <td>8608.386210</td>\n",
       "      <td>0.802074</td>\n",
       "      <td>342.317995</td>\n",
       "      <td>0.938346</td>\n",
       "      <td>277.720643</td>\n",
       "      <td>219.727988</td>\n",
       "    </tr>\n",
       "    <tr>\n",
       "      <th>min</th>\n",
       "      <td>0.000000</td>\n",
       "      <td>1.219000e+04</td>\n",
       "      <td>12.000000</td>\n",
       "      <td>0.000000</td>\n",
       "      <td>1.000000</td>\n",
       "      <td>1.000000</td>\n",
       "      <td>2.000000</td>\n",
       "      <td>1.000000</td>\n",
       "      <td>1.300000</td>\n",
       "      <td>0.000000</td>\n",
       "      <td>0.000000</td>\n",
       "      <td>181.000000</td>\n",
       "      <td>0.000000</td>\n",
       "      <td>1.000000</td>\n",
       "      <td>0.000000</td>\n",
       "      <td>13.000000</td>\n",
       "      <td>1.000000</td>\n",
       "    </tr>\n",
       "    <tr>\n",
       "      <th>25%</th>\n",
       "      <td>6.000000</td>\n",
       "      <td>3.400000e+06</td>\n",
       "      <td>40.000000</td>\n",
       "      <td>1.000000</td>\n",
       "      <td>2.520000</td>\n",
       "      <td>5.000000</td>\n",
       "      <td>18.600000</td>\n",
       "      <td>2.000000</td>\n",
       "      <td>7.000000</td>\n",
       "      <td>0.000000</td>\n",
       "      <td>18585.000000</td>\n",
       "      <td>9238.000000</td>\n",
       "      <td>0.000000</td>\n",
       "      <td>288.000000</td>\n",
       "      <td>0.000000</td>\n",
       "      <td>294.000000</td>\n",
       "      <td>45.000000</td>\n",
       "    </tr>\n",
       "    <tr>\n",
       "      <th>50%</th>\n",
       "      <td>9.000000</td>\n",
       "      <td>4.650000e+06</td>\n",
       "      <td>52.000000</td>\n",
       "      <td>2.000000</td>\n",
       "      <td>2.650000</td>\n",
       "      <td>9.000000</td>\n",
       "      <td>30.000000</td>\n",
       "      <td>4.000000</td>\n",
       "      <td>9.100000</td>\n",
       "      <td>0.000000</td>\n",
       "      <td>26726.000000</td>\n",
       "      <td>13098.500000</td>\n",
       "      <td>0.000000</td>\n",
       "      <td>455.000000</td>\n",
       "      <td>1.000000</td>\n",
       "      <td>502.000000</td>\n",
       "      <td>95.000000</td>\n",
       "    </tr>\n",
       "    <tr>\n",
       "      <th>75%</th>\n",
       "      <td>14.000000</td>\n",
       "      <td>6.800000e+06</td>\n",
       "      <td>69.900000</td>\n",
       "      <td>3.000000</td>\n",
       "      <td>2.800000</td>\n",
       "      <td>16.000000</td>\n",
       "      <td>42.300000</td>\n",
       "      <td>8.000000</td>\n",
       "      <td>12.000000</td>\n",
       "      <td>1.000000</td>\n",
       "      <td>37273.000000</td>\n",
       "      <td>16293.000000</td>\n",
       "      <td>1.000000</td>\n",
       "      <td>612.000000</td>\n",
       "      <td>1.000000</td>\n",
       "      <td>729.000000</td>\n",
       "      <td>232.000000</td>\n",
       "    </tr>\n",
       "    <tr>\n",
       "      <th>max</th>\n",
       "      <td>50.000000</td>\n",
       "      <td>7.630000e+08</td>\n",
       "      <td>900.000000</td>\n",
       "      <td>19.000000</td>\n",
       "      <td>100.000000</td>\n",
       "      <td>60.000000</td>\n",
       "      <td>409.700000</td>\n",
       "      <td>33.000000</td>\n",
       "      <td>112.000000</td>\n",
       "      <td>5.000000</td>\n",
       "      <td>84869.000000</td>\n",
       "      <td>65968.000000</td>\n",
       "      <td>3.000000</td>\n",
       "      <td>3190.000000</td>\n",
       "      <td>3.000000</td>\n",
       "      <td>1344.000000</td>\n",
       "      <td>1580.000000</td>\n",
       "    </tr>\n",
       "  </tbody>\n",
       "</table>\n",
       "</div>"
      ],
      "text/plain": [
       "       total_images    last_price    total_area         rooms  ceiling_height  \\\n",
       "count  23699.000000  2.369900e+04  23699.000000  23699.000000    14504.000000   \n",
       "mean       9.858475  6.541549e+06     60.348651      2.070636        2.771499   \n",
       "std        5.682529  1.088701e+07     35.654083      1.078405        1.261056   \n",
       "min        0.000000  1.219000e+04     12.000000      0.000000        1.000000   \n",
       "25%        6.000000  3.400000e+06     40.000000      1.000000        2.520000   \n",
       "50%        9.000000  4.650000e+06     52.000000      2.000000        2.650000   \n",
       "75%       14.000000  6.800000e+06     69.900000      3.000000        2.800000   \n",
       "max       50.000000  7.630000e+08    900.000000     19.000000      100.000000   \n",
       "\n",
       "       floors_total   living_area         floor  kitchen_area       balcony  \\\n",
       "count  23613.000000  21796.000000  23699.000000  21421.000000  23699.000000   \n",
       "mean      10.673824     34.457852      5.892358     10.569807      0.591080   \n",
       "std        6.597173     22.030445      4.885249      5.905438      0.959298   \n",
       "min        1.000000      2.000000      1.000000      1.300000      0.000000   \n",
       "25%        5.000000     18.600000      2.000000      7.000000      0.000000   \n",
       "50%        9.000000     30.000000      4.000000      9.100000      0.000000   \n",
       "75%       16.000000     42.300000      8.000000     12.000000      1.000000   \n",
       "max       60.000000    409.700000     33.000000    112.000000      5.000000   \n",
       "\n",
       "       airports_nearest  cityCenters_nearest  parks_around3000  parks_nearest  \\\n",
       "count      18157.000000         18180.000000      18181.000000    8079.000000   \n",
       "mean       28793.672193         14191.277833          0.611408     490.804555   \n",
       "std        12630.880622          8608.386210          0.802074     342.317995   \n",
       "min            0.000000           181.000000          0.000000       1.000000   \n",
       "25%        18585.000000          9238.000000          0.000000     288.000000   \n",
       "50%        26726.000000         13098.500000          0.000000     455.000000   \n",
       "75%        37273.000000         16293.000000          1.000000     612.000000   \n",
       "max        84869.000000         65968.000000          3.000000    3190.000000   \n",
       "\n",
       "       ponds_around3000  ponds_nearest  days_exposition  \n",
       "count      18181.000000    9110.000000     20518.000000  \n",
       "mean           0.770255     517.980900       180.888634  \n",
       "std            0.938346     277.720643       219.727988  \n",
       "min            0.000000      13.000000         1.000000  \n",
       "25%            0.000000     294.000000        45.000000  \n",
       "50%            1.000000     502.000000        95.000000  \n",
       "75%            1.000000     729.000000       232.000000  \n",
       "max            3.000000    1344.000000      1580.000000  "
      ]
     },
     "execution_count": 6,
     "metadata": {},
     "output_type": "execute_result"
    }
   ],
   "source": [
    "#Выведем еще раз методом describe() информацию о наших данных по всем столбцам:\n",
    "data.describe()"
   ]
  },
  {
   "cell_type": "markdown",
   "metadata": {},
   "source": [
    "Cтолбец `total_images` можем оставить как есть: с типом данных все в порядке, пропусков нет; мы не можем утверждать, что 50 или 0 фотографий-это аномалия и такого не может быть.\n",
    "\n",
    "То же самое допустим для столбцов: `days_exposition`, `ponds_nearest`, `ponds_around3000`, `parks_nearest`, `parks_around3000`, `cityCenters_nearest`, `airports_nearest`, `total_area`, `floor`. Максимальные и минимальные значения здесь также выглядят адекватно.\n",
    "\n",
    "Предлагается с вышеназванными столбцами работу по предобработке данных с точки зрения выбросов и аномалий завершить.\n",
    "\n",
    "Столбец `balcony`: необходимо изучить более детально на предмет превышения количества балконов в квартире над комнатами."
   ]
  },
  {
   "cell_type": "code",
   "execution_count": 7,
   "metadata": {},
   "outputs": [
    {
     "data": {
      "text/html": [
       "<div>\n",
       "<style scoped>\n",
       "    .dataframe tbody tr th:only-of-type {\n",
       "        vertical-align: middle;\n",
       "    }\n",
       "\n",
       "    .dataframe tbody tr th {\n",
       "        vertical-align: top;\n",
       "    }\n",
       "\n",
       "    .dataframe thead th {\n",
       "        text-align: right;\n",
       "    }\n",
       "</style>\n",
       "<table border=\"1\" class=\"dataframe\">\n",
       "  <thead>\n",
       "    <tr style=\"text-align: right;\">\n",
       "      <th></th>\n",
       "      <th>total_images</th>\n",
       "      <th>last_price</th>\n",
       "      <th>total_area</th>\n",
       "      <th>first_day_exposition</th>\n",
       "      <th>rooms</th>\n",
       "      <th>ceiling_height</th>\n",
       "      <th>floors_total</th>\n",
       "      <th>living_area</th>\n",
       "      <th>floor</th>\n",
       "      <th>is_apartment</th>\n",
       "      <th>...</th>\n",
       "      <th>kitchen_area</th>\n",
       "      <th>balcony</th>\n",
       "      <th>locality_name</th>\n",
       "      <th>airports_nearest</th>\n",
       "      <th>cityCenters_nearest</th>\n",
       "      <th>parks_around3000</th>\n",
       "      <th>parks_nearest</th>\n",
       "      <th>ponds_around3000</th>\n",
       "      <th>ponds_nearest</th>\n",
       "      <th>days_exposition</th>\n",
       "    </tr>\n",
       "  </thead>\n",
       "  <tbody>\n",
       "    <tr>\n",
       "      <th>793</th>\n",
       "      <td>20</td>\n",
       "      <td>135000000.0</td>\n",
       "      <td>310.0</td>\n",
       "      <td>2018-05-22</td>\n",
       "      <td>4</td>\n",
       "      <td>3.30</td>\n",
       "      <td>5.0</td>\n",
       "      <td>250.00</td>\n",
       "      <td>2</td>\n",
       "      <td>False</td>\n",
       "      <td>...</td>\n",
       "      <td>50.00</td>\n",
       "      <td>0</td>\n",
       "      <td>Санкт-Петербург</td>\n",
       "      <td>34159.0</td>\n",
       "      <td>7251.0</td>\n",
       "      <td>2.0</td>\n",
       "      <td>295.0</td>\n",
       "      <td>3.0</td>\n",
       "      <td>190.0</td>\n",
       "      <td>342.0</td>\n",
       "    </tr>\n",
       "    <tr>\n",
       "      <th>1026</th>\n",
       "      <td>20</td>\n",
       "      <td>155000000.0</td>\n",
       "      <td>310.0</td>\n",
       "      <td>2018-10-12</td>\n",
       "      <td>5</td>\n",
       "      <td>5.30</td>\n",
       "      <td>3.0</td>\n",
       "      <td>190.00</td>\n",
       "      <td>3</td>\n",
       "      <td>False</td>\n",
       "      <td>...</td>\n",
       "      <td>63.00</td>\n",
       "      <td>2</td>\n",
       "      <td>Санкт-Петербург</td>\n",
       "      <td>24899.0</td>\n",
       "      <td>4785.0</td>\n",
       "      <td>0.0</td>\n",
       "      <td>NaN</td>\n",
       "      <td>1.0</td>\n",
       "      <td>603.0</td>\n",
       "      <td>NaN</td>\n",
       "    </tr>\n",
       "    <tr>\n",
       "      <th>1188</th>\n",
       "      <td>20</td>\n",
       "      <td>118000000.0</td>\n",
       "      <td>290.6</td>\n",
       "      <td>2018-06-01</td>\n",
       "      <td>6</td>\n",
       "      <td>3.82</td>\n",
       "      <td>6.0</td>\n",
       "      <td>188.70</td>\n",
       "      <td>3</td>\n",
       "      <td>False</td>\n",
       "      <td>...</td>\n",
       "      <td>22.00</td>\n",
       "      <td>1</td>\n",
       "      <td>Санкт-Петербург</td>\n",
       "      <td>25309.0</td>\n",
       "      <td>6224.0</td>\n",
       "      <td>1.0</td>\n",
       "      <td>217.0</td>\n",
       "      <td>0.0</td>\n",
       "      <td>NaN</td>\n",
       "      <td>316.0</td>\n",
       "    </tr>\n",
       "    <tr>\n",
       "      <th>1300</th>\n",
       "      <td>14</td>\n",
       "      <td>120000000.0</td>\n",
       "      <td>280.0</td>\n",
       "      <td>2018-07-12</td>\n",
       "      <td>5</td>\n",
       "      <td>4.70</td>\n",
       "      <td>4.0</td>\n",
       "      <td>162.00</td>\n",
       "      <td>3</td>\n",
       "      <td>False</td>\n",
       "      <td>...</td>\n",
       "      <td>30.00</td>\n",
       "      <td>0</td>\n",
       "      <td>Санкт-Петербург</td>\n",
       "      <td>24680.0</td>\n",
       "      <td>4247.0</td>\n",
       "      <td>1.0</td>\n",
       "      <td>464.0</td>\n",
       "      <td>3.0</td>\n",
       "      <td>339.0</td>\n",
       "      <td>225.0</td>\n",
       "    </tr>\n",
       "    <tr>\n",
       "      <th>1436</th>\n",
       "      <td>19</td>\n",
       "      <td>330000000.0</td>\n",
       "      <td>190.0</td>\n",
       "      <td>2018-04-04</td>\n",
       "      <td>3</td>\n",
       "      <td>3.50</td>\n",
       "      <td>7.0</td>\n",
       "      <td>95.00</td>\n",
       "      <td>5</td>\n",
       "      <td>False</td>\n",
       "      <td>...</td>\n",
       "      <td>40.00</td>\n",
       "      <td>0</td>\n",
       "      <td>Санкт-Петербург</td>\n",
       "      <td>23011.0</td>\n",
       "      <td>1197.0</td>\n",
       "      <td>3.0</td>\n",
       "      <td>519.0</td>\n",
       "      <td>3.0</td>\n",
       "      <td>285.0</td>\n",
       "      <td>233.0</td>\n",
       "    </tr>\n",
       "    <tr>\n",
       "      <th>1928</th>\n",
       "      <td>11</td>\n",
       "      <td>125000000.0</td>\n",
       "      <td>224.5</td>\n",
       "      <td>2017-01-24</td>\n",
       "      <td>4</td>\n",
       "      <td>NaN</td>\n",
       "      <td>4.0</td>\n",
       "      <td>163.50</td>\n",
       "      <td>3</td>\n",
       "      <td>False</td>\n",
       "      <td>...</td>\n",
       "      <td>30.00</td>\n",
       "      <td>1</td>\n",
       "      <td>Санкт-Петербург</td>\n",
       "      <td>22805.0</td>\n",
       "      <td>2335.0</td>\n",
       "      <td>0.0</td>\n",
       "      <td>NaN</td>\n",
       "      <td>2.0</td>\n",
       "      <td>497.0</td>\n",
       "      <td>174.0</td>\n",
       "    </tr>\n",
       "    <tr>\n",
       "      <th>2243</th>\n",
       "      <td>9</td>\n",
       "      <td>130278280.0</td>\n",
       "      <td>304.0</td>\n",
       "      <td>2015-07-24</td>\n",
       "      <td>5</td>\n",
       "      <td>3.11</td>\n",
       "      <td>9.0</td>\n",
       "      <td>NaN</td>\n",
       "      <td>7</td>\n",
       "      <td>False</td>\n",
       "      <td>...</td>\n",
       "      <td>NaN</td>\n",
       "      <td>0</td>\n",
       "      <td>Санкт-Петербург</td>\n",
       "      <td>25593.0</td>\n",
       "      <td>5913.0</td>\n",
       "      <td>2.0</td>\n",
       "      <td>164.0</td>\n",
       "      <td>0.0</td>\n",
       "      <td>NaN</td>\n",
       "      <td>599.0</td>\n",
       "    </tr>\n",
       "    <tr>\n",
       "      <th>2536</th>\n",
       "      <td>16</td>\n",
       "      <td>159984000.0</td>\n",
       "      <td>242.4</td>\n",
       "      <td>2015-08-27</td>\n",
       "      <td>4</td>\n",
       "      <td>3.85</td>\n",
       "      <td>9.0</td>\n",
       "      <td>131.00</td>\n",
       "      <td>7</td>\n",
       "      <td>False</td>\n",
       "      <td>...</td>\n",
       "      <td>20.00</td>\n",
       "      <td>0</td>\n",
       "      <td>Санкт-Петербург</td>\n",
       "      <td>21946.0</td>\n",
       "      <td>2242.0</td>\n",
       "      <td>1.0</td>\n",
       "      <td>679.0</td>\n",
       "      <td>1.0</td>\n",
       "      <td>227.0</td>\n",
       "      <td>501.0</td>\n",
       "    </tr>\n",
       "    <tr>\n",
       "      <th>3117</th>\n",
       "      <td>19</td>\n",
       "      <td>140000000.0</td>\n",
       "      <td>631.0</td>\n",
       "      <td>2019-03-30</td>\n",
       "      <td>7</td>\n",
       "      <td>NaN</td>\n",
       "      <td>5.0</td>\n",
       "      <td>NaN</td>\n",
       "      <td>5</td>\n",
       "      <td>False</td>\n",
       "      <td>...</td>\n",
       "      <td>60.00</td>\n",
       "      <td>0</td>\n",
       "      <td>Санкт-Петербург</td>\n",
       "      <td>25707.0</td>\n",
       "      <td>4972.0</td>\n",
       "      <td>0.0</td>\n",
       "      <td>NaN</td>\n",
       "      <td>2.0</td>\n",
       "      <td>210.0</td>\n",
       "      <td>NaN</td>\n",
       "    </tr>\n",
       "    <tr>\n",
       "      <th>4996</th>\n",
       "      <td>20</td>\n",
       "      <td>124000000.0</td>\n",
       "      <td>124.5</td>\n",
       "      <td>2017-10-12</td>\n",
       "      <td>4</td>\n",
       "      <td>3.00</td>\n",
       "      <td>4.0</td>\n",
       "      <td>67.20</td>\n",
       "      <td>2</td>\n",
       "      <td>False</td>\n",
       "      <td>...</td>\n",
       "      <td>20.00</td>\n",
       "      <td>0</td>\n",
       "      <td>Санкт-Петербург</td>\n",
       "      <td>20399.0</td>\n",
       "      <td>1722.0</td>\n",
       "      <td>3.0</td>\n",
       "      <td>302.0</td>\n",
       "      <td>3.0</td>\n",
       "      <td>172.0</td>\n",
       "      <td>45.0</td>\n",
       "    </tr>\n",
       "    <tr>\n",
       "      <th>5893</th>\n",
       "      <td>3</td>\n",
       "      <td>230000000.0</td>\n",
       "      <td>500.0</td>\n",
       "      <td>2017-05-31</td>\n",
       "      <td>6</td>\n",
       "      <td>NaN</td>\n",
       "      <td>7.0</td>\n",
       "      <td>NaN</td>\n",
       "      <td>7</td>\n",
       "      <td>False</td>\n",
       "      <td>...</td>\n",
       "      <td>40.00</td>\n",
       "      <td>0</td>\n",
       "      <td>Санкт-Петербург</td>\n",
       "      <td>32440.0</td>\n",
       "      <td>5297.0</td>\n",
       "      <td>0.0</td>\n",
       "      <td>NaN</td>\n",
       "      <td>2.0</td>\n",
       "      <td>198.0</td>\n",
       "      <td>50.0</td>\n",
       "    </tr>\n",
       "    <tr>\n",
       "      <th>7543</th>\n",
       "      <td>20</td>\n",
       "      <td>130000000.0</td>\n",
       "      <td>307.8</td>\n",
       "      <td>2016-04-24</td>\n",
       "      <td>5</td>\n",
       "      <td>NaN</td>\n",
       "      <td>4.0</td>\n",
       "      <td>187.90</td>\n",
       "      <td>3</td>\n",
       "      <td>False</td>\n",
       "      <td>...</td>\n",
       "      <td>63.40</td>\n",
       "      <td>0</td>\n",
       "      <td>Санкт-Петербург</td>\n",
       "      <td>24899.0</td>\n",
       "      <td>4785.0</td>\n",
       "      <td>0.0</td>\n",
       "      <td>NaN</td>\n",
       "      <td>1.0</td>\n",
       "      <td>603.0</td>\n",
       "      <td>1094.0</td>\n",
       "    </tr>\n",
       "    <tr>\n",
       "      <th>7674</th>\n",
       "      <td>20</td>\n",
       "      <td>131000000.0</td>\n",
       "      <td>380.0</td>\n",
       "      <td>2016-09-23</td>\n",
       "      <td>5</td>\n",
       "      <td>3.90</td>\n",
       "      <td>6.0</td>\n",
       "      <td>150.00</td>\n",
       "      <td>4</td>\n",
       "      <td>False</td>\n",
       "      <td>...</td>\n",
       "      <td>NaN</td>\n",
       "      <td>1</td>\n",
       "      <td>Санкт-Петербург</td>\n",
       "      <td>25801.0</td>\n",
       "      <td>4504.0</td>\n",
       "      <td>2.0</td>\n",
       "      <td>161.0</td>\n",
       "      <td>1.0</td>\n",
       "      <td>635.0</td>\n",
       "      <td>901.0</td>\n",
       "    </tr>\n",
       "    <tr>\n",
       "      <th>7857</th>\n",
       "      <td>11</td>\n",
       "      <td>150000000.0</td>\n",
       "      <td>230.0</td>\n",
       "      <td>2017-10-25</td>\n",
       "      <td>8</td>\n",
       "      <td>NaN</td>\n",
       "      <td>8.0</td>\n",
       "      <td>220.00</td>\n",
       "      <td>8</td>\n",
       "      <td>False</td>\n",
       "      <td>...</td>\n",
       "      <td>NaN</td>\n",
       "      <td>0</td>\n",
       "      <td>Санкт-Петербург</td>\n",
       "      <td>25525.0</td>\n",
       "      <td>5845.0</td>\n",
       "      <td>2.0</td>\n",
       "      <td>116.0</td>\n",
       "      <td>0.0</td>\n",
       "      <td>NaN</td>\n",
       "      <td>135.0</td>\n",
       "    </tr>\n",
       "    <tr>\n",
       "      <th>8900</th>\n",
       "      <td>13</td>\n",
       "      <td>190870000.0</td>\n",
       "      <td>268.0</td>\n",
       "      <td>2016-03-25</td>\n",
       "      <td>3</td>\n",
       "      <td>NaN</td>\n",
       "      <td>8.0</td>\n",
       "      <td>132.00</td>\n",
       "      <td>7</td>\n",
       "      <td>False</td>\n",
       "      <td>...</td>\n",
       "      <td>40.00</td>\n",
       "      <td>0</td>\n",
       "      <td>Санкт-Петербург</td>\n",
       "      <td>32440.0</td>\n",
       "      <td>5297.0</td>\n",
       "      <td>0.0</td>\n",
       "      <td>NaN</td>\n",
       "      <td>2.0</td>\n",
       "      <td>198.0</td>\n",
       "      <td>901.0</td>\n",
       "    </tr>\n",
       "    <tr>\n",
       "      <th>12674</th>\n",
       "      <td>16</td>\n",
       "      <td>140000000.0</td>\n",
       "      <td>241.0</td>\n",
       "      <td>2015-07-24</td>\n",
       "      <td>5</td>\n",
       "      <td>3.00</td>\n",
       "      <td>5.0</td>\n",
       "      <td>NaN</td>\n",
       "      <td>4</td>\n",
       "      <td>False</td>\n",
       "      <td>...</td>\n",
       "      <td>NaN</td>\n",
       "      <td>0</td>\n",
       "      <td>Санкт-Петербург</td>\n",
       "      <td>23512.0</td>\n",
       "      <td>3503.0</td>\n",
       "      <td>3.0</td>\n",
       "      <td>413.0</td>\n",
       "      <td>3.0</td>\n",
       "      <td>83.0</td>\n",
       "      <td>399.0</td>\n",
       "    </tr>\n",
       "    <tr>\n",
       "      <th>12859</th>\n",
       "      <td>20</td>\n",
       "      <td>140000000.0</td>\n",
       "      <td>631.2</td>\n",
       "      <td>2019-04-09</td>\n",
       "      <td>7</td>\n",
       "      <td>3.90</td>\n",
       "      <td>4.0</td>\n",
       "      <td>322.30</td>\n",
       "      <td>4</td>\n",
       "      <td>False</td>\n",
       "      <td>...</td>\n",
       "      <td>19.50</td>\n",
       "      <td>1</td>\n",
       "      <td>Санкт-Петербург</td>\n",
       "      <td>25707.0</td>\n",
       "      <td>4972.0</td>\n",
       "      <td>0.0</td>\n",
       "      <td>NaN</td>\n",
       "      <td>2.0</td>\n",
       "      <td>210.0</td>\n",
       "      <td>NaN</td>\n",
       "    </tr>\n",
       "    <tr>\n",
       "      <th>12971</th>\n",
       "      <td>19</td>\n",
       "      <td>763000000.0</td>\n",
       "      <td>400.0</td>\n",
       "      <td>2017-09-30</td>\n",
       "      <td>7</td>\n",
       "      <td>NaN</td>\n",
       "      <td>10.0</td>\n",
       "      <td>250.00</td>\n",
       "      <td>10</td>\n",
       "      <td>False</td>\n",
       "      <td>...</td>\n",
       "      <td>NaN</td>\n",
       "      <td>2</td>\n",
       "      <td>Санкт-Петербург</td>\n",
       "      <td>25108.0</td>\n",
       "      <td>3956.0</td>\n",
       "      <td>1.0</td>\n",
       "      <td>530.0</td>\n",
       "      <td>3.0</td>\n",
       "      <td>756.0</td>\n",
       "      <td>33.0</td>\n",
       "    </tr>\n",
       "    <tr>\n",
       "      <th>13749</th>\n",
       "      <td>7</td>\n",
       "      <td>240000000.0</td>\n",
       "      <td>410.0</td>\n",
       "      <td>2017-04-01</td>\n",
       "      <td>6</td>\n",
       "      <td>3.40</td>\n",
       "      <td>7.0</td>\n",
       "      <td>218.00</td>\n",
       "      <td>7</td>\n",
       "      <td>False</td>\n",
       "      <td>...</td>\n",
       "      <td>40.00</td>\n",
       "      <td>0</td>\n",
       "      <td>Санкт-Петербург</td>\n",
       "      <td>32440.0</td>\n",
       "      <td>5297.0</td>\n",
       "      <td>0.0</td>\n",
       "      <td>NaN</td>\n",
       "      <td>2.0</td>\n",
       "      <td>198.0</td>\n",
       "      <td>199.0</td>\n",
       "    </tr>\n",
       "    <tr>\n",
       "      <th>13864</th>\n",
       "      <td>20</td>\n",
       "      <td>130000000.0</td>\n",
       "      <td>231.0</td>\n",
       "      <td>2015-08-13</td>\n",
       "      <td>6</td>\n",
       "      <td>3.60</td>\n",
       "      <td>6.0</td>\n",
       "      <td>148.00</td>\n",
       "      <td>4</td>\n",
       "      <td>False</td>\n",
       "      <td>...</td>\n",
       "      <td>12.00</td>\n",
       "      <td>0</td>\n",
       "      <td>Санкт-Петербург</td>\n",
       "      <td>22992.0</td>\n",
       "      <td>1280.0</td>\n",
       "      <td>3.0</td>\n",
       "      <td>395.0</td>\n",
       "      <td>3.0</td>\n",
       "      <td>170.0</td>\n",
       "      <td>467.0</td>\n",
       "    </tr>\n",
       "    <tr>\n",
       "      <th>14706</th>\n",
       "      <td>15</td>\n",
       "      <td>401300000.0</td>\n",
       "      <td>401.0</td>\n",
       "      <td>2016-02-20</td>\n",
       "      <td>5</td>\n",
       "      <td>NaN</td>\n",
       "      <td>9.0</td>\n",
       "      <td>204.00</td>\n",
       "      <td>9</td>\n",
       "      <td>False</td>\n",
       "      <td>...</td>\n",
       "      <td>24.00</td>\n",
       "      <td>3</td>\n",
       "      <td>Санкт-Петербург</td>\n",
       "      <td>21912.0</td>\n",
       "      <td>2389.0</td>\n",
       "      <td>1.0</td>\n",
       "      <td>545.0</td>\n",
       "      <td>1.0</td>\n",
       "      <td>478.0</td>\n",
       "      <td>393.0</td>\n",
       "    </tr>\n",
       "    <tr>\n",
       "      <th>15016</th>\n",
       "      <td>8</td>\n",
       "      <td>150000000.0</td>\n",
       "      <td>500.0</td>\n",
       "      <td>2016-01-13</td>\n",
       "      <td>4</td>\n",
       "      <td>3.20</td>\n",
       "      <td>7.0</td>\n",
       "      <td>NaN</td>\n",
       "      <td>7</td>\n",
       "      <td>False</td>\n",
       "      <td>...</td>\n",
       "      <td>NaN</td>\n",
       "      <td>0</td>\n",
       "      <td>Санкт-Петербург</td>\n",
       "      <td>33058.0</td>\n",
       "      <td>6150.0</td>\n",
       "      <td>3.0</td>\n",
       "      <td>209.0</td>\n",
       "      <td>3.0</td>\n",
       "      <td>531.0</td>\n",
       "      <td>303.0</td>\n",
       "    </tr>\n",
       "    <tr>\n",
       "      <th>15651</th>\n",
       "      <td>20</td>\n",
       "      <td>300000000.0</td>\n",
       "      <td>618.0</td>\n",
       "      <td>2017-12-18</td>\n",
       "      <td>7</td>\n",
       "      <td>3.40</td>\n",
       "      <td>7.0</td>\n",
       "      <td>258.00</td>\n",
       "      <td>5</td>\n",
       "      <td>False</td>\n",
       "      <td>...</td>\n",
       "      <td>70.00</td>\n",
       "      <td>0</td>\n",
       "      <td>Санкт-Петербург</td>\n",
       "      <td>32440.0</td>\n",
       "      <td>5297.0</td>\n",
       "      <td>0.0</td>\n",
       "      <td>NaN</td>\n",
       "      <td>2.0</td>\n",
       "      <td>198.0</td>\n",
       "      <td>111.0</td>\n",
       "    </tr>\n",
       "    <tr>\n",
       "      <th>16461</th>\n",
       "      <td>17</td>\n",
       "      <td>245000000.0</td>\n",
       "      <td>285.7</td>\n",
       "      <td>2017-04-10</td>\n",
       "      <td>6</td>\n",
       "      <td>3.35</td>\n",
       "      <td>7.0</td>\n",
       "      <td>182.80</td>\n",
       "      <td>4</td>\n",
       "      <td>False</td>\n",
       "      <td>...</td>\n",
       "      <td>29.80</td>\n",
       "      <td>0</td>\n",
       "      <td>Санкт-Петербург</td>\n",
       "      <td>33143.0</td>\n",
       "      <td>6235.0</td>\n",
       "      <td>3.0</td>\n",
       "      <td>400.0</td>\n",
       "      <td>3.0</td>\n",
       "      <td>140.0</td>\n",
       "      <td>249.0</td>\n",
       "    </tr>\n",
       "    <tr>\n",
       "      <th>16495</th>\n",
       "      <td>12</td>\n",
       "      <td>159000000.0</td>\n",
       "      <td>260.0</td>\n",
       "      <td>2017-04-04</td>\n",
       "      <td>4</td>\n",
       "      <td>NaN</td>\n",
       "      <td>5.0</td>\n",
       "      <td>180.00</td>\n",
       "      <td>4</td>\n",
       "      <td>False</td>\n",
       "      <td>...</td>\n",
       "      <td>30.00</td>\n",
       "      <td>2</td>\n",
       "      <td>Санкт-Петербург</td>\n",
       "      <td>21740.0</td>\n",
       "      <td>436.0</td>\n",
       "      <td>2.0</td>\n",
       "      <td>138.0</td>\n",
       "      <td>3.0</td>\n",
       "      <td>620.0</td>\n",
       "      <td>178.0</td>\n",
       "    </tr>\n",
       "    <tr>\n",
       "      <th>16647</th>\n",
       "      <td>15</td>\n",
       "      <td>122000000.0</td>\n",
       "      <td>145.0</td>\n",
       "      <td>2017-04-25</td>\n",
       "      <td>3</td>\n",
       "      <td>3.30</td>\n",
       "      <td>6.0</td>\n",
       "      <td>36.00</td>\n",
       "      <td>2</td>\n",
       "      <td>False</td>\n",
       "      <td>...</td>\n",
       "      <td>72.00</td>\n",
       "      <td>0</td>\n",
       "      <td>Санкт-Петербург</td>\n",
       "      <td>33931.0</td>\n",
       "      <td>7023.0</td>\n",
       "      <td>2.0</td>\n",
       "      <td>478.0</td>\n",
       "      <td>3.0</td>\n",
       "      <td>250.0</td>\n",
       "      <td>335.0</td>\n",
       "    </tr>\n",
       "    <tr>\n",
       "      <th>17912</th>\n",
       "      <td>17</td>\n",
       "      <td>135000000.0</td>\n",
       "      <td>166.0</td>\n",
       "      <td>2019-02-07</td>\n",
       "      <td>3</td>\n",
       "      <td>3.30</td>\n",
       "      <td>7.0</td>\n",
       "      <td>52.00</td>\n",
       "      <td>1</td>\n",
       "      <td>False</td>\n",
       "      <td>...</td>\n",
       "      <td>64.00</td>\n",
       "      <td>0</td>\n",
       "      <td>Санкт-Петербург</td>\n",
       "      <td>32863.0</td>\n",
       "      <td>5955.0</td>\n",
       "      <td>2.0</td>\n",
       "      <td>230.0</td>\n",
       "      <td>3.0</td>\n",
       "      <td>215.0</td>\n",
       "      <td>NaN</td>\n",
       "    </tr>\n",
       "    <tr>\n",
       "      <th>19155</th>\n",
       "      <td>20</td>\n",
       "      <td>160000000.0</td>\n",
       "      <td>243.0</td>\n",
       "      <td>2018-11-12</td>\n",
       "      <td>5</td>\n",
       "      <td>NaN</td>\n",
       "      <td>5.0</td>\n",
       "      <td>145.00</td>\n",
       "      <td>4</td>\n",
       "      <td>False</td>\n",
       "      <td>...</td>\n",
       "      <td>33.00</td>\n",
       "      <td>0</td>\n",
       "      <td>Санкт-Петербург</td>\n",
       "      <td>22640.0</td>\n",
       "      <td>555.0</td>\n",
       "      <td>3.0</td>\n",
       "      <td>285.0</td>\n",
       "      <td>1.0</td>\n",
       "      <td>200.0</td>\n",
       "      <td>18.0</td>\n",
       "    </tr>\n",
       "    <tr>\n",
       "      <th>19540</th>\n",
       "      <td>8</td>\n",
       "      <td>420000000.0</td>\n",
       "      <td>900.0</td>\n",
       "      <td>2017-12-06</td>\n",
       "      <td>12</td>\n",
       "      <td>2.80</td>\n",
       "      <td>25.0</td>\n",
       "      <td>409.70</td>\n",
       "      <td>25</td>\n",
       "      <td>False</td>\n",
       "      <td>...</td>\n",
       "      <td>112.00</td>\n",
       "      <td>0</td>\n",
       "      <td>Санкт-Петербург</td>\n",
       "      <td>30706.0</td>\n",
       "      <td>7877.0</td>\n",
       "      <td>0.0</td>\n",
       "      <td>NaN</td>\n",
       "      <td>2.0</td>\n",
       "      <td>318.0</td>\n",
       "      <td>106.0</td>\n",
       "    </tr>\n",
       "    <tr>\n",
       "      <th>19865</th>\n",
       "      <td>20</td>\n",
       "      <td>180000000.0</td>\n",
       "      <td>347.0</td>\n",
       "      <td>2015-01-21</td>\n",
       "      <td>8</td>\n",
       "      <td>3.90</td>\n",
       "      <td>6.0</td>\n",
       "      <td>260.00</td>\n",
       "      <td>3</td>\n",
       "      <td>False</td>\n",
       "      <td>...</td>\n",
       "      <td>45.00</td>\n",
       "      <td>0</td>\n",
       "      <td>Санкт-Петербург</td>\n",
       "      <td>23962.0</td>\n",
       "      <td>3794.0</td>\n",
       "      <td>2.0</td>\n",
       "      <td>537.0</td>\n",
       "      <td>3.0</td>\n",
       "      <td>501.0</td>\n",
       "      <td>834.0</td>\n",
       "    </tr>\n",
       "    <tr>\n",
       "      <th>20264</th>\n",
       "      <td>17</td>\n",
       "      <td>119000000.0</td>\n",
       "      <td>187.6</td>\n",
       "      <td>2017-07-10</td>\n",
       "      <td>4</td>\n",
       "      <td>6.00</td>\n",
       "      <td>7.0</td>\n",
       "      <td>147.00</td>\n",
       "      <td>7</td>\n",
       "      <td>False</td>\n",
       "      <td>...</td>\n",
       "      <td>15.60</td>\n",
       "      <td>0</td>\n",
       "      <td>Санкт-Петербург</td>\n",
       "      <td>26902.0</td>\n",
       "      <td>5605.0</td>\n",
       "      <td>3.0</td>\n",
       "      <td>484.0</td>\n",
       "      <td>1.0</td>\n",
       "      <td>305.0</td>\n",
       "      <td>259.0</td>\n",
       "    </tr>\n",
       "    <tr>\n",
       "      <th>20349</th>\n",
       "      <td>17</td>\n",
       "      <td>124480000.0</td>\n",
       "      <td>267.7</td>\n",
       "      <td>2016-06-18</td>\n",
       "      <td>4</td>\n",
       "      <td>NaN</td>\n",
       "      <td>8.0</td>\n",
       "      <td>107.03</td>\n",
       "      <td>8</td>\n",
       "      <td>False</td>\n",
       "      <td>...</td>\n",
       "      <td>29.86</td>\n",
       "      <td>0</td>\n",
       "      <td>Санкт-Петербург</td>\n",
       "      <td>27102.0</td>\n",
       "      <td>7442.0</td>\n",
       "      <td>2.0</td>\n",
       "      <td>164.0</td>\n",
       "      <td>2.0</td>\n",
       "      <td>473.0</td>\n",
       "      <td>205.0</td>\n",
       "    </tr>\n",
       "    <tr>\n",
       "      <th>21023</th>\n",
       "      <td>17</td>\n",
       "      <td>124350000.0</td>\n",
       "      <td>248.7</td>\n",
       "      <td>2015-08-27</td>\n",
       "      <td>4</td>\n",
       "      <td>3.40</td>\n",
       "      <td>9.0</td>\n",
       "      <td>131.00</td>\n",
       "      <td>4</td>\n",
       "      <td>False</td>\n",
       "      <td>...</td>\n",
       "      <td>23.00</td>\n",
       "      <td>0</td>\n",
       "      <td>Санкт-Петербург</td>\n",
       "      <td>21946.0</td>\n",
       "      <td>2242.0</td>\n",
       "      <td>1.0</td>\n",
       "      <td>679.0</td>\n",
       "      <td>1.0</td>\n",
       "      <td>227.0</td>\n",
       "      <td>501.0</td>\n",
       "    </tr>\n",
       "    <tr>\n",
       "      <th>21923</th>\n",
       "      <td>10</td>\n",
       "      <td>115490000.0</td>\n",
       "      <td>235.0</td>\n",
       "      <td>2017-04-09</td>\n",
       "      <td>5</td>\n",
       "      <td>4.90</td>\n",
       "      <td>5.0</td>\n",
       "      <td>140.00</td>\n",
       "      <td>5</td>\n",
       "      <td>False</td>\n",
       "      <td>...</td>\n",
       "      <td>50.00</td>\n",
       "      <td>0</td>\n",
       "      <td>Санкт-Петербург</td>\n",
       "      <td>22777.0</td>\n",
       "      <td>1328.0</td>\n",
       "      <td>3.0</td>\n",
       "      <td>652.0</td>\n",
       "      <td>3.0</td>\n",
       "      <td>253.0</td>\n",
       "      <td>351.0</td>\n",
       "    </tr>\n",
       "    <tr>\n",
       "      <th>21955</th>\n",
       "      <td>19</td>\n",
       "      <td>130000000.0</td>\n",
       "      <td>431.0</td>\n",
       "      <td>2017-10-02</td>\n",
       "      <td>7</td>\n",
       "      <td>3.70</td>\n",
       "      <td>8.0</td>\n",
       "      <td>220.00</td>\n",
       "      <td>5</td>\n",
       "      <td>False</td>\n",
       "      <td>...</td>\n",
       "      <td>20.00</td>\n",
       "      <td>5</td>\n",
       "      <td>Санкт-Петербург</td>\n",
       "      <td>NaN</td>\n",
       "      <td>NaN</td>\n",
       "      <td>NaN</td>\n",
       "      <td>NaN</td>\n",
       "      <td>NaN</td>\n",
       "      <td>NaN</td>\n",
       "      <td>161.0</td>\n",
       "    </tr>\n",
       "    <tr>\n",
       "      <th>22229</th>\n",
       "      <td>16</td>\n",
       "      <td>148000000.0</td>\n",
       "      <td>256.0</td>\n",
       "      <td>2016-03-16</td>\n",
       "      <td>5</td>\n",
       "      <td>NaN</td>\n",
       "      <td>6.0</td>\n",
       "      <td>179.00</td>\n",
       "      <td>5</td>\n",
       "      <td>False</td>\n",
       "      <td>...</td>\n",
       "      <td>36.00</td>\n",
       "      <td>0</td>\n",
       "      <td>Санкт-Петербург</td>\n",
       "      <td>24072.0</td>\n",
       "      <td>3639.0</td>\n",
       "      <td>2.0</td>\n",
       "      <td>727.0</td>\n",
       "      <td>3.0</td>\n",
       "      <td>462.0</td>\n",
       "      <td>233.0</td>\n",
       "    </tr>\n",
       "    <tr>\n",
       "      <th>22831</th>\n",
       "      <td>18</td>\n",
       "      <td>289238400.0</td>\n",
       "      <td>187.5</td>\n",
       "      <td>2019-03-19</td>\n",
       "      <td>2</td>\n",
       "      <td>3.37</td>\n",
       "      <td>6.0</td>\n",
       "      <td>63.70</td>\n",
       "      <td>6</td>\n",
       "      <td>False</td>\n",
       "      <td>...</td>\n",
       "      <td>30.20</td>\n",
       "      <td>0</td>\n",
       "      <td>Санкт-Петербург</td>\n",
       "      <td>22494.0</td>\n",
       "      <td>1073.0</td>\n",
       "      <td>3.0</td>\n",
       "      <td>386.0</td>\n",
       "      <td>3.0</td>\n",
       "      <td>188.0</td>\n",
       "      <td>NaN</td>\n",
       "    </tr>\n",
       "  </tbody>\n",
       "</table>\n",
       "<p>37 rows × 22 columns</p>\n",
       "</div>"
      ],
      "text/plain": [
       "       total_images   last_price  total_area first_day_exposition  rooms  \\\n",
       "793              20  135000000.0       310.0           2018-05-22      4   \n",
       "1026             20  155000000.0       310.0           2018-10-12      5   \n",
       "1188             20  118000000.0       290.6           2018-06-01      6   \n",
       "1300             14  120000000.0       280.0           2018-07-12      5   \n",
       "1436             19  330000000.0       190.0           2018-04-04      3   \n",
       "1928             11  125000000.0       224.5           2017-01-24      4   \n",
       "2243              9  130278280.0       304.0           2015-07-24      5   \n",
       "2536             16  159984000.0       242.4           2015-08-27      4   \n",
       "3117             19  140000000.0       631.0           2019-03-30      7   \n",
       "4996             20  124000000.0       124.5           2017-10-12      4   \n",
       "5893              3  230000000.0       500.0           2017-05-31      6   \n",
       "7543             20  130000000.0       307.8           2016-04-24      5   \n",
       "7674             20  131000000.0       380.0           2016-09-23      5   \n",
       "7857             11  150000000.0       230.0           2017-10-25      8   \n",
       "8900             13  190870000.0       268.0           2016-03-25      3   \n",
       "12674            16  140000000.0       241.0           2015-07-24      5   \n",
       "12859            20  140000000.0       631.2           2019-04-09      7   \n",
       "12971            19  763000000.0       400.0           2017-09-30      7   \n",
       "13749             7  240000000.0       410.0           2017-04-01      6   \n",
       "13864            20  130000000.0       231.0           2015-08-13      6   \n",
       "14706            15  401300000.0       401.0           2016-02-20      5   \n",
       "15016             8  150000000.0       500.0           2016-01-13      4   \n",
       "15651            20  300000000.0       618.0           2017-12-18      7   \n",
       "16461            17  245000000.0       285.7           2017-04-10      6   \n",
       "16495            12  159000000.0       260.0           2017-04-04      4   \n",
       "16647            15  122000000.0       145.0           2017-04-25      3   \n",
       "17912            17  135000000.0       166.0           2019-02-07      3   \n",
       "19155            20  160000000.0       243.0           2018-11-12      5   \n",
       "19540             8  420000000.0       900.0           2017-12-06     12   \n",
       "19865            20  180000000.0       347.0           2015-01-21      8   \n",
       "20264            17  119000000.0       187.6           2017-07-10      4   \n",
       "20349            17  124480000.0       267.7           2016-06-18      4   \n",
       "21023            17  124350000.0       248.7           2015-08-27      4   \n",
       "21923            10  115490000.0       235.0           2017-04-09      5   \n",
       "21955            19  130000000.0       431.0           2017-10-02      7   \n",
       "22229            16  148000000.0       256.0           2016-03-16      5   \n",
       "22831            18  289238400.0       187.5           2019-03-19      2   \n",
       "\n",
       "       ceiling_height  floors_total  living_area  floor  is_apartment  ...  \\\n",
       "793              3.30           5.0       250.00      2         False  ...   \n",
       "1026             5.30           3.0       190.00      3         False  ...   \n",
       "1188             3.82           6.0       188.70      3         False  ...   \n",
       "1300             4.70           4.0       162.00      3         False  ...   \n",
       "1436             3.50           7.0        95.00      5         False  ...   \n",
       "1928              NaN           4.0       163.50      3         False  ...   \n",
       "2243             3.11           9.0          NaN      7         False  ...   \n",
       "2536             3.85           9.0       131.00      7         False  ...   \n",
       "3117              NaN           5.0          NaN      5         False  ...   \n",
       "4996             3.00           4.0        67.20      2         False  ...   \n",
       "5893              NaN           7.0          NaN      7         False  ...   \n",
       "7543              NaN           4.0       187.90      3         False  ...   \n",
       "7674             3.90           6.0       150.00      4         False  ...   \n",
       "7857              NaN           8.0       220.00      8         False  ...   \n",
       "8900              NaN           8.0       132.00      7         False  ...   \n",
       "12674            3.00           5.0          NaN      4         False  ...   \n",
       "12859            3.90           4.0       322.30      4         False  ...   \n",
       "12971             NaN          10.0       250.00     10         False  ...   \n",
       "13749            3.40           7.0       218.00      7         False  ...   \n",
       "13864            3.60           6.0       148.00      4         False  ...   \n",
       "14706             NaN           9.0       204.00      9         False  ...   \n",
       "15016            3.20           7.0          NaN      7         False  ...   \n",
       "15651            3.40           7.0       258.00      5         False  ...   \n",
       "16461            3.35           7.0       182.80      4         False  ...   \n",
       "16495             NaN           5.0       180.00      4         False  ...   \n",
       "16647            3.30           6.0        36.00      2         False  ...   \n",
       "17912            3.30           7.0        52.00      1         False  ...   \n",
       "19155             NaN           5.0       145.00      4         False  ...   \n",
       "19540            2.80          25.0       409.70     25         False  ...   \n",
       "19865            3.90           6.0       260.00      3         False  ...   \n",
       "20264            6.00           7.0       147.00      7         False  ...   \n",
       "20349             NaN           8.0       107.03      8         False  ...   \n",
       "21023            3.40           9.0       131.00      4         False  ...   \n",
       "21923            4.90           5.0       140.00      5         False  ...   \n",
       "21955            3.70           8.0       220.00      5         False  ...   \n",
       "22229             NaN           6.0       179.00      5         False  ...   \n",
       "22831            3.37           6.0        63.70      6         False  ...   \n",
       "\n",
       "       kitchen_area  balcony    locality_name  airports_nearest  \\\n",
       "793           50.00        0  Санкт-Петербург           34159.0   \n",
       "1026          63.00        2  Санкт-Петербург           24899.0   \n",
       "1188          22.00        1  Санкт-Петербург           25309.0   \n",
       "1300          30.00        0  Санкт-Петербург           24680.0   \n",
       "1436          40.00        0  Санкт-Петербург           23011.0   \n",
       "1928          30.00        1  Санкт-Петербург           22805.0   \n",
       "2243            NaN        0  Санкт-Петербург           25593.0   \n",
       "2536          20.00        0  Санкт-Петербург           21946.0   \n",
       "3117          60.00        0  Санкт-Петербург           25707.0   \n",
       "4996          20.00        0  Санкт-Петербург           20399.0   \n",
       "5893          40.00        0  Санкт-Петербург           32440.0   \n",
       "7543          63.40        0  Санкт-Петербург           24899.0   \n",
       "7674            NaN        1  Санкт-Петербург           25801.0   \n",
       "7857            NaN        0  Санкт-Петербург           25525.0   \n",
       "8900          40.00        0  Санкт-Петербург           32440.0   \n",
       "12674           NaN        0  Санкт-Петербург           23512.0   \n",
       "12859         19.50        1  Санкт-Петербург           25707.0   \n",
       "12971           NaN        2  Санкт-Петербург           25108.0   \n",
       "13749         40.00        0  Санкт-Петербург           32440.0   \n",
       "13864         12.00        0  Санкт-Петербург           22992.0   \n",
       "14706         24.00        3  Санкт-Петербург           21912.0   \n",
       "15016           NaN        0  Санкт-Петербург           33058.0   \n",
       "15651         70.00        0  Санкт-Петербург           32440.0   \n",
       "16461         29.80        0  Санкт-Петербург           33143.0   \n",
       "16495         30.00        2  Санкт-Петербург           21740.0   \n",
       "16647         72.00        0  Санкт-Петербург           33931.0   \n",
       "17912         64.00        0  Санкт-Петербург           32863.0   \n",
       "19155         33.00        0  Санкт-Петербург           22640.0   \n",
       "19540        112.00        0  Санкт-Петербург           30706.0   \n",
       "19865         45.00        0  Санкт-Петербург           23962.0   \n",
       "20264         15.60        0  Санкт-Петербург           26902.0   \n",
       "20349         29.86        0  Санкт-Петербург           27102.0   \n",
       "21023         23.00        0  Санкт-Петербург           21946.0   \n",
       "21923         50.00        0  Санкт-Петербург           22777.0   \n",
       "21955         20.00        5  Санкт-Петербург               NaN   \n",
       "22229         36.00        0  Санкт-Петербург           24072.0   \n",
       "22831         30.20        0  Санкт-Петербург           22494.0   \n",
       "\n",
       "      cityCenters_nearest  parks_around3000  parks_nearest  ponds_around3000  \\\n",
       "793                7251.0               2.0          295.0               3.0   \n",
       "1026               4785.0               0.0            NaN               1.0   \n",
       "1188               6224.0               1.0          217.0               0.0   \n",
       "1300               4247.0               1.0          464.0               3.0   \n",
       "1436               1197.0               3.0          519.0               3.0   \n",
       "1928               2335.0               0.0            NaN               2.0   \n",
       "2243               5913.0               2.0          164.0               0.0   \n",
       "2536               2242.0               1.0          679.0               1.0   \n",
       "3117               4972.0               0.0            NaN               2.0   \n",
       "4996               1722.0               3.0          302.0               3.0   \n",
       "5893               5297.0               0.0            NaN               2.0   \n",
       "7543               4785.0               0.0            NaN               1.0   \n",
       "7674               4504.0               2.0          161.0               1.0   \n",
       "7857               5845.0               2.0          116.0               0.0   \n",
       "8900               5297.0               0.0            NaN               2.0   \n",
       "12674              3503.0               3.0          413.0               3.0   \n",
       "12859              4972.0               0.0            NaN               2.0   \n",
       "12971              3956.0               1.0          530.0               3.0   \n",
       "13749              5297.0               0.0            NaN               2.0   \n",
       "13864              1280.0               3.0          395.0               3.0   \n",
       "14706              2389.0               1.0          545.0               1.0   \n",
       "15016              6150.0               3.0          209.0               3.0   \n",
       "15651              5297.0               0.0            NaN               2.0   \n",
       "16461              6235.0               3.0          400.0               3.0   \n",
       "16495               436.0               2.0          138.0               3.0   \n",
       "16647              7023.0               2.0          478.0               3.0   \n",
       "17912              5955.0               2.0          230.0               3.0   \n",
       "19155               555.0               3.0          285.0               1.0   \n",
       "19540              7877.0               0.0            NaN               2.0   \n",
       "19865              3794.0               2.0          537.0               3.0   \n",
       "20264              5605.0               3.0          484.0               1.0   \n",
       "20349              7442.0               2.0          164.0               2.0   \n",
       "21023              2242.0               1.0          679.0               1.0   \n",
       "21923              1328.0               3.0          652.0               3.0   \n",
       "21955                 NaN               NaN            NaN               NaN   \n",
       "22229              3639.0               2.0          727.0               3.0   \n",
       "22831              1073.0               3.0          386.0               3.0   \n",
       "\n",
       "       ponds_nearest  days_exposition  \n",
       "793            190.0            342.0  \n",
       "1026           603.0              NaN  \n",
       "1188             NaN            316.0  \n",
       "1300           339.0            225.0  \n",
       "1436           285.0            233.0  \n",
       "1928           497.0            174.0  \n",
       "2243             NaN            599.0  \n",
       "2536           227.0            501.0  \n",
       "3117           210.0              NaN  \n",
       "4996           172.0             45.0  \n",
       "5893           198.0             50.0  \n",
       "7543           603.0           1094.0  \n",
       "7674           635.0            901.0  \n",
       "7857             NaN            135.0  \n",
       "8900           198.0            901.0  \n",
       "12674           83.0            399.0  \n",
       "12859          210.0              NaN  \n",
       "12971          756.0             33.0  \n",
       "13749          198.0            199.0  \n",
       "13864          170.0            467.0  \n",
       "14706          478.0            393.0  \n",
       "15016          531.0            303.0  \n",
       "15651          198.0            111.0  \n",
       "16461          140.0            249.0  \n",
       "16495          620.0            178.0  \n",
       "16647          250.0            335.0  \n",
       "17912          215.0              NaN  \n",
       "19155          200.0             18.0  \n",
       "19540          318.0            106.0  \n",
       "19865          501.0            834.0  \n",
       "20264          305.0            259.0  \n",
       "20349          473.0            205.0  \n",
       "21023          227.0            501.0  \n",
       "21923          253.0            351.0  \n",
       "21955            NaN            161.0  \n",
       "22229          462.0            233.0  \n",
       "22831          188.0              NaN  \n",
       "\n",
       "[37 rows x 22 columns]"
      ]
     },
     "metadata": {},
     "output_type": "display_data"
    },
    {
     "data": {
      "text/html": [
       "<div>\n",
       "<style scoped>\n",
       "    .dataframe tbody tr th:only-of-type {\n",
       "        vertical-align: middle;\n",
       "    }\n",
       "\n",
       "    .dataframe tbody tr th {\n",
       "        vertical-align: top;\n",
       "    }\n",
       "\n",
       "    .dataframe thead th {\n",
       "        text-align: right;\n",
       "    }\n",
       "</style>\n",
       "<table border=\"1\" class=\"dataframe\">\n",
       "  <thead>\n",
       "    <tr style=\"text-align: right;\">\n",
       "      <th></th>\n",
       "      <th>total_images</th>\n",
       "      <th>last_price</th>\n",
       "      <th>total_area</th>\n",
       "      <th>rooms</th>\n",
       "      <th>ceiling_height</th>\n",
       "      <th>floors_total</th>\n",
       "      <th>living_area</th>\n",
       "      <th>floor</th>\n",
       "      <th>kitchen_area</th>\n",
       "      <th>balcony</th>\n",
       "      <th>airports_nearest</th>\n",
       "      <th>cityCenters_nearest</th>\n",
       "      <th>parks_around3000</th>\n",
       "      <th>parks_nearest</th>\n",
       "      <th>ponds_around3000</th>\n",
       "      <th>ponds_nearest</th>\n",
       "      <th>days_exposition</th>\n",
       "    </tr>\n",
       "  </thead>\n",
       "  <tbody>\n",
       "    <tr>\n",
       "      <th>count</th>\n",
       "      <td>23661.000000</td>\n",
       "      <td>2.366100e+04</td>\n",
       "      <td>23661.000000</td>\n",
       "      <td>23661.000000</td>\n",
       "      <td>14478.000000</td>\n",
       "      <td>23575.000000</td>\n",
       "      <td>21763.000000</td>\n",
       "      <td>23661.000000</td>\n",
       "      <td>21389.000000</td>\n",
       "      <td>23661.000000</td>\n",
       "      <td>18120.000000</td>\n",
       "      <td>18143.000000</td>\n",
       "      <td>18144.000000</td>\n",
       "      <td>8052.000000</td>\n",
       "      <td>18144.000000</td>\n",
       "      <td>9077.000000</td>\n",
       "      <td>20485.000000</td>\n",
       "    </tr>\n",
       "    <tr>\n",
       "      <th>mean</th>\n",
       "      <td>9.849372</td>\n",
       "      <td>6.251771e+06</td>\n",
       "      <td>59.925974</td>\n",
       "      <td>2.065720</td>\n",
       "      <td>2.769863</td>\n",
       "      <td>10.679194</td>\n",
       "      <td>34.251736</td>\n",
       "      <td>5.892228</td>\n",
       "      <td>10.526017</td>\n",
       "      <td>0.591268</td>\n",
       "      <td>28797.970475</td>\n",
       "      <td>14211.298628</td>\n",
       "      <td>0.609513</td>\n",
       "      <td>491.087432</td>\n",
       "      <td>0.767747</td>\n",
       "      <td>518.659579</td>\n",
       "      <td>180.649939</td>\n",
       "    </tr>\n",
       "    <tr>\n",
       "      <th>std</th>\n",
       "      <td>5.679430</td>\n",
       "      <td>6.424397e+06</td>\n",
       "      <td>33.470704</td>\n",
       "      <td>1.069614</td>\n",
       "      <td>1.261192</td>\n",
       "      <td>6.598674</td>\n",
       "      <td>21.175637</td>\n",
       "      <td>4.885161</td>\n",
       "      <td>5.743847</td>\n",
       "      <td>0.959143</td>\n",
       "      <td>12641.796992</td>\n",
       "      <td>8605.150486</td>\n",
       "      <td>0.800099</td>\n",
       "      <td>342.670330</td>\n",
       "      <td>0.936479</td>\n",
       "      <td>277.794757</td>\n",
       "      <td>219.559366</td>\n",
       "    </tr>\n",
       "    <tr>\n",
       "      <th>min</th>\n",
       "      <td>0.000000</td>\n",
       "      <td>4.300000e+05</td>\n",
       "      <td>12.000000</td>\n",
       "      <td>0.000000</td>\n",
       "      <td>1.000000</td>\n",
       "      <td>1.000000</td>\n",
       "      <td>2.000000</td>\n",
       "      <td>1.000000</td>\n",
       "      <td>1.300000</td>\n",
       "      <td>0.000000</td>\n",
       "      <td>0.000000</td>\n",
       "      <td>181.000000</td>\n",
       "      <td>0.000000</td>\n",
       "      <td>1.000000</td>\n",
       "      <td>0.000000</td>\n",
       "      <td>13.000000</td>\n",
       "      <td>1.000000</td>\n",
       "    </tr>\n",
       "    <tr>\n",
       "      <th>25%</th>\n",
       "      <td>6.000000</td>\n",
       "      <td>3.400000e+06</td>\n",
       "      <td>40.000000</td>\n",
       "      <td>1.000000</td>\n",
       "      <td>2.510000</td>\n",
       "      <td>5.000000</td>\n",
       "      <td>18.600000</td>\n",
       "      <td>2.000000</td>\n",
       "      <td>7.000000</td>\n",
       "      <td>0.000000</td>\n",
       "      <td>18573.750000</td>\n",
       "      <td>9267.000000</td>\n",
       "      <td>0.000000</td>\n",
       "      <td>288.000000</td>\n",
       "      <td>0.000000</td>\n",
       "      <td>295.000000</td>\n",
       "      <td>45.000000</td>\n",
       "    </tr>\n",
       "    <tr>\n",
       "      <th>50%</th>\n",
       "      <td>9.000000</td>\n",
       "      <td>4.635000e+06</td>\n",
       "      <td>52.000000</td>\n",
       "      <td>2.000000</td>\n",
       "      <td>2.650000</td>\n",
       "      <td>9.000000</td>\n",
       "      <td>30.000000</td>\n",
       "      <td>4.000000</td>\n",
       "      <td>9.100000</td>\n",
       "      <td>0.000000</td>\n",
       "      <td>26737.000000</td>\n",
       "      <td>13114.000000</td>\n",
       "      <td>0.000000</td>\n",
       "      <td>455.000000</td>\n",
       "      <td>1.000000</td>\n",
       "      <td>503.000000</td>\n",
       "      <td>95.000000</td>\n",
       "    </tr>\n",
       "    <tr>\n",
       "      <th>75%</th>\n",
       "      <td>14.000000</td>\n",
       "      <td>6.750000e+06</td>\n",
       "      <td>69.600000</td>\n",
       "      <td>3.000000</td>\n",
       "      <td>2.800000</td>\n",
       "      <td>16.000000</td>\n",
       "      <td>42.200000</td>\n",
       "      <td>8.000000</td>\n",
       "      <td>12.000000</td>\n",
       "      <td>1.000000</td>\n",
       "      <td>37294.000000</td>\n",
       "      <td>16297.000000</td>\n",
       "      <td>1.000000</td>\n",
       "      <td>612.000000</td>\n",
       "      <td>1.000000</td>\n",
       "      <td>730.000000</td>\n",
       "      <td>231.000000</td>\n",
       "    </tr>\n",
       "    <tr>\n",
       "      <th>max</th>\n",
       "      <td>50.000000</td>\n",
       "      <td>9.900000e+07</td>\n",
       "      <td>590.000000</td>\n",
       "      <td>19.000000</td>\n",
       "      <td>100.000000</td>\n",
       "      <td>60.000000</td>\n",
       "      <td>409.000000</td>\n",
       "      <td>33.000000</td>\n",
       "      <td>107.000000</td>\n",
       "      <td>5.000000</td>\n",
       "      <td>84869.000000</td>\n",
       "      <td>65968.000000</td>\n",
       "      <td>3.000000</td>\n",
       "      <td>3190.000000</td>\n",
       "      <td>3.000000</td>\n",
       "      <td>1344.000000</td>\n",
       "      <td>1580.000000</td>\n",
       "    </tr>\n",
       "  </tbody>\n",
       "</table>\n",
       "</div>"
      ],
      "text/plain": [
       "       total_images    last_price    total_area         rooms  ceiling_height  \\\n",
       "count  23661.000000  2.366100e+04  23661.000000  23661.000000    14478.000000   \n",
       "mean       9.849372  6.251771e+06     59.925974      2.065720        2.769863   \n",
       "std        5.679430  6.424397e+06     33.470704      1.069614        1.261192   \n",
       "min        0.000000  4.300000e+05     12.000000      0.000000        1.000000   \n",
       "25%        6.000000  3.400000e+06     40.000000      1.000000        2.510000   \n",
       "50%        9.000000  4.635000e+06     52.000000      2.000000        2.650000   \n",
       "75%       14.000000  6.750000e+06     69.600000      3.000000        2.800000   \n",
       "max       50.000000  9.900000e+07    590.000000     19.000000      100.000000   \n",
       "\n",
       "       floors_total   living_area         floor  kitchen_area       balcony  \\\n",
       "count  23575.000000  21763.000000  23661.000000  21389.000000  23661.000000   \n",
       "mean      10.679194     34.251736      5.892228     10.526017      0.591268   \n",
       "std        6.598674     21.175637      4.885161      5.743847      0.959143   \n",
       "min        1.000000      2.000000      1.000000      1.300000      0.000000   \n",
       "25%        5.000000     18.600000      2.000000      7.000000      0.000000   \n",
       "50%        9.000000     30.000000      4.000000      9.100000      0.000000   \n",
       "75%       16.000000     42.200000      8.000000     12.000000      1.000000   \n",
       "max       60.000000    409.000000     33.000000    107.000000      5.000000   \n",
       "\n",
       "       airports_nearest  cityCenters_nearest  parks_around3000  parks_nearest  \\\n",
       "count      18120.000000         18143.000000      18144.000000    8052.000000   \n",
       "mean       28797.970475         14211.298628          0.609513     491.087432   \n",
       "std        12641.796992          8605.150486          0.800099     342.670330   \n",
       "min            0.000000           181.000000          0.000000       1.000000   \n",
       "25%        18573.750000          9267.000000          0.000000     288.000000   \n",
       "50%        26737.000000         13114.000000          0.000000     455.000000   \n",
       "75%        37294.000000         16297.000000          1.000000     612.000000   \n",
       "max        84869.000000         65968.000000          3.000000    3190.000000   \n",
       "\n",
       "       ponds_around3000  ponds_nearest  days_exposition  \n",
       "count      18144.000000    9077.000000     20485.000000  \n",
       "mean           0.767747     518.659579       180.649939  \n",
       "std            0.936479     277.794757       219.559366  \n",
       "min            0.000000      13.000000         1.000000  \n",
       "25%            0.000000     295.000000        45.000000  \n",
       "50%            1.000000     503.000000        95.000000  \n",
       "75%            1.000000     730.000000       231.000000  \n",
       "max            3.000000    1344.000000      1580.000000  "
      ]
     },
     "execution_count": 7,
     "metadata": {},
     "output_type": "execute_result"
    }
   ],
   "source": [
    "#Подробнее рассмотрим столбец 'last_price', из описательной статистики видно, что минимум составил 12190, а максимум 763000000. Данные по минимуму выглядят слишком не реалистично, вряд ли квартира может стоить 12 190.\n",
    "# Можем значение с минимумом удалить.\n",
    "data.query('last_price < 100000')\n",
    "data = data[(data.last_price > 100000)]\n",
    "\n",
    "# Изучим квартиры по ценам от 100 000 до 1 000 000:\n",
    "filtered_data=(data.query('100000<=last_price<=1000000'))\n",
    "\n",
    "#print(filtered_data)\n",
    "# Имеются квартиры со стоимостями от 100 000 до 1 000 000, но их удалять без согласования с коллегами не стоит.\n",
    "\n",
    "# Выведем строки, где цены на квартиры оказались дешевле (или равно) 1 000 000, чтобы можно было понаблюдать за другими параметрами:\n",
    "data.loc[data.loc[:, 'last_price']<=1000000]\n",
    "# Учитывая, что площадь таких квартир небольшая, а также тот факт, что они находятся не в самом Санкт-Петербурге, можно попробовать предположить, что такие цены имеют место быть.\n",
    "\n",
    "# Данные по квартирам дороже 1 000 000 000 и дешевле 100 000 000 000:\n",
    "data.query('1000000<last_price<=100000000')\n",
    "# Таких большинство\n",
    "\n",
    "# Данные по квартирам дороже 100 000 000:\n",
    "display(data.query('last_price>100000000'))\n",
    "# 37 квартир дороже 100 000 000: можно предположить, что значения цены квартиры слишком большие, но пока убирать не будем.\n",
    "\n",
    "data = data[(data.last_price < 100000000)]\n",
    "data.describe()\n"
   ]
  },
  {
   "cell_type": "code",
   "execution_count": 8,
   "metadata": {},
   "outputs": [
    {
     "name": "stdout",
     "output_type": "stream",
     "text": [
      "1     8047\n",
      "2     7938\n",
      "3     5810\n",
      "4     1171\n",
      "5      316\n",
      "0      197\n",
      "6      100\n",
      "7       54\n",
      "8       10\n",
      "9        8\n",
      "10       3\n",
      "11       2\n",
      "14       2\n",
      "16       1\n",
      "19       1\n",
      "15       1\n",
      "Name: rooms, dtype: int64\n",
      "23651\n"
     ]
    }
   ],
   "source": [
    "#Столбец rooms\n",
    "#Посмотрим общее количество данных по недвижимости с 0 комнатами (видим по минимуму, что такие есть)\n",
    "data.query('rooms==0')['rooms'].count()\n",
    "#Их 197\n",
    "\n",
    "filter_data=data.loc[data.loc[:, 'rooms']==0]\n",
    "#Можем, например, изучить апартаменты ли эти объекты недвижимости или нет:\n",
    "filter_data['is_apartment'].unique()\n",
    "#По всем показателям, где комнаты=0, is_apartment False. Это не апартаменты.\n",
    "\n",
    "data.query('rooms==0 and open_plan')['rooms'].count()\n",
    "# 59 объектов недвижимости-open space.\n",
    "\n",
    "data.query('rooms==0 and studio')['rooms'].count()\n",
    "# 138 объектов недвижимости с планировкой студия\n",
    "# Складывая 138 и 59, как раз получаем 197, так что похоже мы имеем дело с квартирами-студиями или с квартирами со свободной планировкой.\n",
    "# Удалять данные с 0 комнатами не будем.\n",
    "\n",
    "print(pd.Series(data['rooms']).value_counts())\n",
    "\n",
    "#Уберем из выборки квартиры с количеством комнат больше или равно 10\n",
    "data = data[(data.rooms < 10)]\n",
    "\n",
    "current_dataframe=data.shape[0]\n",
    "print(current_dataframe)\n",
    "\n",
    "#data.describe()"
   ]
  },
  {
   "cell_type": "code",
   "execution_count": 9,
   "metadata": {},
   "outputs": [
    {
     "name": "stdout",
     "output_type": "stream",
     "text": [
      "23607\n"
     ]
    }
   ],
   "source": [
    "# Столбец total_area\n",
    "\n",
    "# Уберем из выборки квартиры общей площадью более 300 м2\n",
    "data = data[(data.total_area < 300)]\n",
    "current_dataframe=data.shape[0]\n",
    "print(current_dataframe)"
   ]
  },
  {
   "cell_type": "code",
   "execution_count": 10,
   "metadata": {},
   "outputs": [
    {
     "data": {
      "text/plain": [
       "array([ 2.7 ,  2.65,  3.03,  2.5 ,  2.67,  2.56,  3.05,  2.75,  2.6 ,\n",
       "        2.9 ,  2.8 ,  2.55,  3.  ,  3.2 ,  2.61,  3.25,  3.45,  2.77,\n",
       "        2.85,  2.64,  2.57,  4.15,  3.3 ,  2.71,  4.  ,  2.47,  2.73,\n",
       "        2.84,  3.1 ,  2.34,  3.4 ,  3.5 ,  3.06,  2.72,  2.54,  2.51,\n",
       "        2.78,  2.76,  2.58,  3.7 ,  2.52,  5.2 ,  2.87,  2.66,  2.59,\n",
       "        2.  ,  2.45,  3.6 ,  2.92,  3.11,  3.13,  3.8 ,  3.15,  3.55,\n",
       "        3.62,  3.12,  2.53,  2.74,  2.96,  2.46,  5.  ,  2.79,  2.95,\n",
       "        4.06,  2.94,  3.54,  3.53,  2.83,  2.4 ,  3.38,  3.01,  3.65,\n",
       "        3.18,  3.35,  2.3 ,  3.57,  2.48,  2.62,  2.82,  3.98,  2.63,\n",
       "        3.83,  3.52,  3.95,  3.75,  2.88,  3.67,  3.87,  3.66,  4.19,\n",
       "        3.24,  4.8 ,  4.5 ,  4.2 ,  3.36,  3.86,  3.08,  3.68,  3.07,\n",
       "        3.37,  3.09,  8.  ,  3.16,  3.26,  3.34,  2.81,  3.44,  2.97,\n",
       "        4.37,  2.68,  3.9 ,  3.22,  3.27,  4.1 ,  2.93,  3.46,  3.47,\n",
       "        3.33,  3.63,  3.14,  3.32,  8.3 ,  2.98,  2.86,  3.17,  4.4 ,\n",
       "        3.28,  3.04,  4.45,  5.5 ,  3.84,  3.23,  3.02,  3.21,  3.78,\n",
       "        4.3 ,  3.39,  2.69,  3.31,  5.3 ,  3.56,  2.2 ,  3.85,  3.51,\n",
       "        3.93,  3.42,  2.99,  3.49, 14.  ,  4.14,  2.91,  3.88,  4.25,\n",
       "        3.29,  2.25,  3.76,  3.69,  4.7 ,  2.26,  2.89,  3.58,  5.8 ,\n",
       "        2.49,  3.48, 10.3 , 10.  ,  3.59])"
      ]
     },
     "execution_count": 10,
     "metadata": {},
     "output_type": "execute_result"
    }
   ],
   "source": [
    "# Столбец ceiling_height\n",
    "data['ceiling_height'].unique()\n",
    "data.describe()\n",
    "data.query('1<=ceiling_height<2')['ceiling_height'].count()\n",
    "\n",
    "\n",
    "# Предположим, что потолки высотой менее 2 м нормой быть не может; выведем эти данные и удалим:\n",
    "data.query('1<=ceiling_height<2')\n",
    "\n",
    "# # Максимальное значение здесь 1,75 и квартир с потолками менее 2 метров всего 3; предлагается эти 3 удалить, предварительно заменив пропуски на медианные значения:\n",
    "data['ceiling_height']=data['ceiling_height'].fillna(data['ceiling_height'].median())\n",
    "data.query('1<=ceiling_height<=2')\n",
    "data = data[(data.ceiling_height >= 2)]\n",
    "\n",
    "\n",
    "# Будем считать, что норма - это квартиры с потолками от 2 метров до 20 (не включая значение 20):\n",
    "data.query('2<=ceiling_height<20')\n",
    "\n",
    "# Допустим, что высота потолков выше или равна 20 метров-это опечатка и разделим эти значения на 10.\n",
    "# Из общей статистики было видно, что максимальное значение высоты потолка - 100 м, поэтому берем данные от 20 м до 100 м:\n",
    "data.query('20<=ceiling_height<=100')\n",
    "data['ceiling_height']=numpy.where(data['ceiling_height']>=20, data['ceiling_height']/10, data['ceiling_height'])\n",
    "\n",
    "data['ceiling_height'].describe()\n",
    "#Проверяем себя:\n",
    "data['ceiling_height'].unique()\n"
   ]
  },
  {
   "cell_type": "code",
   "execution_count": 11,
   "metadata": {},
   "outputs": [
    {
     "data": {
      "text/html": [
       "<div>\n",
       "<style scoped>\n",
       "    .dataframe tbody tr th:only-of-type {\n",
       "        vertical-align: middle;\n",
       "    }\n",
       "\n",
       "    .dataframe tbody tr th {\n",
       "        vertical-align: top;\n",
       "    }\n",
       "\n",
       "    .dataframe thead th {\n",
       "        text-align: right;\n",
       "    }\n",
       "</style>\n",
       "<table border=\"1\" class=\"dataframe\">\n",
       "  <thead>\n",
       "    <tr style=\"text-align: right;\">\n",
       "      <th></th>\n",
       "      <th>total_images</th>\n",
       "      <th>last_price</th>\n",
       "      <th>total_area</th>\n",
       "      <th>rooms</th>\n",
       "      <th>ceiling_height</th>\n",
       "      <th>floors_total</th>\n",
       "      <th>living_area</th>\n",
       "      <th>floor</th>\n",
       "      <th>kitchen_area</th>\n",
       "      <th>balcony</th>\n",
       "      <th>airports_nearest</th>\n",
       "      <th>cityCenters_nearest</th>\n",
       "      <th>parks_around3000</th>\n",
       "      <th>parks_nearest</th>\n",
       "      <th>ponds_around3000</th>\n",
       "      <th>ponds_nearest</th>\n",
       "      <th>days_exposition</th>\n",
       "    </tr>\n",
       "  </thead>\n",
       "  <tbody>\n",
       "    <tr>\n",
       "      <th>count</th>\n",
       "      <td>23604.000000</td>\n",
       "      <td>2.360400e+04</td>\n",
       "      <td>23604.000000</td>\n",
       "      <td>23604.000000</td>\n",
       "      <td>23604.000000</td>\n",
       "      <td>23518.000000</td>\n",
       "      <td>21715.000000</td>\n",
       "      <td>23604.000000</td>\n",
       "      <td>21341.000000</td>\n",
       "      <td>23604.000000</td>\n",
       "      <td>18067.000000</td>\n",
       "      <td>18088.000000</td>\n",
       "      <td>18089.000000</td>\n",
       "      <td>8014.000000</td>\n",
       "      <td>18089.000000</td>\n",
       "      <td>9044.000000</td>\n",
       "      <td>20441.000000</td>\n",
       "    </tr>\n",
       "    <tr>\n",
       "      <th>mean</th>\n",
       "      <td>9.847526</td>\n",
       "      <td>6.160827e+06</td>\n",
       "      <td>59.226415</td>\n",
       "      <td>2.053889</td>\n",
       "      <td>2.696791</td>\n",
       "      <td>10.688962</td>\n",
       "      <td>33.892941</td>\n",
       "      <td>5.895103</td>\n",
       "      <td>10.481944</td>\n",
       "      <td>0.592103</td>\n",
       "      <td>28805.271711</td>\n",
       "      <td>14227.874337</td>\n",
       "      <td>0.607717</td>\n",
       "      <td>491.206264</td>\n",
       "      <td>0.766709</td>\n",
       "      <td>519.183989</td>\n",
       "      <td>180.470770</td>\n",
       "    </tr>\n",
       "    <tr>\n",
       "      <th>std</th>\n",
       "      <td>5.677093</td>\n",
       "      <td>6.041446e+06</td>\n",
       "      <td>29.861866</td>\n",
       "      <td>1.028457</td>\n",
       "      <td>0.247215</td>\n",
       "      <td>6.598006</td>\n",
       "      <td>19.417846</td>\n",
       "      <td>4.887768</td>\n",
       "      <td>5.612083</td>\n",
       "      <td>0.959431</td>\n",
       "      <td>12651.180377</td>\n",
       "      <td>8602.411953</td>\n",
       "      <td>0.798549</td>\n",
       "      <td>342.748343</td>\n",
       "      <td>0.935784</td>\n",
       "      <td>277.810359</td>\n",
       "      <td>219.330814</td>\n",
       "    </tr>\n",
       "    <tr>\n",
       "      <th>min</th>\n",
       "      <td>0.000000</td>\n",
       "      <td>4.300000e+05</td>\n",
       "      <td>12.000000</td>\n",
       "      <td>0.000000</td>\n",
       "      <td>2.000000</td>\n",
       "      <td>1.000000</td>\n",
       "      <td>2.000000</td>\n",
       "      <td>1.000000</td>\n",
       "      <td>1.300000</td>\n",
       "      <td>0.000000</td>\n",
       "      <td>0.000000</td>\n",
       "      <td>181.000000</td>\n",
       "      <td>0.000000</td>\n",
       "      <td>1.000000</td>\n",
       "      <td>0.000000</td>\n",
       "      <td>13.000000</td>\n",
       "      <td>1.000000</td>\n",
       "    </tr>\n",
       "    <tr>\n",
       "      <th>25%</th>\n",
       "      <td>6.000000</td>\n",
       "      <td>3.400000e+06</td>\n",
       "      <td>40.000000</td>\n",
       "      <td>1.000000</td>\n",
       "      <td>2.600000</td>\n",
       "      <td>5.000000</td>\n",
       "      <td>18.600000</td>\n",
       "      <td>2.000000</td>\n",
       "      <td>7.000000</td>\n",
       "      <td>0.000000</td>\n",
       "      <td>18557.000000</td>\n",
       "      <td>9289.000000</td>\n",
       "      <td>0.000000</td>\n",
       "      <td>288.000000</td>\n",
       "      <td>0.000000</td>\n",
       "      <td>295.000000</td>\n",
       "      <td>45.000000</td>\n",
       "    </tr>\n",
       "    <tr>\n",
       "      <th>50%</th>\n",
       "      <td>9.000000</td>\n",
       "      <td>4.600000e+06</td>\n",
       "      <td>52.000000</td>\n",
       "      <td>2.000000</td>\n",
       "      <td>2.650000</td>\n",
       "      <td>9.000000</td>\n",
       "      <td>30.000000</td>\n",
       "      <td>4.000000</td>\n",
       "      <td>9.100000</td>\n",
       "      <td>0.000000</td>\n",
       "      <td>26758.000000</td>\n",
       "      <td>13123.000000</td>\n",
       "      <td>0.000000</td>\n",
       "      <td>455.000000</td>\n",
       "      <td>0.000000</td>\n",
       "      <td>503.000000</td>\n",
       "      <td>95.000000</td>\n",
       "    </tr>\n",
       "    <tr>\n",
       "      <th>75%</th>\n",
       "      <td>14.000000</td>\n",
       "      <td>6.736700e+06</td>\n",
       "      <td>69.200000</td>\n",
       "      <td>3.000000</td>\n",
       "      <td>2.700000</td>\n",
       "      <td>16.000000</td>\n",
       "      <td>42.100000</td>\n",
       "      <td>8.000000</td>\n",
       "      <td>12.000000</td>\n",
       "      <td>1.000000</td>\n",
       "      <td>37310.000000</td>\n",
       "      <td>16301.500000</td>\n",
       "      <td>1.000000</td>\n",
       "      <td>612.000000</td>\n",
       "      <td>1.000000</td>\n",
       "      <td>732.000000</td>\n",
       "      <td>231.000000</td>\n",
       "    </tr>\n",
       "    <tr>\n",
       "      <th>max</th>\n",
       "      <td>50.000000</td>\n",
       "      <td>9.900000e+07</td>\n",
       "      <td>297.500000</td>\n",
       "      <td>9.000000</td>\n",
       "      <td>14.000000</td>\n",
       "      <td>60.000000</td>\n",
       "      <td>250.000000</td>\n",
       "      <td>33.000000</td>\n",
       "      <td>107.000000</td>\n",
       "      <td>5.000000</td>\n",
       "      <td>84869.000000</td>\n",
       "      <td>65968.000000</td>\n",
       "      <td>3.000000</td>\n",
       "      <td>3190.000000</td>\n",
       "      <td>3.000000</td>\n",
       "      <td>1344.000000</td>\n",
       "      <td>1580.000000</td>\n",
       "    </tr>\n",
       "  </tbody>\n",
       "</table>\n",
       "</div>"
      ],
      "text/plain": [
       "       total_images    last_price    total_area         rooms  ceiling_height  \\\n",
       "count  23604.000000  2.360400e+04  23604.000000  23604.000000    23604.000000   \n",
       "mean       9.847526  6.160827e+06     59.226415      2.053889        2.696791   \n",
       "std        5.677093  6.041446e+06     29.861866      1.028457        0.247215   \n",
       "min        0.000000  4.300000e+05     12.000000      0.000000        2.000000   \n",
       "25%        6.000000  3.400000e+06     40.000000      1.000000        2.600000   \n",
       "50%        9.000000  4.600000e+06     52.000000      2.000000        2.650000   \n",
       "75%       14.000000  6.736700e+06     69.200000      3.000000        2.700000   \n",
       "max       50.000000  9.900000e+07    297.500000      9.000000       14.000000   \n",
       "\n",
       "       floors_total   living_area         floor  kitchen_area       balcony  \\\n",
       "count  23518.000000  21715.000000  23604.000000  21341.000000  23604.000000   \n",
       "mean      10.688962     33.892941      5.895103     10.481944      0.592103   \n",
       "std        6.598006     19.417846      4.887768      5.612083      0.959431   \n",
       "min        1.000000      2.000000      1.000000      1.300000      0.000000   \n",
       "25%        5.000000     18.600000      2.000000      7.000000      0.000000   \n",
       "50%        9.000000     30.000000      4.000000      9.100000      0.000000   \n",
       "75%       16.000000     42.100000      8.000000     12.000000      1.000000   \n",
       "max       60.000000    250.000000     33.000000    107.000000      5.000000   \n",
       "\n",
       "       airports_nearest  cityCenters_nearest  parks_around3000  parks_nearest  \\\n",
       "count      18067.000000         18088.000000      18089.000000    8014.000000   \n",
       "mean       28805.271711         14227.874337          0.607717     491.206264   \n",
       "std        12651.180377          8602.411953          0.798549     342.748343   \n",
       "min            0.000000           181.000000          0.000000       1.000000   \n",
       "25%        18557.000000          9289.000000          0.000000     288.000000   \n",
       "50%        26758.000000         13123.000000          0.000000     455.000000   \n",
       "75%        37310.000000         16301.500000          1.000000     612.000000   \n",
       "max        84869.000000         65968.000000          3.000000    3190.000000   \n",
       "\n",
       "       ponds_around3000  ponds_nearest  days_exposition  \n",
       "count      18089.000000    9044.000000     20441.000000  \n",
       "mean           0.766709     519.183989       180.470770  \n",
       "std            0.935784     277.810359       219.330814  \n",
       "min            0.000000      13.000000         1.000000  \n",
       "25%            0.000000     295.000000        45.000000  \n",
       "50%            0.000000     503.000000        95.000000  \n",
       "75%            1.000000     732.000000       231.000000  \n",
       "max            3.000000    1344.000000      1580.000000  "
      ]
     },
     "execution_count": 11,
     "metadata": {},
     "output_type": "execute_result"
    }
   ],
   "source": [
    "# Столбец floors_total\n",
    "# В нашей выборке присутствуют объекты недвижимости с минимум 1 и максимум 60 этажами. Выглядит правдоподобно, можем просмотреть уникальные значения:\n",
    "data['floors_total'].unique()\n",
    "# Странных значений не обнаружено; оставляем столбец как есть.\n",
    "\n",
    "data.describe()"
   ]
  },
  {
   "cell_type": "code",
   "execution_count": 12,
   "metadata": {},
   "outputs": [
    {
     "data": {
      "text/html": [
       "<div>\n",
       "<style scoped>\n",
       "    .dataframe tbody tr th:only-of-type {\n",
       "        vertical-align: middle;\n",
       "    }\n",
       "\n",
       "    .dataframe tbody tr th {\n",
       "        vertical-align: top;\n",
       "    }\n",
       "\n",
       "    .dataframe thead th {\n",
       "        text-align: right;\n",
       "    }\n",
       "</style>\n",
       "<table border=\"1\" class=\"dataframe\">\n",
       "  <thead>\n",
       "    <tr style=\"text-align: right;\">\n",
       "      <th></th>\n",
       "      <th>total_images</th>\n",
       "      <th>last_price</th>\n",
       "      <th>total_area</th>\n",
       "      <th>rooms</th>\n",
       "      <th>ceiling_height</th>\n",
       "      <th>floors_total</th>\n",
       "      <th>living_area</th>\n",
       "      <th>floor</th>\n",
       "      <th>kitchen_area</th>\n",
       "      <th>balcony</th>\n",
       "      <th>airports_nearest</th>\n",
       "      <th>cityCenters_nearest</th>\n",
       "      <th>parks_around3000</th>\n",
       "      <th>parks_nearest</th>\n",
       "      <th>ponds_around3000</th>\n",
       "      <th>ponds_nearest</th>\n",
       "      <th>days_exposition</th>\n",
       "    </tr>\n",
       "  </thead>\n",
       "  <tbody>\n",
       "    <tr>\n",
       "      <th>count</th>\n",
       "      <td>23599.000000</td>\n",
       "      <td>2.359900e+04</td>\n",
       "      <td>23599.000000</td>\n",
       "      <td>23599.000000</td>\n",
       "      <td>23599.000000</td>\n",
       "      <td>23513.000000</td>\n",
       "      <td>23599.000000</td>\n",
       "      <td>23599.000000</td>\n",
       "      <td>21338.00000</td>\n",
       "      <td>23599.000000</td>\n",
       "      <td>18063.000000</td>\n",
       "      <td>18084.000000</td>\n",
       "      <td>18085.000000</td>\n",
       "      <td>8012.000000</td>\n",
       "      <td>18085.000000</td>\n",
       "      <td>9041.000000</td>\n",
       "      <td>20436.000000</td>\n",
       "    </tr>\n",
       "    <tr>\n",
       "      <th>mean</th>\n",
       "      <td>9.847409</td>\n",
       "      <td>6.158709e+06</td>\n",
       "      <td>59.227226</td>\n",
       "      <td>2.054070</td>\n",
       "      <td>2.696771</td>\n",
       "      <td>10.687832</td>\n",
       "      <td>33.587873</td>\n",
       "      <td>5.893936</td>\n",
       "      <td>10.48173</td>\n",
       "      <td>0.592101</td>\n",
       "      <td>28805.687261</td>\n",
       "      <td>14228.965052</td>\n",
       "      <td>0.607741</td>\n",
       "      <td>491.146031</td>\n",
       "      <td>0.766602</td>\n",
       "      <td>519.161155</td>\n",
       "      <td>180.479546</td>\n",
       "    </tr>\n",
       "    <tr>\n",
       "      <th>std</th>\n",
       "      <td>5.676849</td>\n",
       "      <td>6.029833e+06</td>\n",
       "      <td>29.858327</td>\n",
       "      <td>1.028351</td>\n",
       "      <td>0.247225</td>\n",
       "      <td>6.597254</td>\n",
       "      <td>18.651206</td>\n",
       "      <td>4.886523</td>\n",
       "      <td>5.61234</td>\n",
       "      <td>0.959462</td>\n",
       "      <td>12652.229254</td>\n",
       "      <td>8602.927289</td>\n",
       "      <td>0.798601</td>\n",
       "      <td>342.766091</td>\n",
       "      <td>0.935720</td>\n",
       "      <td>277.769604</td>\n",
       "      <td>219.352683</td>\n",
       "    </tr>\n",
       "    <tr>\n",
       "      <th>min</th>\n",
       "      <td>0.000000</td>\n",
       "      <td>4.300000e+05</td>\n",
       "      <td>12.000000</td>\n",
       "      <td>0.000000</td>\n",
       "      <td>2.000000</td>\n",
       "      <td>1.000000</td>\n",
       "      <td>5.400000</td>\n",
       "      <td>1.000000</td>\n",
       "      <td>1.30000</td>\n",
       "      <td>0.000000</td>\n",
       "      <td>0.000000</td>\n",
       "      <td>181.000000</td>\n",
       "      <td>0.000000</td>\n",
       "      <td>1.000000</td>\n",
       "      <td>0.000000</td>\n",
       "      <td>13.000000</td>\n",
       "      <td>1.000000</td>\n",
       "    </tr>\n",
       "    <tr>\n",
       "      <th>25%</th>\n",
       "      <td>6.000000</td>\n",
       "      <td>3.400000e+06</td>\n",
       "      <td>40.000000</td>\n",
       "      <td>1.000000</td>\n",
       "      <td>2.600000</td>\n",
       "      <td>5.000000</td>\n",
       "      <td>19.000000</td>\n",
       "      <td>2.000000</td>\n",
       "      <td>7.00000</td>\n",
       "      <td>0.000000</td>\n",
       "      <td>18557.000000</td>\n",
       "      <td>9289.000000</td>\n",
       "      <td>0.000000</td>\n",
       "      <td>288.000000</td>\n",
       "      <td>0.000000</td>\n",
       "      <td>295.000000</td>\n",
       "      <td>45.000000</td>\n",
       "    </tr>\n",
       "    <tr>\n",
       "      <th>50%</th>\n",
       "      <td>9.000000</td>\n",
       "      <td>4.600000e+06</td>\n",
       "      <td>52.000000</td>\n",
       "      <td>2.000000</td>\n",
       "      <td>2.650000</td>\n",
       "      <td>9.000000</td>\n",
       "      <td>30.000000</td>\n",
       "      <td>4.000000</td>\n",
       "      <td>9.10000</td>\n",
       "      <td>0.000000</td>\n",
       "      <td>26758.000000</td>\n",
       "      <td>13123.000000</td>\n",
       "      <td>0.000000</td>\n",
       "      <td>455.000000</td>\n",
       "      <td>0.000000</td>\n",
       "      <td>503.000000</td>\n",
       "      <td>95.000000</td>\n",
       "    </tr>\n",
       "    <tr>\n",
       "      <th>75%</th>\n",
       "      <td>14.000000</td>\n",
       "      <td>6.737800e+06</td>\n",
       "      <td>69.200000</td>\n",
       "      <td>3.000000</td>\n",
       "      <td>2.700000</td>\n",
       "      <td>16.000000</td>\n",
       "      <td>41.000000</td>\n",
       "      <td>8.000000</td>\n",
       "      <td>12.00000</td>\n",
       "      <td>1.000000</td>\n",
       "      <td>37310.000000</td>\n",
       "      <td>16306.500000</td>\n",
       "      <td>1.000000</td>\n",
       "      <td>612.000000</td>\n",
       "      <td>1.000000</td>\n",
       "      <td>732.000000</td>\n",
       "      <td>231.000000</td>\n",
       "    </tr>\n",
       "    <tr>\n",
       "      <th>max</th>\n",
       "      <td>50.000000</td>\n",
       "      <td>9.900000e+07</td>\n",
       "      <td>297.500000</td>\n",
       "      <td>9.000000</td>\n",
       "      <td>14.000000</td>\n",
       "      <td>60.000000</td>\n",
       "      <td>250.000000</td>\n",
       "      <td>33.000000</td>\n",
       "      <td>107.00000</td>\n",
       "      <td>5.000000</td>\n",
       "      <td>84869.000000</td>\n",
       "      <td>65968.000000</td>\n",
       "      <td>3.000000</td>\n",
       "      <td>3190.000000</td>\n",
       "      <td>3.000000</td>\n",
       "      <td>1344.000000</td>\n",
       "      <td>1580.000000</td>\n",
       "    </tr>\n",
       "  </tbody>\n",
       "</table>\n",
       "</div>"
      ],
      "text/plain": [
       "       total_images    last_price    total_area         rooms  ceiling_height  \\\n",
       "count  23599.000000  2.359900e+04  23599.000000  23599.000000    23599.000000   \n",
       "mean       9.847409  6.158709e+06     59.227226      2.054070        2.696771   \n",
       "std        5.676849  6.029833e+06     29.858327      1.028351        0.247225   \n",
       "min        0.000000  4.300000e+05     12.000000      0.000000        2.000000   \n",
       "25%        6.000000  3.400000e+06     40.000000      1.000000        2.600000   \n",
       "50%        9.000000  4.600000e+06     52.000000      2.000000        2.650000   \n",
       "75%       14.000000  6.737800e+06     69.200000      3.000000        2.700000   \n",
       "max       50.000000  9.900000e+07    297.500000      9.000000       14.000000   \n",
       "\n",
       "       floors_total   living_area         floor  kitchen_area       balcony  \\\n",
       "count  23513.000000  23599.000000  23599.000000   21338.00000  23599.000000   \n",
       "mean      10.687832     33.587873      5.893936      10.48173      0.592101   \n",
       "std        6.597254     18.651206      4.886523       5.61234      0.959462   \n",
       "min        1.000000      5.400000      1.000000       1.30000      0.000000   \n",
       "25%        5.000000     19.000000      2.000000       7.00000      0.000000   \n",
       "50%        9.000000     30.000000      4.000000       9.10000      0.000000   \n",
       "75%       16.000000     41.000000      8.000000      12.00000      1.000000   \n",
       "max       60.000000    250.000000     33.000000     107.00000      5.000000   \n",
       "\n",
       "       airports_nearest  cityCenters_nearest  parks_around3000  parks_nearest  \\\n",
       "count      18063.000000         18084.000000      18085.000000    8012.000000   \n",
       "mean       28805.687261         14228.965052          0.607741     491.146031   \n",
       "std        12652.229254          8602.927289          0.798601     342.766091   \n",
       "min            0.000000           181.000000          0.000000       1.000000   \n",
       "25%        18557.000000          9289.000000          0.000000     288.000000   \n",
       "50%        26758.000000         13123.000000          0.000000     455.000000   \n",
       "75%        37310.000000         16306.500000          1.000000     612.000000   \n",
       "max        84869.000000         65968.000000          3.000000    3190.000000   \n",
       "\n",
       "       ponds_around3000  ponds_nearest  days_exposition  \n",
       "count      18085.000000    9041.000000     20436.000000  \n",
       "mean           0.766602     519.161155       180.479546  \n",
       "std            0.935720     277.769604       219.352683  \n",
       "min            0.000000      13.000000         1.000000  \n",
       "25%            0.000000     295.000000        45.000000  \n",
       "50%            0.000000     503.000000        95.000000  \n",
       "75%            1.000000     732.000000       231.000000  \n",
       "max            3.000000    1344.000000      1580.000000  "
      ]
     },
     "execution_count": 12,
     "metadata": {},
     "output_type": "execute_result"
    }
   ],
   "source": [
    "# В выборке присутствует 4 объекта недвижимости с жилой площадью менее 5 м2:\n",
    "data.query('living_area<=5')\n",
    "# living area аномально низкая, удалим эти 2 строки, предварительно заменив пропуски на медианное значение:\n",
    "data['living_area']=data['living_area'].fillna(data['living_area'].median())\n",
    "data = data[(data.living_area > 5)]\n",
    "# Большинство квартир с жилой площадью от 5 до 100 м2\n",
    "data.query('5<living_area<=100')\n",
    "# 257 квартир с жилой площадью более 100 м2 до 409,7 м2:\n",
    "data.query('living_area>100')\n",
    "\n",
    "data.describe()"
   ]
  },
  {
   "cell_type": "code",
   "execution_count": 13,
   "metadata": {},
   "outputs": [
    {
     "data": {
      "text/html": [
       "<div>\n",
       "<style scoped>\n",
       "    .dataframe tbody tr th:only-of-type {\n",
       "        vertical-align: middle;\n",
       "    }\n",
       "\n",
       "    .dataframe tbody tr th {\n",
       "        vertical-align: top;\n",
       "    }\n",
       "\n",
       "    .dataframe thead th {\n",
       "        text-align: right;\n",
       "    }\n",
       "</style>\n",
       "<table border=\"1\" class=\"dataframe\">\n",
       "  <thead>\n",
       "    <tr style=\"text-align: right;\">\n",
       "      <th></th>\n",
       "      <th>total_images</th>\n",
       "      <th>last_price</th>\n",
       "      <th>total_area</th>\n",
       "      <th>rooms</th>\n",
       "      <th>ceiling_height</th>\n",
       "      <th>floors_total</th>\n",
       "      <th>living_area</th>\n",
       "      <th>floor</th>\n",
       "      <th>kitchen_area</th>\n",
       "      <th>balcony</th>\n",
       "      <th>airports_nearest</th>\n",
       "      <th>cityCenters_nearest</th>\n",
       "      <th>parks_around3000</th>\n",
       "      <th>parks_nearest</th>\n",
       "      <th>ponds_around3000</th>\n",
       "      <th>ponds_nearest</th>\n",
       "      <th>days_exposition</th>\n",
       "    </tr>\n",
       "  </thead>\n",
       "  <tbody>\n",
       "    <tr>\n",
       "      <th>count</th>\n",
       "      <td>23598.000000</td>\n",
       "      <td>2.359800e+04</td>\n",
       "      <td>23598.000000</td>\n",
       "      <td>23598.000000</td>\n",
       "      <td>23598.000000</td>\n",
       "      <td>23512.000000</td>\n",
       "      <td>23598.000000</td>\n",
       "      <td>23598.000000</td>\n",
       "      <td>23598.000000</td>\n",
       "      <td>23598.000000</td>\n",
       "      <td>18062.000000</td>\n",
       "      <td>18083.000000</td>\n",
       "      <td>18084.000000</td>\n",
       "      <td>8012.000000</td>\n",
       "      <td>18084.000000</td>\n",
       "      <td>9041.000000</td>\n",
       "      <td>20436.000000</td>\n",
       "    </tr>\n",
       "    <tr>\n",
       "      <th>mean</th>\n",
       "      <td>9.847529</td>\n",
       "      <td>6.158790e+06</td>\n",
       "      <td>59.228528</td>\n",
       "      <td>2.054115</td>\n",
       "      <td>2.696767</td>\n",
       "      <td>10.687691</td>\n",
       "      <td>33.588470</td>\n",
       "      <td>5.893762</td>\n",
       "      <td>10.349731</td>\n",
       "      <td>0.592126</td>\n",
       "      <td>28805.222567</td>\n",
       "      <td>14229.048443</td>\n",
       "      <td>0.607775</td>\n",
       "      <td>491.146031</td>\n",
       "      <td>0.766645</td>\n",
       "      <td>519.161155</td>\n",
       "      <td>180.479546</td>\n",
       "    </tr>\n",
       "    <tr>\n",
       "      <th>std</th>\n",
       "      <td>5.676939</td>\n",
       "      <td>6.029948e+06</td>\n",
       "      <td>29.858289</td>\n",
       "      <td>1.028350</td>\n",
       "      <td>0.247229</td>\n",
       "      <td>6.597359</td>\n",
       "      <td>18.651376</td>\n",
       "      <td>4.886553</td>\n",
       "      <td>5.351966</td>\n",
       "      <td>0.959475</td>\n",
       "      <td>12652.425364</td>\n",
       "      <td>8603.157863</td>\n",
       "      <td>0.798610</td>\n",
       "      <td>342.766091</td>\n",
       "      <td>0.935728</td>\n",
       "      <td>277.769604</td>\n",
       "      <td>219.352683</td>\n",
       "    </tr>\n",
       "    <tr>\n",
       "      <th>min</th>\n",
       "      <td>0.000000</td>\n",
       "      <td>4.300000e+05</td>\n",
       "      <td>12.000000</td>\n",
       "      <td>0.000000</td>\n",
       "      <td>2.000000</td>\n",
       "      <td>1.000000</td>\n",
       "      <td>5.400000</td>\n",
       "      <td>1.000000</td>\n",
       "      <td>2.000000</td>\n",
       "      <td>0.000000</td>\n",
       "      <td>0.000000</td>\n",
       "      <td>181.000000</td>\n",
       "      <td>0.000000</td>\n",
       "      <td>1.000000</td>\n",
       "      <td>0.000000</td>\n",
       "      <td>13.000000</td>\n",
       "      <td>1.000000</td>\n",
       "    </tr>\n",
       "    <tr>\n",
       "      <th>25%</th>\n",
       "      <td>6.000000</td>\n",
       "      <td>3.400000e+06</td>\n",
       "      <td>40.000000</td>\n",
       "      <td>1.000000</td>\n",
       "      <td>2.600000</td>\n",
       "      <td>5.000000</td>\n",
       "      <td>19.000000</td>\n",
       "      <td>2.000000</td>\n",
       "      <td>7.300000</td>\n",
       "      <td>0.000000</td>\n",
       "      <td>18557.000000</td>\n",
       "      <td>9289.000000</td>\n",
       "      <td>0.000000</td>\n",
       "      <td>288.000000</td>\n",
       "      <td>0.000000</td>\n",
       "      <td>295.000000</td>\n",
       "      <td>45.000000</td>\n",
       "    </tr>\n",
       "    <tr>\n",
       "      <th>50%</th>\n",
       "      <td>9.000000</td>\n",
       "      <td>4.600000e+06</td>\n",
       "      <td>52.000000</td>\n",
       "      <td>2.000000</td>\n",
       "      <td>2.650000</td>\n",
       "      <td>9.000000</td>\n",
       "      <td>30.000000</td>\n",
       "      <td>4.000000</td>\n",
       "      <td>9.100000</td>\n",
       "      <td>0.000000</td>\n",
       "      <td>26757.500000</td>\n",
       "      <td>13123.000000</td>\n",
       "      <td>0.000000</td>\n",
       "      <td>455.000000</td>\n",
       "      <td>0.000000</td>\n",
       "      <td>503.000000</td>\n",
       "      <td>95.000000</td>\n",
       "    </tr>\n",
       "    <tr>\n",
       "      <th>75%</th>\n",
       "      <td>14.000000</td>\n",
       "      <td>6.738900e+06</td>\n",
       "      <td>69.200000</td>\n",
       "      <td>3.000000</td>\n",
       "      <td>2.700000</td>\n",
       "      <td>16.000000</td>\n",
       "      <td>41.000000</td>\n",
       "      <td>8.000000</td>\n",
       "      <td>11.400000</td>\n",
       "      <td>1.000000</td>\n",
       "      <td>37310.000000</td>\n",
       "      <td>16307.000000</td>\n",
       "      <td>1.000000</td>\n",
       "      <td>612.000000</td>\n",
       "      <td>1.000000</td>\n",
       "      <td>732.000000</td>\n",
       "      <td>231.000000</td>\n",
       "    </tr>\n",
       "    <tr>\n",
       "      <th>max</th>\n",
       "      <td>50.000000</td>\n",
       "      <td>9.900000e+07</td>\n",
       "      <td>297.500000</td>\n",
       "      <td>9.000000</td>\n",
       "      <td>14.000000</td>\n",
       "      <td>60.000000</td>\n",
       "      <td>250.000000</td>\n",
       "      <td>33.000000</td>\n",
       "      <td>107.000000</td>\n",
       "      <td>5.000000</td>\n",
       "      <td>84869.000000</td>\n",
       "      <td>65968.000000</td>\n",
       "      <td>3.000000</td>\n",
       "      <td>3190.000000</td>\n",
       "      <td>3.000000</td>\n",
       "      <td>1344.000000</td>\n",
       "      <td>1580.000000</td>\n",
       "    </tr>\n",
       "  </tbody>\n",
       "</table>\n",
       "</div>"
      ],
      "text/plain": [
       "       total_images    last_price    total_area         rooms  ceiling_height  \\\n",
       "count  23598.000000  2.359800e+04  23598.000000  23598.000000    23598.000000   \n",
       "mean       9.847529  6.158790e+06     59.228528      2.054115        2.696767   \n",
       "std        5.676939  6.029948e+06     29.858289      1.028350        0.247229   \n",
       "min        0.000000  4.300000e+05     12.000000      0.000000        2.000000   \n",
       "25%        6.000000  3.400000e+06     40.000000      1.000000        2.600000   \n",
       "50%        9.000000  4.600000e+06     52.000000      2.000000        2.650000   \n",
       "75%       14.000000  6.738900e+06     69.200000      3.000000        2.700000   \n",
       "max       50.000000  9.900000e+07    297.500000      9.000000       14.000000   \n",
       "\n",
       "       floors_total   living_area         floor  kitchen_area       balcony  \\\n",
       "count  23512.000000  23598.000000  23598.000000  23598.000000  23598.000000   \n",
       "mean      10.687691     33.588470      5.893762     10.349731      0.592126   \n",
       "std        6.597359     18.651376      4.886553      5.351966      0.959475   \n",
       "min        1.000000      5.400000      1.000000      2.000000      0.000000   \n",
       "25%        5.000000     19.000000      2.000000      7.300000      0.000000   \n",
       "50%        9.000000     30.000000      4.000000      9.100000      0.000000   \n",
       "75%       16.000000     41.000000      8.000000     11.400000      1.000000   \n",
       "max       60.000000    250.000000     33.000000    107.000000      5.000000   \n",
       "\n",
       "       airports_nearest  cityCenters_nearest  parks_around3000  parks_nearest  \\\n",
       "count      18062.000000         18083.000000      18084.000000    8012.000000   \n",
       "mean       28805.222567         14229.048443          0.607775     491.146031   \n",
       "std        12652.425364          8603.157863          0.798610     342.766091   \n",
       "min            0.000000           181.000000          0.000000       1.000000   \n",
       "25%        18557.000000          9289.000000          0.000000     288.000000   \n",
       "50%        26757.500000         13123.000000          0.000000     455.000000   \n",
       "75%        37310.000000         16307.000000          1.000000     612.000000   \n",
       "max        84869.000000         65968.000000          3.000000    3190.000000   \n",
       "\n",
       "       ponds_around3000  ponds_nearest  days_exposition  \n",
       "count      18084.000000    9041.000000     20436.000000  \n",
       "mean           0.766645     519.161155       180.479546  \n",
       "std            0.935728     277.769604       219.352683  \n",
       "min            0.000000      13.000000         1.000000  \n",
       "25%            0.000000     295.000000        45.000000  \n",
       "50%            0.000000     503.000000        95.000000  \n",
       "75%            1.000000     732.000000       231.000000  \n",
       "max            3.000000    1344.000000      1580.000000  "
      ]
     },
     "execution_count": 13,
     "metadata": {},
     "output_type": "execute_result"
    }
   ],
   "source": [
    "# Столбец kitchen_area\n",
    "data.query('1<=kitchen_area<2')\n",
    "# Квартиры с кухнями до 2 м2 выглядят немного странно, предлагается удалить, предварительно заменив пропуски на медианное значение\n",
    "data['kitchen_area']=data['kitchen_area'].fillna(data['kitchen_area'].median())\n",
    "data = data[(data.kitchen_area >= 2)]\n",
    "\n",
    "# Из общей статистики видно, что максимум площади кухни по выборке - 112 м2; посмотрим оставшиеся данные:\n",
    "data.query('2<kitchen_area<=50')\n",
    "data.query('50<kitchen_area<=112')\n",
    "data.describe()"
   ]
  },
  {
   "cell_type": "code",
   "execution_count": 14,
   "metadata": {},
   "outputs": [
    {
     "data": {
      "text/html": [
       "<div>\n",
       "<style scoped>\n",
       "    .dataframe tbody tr th:only-of-type {\n",
       "        vertical-align: middle;\n",
       "    }\n",
       "\n",
       "    .dataframe tbody tr th {\n",
       "        vertical-align: top;\n",
       "    }\n",
       "\n",
       "    .dataframe thead th {\n",
       "        text-align: right;\n",
       "    }\n",
       "</style>\n",
       "<table border=\"1\" class=\"dataframe\">\n",
       "  <thead>\n",
       "    <tr style=\"text-align: right;\">\n",
       "      <th></th>\n",
       "      <th>total_images</th>\n",
       "      <th>last_price</th>\n",
       "      <th>total_area</th>\n",
       "      <th>rooms</th>\n",
       "      <th>ceiling_height</th>\n",
       "      <th>floors_total</th>\n",
       "      <th>living_area</th>\n",
       "      <th>floor</th>\n",
       "      <th>kitchen_area</th>\n",
       "      <th>balcony</th>\n",
       "      <th>airports_nearest</th>\n",
       "      <th>cityCenters_nearest</th>\n",
       "      <th>parks_around3000</th>\n",
       "      <th>parks_nearest</th>\n",
       "      <th>ponds_around3000</th>\n",
       "      <th>ponds_nearest</th>\n",
       "      <th>days_exposition</th>\n",
       "    </tr>\n",
       "  </thead>\n",
       "  <tbody>\n",
       "    <tr>\n",
       "      <th>count</th>\n",
       "      <td>23597.000000</td>\n",
       "      <td>2.359700e+04</td>\n",
       "      <td>23597.000000</td>\n",
       "      <td>23597.000000</td>\n",
       "      <td>23597.000000</td>\n",
       "      <td>23511.000000</td>\n",
       "      <td>23597.000000</td>\n",
       "      <td>23597.000000</td>\n",
       "      <td>23597.000000</td>\n",
       "      <td>23597.000000</td>\n",
       "      <td>23597.000000</td>\n",
       "      <td>18082.000000</td>\n",
       "      <td>18083.000000</td>\n",
       "      <td>8012.000000</td>\n",
       "      <td>18083.000000</td>\n",
       "      <td>9041.000000</td>\n",
       "      <td>20435.000000</td>\n",
       "    </tr>\n",
       "    <tr>\n",
       "      <th>mean</th>\n",
       "      <td>9.847947</td>\n",
       "      <td>6.158754e+06</td>\n",
       "      <td>59.229567</td>\n",
       "      <td>2.054159</td>\n",
       "      <td>2.696767</td>\n",
       "      <td>10.687763</td>\n",
       "      <td>33.589055</td>\n",
       "      <td>5.893885</td>\n",
       "      <td>10.349916</td>\n",
       "      <td>0.592067</td>\n",
       "      <td>28326.035089</td>\n",
       "      <td>14228.574383</td>\n",
       "      <td>0.607808</td>\n",
       "      <td>491.146031</td>\n",
       "      <td>0.766687</td>\n",
       "      <td>519.161155</td>\n",
       "      <td>180.485442</td>\n",
       "    </tr>\n",
       "    <tr>\n",
       "      <th>std</th>\n",
       "      <td>5.676697</td>\n",
       "      <td>6.030073e+06</td>\n",
       "      <td>29.858495</td>\n",
       "      <td>1.028348</td>\n",
       "      <td>0.247235</td>\n",
       "      <td>6.597490</td>\n",
       "      <td>18.651555</td>\n",
       "      <td>4.886620</td>\n",
       "      <td>5.352005</td>\n",
       "      <td>0.959452</td>\n",
       "      <td>11101.864661</td>\n",
       "      <td>8603.159573</td>\n",
       "      <td>0.798620</td>\n",
       "      <td>342.766091</td>\n",
       "      <td>0.935737</td>\n",
       "      <td>277.769604</td>\n",
       "      <td>219.356431</td>\n",
       "    </tr>\n",
       "    <tr>\n",
       "      <th>min</th>\n",
       "      <td>0.000000</td>\n",
       "      <td>4.300000e+05</td>\n",
       "      <td>12.000000</td>\n",
       "      <td>0.000000</td>\n",
       "      <td>2.000000</td>\n",
       "      <td>1.000000</td>\n",
       "      <td>5.400000</td>\n",
       "      <td>1.000000</td>\n",
       "      <td>2.000000</td>\n",
       "      <td>0.000000</td>\n",
       "      <td>6450.000000</td>\n",
       "      <td>181.000000</td>\n",
       "      <td>0.000000</td>\n",
       "      <td>1.000000</td>\n",
       "      <td>0.000000</td>\n",
       "      <td>13.000000</td>\n",
       "      <td>1.000000</td>\n",
       "    </tr>\n",
       "    <tr>\n",
       "      <th>25%</th>\n",
       "      <td>6.000000</td>\n",
       "      <td>3.400000e+06</td>\n",
       "      <td>40.000000</td>\n",
       "      <td>1.000000</td>\n",
       "      <td>2.600000</td>\n",
       "      <td>5.000000</td>\n",
       "      <td>19.000000</td>\n",
       "      <td>2.000000</td>\n",
       "      <td>7.300000</td>\n",
       "      <td>0.000000</td>\n",
       "      <td>21157.000000</td>\n",
       "      <td>9289.000000</td>\n",
       "      <td>0.000000</td>\n",
       "      <td>288.000000</td>\n",
       "      <td>0.000000</td>\n",
       "      <td>295.000000</td>\n",
       "      <td>45.000000</td>\n",
       "    </tr>\n",
       "    <tr>\n",
       "      <th>50%</th>\n",
       "      <td>9.000000</td>\n",
       "      <td>4.600000e+06</td>\n",
       "      <td>52.000000</td>\n",
       "      <td>2.000000</td>\n",
       "      <td>2.650000</td>\n",
       "      <td>9.000000</td>\n",
       "      <td>30.000000</td>\n",
       "      <td>4.000000</td>\n",
       "      <td>9.100000</td>\n",
       "      <td>0.000000</td>\n",
       "      <td>26757.500000</td>\n",
       "      <td>13123.000000</td>\n",
       "      <td>0.000000</td>\n",
       "      <td>455.000000</td>\n",
       "      <td>0.000000</td>\n",
       "      <td>503.000000</td>\n",
       "      <td>95.000000</td>\n",
       "    </tr>\n",
       "    <tr>\n",
       "      <th>75%</th>\n",
       "      <td>14.000000</td>\n",
       "      <td>6.735600e+06</td>\n",
       "      <td>69.200000</td>\n",
       "      <td>3.000000</td>\n",
       "      <td>2.700000</td>\n",
       "      <td>16.000000</td>\n",
       "      <td>41.000000</td>\n",
       "      <td>8.000000</td>\n",
       "      <td>11.400000</td>\n",
       "      <td>1.000000</td>\n",
       "      <td>34401.000000</td>\n",
       "      <td>16304.500000</td>\n",
       "      <td>1.000000</td>\n",
       "      <td>612.000000</td>\n",
       "      <td>1.000000</td>\n",
       "      <td>732.000000</td>\n",
       "      <td>231.000000</td>\n",
       "    </tr>\n",
       "    <tr>\n",
       "      <th>max</th>\n",
       "      <td>50.000000</td>\n",
       "      <td>9.900000e+07</td>\n",
       "      <td>297.500000</td>\n",
       "      <td>9.000000</td>\n",
       "      <td>14.000000</td>\n",
       "      <td>60.000000</td>\n",
       "      <td>250.000000</td>\n",
       "      <td>33.000000</td>\n",
       "      <td>107.000000</td>\n",
       "      <td>5.000000</td>\n",
       "      <td>84869.000000</td>\n",
       "      <td>65968.000000</td>\n",
       "      <td>3.000000</td>\n",
       "      <td>3190.000000</td>\n",
       "      <td>3.000000</td>\n",
       "      <td>1344.000000</td>\n",
       "      <td>1580.000000</td>\n",
       "    </tr>\n",
       "  </tbody>\n",
       "</table>\n",
       "</div>"
      ],
      "text/plain": [
       "       total_images    last_price    total_area         rooms  ceiling_height  \\\n",
       "count  23597.000000  2.359700e+04  23597.000000  23597.000000    23597.000000   \n",
       "mean       9.847947  6.158754e+06     59.229567      2.054159        2.696767   \n",
       "std        5.676697  6.030073e+06     29.858495      1.028348        0.247235   \n",
       "min        0.000000  4.300000e+05     12.000000      0.000000        2.000000   \n",
       "25%        6.000000  3.400000e+06     40.000000      1.000000        2.600000   \n",
       "50%        9.000000  4.600000e+06     52.000000      2.000000        2.650000   \n",
       "75%       14.000000  6.735600e+06     69.200000      3.000000        2.700000   \n",
       "max       50.000000  9.900000e+07    297.500000      9.000000       14.000000   \n",
       "\n",
       "       floors_total   living_area         floor  kitchen_area       balcony  \\\n",
       "count  23511.000000  23597.000000  23597.000000  23597.000000  23597.000000   \n",
       "mean      10.687763     33.589055      5.893885     10.349916      0.592067   \n",
       "std        6.597490     18.651555      4.886620      5.352005      0.959452   \n",
       "min        1.000000      5.400000      1.000000      2.000000      0.000000   \n",
       "25%        5.000000     19.000000      2.000000      7.300000      0.000000   \n",
       "50%        9.000000     30.000000      4.000000      9.100000      0.000000   \n",
       "75%       16.000000     41.000000      8.000000     11.400000      1.000000   \n",
       "max       60.000000    250.000000     33.000000    107.000000      5.000000   \n",
       "\n",
       "       airports_nearest  cityCenters_nearest  parks_around3000  parks_nearest  \\\n",
       "count      23597.000000         18082.000000      18083.000000    8012.000000   \n",
       "mean       28326.035089         14228.574383          0.607808     491.146031   \n",
       "std        11101.864661          8603.159573          0.798620     342.766091   \n",
       "min         6450.000000           181.000000          0.000000       1.000000   \n",
       "25%        21157.000000          9289.000000          0.000000     288.000000   \n",
       "50%        26757.500000         13123.000000          0.000000     455.000000   \n",
       "75%        34401.000000         16304.500000          1.000000     612.000000   \n",
       "max        84869.000000         65968.000000          3.000000    3190.000000   \n",
       "\n",
       "       ponds_around3000  ponds_nearest  days_exposition  \n",
       "count      18083.000000    9041.000000     20435.000000  \n",
       "mean           0.766687     519.161155       180.485442  \n",
       "std            0.935737     277.769604       219.356431  \n",
       "min            0.000000      13.000000         1.000000  \n",
       "25%            0.000000     295.000000        45.000000  \n",
       "50%            0.000000     503.000000        95.000000  \n",
       "75%            1.000000     732.000000       231.000000  \n",
       "max            3.000000    1344.000000      1580.000000  "
      ]
     },
     "execution_count": 14,
     "metadata": {},
     "output_type": "execute_result"
    }
   ],
   "source": [
    "# Из общей статистики видно, что есть квартира с расстоянием до аэропорта\n",
    "data.loc[data.loc[:, 'airports_nearest']==0]\n",
    "# Вряд ли квартира может располагаться в аэропорту; предлагается удалить 1 строку с расстоянием квартиры до аэропорта 0 метров, предварительно заменив пропуски на медианное значение:\n",
    "data['airports_nearest']=data['airports_nearest'].fillna(data['airports_nearest'].median())\n",
    "data = data[(data.airports_nearest > 0)]\n",
    "\n",
    "data.describe()\n"
   ]
  },
  {
   "cell_type": "code",
   "execution_count": 15,
   "metadata": {},
   "outputs": [],
   "source": [
    "# Столбец balcony:\n",
    "# В столбцах, где количество балконов превышает количество комнат, заменим значение балконов на равные значения комнат (т.е. сколько комнат, столько и балконов в тех случаях, где балконов больше комнат).\n",
    "data.query('balcony>3')\n",
    "for index, row in data.iterrows():\n",
    "    if(row['balcony']>row['rooms']):\n",
    "        data.loc[index, 'balcony']=row['rooms']\n",
    " "
   ]
  },
  {
   "cell_type": "code",
   "execution_count": 16,
   "metadata": {},
   "outputs": [
    {
     "data": {
      "text/html": [
       "<div>\n",
       "<style scoped>\n",
       "    .dataframe tbody tr th:only-of-type {\n",
       "        vertical-align: middle;\n",
       "    }\n",
       "\n",
       "    .dataframe tbody tr th {\n",
       "        vertical-align: top;\n",
       "    }\n",
       "\n",
       "    .dataframe thead th {\n",
       "        text-align: right;\n",
       "    }\n",
       "</style>\n",
       "<table border=\"1\" class=\"dataframe\">\n",
       "  <thead>\n",
       "    <tr style=\"text-align: right;\">\n",
       "      <th></th>\n",
       "      <th>total_images</th>\n",
       "      <th>last_price</th>\n",
       "      <th>total_area</th>\n",
       "      <th>rooms</th>\n",
       "      <th>ceiling_height</th>\n",
       "      <th>floors_total</th>\n",
       "      <th>living_area</th>\n",
       "      <th>floor</th>\n",
       "      <th>kitchen_area</th>\n",
       "      <th>balcony</th>\n",
       "      <th>airports_nearest</th>\n",
       "      <th>cityCenters_nearest</th>\n",
       "      <th>parks_around3000</th>\n",
       "      <th>parks_nearest</th>\n",
       "      <th>ponds_around3000</th>\n",
       "      <th>ponds_nearest</th>\n",
       "      <th>days_exposition</th>\n",
       "    </tr>\n",
       "  </thead>\n",
       "  <tbody>\n",
       "    <tr>\n",
       "      <th>count</th>\n",
       "      <td>23597.000000</td>\n",
       "      <td>2.359700e+04</td>\n",
       "      <td>23597.000000</td>\n",
       "      <td>23597.000000</td>\n",
       "      <td>23597.000000</td>\n",
       "      <td>23511.000000</td>\n",
       "      <td>23597.000000</td>\n",
       "      <td>23597.000000</td>\n",
       "      <td>23597.000000</td>\n",
       "      <td>23597.000000</td>\n",
       "      <td>23597.000000</td>\n",
       "      <td>18082.000000</td>\n",
       "      <td>18083.000000</td>\n",
       "      <td>8012.000000</td>\n",
       "      <td>18083.000000</td>\n",
       "      <td>9041.000000</td>\n",
       "      <td>20435.000000</td>\n",
       "    </tr>\n",
       "    <tr>\n",
       "      <th>mean</th>\n",
       "      <td>9.847947</td>\n",
       "      <td>6.158754e+06</td>\n",
       "      <td>59.229567</td>\n",
       "      <td>2.054159</td>\n",
       "      <td>2.696767</td>\n",
       "      <td>10.687763</td>\n",
       "      <td>33.589055</td>\n",
       "      <td>5.893885</td>\n",
       "      <td>10.349916</td>\n",
       "      <td>0.479256</td>\n",
       "      <td>28326.035089</td>\n",
       "      <td>14228.574383</td>\n",
       "      <td>0.607808</td>\n",
       "      <td>491.146031</td>\n",
       "      <td>0.766687</td>\n",
       "      <td>519.161155</td>\n",
       "      <td>180.485442</td>\n",
       "    </tr>\n",
       "    <tr>\n",
       "      <th>std</th>\n",
       "      <td>5.676697</td>\n",
       "      <td>6.030073e+06</td>\n",
       "      <td>29.858495</td>\n",
       "      <td>1.028348</td>\n",
       "      <td>0.247235</td>\n",
       "      <td>6.597490</td>\n",
       "      <td>18.651555</td>\n",
       "      <td>4.886620</td>\n",
       "      <td>5.352005</td>\n",
       "      <td>0.738794</td>\n",
       "      <td>11101.864661</td>\n",
       "      <td>8603.159573</td>\n",
       "      <td>0.798620</td>\n",
       "      <td>342.766091</td>\n",
       "      <td>0.935737</td>\n",
       "      <td>277.769604</td>\n",
       "      <td>219.356431</td>\n",
       "    </tr>\n",
       "    <tr>\n",
       "      <th>min</th>\n",
       "      <td>0.000000</td>\n",
       "      <td>4.300000e+05</td>\n",
       "      <td>12.000000</td>\n",
       "      <td>0.000000</td>\n",
       "      <td>2.000000</td>\n",
       "      <td>1.000000</td>\n",
       "      <td>5.400000</td>\n",
       "      <td>1.000000</td>\n",
       "      <td>2.000000</td>\n",
       "      <td>0.000000</td>\n",
       "      <td>6450.000000</td>\n",
       "      <td>181.000000</td>\n",
       "      <td>0.000000</td>\n",
       "      <td>1.000000</td>\n",
       "      <td>0.000000</td>\n",
       "      <td>13.000000</td>\n",
       "      <td>1.000000</td>\n",
       "    </tr>\n",
       "    <tr>\n",
       "      <th>25%</th>\n",
       "      <td>6.000000</td>\n",
       "      <td>3.400000e+06</td>\n",
       "      <td>40.000000</td>\n",
       "      <td>1.000000</td>\n",
       "      <td>2.600000</td>\n",
       "      <td>5.000000</td>\n",
       "      <td>19.000000</td>\n",
       "      <td>2.000000</td>\n",
       "      <td>7.300000</td>\n",
       "      <td>0.000000</td>\n",
       "      <td>21157.000000</td>\n",
       "      <td>9289.000000</td>\n",
       "      <td>0.000000</td>\n",
       "      <td>288.000000</td>\n",
       "      <td>0.000000</td>\n",
       "      <td>295.000000</td>\n",
       "      <td>45.000000</td>\n",
       "    </tr>\n",
       "    <tr>\n",
       "      <th>50%</th>\n",
       "      <td>9.000000</td>\n",
       "      <td>4.600000e+06</td>\n",
       "      <td>52.000000</td>\n",
       "      <td>2.000000</td>\n",
       "      <td>2.650000</td>\n",
       "      <td>9.000000</td>\n",
       "      <td>30.000000</td>\n",
       "      <td>4.000000</td>\n",
       "      <td>9.100000</td>\n",
       "      <td>0.000000</td>\n",
       "      <td>26757.500000</td>\n",
       "      <td>13123.000000</td>\n",
       "      <td>0.000000</td>\n",
       "      <td>455.000000</td>\n",
       "      <td>0.000000</td>\n",
       "      <td>503.000000</td>\n",
       "      <td>95.000000</td>\n",
       "    </tr>\n",
       "    <tr>\n",
       "      <th>75%</th>\n",
       "      <td>14.000000</td>\n",
       "      <td>6.735600e+06</td>\n",
       "      <td>69.200000</td>\n",
       "      <td>3.000000</td>\n",
       "      <td>2.700000</td>\n",
       "      <td>16.000000</td>\n",
       "      <td>41.000000</td>\n",
       "      <td>8.000000</td>\n",
       "      <td>11.400000</td>\n",
       "      <td>1.000000</td>\n",
       "      <td>34401.000000</td>\n",
       "      <td>16304.500000</td>\n",
       "      <td>1.000000</td>\n",
       "      <td>612.000000</td>\n",
       "      <td>1.000000</td>\n",
       "      <td>732.000000</td>\n",
       "      <td>231.000000</td>\n",
       "    </tr>\n",
       "    <tr>\n",
       "      <th>max</th>\n",
       "      <td>50.000000</td>\n",
       "      <td>9.900000e+07</td>\n",
       "      <td>297.500000</td>\n",
       "      <td>9.000000</td>\n",
       "      <td>14.000000</td>\n",
       "      <td>60.000000</td>\n",
       "      <td>250.000000</td>\n",
       "      <td>33.000000</td>\n",
       "      <td>107.000000</td>\n",
       "      <td>5.000000</td>\n",
       "      <td>84869.000000</td>\n",
       "      <td>65968.000000</td>\n",
       "      <td>3.000000</td>\n",
       "      <td>3190.000000</td>\n",
       "      <td>3.000000</td>\n",
       "      <td>1344.000000</td>\n",
       "      <td>1580.000000</td>\n",
       "    </tr>\n",
       "  </tbody>\n",
       "</table>\n",
       "</div>"
      ],
      "text/plain": [
       "       total_images    last_price    total_area         rooms  ceiling_height  \\\n",
       "count  23597.000000  2.359700e+04  23597.000000  23597.000000    23597.000000   \n",
       "mean       9.847947  6.158754e+06     59.229567      2.054159        2.696767   \n",
       "std        5.676697  6.030073e+06     29.858495      1.028348        0.247235   \n",
       "min        0.000000  4.300000e+05     12.000000      0.000000        2.000000   \n",
       "25%        6.000000  3.400000e+06     40.000000      1.000000        2.600000   \n",
       "50%        9.000000  4.600000e+06     52.000000      2.000000        2.650000   \n",
       "75%       14.000000  6.735600e+06     69.200000      3.000000        2.700000   \n",
       "max       50.000000  9.900000e+07    297.500000      9.000000       14.000000   \n",
       "\n",
       "       floors_total   living_area         floor  kitchen_area       balcony  \\\n",
       "count  23511.000000  23597.000000  23597.000000  23597.000000  23597.000000   \n",
       "mean      10.687763     33.589055      5.893885     10.349916      0.479256   \n",
       "std        6.597490     18.651555      4.886620      5.352005      0.738794   \n",
       "min        1.000000      5.400000      1.000000      2.000000      0.000000   \n",
       "25%        5.000000     19.000000      2.000000      7.300000      0.000000   \n",
       "50%        9.000000     30.000000      4.000000      9.100000      0.000000   \n",
       "75%       16.000000     41.000000      8.000000     11.400000      1.000000   \n",
       "max       60.000000    250.000000     33.000000    107.000000      5.000000   \n",
       "\n",
       "       airports_nearest  cityCenters_nearest  parks_around3000  parks_nearest  \\\n",
       "count      23597.000000         18082.000000      18083.000000    8012.000000   \n",
       "mean       28326.035089         14228.574383          0.607808     491.146031   \n",
       "std        11101.864661          8603.159573          0.798620     342.766091   \n",
       "min         6450.000000           181.000000          0.000000       1.000000   \n",
       "25%        21157.000000          9289.000000          0.000000     288.000000   \n",
       "50%        26757.500000         13123.000000          0.000000     455.000000   \n",
       "75%        34401.000000         16304.500000          1.000000     612.000000   \n",
       "max        84869.000000         65968.000000          3.000000    3190.000000   \n",
       "\n",
       "       ponds_around3000  ponds_nearest  days_exposition  \n",
       "count      18083.000000    9041.000000     20435.000000  \n",
       "mean           0.766687     519.161155       180.485442  \n",
       "std            0.935737     277.769604       219.356431  \n",
       "min            0.000000      13.000000         1.000000  \n",
       "25%            0.000000     295.000000        45.000000  \n",
       "50%            0.000000     503.000000        95.000000  \n",
       "75%            1.000000     732.000000       231.000000  \n",
       "max            3.000000    1344.000000      1580.000000  "
      ]
     },
     "execution_count": 16,
     "metadata": {},
     "output_type": "execute_result"
    }
   ],
   "source": [
    "data.query('balcony>3')\n",
    "data.query('rooms==1')\n",
    "data.describe()"
   ]
  },
  {
   "cell_type": "markdown",
   "metadata": {},
   "source": [
    "**Промежуточный вывод:**\n",
    "на данном шаге мы постарались избавиться от пропусков в тех столбцах, где замена была возможна (столбцы `balcony`, `is_apartment`, `ceiling_height`. Кроме того, были заменены типы данных в столбцах `first_day_exposition`, `balcony`, `is_apartment`. Затем была проведена работа по устранению неявных дубликатов в столбце `locality_name`. Потребовалось также понаблюдать за выбивающимся значением в каждом столбце, в результате чего в ряде столбцов были обработаны (как например, в столбце `celing_height`, `balcony`) или удалены некоторые строки. В результате удаления строк выборка практически \"не пострадала\", так как мы оставили 99,5% данных."
   ]
  },
  {
   "cell_type": "markdown",
   "metadata": {},
   "source": [
    "### Посчитайте и добавьте в таблицу новые столбцы"
   ]
  },
  {
   "cell_type": "markdown",
   "metadata": {},
   "source": [
    "**Цена одного квадратного метра**"
   ]
  },
  {
   "cell_type": "code",
   "execution_count": 17,
   "metadata": {},
   "outputs": [
    {
     "data": {
      "text/plain": [
       "count     23597.000000\n",
       "mean      98487.038339\n",
       "std       42897.589213\n",
       "min        7962.962963\n",
       "25%       76530.612245\n",
       "50%       94907.407407\n",
       "75%      114035.087719\n",
       "max      848484.848485\n",
       "Name: price_per_meter, dtype: float64"
      ]
     },
     "execution_count": 17,
     "metadata": {},
     "output_type": "execute_result"
    }
   ],
   "source": [
    "data['price_per_meter']=data['last_price']/data['total_area']\n",
    "data['price_per_meter']\n",
    "data['price_per_meter'].describe()"
   ]
  },
  {
   "cell_type": "code",
   "execution_count": 18,
   "metadata": {},
   "outputs": [
    {
     "name": "stdout",
     "output_type": "stream",
     "text": [
      "       total_images  last_price  total_area first_day_exposition  rooms  \\\n",
      "0                20  13000000.0      108.00           2019-03-07      3   \n",
      "1                 7   3350000.0       40.40           2018-12-04      1   \n",
      "2                10   5196000.0       56.00           2015-08-20      2   \n",
      "3                 0  64900000.0      159.00           2015-07-24      3   \n",
      "4                 2  10000000.0      100.00           2018-06-19      2   \n",
      "...             ...         ...         ...                  ...    ...   \n",
      "23694             9   9700000.0      133.81           2017-03-21      3   \n",
      "23695            14   3100000.0       59.00           2018-01-15      3   \n",
      "23696            18   2500000.0       56.70           2018-02-11      2   \n",
      "23697            13  11475000.0       76.75           2017-03-28      2   \n",
      "23698             4   1350000.0       32.30           2017-07-21      1   \n",
      "\n",
      "       ceiling_height  floors_total  living_area  floor  is_apartment  ...  \\\n",
      "0                2.70          16.0         51.0      8         False  ...   \n",
      "1                2.65          11.0         18.6      1         False  ...   \n",
      "2                2.65           5.0         34.3      4         False  ...   \n",
      "3                2.65          14.0         30.0      9         False  ...   \n",
      "4                3.03          14.0         32.0     13         False  ...   \n",
      "...               ...           ...          ...    ...           ...  ...   \n",
      "23694            3.70           5.0         73.3      3         False  ...   \n",
      "23695            2.65           5.0         38.0      4         False  ...   \n",
      "23696            2.65           3.0         29.7      1         False  ...   \n",
      "23697            3.00          17.0         30.0     12         False  ...   \n",
      "23698            2.50           5.0         12.3      1         False  ...   \n",
      "\n",
      "       cityCenters_nearest  parks_around3000  parks_nearest  ponds_around3000  \\\n",
      "0                  16028.0               1.0          482.0               2.0   \n",
      "1                  18603.0               0.0            NaN               0.0   \n",
      "2                  13933.0               1.0           90.0               2.0   \n",
      "3                   6800.0               2.0           84.0               3.0   \n",
      "4                   8098.0               2.0          112.0               1.0   \n",
      "...                    ...               ...            ...               ...   \n",
      "23694               4232.0               1.0          796.0               3.0   \n",
      "23695                  NaN               NaN            NaN               NaN   \n",
      "23696                  NaN               NaN            NaN               NaN   \n",
      "23697              10364.0               2.0          173.0               3.0   \n",
      "23698                  NaN               NaN            NaN               NaN   \n",
      "\n",
      "      ponds_nearest  days_exposition  price_per_meter  Weekday  Month  Year  \n",
      "0             755.0              NaN    120370.370370        3      3  2019  \n",
      "1               NaN             81.0     82920.792079        1     12  2018  \n",
      "2             574.0            558.0     92785.714286        3      8  2015  \n",
      "3             234.0            424.0    408176.100629        4      7  2015  \n",
      "4              48.0            121.0    100000.000000        1      6  2018  \n",
      "...             ...              ...              ...      ...    ...   ...  \n",
      "23694         381.0              NaN     72490.845228        1      3  2017  \n",
      "23695           NaN             45.0     52542.372881        0      1  2018  \n",
      "23696           NaN              NaN     44091.710758        6      2  2018  \n",
      "23697         196.0            602.0    149511.400651        1      3  2017  \n",
      "23698           NaN              NaN     41795.665635        4      7  2017  \n",
      "\n",
      "[23597 rows x 26 columns]\n"
     ]
    }
   ],
   "source": [
    "# Столбец first_day_exposition\n",
    "# Добавим столбец Weekday, который покажет нам конкретные дни недели публикации объявления.\n",
    "\n",
    "data['Weekday']=data['first_day_exposition'].dt.strftime('%A')\n",
    "\n",
    "# День недели публикации объявления\n",
    "data['Weekday'] = data['Weekday'].str.replace('Monday', '0')\n",
    "data['Weekday'] = data['Weekday'].str.replace('Tuesday', '1')\n",
    "data['Weekday'] = data['Weekday'].str.replace('Wednesday', '2')\n",
    "data['Weekday'] = data['Weekday'].str.replace('Thursday', '3')\n",
    "data['Weekday'] = data['Weekday'].str.replace('Friday', '4')\n",
    "data['Weekday'] = data['Weekday'].str.replace('Saturday', '5')\n",
    "data['Weekday'] = data['Weekday'].str.replace('Sunday', '6')\n",
    "\n",
    "# Месяц публикации\n",
    "data['Month']=data['first_day_exposition'].dt.strftime('%-m')\n",
    "data['Month'].unique()\n",
    "# Год публикации\n",
    "data['Year']=data['first_day_exposition'].dt.strftime('%Y')\n",
    "data['Year'].unique()\n",
    "print(data)"
   ]
  },
  {
   "cell_type": "code",
   "execution_count": 19,
   "metadata": {},
   "outputs": [
    {
     "data": {
      "text/plain": [
       "array(['другой', 'первый', 'последний'], dtype=object)"
      ]
     },
     "execution_count": 19,
     "metadata": {},
     "output_type": "execute_result"
    }
   ],
   "source": [
    "# Категоризируем этажи на группы: \"первый\", \"последний\", \"другой\":\n",
    "\n",
    "data['floor_category']=data.apply(\n",
    "    lambda x: 'первый' if (x.floor==1)\n",
    "    else ('последний' if (x.floor==x.floors_total)&isinstance(x.floors_total, float)\n",
    "    else 'другой'), axis=1\n",
    ")\n",
    "\n",
    "\n",
    "data['floor_category'].unique()"
   ]
  },
  {
   "cell_type": "code",
   "execution_count": 20,
   "metadata": {},
   "outputs": [
    {
     "data": {
      "text/html": [
       "<div>\n",
       "<style scoped>\n",
       "    .dataframe tbody tr th:only-of-type {\n",
       "        vertical-align: middle;\n",
       "    }\n",
       "\n",
       "    .dataframe tbody tr th {\n",
       "        vertical-align: top;\n",
       "    }\n",
       "\n",
       "    .dataframe thead th {\n",
       "        text-align: right;\n",
       "    }\n",
       "</style>\n",
       "<table border=\"1\" class=\"dataframe\">\n",
       "  <thead>\n",
       "    <tr style=\"text-align: right;\">\n",
       "      <th></th>\n",
       "      <th>total_images</th>\n",
       "      <th>last_price</th>\n",
       "      <th>total_area</th>\n",
       "      <th>rooms</th>\n",
       "      <th>ceiling_height</th>\n",
       "      <th>floors_total</th>\n",
       "      <th>living_area</th>\n",
       "      <th>floor</th>\n",
       "      <th>kitchen_area</th>\n",
       "      <th>balcony</th>\n",
       "      <th>airports_nearest</th>\n",
       "      <th>cityCenters_nearest</th>\n",
       "      <th>parks_around3000</th>\n",
       "      <th>parks_nearest</th>\n",
       "      <th>ponds_around3000</th>\n",
       "      <th>ponds_nearest</th>\n",
       "      <th>days_exposition</th>\n",
       "      <th>price_per_meter</th>\n",
       "      <th>rounded_centre_distance</th>\n",
       "    </tr>\n",
       "  </thead>\n",
       "  <tbody>\n",
       "    <tr>\n",
       "      <th>count</th>\n",
       "      <td>23597.000000</td>\n",
       "      <td>2.359700e+04</td>\n",
       "      <td>23597.000000</td>\n",
       "      <td>23597.000000</td>\n",
       "      <td>23597.000000</td>\n",
       "      <td>23511.000000</td>\n",
       "      <td>23597.000000</td>\n",
       "      <td>23597.000000</td>\n",
       "      <td>23597.000000</td>\n",
       "      <td>23597.000000</td>\n",
       "      <td>23597.000000</td>\n",
       "      <td>18082.000000</td>\n",
       "      <td>18083.000000</td>\n",
       "      <td>8012.000000</td>\n",
       "      <td>18083.000000</td>\n",
       "      <td>9041.000000</td>\n",
       "      <td>20435.000000</td>\n",
       "      <td>23597.000000</td>\n",
       "      <td>18082.000000</td>\n",
       "    </tr>\n",
       "    <tr>\n",
       "      <th>mean</th>\n",
       "      <td>9.847947</td>\n",
       "      <td>6.158754e+06</td>\n",
       "      <td>59.229567</td>\n",
       "      <td>2.054159</td>\n",
       "      <td>2.696767</td>\n",
       "      <td>10.687763</td>\n",
       "      <td>33.589055</td>\n",
       "      <td>5.893885</td>\n",
       "      <td>10.349916</td>\n",
       "      <td>0.479256</td>\n",
       "      <td>28326.035089</td>\n",
       "      <td>14228.574383</td>\n",
       "      <td>0.607808</td>\n",
       "      <td>491.146031</td>\n",
       "      <td>0.766687</td>\n",
       "      <td>519.161155</td>\n",
       "      <td>180.485442</td>\n",
       "      <td>98487.038339</td>\n",
       "      <td>14.221878</td>\n",
       "    </tr>\n",
       "    <tr>\n",
       "      <th>std</th>\n",
       "      <td>5.676697</td>\n",
       "      <td>6.030073e+06</td>\n",
       "      <td>29.858495</td>\n",
       "      <td>1.028348</td>\n",
       "      <td>0.247235</td>\n",
       "      <td>6.597490</td>\n",
       "      <td>18.651555</td>\n",
       "      <td>4.886620</td>\n",
       "      <td>5.352005</td>\n",
       "      <td>0.738794</td>\n",
       "      <td>11101.864661</td>\n",
       "      <td>8603.159573</td>\n",
       "      <td>0.798620</td>\n",
       "      <td>342.766091</td>\n",
       "      <td>0.935737</td>\n",
       "      <td>277.769604</td>\n",
       "      <td>219.356431</td>\n",
       "      <td>42897.589213</td>\n",
       "      <td>8.611218</td>\n",
       "    </tr>\n",
       "    <tr>\n",
       "      <th>min</th>\n",
       "      <td>0.000000</td>\n",
       "      <td>4.300000e+05</td>\n",
       "      <td>12.000000</td>\n",
       "      <td>0.000000</td>\n",
       "      <td>2.000000</td>\n",
       "      <td>1.000000</td>\n",
       "      <td>5.400000</td>\n",
       "      <td>1.000000</td>\n",
       "      <td>2.000000</td>\n",
       "      <td>0.000000</td>\n",
       "      <td>6450.000000</td>\n",
       "      <td>181.000000</td>\n",
       "      <td>0.000000</td>\n",
       "      <td>1.000000</td>\n",
       "      <td>0.000000</td>\n",
       "      <td>13.000000</td>\n",
       "      <td>1.000000</td>\n",
       "      <td>7962.962963</td>\n",
       "      <td>0.000000</td>\n",
       "    </tr>\n",
       "    <tr>\n",
       "      <th>25%</th>\n",
       "      <td>6.000000</td>\n",
       "      <td>3.400000e+06</td>\n",
       "      <td>40.000000</td>\n",
       "      <td>1.000000</td>\n",
       "      <td>2.600000</td>\n",
       "      <td>5.000000</td>\n",
       "      <td>19.000000</td>\n",
       "      <td>2.000000</td>\n",
       "      <td>7.300000</td>\n",
       "      <td>0.000000</td>\n",
       "      <td>21157.000000</td>\n",
       "      <td>9289.000000</td>\n",
       "      <td>0.000000</td>\n",
       "      <td>288.000000</td>\n",
       "      <td>0.000000</td>\n",
       "      <td>295.000000</td>\n",
       "      <td>45.000000</td>\n",
       "      <td>76530.612245</td>\n",
       "      <td>9.000000</td>\n",
       "    </tr>\n",
       "    <tr>\n",
       "      <th>50%</th>\n",
       "      <td>9.000000</td>\n",
       "      <td>4.600000e+06</td>\n",
       "      <td>52.000000</td>\n",
       "      <td>2.000000</td>\n",
       "      <td>2.650000</td>\n",
       "      <td>9.000000</td>\n",
       "      <td>30.000000</td>\n",
       "      <td>4.000000</td>\n",
       "      <td>9.100000</td>\n",
       "      <td>0.000000</td>\n",
       "      <td>26757.500000</td>\n",
       "      <td>13123.000000</td>\n",
       "      <td>0.000000</td>\n",
       "      <td>455.000000</td>\n",
       "      <td>0.000000</td>\n",
       "      <td>503.000000</td>\n",
       "      <td>95.000000</td>\n",
       "      <td>94907.407407</td>\n",
       "      <td>13.000000</td>\n",
       "    </tr>\n",
       "    <tr>\n",
       "      <th>75%</th>\n",
       "      <td>14.000000</td>\n",
       "      <td>6.735600e+06</td>\n",
       "      <td>69.200000</td>\n",
       "      <td>3.000000</td>\n",
       "      <td>2.700000</td>\n",
       "      <td>16.000000</td>\n",
       "      <td>41.000000</td>\n",
       "      <td>8.000000</td>\n",
       "      <td>11.400000</td>\n",
       "      <td>1.000000</td>\n",
       "      <td>34401.000000</td>\n",
       "      <td>16304.500000</td>\n",
       "      <td>1.000000</td>\n",
       "      <td>612.000000</td>\n",
       "      <td>1.000000</td>\n",
       "      <td>732.000000</td>\n",
       "      <td>231.000000</td>\n",
       "      <td>114035.087719</td>\n",
       "      <td>16.000000</td>\n",
       "    </tr>\n",
       "    <tr>\n",
       "      <th>max</th>\n",
       "      <td>50.000000</td>\n",
       "      <td>9.900000e+07</td>\n",
       "      <td>297.500000</td>\n",
       "      <td>9.000000</td>\n",
       "      <td>14.000000</td>\n",
       "      <td>60.000000</td>\n",
       "      <td>250.000000</td>\n",
       "      <td>33.000000</td>\n",
       "      <td>107.000000</td>\n",
       "      <td>5.000000</td>\n",
       "      <td>84869.000000</td>\n",
       "      <td>65968.000000</td>\n",
       "      <td>3.000000</td>\n",
       "      <td>3190.000000</td>\n",
       "      <td>3.000000</td>\n",
       "      <td>1344.000000</td>\n",
       "      <td>1580.000000</td>\n",
       "      <td>848484.848485</td>\n",
       "      <td>66.000000</td>\n",
       "    </tr>\n",
       "  </tbody>\n",
       "</table>\n",
       "</div>"
      ],
      "text/plain": [
       "       total_images    last_price    total_area         rooms  ceiling_height  \\\n",
       "count  23597.000000  2.359700e+04  23597.000000  23597.000000    23597.000000   \n",
       "mean       9.847947  6.158754e+06     59.229567      2.054159        2.696767   \n",
       "std        5.676697  6.030073e+06     29.858495      1.028348        0.247235   \n",
       "min        0.000000  4.300000e+05     12.000000      0.000000        2.000000   \n",
       "25%        6.000000  3.400000e+06     40.000000      1.000000        2.600000   \n",
       "50%        9.000000  4.600000e+06     52.000000      2.000000        2.650000   \n",
       "75%       14.000000  6.735600e+06     69.200000      3.000000        2.700000   \n",
       "max       50.000000  9.900000e+07    297.500000      9.000000       14.000000   \n",
       "\n",
       "       floors_total   living_area         floor  kitchen_area       balcony  \\\n",
       "count  23511.000000  23597.000000  23597.000000  23597.000000  23597.000000   \n",
       "mean      10.687763     33.589055      5.893885     10.349916      0.479256   \n",
       "std        6.597490     18.651555      4.886620      5.352005      0.738794   \n",
       "min        1.000000      5.400000      1.000000      2.000000      0.000000   \n",
       "25%        5.000000     19.000000      2.000000      7.300000      0.000000   \n",
       "50%        9.000000     30.000000      4.000000      9.100000      0.000000   \n",
       "75%       16.000000     41.000000      8.000000     11.400000      1.000000   \n",
       "max       60.000000    250.000000     33.000000    107.000000      5.000000   \n",
       "\n",
       "       airports_nearest  cityCenters_nearest  parks_around3000  parks_nearest  \\\n",
       "count      23597.000000         18082.000000      18083.000000    8012.000000   \n",
       "mean       28326.035089         14228.574383          0.607808     491.146031   \n",
       "std        11101.864661          8603.159573          0.798620     342.766091   \n",
       "min         6450.000000           181.000000          0.000000       1.000000   \n",
       "25%        21157.000000          9289.000000          0.000000     288.000000   \n",
       "50%        26757.500000         13123.000000          0.000000     455.000000   \n",
       "75%        34401.000000         16304.500000          1.000000     612.000000   \n",
       "max        84869.000000         65968.000000          3.000000    3190.000000   \n",
       "\n",
       "       ponds_around3000  ponds_nearest  days_exposition  price_per_meter  \\\n",
       "count      18083.000000    9041.000000     20435.000000     23597.000000   \n",
       "mean           0.766687     519.161155       180.485442     98487.038339   \n",
       "std            0.935737     277.769604       219.356431     42897.589213   \n",
       "min            0.000000      13.000000         1.000000      7962.962963   \n",
       "25%            0.000000     295.000000        45.000000     76530.612245   \n",
       "50%            0.000000     503.000000        95.000000     94907.407407   \n",
       "75%            1.000000     732.000000       231.000000    114035.087719   \n",
       "max            3.000000    1344.000000      1580.000000    848484.848485   \n",
       "\n",
       "       rounded_centre_distance  \n",
       "count             18082.000000  \n",
       "mean                 14.221878  \n",
       "std                   8.611218  \n",
       "min                   0.000000  \n",
       "25%                   9.000000  \n",
       "50%                  13.000000  \n",
       "75%                  16.000000  \n",
       "max                  66.000000  "
      ]
     },
     "execution_count": 20,
     "metadata": {},
     "output_type": "execute_result"
    }
   ],
   "source": [
    "data['rounded_centre_distance']=(data['cityCenters_nearest']/1000).round()\n",
    "data.describe()"
   ]
  },
  {
   "cell_type": "markdown",
   "metadata": {},
   "source": [
    "**Промежуточный вывод:**\n",
    "были добавлены новые столбцы, которые будут необходимы нам для дальнейшего анализа. Новые столбцы `price_per_meter`, `Weekday`, `Month`, `Year`, `floor_category` и `rounded_centre_distance` показывают сведения о цене квадратного метра; дне, месяце, годе публикации; типе этажа квартиры и округленном расстоянии квартиры до центра города в км."
   ]
  },
  {
   "cell_type": "markdown",
   "metadata": {},
   "source": [
    "### Проведите исследовательский анализ данных"
   ]
  },
  {
   "cell_type": "code",
   "execution_count": 21,
   "metadata": {},
   "outputs": [
    {
     "data": {
      "text/plain": [
       "<AxesSubplot:ylabel='Frequency'>"
      ]
     },
     "execution_count": 21,
     "metadata": {},
     "output_type": "execute_result"
    },
    {
     "data": {
      "image/png": "[encoded data removed]",
      "text/plain": [
       "<Figure size 576x648 with 1 Axes>"
      ]
     },
     "metadata": {
      "needs_background": "light"
     },
     "output_type": "display_data"
    }
   ],
   "source": [
    "#data.plot(y='total_area', kind='hist', bins=40, grid=True, range=(0, 400), figsize=(8,9))\n",
    "data.plot(y='total_area', kind='hist', bins=40, grid=True, range=(0, 900), figsize=(8,9))\n",
    "#data.plot(y='total_area', kind='hist', bins=40, grid=True, range=(200, 900), figsize=(8,9))"
   ]
  },
  {
   "cell_type": "markdown",
   "metadata": {},
   "source": [
    "Наиболее часто встречающиеся объявления - это объявления с квартрами общей площадью около 50м2; длинный \"правый хвост\" свидетельствует о снижающемся количестве квартир с бОльшими площадями."
   ]
  },
  {
   "cell_type": "code",
   "execution_count": 22,
   "metadata": {},
   "outputs": [
    {
     "data": {
      "text/plain": [
       "<AxesSubplot:ylabel='Frequency'>"
      ]
     },
     "execution_count": 22,
     "metadata": {},
     "output_type": "execute_result"
    },
    {
     "data": {
      "image/png": "[encoded data removed]",
      "text/plain": [
       "<Figure size 576x648 with 1 Axes>"
      ]
     },
     "metadata": {
      "needs_background": "light"
     },
     "output_type": "display_data"
    },
    {
     "data": {
      "image/png": "[encoded data removed]",
      "text/plain": [
       "<Figure size 576x648 with 1 Axes>"
      ]
     },
     "metadata": {
      "needs_background": "light"
     },
     "output_type": "display_data"
    }
   ],
   "source": [
    "# Построим график, чтобы лучше проследить масштаб и количество квартир:\n",
    "data.plot(y='living_area', kind='hist', bins=20, grid=True, range=(0, 80), figsize=(8,9))\n",
    "# Построим график, чтобы увидеть общую картину:\n",
    "data.plot(y='living_area', kind='hist', bins=50, grid=True, range=(0, 410), figsize=(8,9))"
   ]
  },
  {
   "cell_type": "markdown",
   "metadata": {},
   "source": [
    "БОльшая часть квартир имеет жилую площадь от чуть более 10 до 50м2.\n",
    "При это прослеживаются большие количества наблюдений в районе квартир с жилой площадью около 18-20 м2 и 30м2."
   ]
  },
  {
   "cell_type": "code",
   "execution_count": 23,
   "metadata": {},
   "outputs": [
    {
     "data": {
      "text/plain": [
       "<AxesSubplot:ylabel='Frequency'>"
      ]
     },
     "execution_count": 23,
     "metadata": {},
     "output_type": "execute_result"
    },
    {
     "data": {
      "image/png": "[encoded data removed]",
      "text/plain": [
       "<Figure size 576x648 with 1 Axes>"
      ]
     },
     "metadata": {
      "needs_background": "light"
     },
     "output_type": "display_data"
    }
   ],
   "source": [
    "data.plot(y='kitchen_area', kind='hist', bins=20, grid=True, range=(0, 80), figsize=(8,9))"
   ]
  },
  {
   "cell_type": "markdown",
   "metadata": {},
   "source": [
    "Большинство квартир в нашей выборке - это квартиры с кухонной площадью от 5м2 до 15м2.\n",
    "При этом наиболее встречающееся значение - это квартиры с кухней в районе 10м2."
   ]
  },
  {
   "cell_type": "code",
   "execution_count": 24,
   "metadata": {},
   "outputs": [
    {
     "data": {
      "image/png": "[encoded data removed]",
      "text/plain": [
       "<Figure size 432x288 with 1 Axes>"
      ]
     },
     "metadata": {
      "needs_background": "light"
     },
     "output_type": "display_data"
    },
    {
     "data": {
      "text/plain": [
       "8886110.520507872"
      ]
     },
     "execution_count": 24,
     "metadata": {},
     "output_type": "execute_result"
    }
   ],
   "source": [
    "#data.plot(y='last_price', kind='hist', bins=20, grid=True, figsize=(8,9))\n",
    "# В таком виде гистограмма выглядит неинформативно; приблизим левую часть на диапазоне от о до 100 000 000\n",
    "#data.plot(y='last_price', kind='hist', bins=20, grid=True, range=(0, 100000000), figsize=(8,9))\n",
    "# Предлагается прологарифмировать:\n",
    "plt.hist(numpy.log(data['last_price']), bins=20)\n",
    "plt.show()\n",
    "# Пик логарифма цены наблюдается в районе 15-16 \n",
    "numpy.exp(15)\n",
    "numpy.exp(16)"
   ]
  },
  {
   "cell_type": "markdown",
   "metadata": {},
   "source": [
    "Наиболее часто встречающиеся значения - это квартиры с ценами примерно от чуть более 3 до чуть менее 9 млн руб."
   ]
  },
  {
   "cell_type": "code",
   "execution_count": 25,
   "metadata": {},
   "outputs": [
    {
     "data": {
      "text/plain": [
       "<AxesSubplot:ylabel='Frequency'>"
      ]
     },
     "execution_count": 25,
     "metadata": {},
     "output_type": "execute_result"
    },
    {
     "data": {
      "image/png": "[encoded data removed]",
      "text/plain": [
       "<Figure size 864x648 with 1 Axes>"
      ]
     },
     "metadata": {
      "needs_background": "light"
     },
     "output_type": "display_data"
    }
   ],
   "source": [
    "data.plot(y='rooms', kind='hist', bins=25, grid=True, range=(0, 25), figsize=(12,9))"
   ]
  },
  {
   "cell_type": "markdown",
   "metadata": {},
   "source": [
    "Большинство квартир - квартиры, где количество комнат не превосходит 3; наиболее часто встречающееся значение - квартиры с 1 комнатой."
   ]
  },
  {
   "cell_type": "code",
   "execution_count": 26,
   "metadata": {},
   "outputs": [
    {
     "data": {
      "text/plain": [
       "<AxesSubplot:ylabel='Frequency'>"
      ]
     },
     "execution_count": 26,
     "metadata": {},
     "output_type": "execute_result"
    },
    {
     "data": {
      "image/png": "[encoded data removed]",
      "text/plain": [
       "<Figure size 864x648 with 1 Axes>"
      ]
     },
     "metadata": {
      "needs_background": "light"
     },
     "output_type": "display_data"
    },
    {
     "data": {
      "image/png": "[encoded data removed]",
      "text/plain": [
       "<Figure size 864x648 with 1 Axes>"
      ]
     },
     "metadata": {
      "needs_background": "light"
     },
     "output_type": "display_data"
    }
   ],
   "source": [
    "# Построим общую гистограмму:\n",
    "data.plot(y='ceiling_height', kind='hist', bins=20, grid=True, range=(0, 14), figsize=(12,9))\n",
    "# Сменим масштаб для наглядности и более подробной интерпретации:\n",
    "data.plot(y='ceiling_height', kind='hist', bins=20, grid=True, range=(2, 6), figsize=(12,9))"
   ]
  },
  {
   "cell_type": "markdown",
   "metadata": {},
   "source": [
    "Наиболее популярны квартиры с потолками высотой от 2,5 до 3 м."
   ]
  },
  {
   "cell_type": "code",
   "execution_count": 27,
   "metadata": {},
   "outputs": [
    {
     "data": {
      "text/plain": [
       "<AxesSubplot:ylabel='Frequency'>"
      ]
     },
     "execution_count": 27,
     "metadata": {},
     "output_type": "execute_result"
    },
    {
     "data": {
      "image/png": "[encoded data removed]",
      "text/plain": [
       "<Figure size 864x648 with 1 Axes>"
      ]
     },
     "metadata": {
      "needs_background": "light"
     },
     "output_type": "display_data"
    }
   ],
   "source": [
    "data.plot(y='floor', kind='hist', bins=30, grid=True, range=(0, 33), figsize=(12,9))"
   ]
  },
  {
   "cell_type": "markdown",
   "metadata": {},
   "source": [
    "Наиболее попупярны квартиры на 2 этаже; также большое количество квартир наблюдаются на 1, 3, 4, 5."
   ]
  },
  {
   "cell_type": "code",
   "execution_count": 28,
   "metadata": {},
   "outputs": [
    {
     "data": {
      "text/plain": [
       "<AxesSubplot:ylabel='Frequency'>"
      ]
     },
     "execution_count": 28,
     "metadata": {},
     "output_type": "execute_result"
    },
    {
     "data": {
      "image/png": "[encoded data removed]",
      "text/plain": [
       "<Figure size 864x648 with 1 Axes>"
      ]
     },
     "metadata": {
      "needs_background": "light"
     },
     "output_type": "display_data"
    }
   ],
   "source": [
    "data.plot(y='floors_total', kind='hist', bins=40, grid=True, range=(0, 40), figsize=(12,9))"
   ]
  },
  {
   "cell_type": "markdown",
   "metadata": {},
   "source": [
    "Наиболее популярные квартиры находятся в пятиэтажных домах, далее идут девятиэтажные."
   ]
  },
  {
   "cell_type": "code",
   "execution_count": 29,
   "metadata": {},
   "outputs": [
    {
     "data": {
      "text/plain": [
       "<AxesSubplot:xlabel='floor_category', ylabel='count'>"
      ]
     },
     "execution_count": 29,
     "metadata": {},
     "output_type": "execute_result"
    },
    {
     "data": {
      "image/png": "[encoded data removed]",
      "text/plain": [
       "<Figure size 432x288 with 1 Axes>"
      ]
     },
     "metadata": {
      "needs_background": "light"
     },
     "output_type": "display_data"
    }
   ],
   "source": [
    "\n",
    "seaborn.countplot(x='floor_category', data=data)"
   ]
  },
  {
   "cell_type": "markdown",
   "metadata": {},
   "source": [
    "Наиболее популярные квартиры - это квартиры ни на 1, ни на последнем этаже."
   ]
  },
  {
   "cell_type": "code",
   "execution_count": 30,
   "metadata": {},
   "outputs": [
    {
     "data": {
      "text/plain": [
       "<AxesSubplot:ylabel='Frequency'>"
      ]
     },
     "execution_count": 30,
     "metadata": {},
     "output_type": "execute_result"
    },
    {
     "data": {
      "image/png": "[encoded data removed]",
      "text/plain": [
       "<Figure size 864x648 with 1 Axes>"
      ]
     },
     "metadata": {
      "needs_background": "light"
     },
     "output_type": "display_data"
    }
   ],
   "source": [
    "data.plot(y='cityCenters_nearest', kind='hist', bins=20, grid=True, range=(0, 66000), figsize=(12,9))"
   ]
  },
  {
   "cell_type": "markdown",
   "metadata": {},
   "source": [
    "Наиболее популярны квартиры с расстоянием до центра примерно 15 000 м."
   ]
  },
  {
   "cell_type": "code",
   "execution_count": 31,
   "metadata": {},
   "outputs": [
    {
     "data": {
      "text/plain": [
       "<AxesSubplot:ylabel='Frequency'>"
      ]
     },
     "execution_count": 31,
     "metadata": {},
     "output_type": "execute_result"
    },
    {
     "data": {
      "image/png": "[encoded data removed]",
      "text/plain": [
       "<Figure size 864x648 with 1 Axes>"
      ]
     },
     "metadata": {
      "needs_background": "light"
     },
     "output_type": "display_data"
    }
   ],
   "source": [
    "data.plot(y='airports_nearest', kind='hist', bins=20, grid=True, range=(0, 85000), figsize=(12,9))"
   ]
  },
  {
   "cell_type": "markdown",
   "metadata": {},
   "source": [
    "Наиболее часто в нашей выборке встречаются квартиры с расстоянием до аэропорта около 30 000 м.\n",
    "Почти все квартиры расположены не более, чем в 60 км до аэропорта. "
   ]
  },
  {
   "cell_type": "code",
   "execution_count": 32,
   "metadata": {},
   "outputs": [
    {
     "data": {
      "text/plain": [
       "<AxesSubplot:ylabel='Frequency'>"
      ]
     },
     "execution_count": 32,
     "metadata": {},
     "output_type": "execute_result"
    },
    {
     "data": {
      "image/png": "[encoded data removed]",
      "text/plain": [
       "<Figure size 864x648 with 1 Axes>"
      ]
     },
     "metadata": {
      "needs_background": "light"
     },
     "output_type": "display_data"
    }
   ],
   "source": [
    "data.plot(y='parks_nearest', kind='hist', bins=20, grid=True, range=(0, 3200), figsize=(12,9))"
   ]
  },
  {
   "cell_type": "markdown",
   "metadata": {},
   "source": [
    "Наиболее популярны квартиры с расстоянием до парка около 500 м, подавляющее большинство квартир в выборке находятся не дальше, чем около 1000 м до парка."
   ]
  },
  {
   "cell_type": "code",
   "execution_count": 33,
   "metadata": {},
   "outputs": [
    {
     "data": {
      "text/plain": [
       "<AxesSubplot:xlabel='Weekday', ylabel='count'>"
      ]
     },
     "execution_count": 33,
     "metadata": {},
     "output_type": "execute_result"
    },
    {
     "data": {
      "image/png": "[encoded data removed]",
      "text/plain": [
       "<Figure size 432x288 with 1 Axes>"
      ]
     },
     "metadata": {
      "needs_background": "light"
     },
     "output_type": "display_data"
    }
   ],
   "source": [
    "seaborn.countplot(x='Weekday', data=data)"
   ]
  },
  {
   "cell_type": "markdown",
   "metadata": {},
   "source": [
    "В рабочие дни публикаций больше, чем в выходные."
   ]
  },
  {
   "cell_type": "code",
   "execution_count": 34,
   "metadata": {},
   "outputs": [
    {
     "data": {
      "text/plain": [
       "<AxesSubplot:xlabel='Month', ylabel='count'>"
      ]
     },
     "execution_count": 34,
     "metadata": {},
     "output_type": "execute_result"
    },
    {
     "data": {
      "image/png": "[encoded data removed]",
      "text/plain": [
       "<Figure size 432x288 with 1 Axes>"
      ]
     },
     "metadata": {
      "needs_background": "light"
     },
     "output_type": "display_data"
    }
   ],
   "source": [
    "seaborn.countplot(x='Month', data=data)"
   ]
  },
  {
   "cell_type": "markdown",
   "metadata": {},
   "source": [
    "С февраля по апрель был рост числа публикаций."
   ]
  },
  {
   "cell_type": "markdown",
   "metadata": {},
   "source": [
    "**Изучим столбец `days_exposition`**"
   ]
  },
  {
   "cell_type": "code",
   "execution_count": 35,
   "metadata": {},
   "outputs": [
    {
     "data": {
      "text/plain": [
       "count    20435.000000\n",
       "mean       180.485442\n",
       "std        219.356431\n",
       "min          1.000000\n",
       "25%         45.000000\n",
       "50%         95.000000\n",
       "75%        231.000000\n",
       "max       1580.000000\n",
       "Name: days_exposition, dtype: float64"
      ]
     },
     "execution_count": 35,
     "metadata": {},
     "output_type": "execute_result"
    },
    {
     "data": {
      "image/png": "[encoded data removed]",
      "text/plain": [
       "<Figure size 432x576 with 1 Axes>"
      ]
     },
     "metadata": {
      "needs_background": "light"
     },
     "output_type": "display_data"
    }
   ],
   "source": [
    "data.plot(y='days_exposition', kind='hist', bins=30, grid=True, range=(0, 1553), figsize=(6,8))\n",
    "# Изучим значения за пределами \"усов\":\n",
    "def treshold (data):\n",
    "    q1=data.quantile(0.25)\n",
    "    q3=data.quantile(0.75)\n",
    "    IQR=q3-q1\n",
    "    return (q1-1.5*IQR, q3+1.5*IQR)\n",
    "treshold(data['days_exposition'])\n",
    "data['days_exposition'].describe()\n",
    "\n",
    "# # Рассчитаем среднюю и медиану:\n",
    "# data['days_exposition'].mean()\n",
    "# data['days_exposition'].median()\n"
   ]
  },
  {
   "cell_type": "markdown",
   "metadata": {},
   "source": [
    "Количество дней публикации, превышающее 549,- слишком долгий срок публикации.\n",
    "Слишком медленное означение оказалось отрицательным.\n",
    "В среднем продажа занимает около 180 дней, половина продаж происходила в пределах 104 дней, другая половина занимала больше."
   ]
  },
  {
   "cell_type": "markdown",
   "metadata": {},
   "source": [
    "<div class=\"alert alert-success\">\n",
    "<b>✔️ Комментарий ревьюера v1:</b> \n",
    "<br>Если интересно, то можно посмотреть на диапазон от 0 до 100 дней. Там есть пики, которым можно найти очень логичное объяснение</div>\n",
    "</div>"
   ]
  },
  {
   "cell_type": "markdown",
   "metadata": {},
   "source": [
    "**Какие факторы больше всего влияют на общую (полную) стоимость объекта?**"
   ]
  },
  {
   "cell_type": "code",
   "execution_count": 36,
   "metadata": {},
   "outputs": [
    {
     "data": {
      "text/plain": [
       "0.7532837001936552"
      ]
     },
     "execution_count": 36,
     "metadata": {},
     "output_type": "execute_result"
    },
    {
     "data": {
      "image/png": "[encoded data removed]",
      "text/plain": [
       "<Figure size 432x288 with 1 Axes>"
      ]
     },
     "metadata": {
      "needs_background": "light"
     },
     "output_type": "display_data"
    }
   ],
   "source": [
    "#total_area\n",
    "plt.scatter(data['total_area'], data['last_price'])\n",
    "data['total_area'].corr(data['last_price'])\n",
    "# Можно полагать, что с ростом площади стоимость объекта увеличится."
   ]
  },
  {
   "cell_type": "code",
   "execution_count": 37,
   "metadata": {},
   "outputs": [
    {
     "data": {
      "text/plain": [
       "0.6200753252933173"
      ]
     },
     "execution_count": 37,
     "metadata": {},
     "output_type": "execute_result"
    },
    {
     "data": {
      "image/png": "[encoded data removed]",
      "text/plain": [
       "<Figure size 432x288 with 1 Axes>"
      ]
     },
     "metadata": {
      "needs_background": "light"
     },
     "output_type": "display_data"
    }
   ],
   "source": [
    "#living_area\n",
    "plt.scatter(data['living_area'], data['last_price'])\n",
    "data['living_area'].corr(data['last_price'])\n",
    "# Также наблюдается положительгая корреляция, но в меньшей степени, чем с общей площадью объекта"
   ]
  },
  {
   "cell_type": "code",
   "execution_count": 38,
   "metadata": {},
   "outputs": [
    {
     "data": {
      "text/plain": [
       "0.5493860538276387"
      ]
     },
     "execution_count": 38,
     "metadata": {},
     "output_type": "execute_result"
    },
    {
     "data": {
      "image/png": "[encoded data removed]",
      "text/plain": [
       "<Figure size 432x288 with 1 Axes>"
      ]
     },
     "metadata": {
      "needs_background": "light"
     },
     "output_type": "display_data"
    }
   ],
   "source": [
    "#kitchen_area\n",
    "plt.scatter(data['kitchen_area'], data['last_price'])\n",
    "data['kitchen_area'].corr(data['last_price'])\n",
    "# Корреляция 0,53 говорит о наличии связи, но не слишком сильной."
   ]
  },
  {
   "cell_type": "code",
   "execution_count": 39,
   "metadata": {},
   "outputs": [
    {
     "data": {
      "text/plain": [
       "<AxesSubplot:xlabel='floor_category', ylabel='last_price'>"
      ]
     },
     "execution_count": 39,
     "metadata": {},
     "output_type": "execute_result"
    },
    {
     "data": {
      "image/png": "[encoded data removed]",
      "text/plain": [
       "<Figure size 432x288 with 1 Axes>"
      ]
     },
     "metadata": {
      "needs_background": "light"
     },
     "output_type": "display_data"
    }
   ],
   "source": [
    "# floor_category\n",
    "seaborn.boxplot(x=data['floor_category'], y=numpy.log(data['last_price']))\n",
    "# Медиана стоимости квартир \"других\" этажей выше, чем у \"первого\", а квартир на \"последних\" этажах, видимо, сравнительно мало."
   ]
  },
  {
   "cell_type": "code",
   "execution_count": 40,
   "metadata": {},
   "outputs": [
    {
     "data": {
      "text/plain": [
       "<AxesSubplot:xlabel='Weekday', ylabel='last_price'>"
      ]
     },
     "execution_count": 40,
     "metadata": {},
     "output_type": "execute_result"
    },
    {
     "data": {
      "image/png": "[encoded data removed]",
      "text/plain": [
       "<Figure size 432x288 with 1 Axes>"
      ]
     },
     "metadata": {
      "needs_background": "light"
     },
     "output_type": "display_data"
    }
   ],
   "source": [
    "# Weekday\n",
    "seaborn.boxplot(x=data['Weekday'], y=numpy.log(data['last_price']))\n",
    "# Графики для разных дней недели выглядят похожими. Зависимость между днем публикации и стоимостью объектов не очевидна."
   ]
  },
  {
   "cell_type": "code",
   "execution_count": 41,
   "metadata": {},
   "outputs": [
    {
     "data": {
      "text/plain": [
       "<AxesSubplot:xlabel='Month', ylabel='last_price'>"
      ]
     },
     "execution_count": 41,
     "metadata": {},
     "output_type": "execute_result"
    },
    {
     "data": {
      "image/png": "[encoded data removed]",
      "text/plain": [
       "<Figure size 432x288 with 1 Axes>"
      ]
     },
     "metadata": {
      "needs_background": "light"
     },
     "output_type": "display_data"
    }
   ],
   "source": [
    "#Month\n",
    "seaborn.boxplot(x=data['Month'], y=numpy.log(data['last_price']))\n",
    "# Зависимости от месяца публикации не наблюдается."
   ]
  },
  {
   "cell_type": "code",
   "execution_count": 42,
   "metadata": {},
   "outputs": [
    {
     "data": {
      "text/plain": [
       "<AxesSubplot:xlabel='Year', ylabel='last_price'>"
      ]
     },
     "execution_count": 42,
     "metadata": {},
     "output_type": "execute_result"
    },
    {
     "data": {
      "image/png": "[encoded data removed]",
      "text/plain": [
       "<Figure size 432x288 with 1 Axes>"
      ]
     },
     "metadata": {
      "needs_background": "light"
     },
     "output_type": "display_data"
    }
   ],
   "source": [
    "#Year\n",
    "seaborn.boxplot(x=data['Year'], y=numpy.log(data['last_price']))\n",
    "# Видно, что в 2014 году цены на недвижимость в данной выборке были выше, чем в остальных годах."
   ]
  },
  {
   "cell_type": "code",
   "execution_count": 43,
   "metadata": {},
   "outputs": [
    {
     "name": "stdout",
     "output_type": "stream",
     "text": [
      "0.45707857332176954\n"
     ]
    },
    {
     "data": {
      "text/plain": [
       "<AxesSubplot:xlabel='rooms', ylabel='last_price'>"
      ]
     },
     "execution_count": 43,
     "metadata": {},
     "output_type": "execute_result"
    },
    {
     "data": {
      "image/png": "[encoded data removed]",
      "text/plain": [
       "<Figure size 432x288 with 1 Axes>"
      ]
     },
     "metadata": {
      "needs_background": "light"
     },
     "output_type": "display_data"
    }
   ],
   "source": [
    "#rooms\n",
    "print(data['rooms'].corr(data['last_price']))\n",
    "seaborn.boxplot(x=data['rooms'], y=numpy.log(data['last_price']))\n",
    "\n",
    "# Видна зависимость, что с увеличением комнат увеличивается цена квартиры; данных по квартир с комнатами от 12 штук слишком мало для репрезентативного результата."
   ]
  },
  {
   "cell_type": "markdown",
   "metadata": {},
   "source": [
    "**Средняя цена одного квадратного метра в 10 населённых пунктах**"
   ]
  },
  {
   "cell_type": "code",
   "execution_count": 44,
   "metadata": {},
   "outputs": [
    {
     "data": {
      "text/plain": [
       "Index(['Санкт-Петербург', 'Мурино', 'Кудрово', 'посёлок Шушары', 'Всеволожск',\n",
       "       'Колпино', 'Пушкин', 'посёлок Парголово', 'Гатчина', 'Выборг'],\n",
       "      dtype='object', name='locality_name')"
      ]
     },
     "execution_count": 44,
     "metadata": {},
     "output_type": "execute_result"
    }
   ],
   "source": [
    "# Выведем 10 населенных пунктов с наибольшим числом объявлений:\n",
    "publication_by_locality_name=data.groupby('locality_name')['days_exposition'].count()\n",
    "list_of_names=publication_by_locality_name.sort_values(ascending=False).head(10).index\n",
    "list_of_names"
   ]
  },
  {
   "cell_type": "code",
   "execution_count": 45,
   "metadata": {},
   "outputs": [
    {
     "name": "stdout",
     "output_type": "stream",
     "text": [
      "Санкт-Петербург 113525.55320881843\n",
      "Мурино 86061.67701443135\n",
      "Кудрово 95324.93054392203\n",
      "посёлок Шушары 78677.3642167513\n",
      "Всеволожск 68654.4739860316\n",
      "Колпино 75333.29580052708\n",
      "Пушкин 103130.8517435364\n",
      "посёлок Парголово 90175.91345801107\n",
      "Гатчина 68746.14676333922\n",
      "Выборг 58141.90915331862\n"
     ]
    }
   ],
   "source": [
    "# Рассчитаем цены за квадратный метр в вышеназванных населенных пунктах:\n",
    "for x in list_of_names:\n",
    "    print(x, data[data['locality_name']==x]['price_per_meter'].mean())"
   ]
  },
  {
   "cell_type": "code",
   "execution_count": 46,
   "metadata": {},
   "outputs": [
    {
     "name": "stdout",
     "output_type": "stream",
     "text": [
      "23477    Гатчина\n",
      "Name: locality_name, dtype: object\n",
      "4859     Санкт-Петербург\n",
      "17172    Санкт-Петербург\n",
      "Name: locality_name, dtype: object\n"
     ]
    }
   ],
   "source": [
    "# print(min(data[data['locality_name'].isin(list_of_names)]['price_per_meter']))\n",
    "# print(max(data[data['locality_name'].isin(list_of_names)]['price_per_meter']))\n",
    "\n",
    "print(data.loc[data['price_per_meter']==min(data[data['locality_name'].isin(list_of_names)]['price_per_meter'])]['locality_name'])\n",
    "print(data.loc[data['price_per_meter']==max(data[data['locality_name'].isin(list_of_names)]['price_per_meter'])]['locality_name'])\n"
   ]
  },
  {
   "cell_type": "markdown",
   "metadata": {},
   "source": [
    "**Средняя цена каждого километра квартир в Санкт-Петербурге до центра города**"
   ]
  },
  {
   "cell_type": "code",
   "execution_count": 47,
   "metadata": {},
   "outputs": [
    {
     "name": "stdout",
     "output_type": "stream",
     "text": [
      "1149533.8733550292\n"
     ]
    }
   ],
   "source": [
    "# Рассчитаем цену за метр от центра Санкт-Петербурга\n",
    "data.loc[data.loc[:, 'locality_name']=='Санкт-Петербург']\n",
    "data['price_per_kilometer']=data['last_price']/(data['cityCenters_nearest'])\n",
    "# Рассчитаем цену за километр:\n",
    "price_for_kilometer=(data['price_per_kilometer']*1000).mean()\n",
    "print(price_for_kilometer)\n",
    "\n",
    "# Средняя цена за километр до центра: 1 334 681."
   ]
  },
  {
   "cell_type": "code",
   "execution_count": 48,
   "metadata": {},
   "outputs": [
    {
     "name": "stdout",
     "output_type": "stream",
     "text": [
      "-0.3069566255558402\n"
     ]
    },
    {
     "data": {
      "text/plain": [
       "<matplotlib.collections.PathCollection at 0x7f0e1a58f940>"
      ]
     },
     "execution_count": 48,
     "metadata": {},
     "output_type": "execute_result"
    },
    {
     "data": {
      "image/png": "[encoded data removed]",
      "text/plain": [
       "<Figure size 432x288 with 1 Axes>"
      ]
     },
     "metadata": {
      "needs_background": "light"
     },
     "output_type": "display_data"
    }
   ],
   "source": [
    "print(data['cityCenters_nearest'].corr(data['last_price']))\n",
    "plt.scatter(data['cityCenters_nearest'], data['last_price'])\n",
    "# Чем дальше от центра, тем дешевле квартира."
   ]
  },
  {
   "cell_type": "code",
   "execution_count": 49,
   "metadata": {},
   "outputs": [
    {
     "name": "stdout",
     "output_type": "stream",
     "text": [
      "                         price_per_meter\n",
      "rounded_centre_distance                 \n",
      "0.0                        231767.956010\n",
      "1.0                        154823.371621\n",
      "2.0                        147924.416562\n",
      "3.0                        120996.500646\n",
      "4.0                        128506.326593\n",
      "5.0                        137737.812548\n",
      "6.0                        145186.628445\n",
      "7.0                        153364.821436\n",
      "8.0                        125097.739662\n",
      "9.0                        113321.952734\n",
      "10.0                       112849.429062\n",
      "11.0                       108630.835324\n",
      "12.0                       107511.497831\n",
      "13.0                       108119.867212\n",
      "14.0                       104260.829623\n",
      "15.0                       104304.605920\n",
      "16.0                       100542.613949\n",
      "17.0                        96601.846018\n",
      "18.0                        96392.000314\n",
      "19.0                        98652.736027\n",
      "20.0                       103056.539879\n",
      "21.0                        94469.584582\n",
      "22.0                        91330.425050\n",
      "23.0                        90520.177421\n",
      "24.0                        85736.904595\n",
      "25.0                        91531.371618\n",
      "26.0                        89285.876593\n",
      "27.0                       132115.709459\n",
      "28.0                        81161.915320\n",
      "29.0                        72953.365445\n",
      "                         price_per_meter\n",
      "rounded_centre_distance                 \n",
      "0.0                        164074.500768\n",
      "1.0                        127100.869925\n",
      "2.0                        121136.173768\n",
      "3.0                        108331.254455\n",
      "4.0                        117770.638972\n",
      "5.0                        126932.465419\n",
      "6.0                        129753.617183\n",
      "7.0                        126624.571486\n",
      "8.0                        122781.988265\n",
      "9.0                        105817.029654\n",
      "10.0                       106707.317073\n",
      "11.0                       103552.582241\n",
      "12.0                       104021.329021\n",
      "13.0                       104000.000000\n",
      "14.0                       101865.136298\n",
      "15.0                       101315.789474\n",
      "16.0                        97500.000000\n",
      "17.0                        94202.898551\n",
      "18.0                        95000.000000\n",
      "19.0                        97241.379310\n",
      "20.0                       103851.846667\n",
      "21.0                        89705.882353\n",
      "22.0                        88781.474414\n",
      "23.0                        89815.525710\n",
      "24.0                        86353.290416\n",
      "25.0                        93612.162162\n",
      "26.0                        89393.939394\n",
      "27.0                       132115.709459\n",
      "28.0                        79372.093023\n",
      "29.0                        76084.734212\n"
     ]
    }
   ],
   "source": [
    "data['rounded_centre_distance']=data['rounded_centre_distance'].fillna(-1)\n",
    "pivot_table_distance_mean=data.query('locality_name==\"Санкт-Петербург\" and rounded_centre_distance !=-1').pivot_table(index='rounded_centre_distance', values='price_per_meter', aggfunc='mean')\n",
    "print(pivot_table_distance_mean)\n",
    "pivot_table_distance_median=data.query('locality_name==\"Санкт-Петербург\" and rounded_centre_distance !=-1').pivot_table(index='rounded_centre_distance', values='price_per_meter', aggfunc='median')\n",
    "print(pivot_table_distance_median)"
   ]
  },
  {
   "cell_type": "markdown",
   "metadata": {},
   "source": [
    "Наблюдается тенденция к снижению цены (как средней, так и медианной) за квадратный метр квартиры в Санкт-Петербурге по мере удаления от центра."
   ]
  },
  {
   "cell_type": "markdown",
   "metadata": {},
   "source": [
    "**Промежуточный вывод:**\n",
    "изучили, какие факторы влияют на полную стоимость объекта, построив графики и рассчитав корреляцию от выбранных параметров."
   ]
  },
  {
   "cell_type": "markdown",
   "metadata": {},
   "source": [
    "### Общий вывод"
   ]
  },
  {
   "cell_type": "markdown",
   "metadata": {},
   "source": [
    "В результате ознакомления с нашим датасетом выяснилось, что необходимо осуществить предобработку данных, а именно заполннить пропуски (там, где это возможно), измененить типы данных, удалить неявные дубликаты, осуществить категоризацию данных а также поработать с выбивающимися значениями. Были выявлены строки со странными значениями, которые вряд ли можно встретить в действительности; такие строки были удалены. В результате выборка сохранилась на 99,5%.\n",
    "\n",
    "Добавлены новые столбцы после расчета и обработки следующих показателей:\n",
    "цена одного квадратного метра (минимальное значение - около 8000 руб., а максимальное - около 2 млн руб.); день, месяц, год публикации объявления, тип этажа квартиры; расстояние до центра города в километрах (округленные до целых значений).\n",
    "\n",
    "В результате исследования предоставленных данных на рынке недвижимости в Санкт-Петербурге и Ленинградской области можно выявить следующие общие тенденции:\n",
    "\n",
    ">наиболее популярны однокомнатные квартиры общей площадью около 50м2, жилой площадью около 18-20 м2 и 30м2 по ценам примерно от немного более 3 до чуть менее 9 млн руб. с потолками высотой от 2,5 до 3 м в пятиэтажных, а также девятиэтажных домах; наиболее популярные квартиры - это квартиры ни на первом, ни на последних этажах. Объявления с квартирами на последних этажах встречаются немного чаще, чем на первых\n",
    "\n",
    ">почти все квартиры в выборке расположены не более, чем в 60 км до аэропорта; наиболее часто встречающееся значение при этом - в районе 30 км до аэропорта\n",
    "\n",
    ">в выборке также чаще всего встречаются квартиры с расстоянием до парка около 500 м, подавляющее большинство квартир в выборке находятся не дальше, чем около 1000 м до парка\n",
    "\n",
    ">наиболее популярны квартиры с расстоянием до центра примерно 15 км\n",
    "\n",
    ">с февраля по апрель был рост числа публикаций; наиболее активные месяца с точки зрения публикаций объявление - февраль-март\n",
    "\n",
    ">среди факторов, влияющих на цену квартир: общая площадь (с ростом площади стоимость объекта увеличится); жилая площадь (но в меньшей степени, чем общая площадь объекта); количество комнат (с увеличением комнат увеличивается цена квартиры)\n",
    "\n",
    ">Минимальная цена (несредняя) среди топ10 по количеству объявлений за квадратный метр наблюдается в Гатчине, а максимальная (несредняя) в Санкт-Петербурге.\n",
    "Минимальная средняя среди топ10 по количеству объявленийнаблюдается в Выборге, а максимальная средняя в Санкт-Петербурге.\n",
    "\n",
    ">Наблюдается тенденция к снижению цены (как средней, так и медианной) за квадратный метр квартиры в Санкт-Петербурге по мере удаления от центра."
   ]
  }
 ],
 "metadata": {
  "ExecuteTimeLog": [
   {
    "duration": 643,
    "start_time": "2023-04-23T08:08:09.621Z"
   },
   {
    "duration": 167,
    "start_time": "2023-04-23T08:10:27.850Z"
   },
   {
    "duration": 171,
    "start_time": "2023-04-23T08:17:48.220Z"
   },
   {
    "duration": 223,
    "start_time": "2023-04-23T08:20:25.552Z"
   },
   {
    "duration": 152,
    "start_time": "2023-04-23T08:23:17.394Z"
   },
   {
    "duration": 2285,
    "start_time": "2023-04-23T08:32:52.842Z"
   },
   {
    "duration": 2034,
    "start_time": "2023-04-23T08:49:39.526Z"
   },
   {
    "duration": 156,
    "start_time": "2023-04-23T08:53:50.600Z"
   },
   {
    "duration": 1820,
    "start_time": "2023-04-23T08:54:30.018Z"
   },
   {
    "duration": 2040,
    "start_time": "2023-04-23T09:08:12.700Z"
   },
   {
    "duration": 166,
    "start_time": "2023-04-23T09:10:59.411Z"
   },
   {
    "duration": 9,
    "start_time": "2023-04-23T09:22:59.143Z"
   },
   {
    "duration": 10,
    "start_time": "2023-04-23T09:26:52.514Z"
   },
   {
    "duration": 8,
    "start_time": "2023-04-23T09:28:04.835Z"
   },
   {
    "duration": 7,
    "start_time": "2023-04-23T09:43:31.314Z"
   },
   {
    "duration": 7,
    "start_time": "2023-04-23T09:43:37.846Z"
   },
   {
    "duration": 199,
    "start_time": "2023-04-23T09:43:53.025Z"
   },
   {
    "duration": 1854,
    "start_time": "2023-04-23T09:44:03.394Z"
   },
   {
    "duration": 8,
    "start_time": "2023-04-23T09:44:14.430Z"
   },
   {
    "duration": 13,
    "start_time": "2023-04-23T09:44:30.155Z"
   },
   {
    "duration": 12,
    "start_time": "2023-04-23T09:53:01.948Z"
   },
   {
    "duration": 14,
    "start_time": "2023-04-23T09:53:12.829Z"
   },
   {
    "duration": 19,
    "start_time": "2023-04-23T09:54:41.096Z"
   },
   {
    "duration": 17,
    "start_time": "2023-04-23T10:23:40.490Z"
   },
   {
    "duration": 23,
    "start_time": "2023-04-23T10:33:55.469Z"
   },
   {
    "duration": 96,
    "start_time": "2023-04-23T10:37:38.649Z"
   },
   {
    "duration": 104,
    "start_time": "2023-04-23T10:39:37.430Z"
   },
   {
    "duration": 29,
    "start_time": "2023-04-23T10:39:49.427Z"
   },
   {
    "duration": 41,
    "start_time": "2023-04-23T10:40:35.170Z"
   },
   {
    "duration": 142,
    "start_time": "2023-04-23T10:40:38.919Z"
   },
   {
    "duration": 1848,
    "start_time": "2023-04-23T10:40:39.793Z"
   },
   {
    "duration": 16,
    "start_time": "2023-04-23T10:40:42.595Z"
   },
   {
    "duration": 26,
    "start_time": "2023-04-23T10:40:45.528Z"
   },
   {
    "duration": 20,
    "start_time": "2023-04-23T10:41:34.821Z"
   },
   {
    "duration": 21,
    "start_time": "2023-04-23T10:44:57.753Z"
   },
   {
    "duration": 12,
    "start_time": "2023-04-23T10:57:44.335Z"
   },
   {
    "duration": 1649,
    "start_time": "2023-04-23T11:06:03.672Z"
   },
   {
    "duration": 13,
    "start_time": "2023-04-23T11:06:20.736Z"
   },
   {
    "duration": 13,
    "start_time": "2023-04-23T11:06:36.957Z"
   },
   {
    "duration": 13,
    "start_time": "2023-04-23T11:06:55.354Z"
   },
   {
    "duration": 13,
    "start_time": "2023-04-23T11:07:34.944Z"
   },
   {
    "duration": 14,
    "start_time": "2023-04-23T11:08:27.836Z"
   },
   {
    "duration": 12,
    "start_time": "2023-04-23T11:08:45.828Z"
   },
   {
    "duration": 196,
    "start_time": "2023-04-23T11:08:57.760Z"
   },
   {
    "duration": 17,
    "start_time": "2023-04-23T11:10:00.853Z"
   },
   {
    "duration": 183,
    "start_time": "2023-04-23T11:10:03.999Z"
   },
   {
    "duration": 1976,
    "start_time": "2023-04-23T11:10:04.441Z"
   },
   {
    "duration": 15,
    "start_time": "2023-04-23T11:10:06.436Z"
   },
   {
    "duration": 9,
    "start_time": "2023-04-23T11:10:09.644Z"
   },
   {
    "duration": 10,
    "start_time": "2023-04-23T11:10:12.543Z"
   },
   {
    "duration": 16,
    "start_time": "2023-04-23T11:17:28.396Z"
   },
   {
    "duration": 11,
    "start_time": "2023-04-23T11:24:37.246Z"
   },
   {
    "duration": 9,
    "start_time": "2023-04-23T11:30:55.341Z"
   },
   {
    "duration": 5,
    "start_time": "2023-04-23T11:31:24.247Z"
   },
   {
    "duration": 8,
    "start_time": "2023-04-23T11:31:30.731Z"
   },
   {
    "duration": 19,
    "start_time": "2023-04-23T12:28:24.552Z"
   },
   {
    "duration": 17,
    "start_time": "2023-04-23T12:30:25.339Z"
   },
   {
    "duration": 547,
    "start_time": "2023-04-23T12:30:39.355Z"
   },
   {
    "duration": 2019,
    "start_time": "2023-04-23T12:30:50.639Z"
   },
   {
    "duration": 173,
    "start_time": "2023-04-23T12:31:35.841Z"
   },
   {
    "duration": 20,
    "start_time": "2023-04-23T13:13:00.953Z"
   },
   {
    "duration": 35,
    "start_time": "2023-04-23T13:13:44.080Z"
   },
   {
    "duration": 23,
    "start_time": "2023-04-23T13:26:01.008Z"
   },
   {
    "duration": 22,
    "start_time": "2023-04-23T13:26:06.115Z"
   },
   {
    "duration": 12,
    "start_time": "2023-04-23T13:45:07.818Z"
   },
   {
    "duration": 15,
    "start_time": "2023-04-23T13:45:13.649Z"
   },
   {
    "duration": 27,
    "start_time": "2023-04-23T13:46:10.404Z"
   },
   {
    "duration": 11,
    "start_time": "2023-04-23T13:49:30.495Z"
   },
   {
    "duration": 6,
    "start_time": "2023-04-23T13:49:41.133Z"
   },
   {
    "duration": 9,
    "start_time": "2023-04-23T13:50:42.707Z"
   },
   {
    "duration": 46,
    "start_time": "2023-04-23T13:52:27.281Z"
   },
   {
    "duration": 7,
    "start_time": "2023-04-23T13:52:35.193Z"
   },
   {
    "duration": 589,
    "start_time": "2023-04-23T13:53:01.176Z"
   },
   {
    "duration": 2114,
    "start_time": "2023-04-23T13:53:01.797Z"
   },
   {
    "duration": 25,
    "start_time": "2023-04-23T13:53:13.226Z"
   },
   {
    "duration": 51,
    "start_time": "2023-04-23T13:53:15.188Z"
   },
   {
    "duration": 6,
    "start_time": "2023-04-23T13:53:50.060Z"
   },
   {
    "duration": 13,
    "start_time": "2023-04-23T14:21:41.806Z"
   },
   {
    "duration": 13,
    "start_time": "2023-04-23T14:21:48.614Z"
   },
   {
    "duration": 10,
    "start_time": "2023-04-23T14:21:59.526Z"
   },
   {
    "duration": 12,
    "start_time": "2023-04-23T14:22:05.707Z"
   },
   {
    "duration": 9,
    "start_time": "2023-04-23T14:22:19.262Z"
   },
   {
    "duration": 36,
    "start_time": "2023-04-23T14:23:30.699Z"
   },
   {
    "duration": 15,
    "start_time": "2023-04-23T14:24:17.896Z"
   },
   {
    "duration": 16,
    "start_time": "2023-04-23T14:24:28.832Z"
   },
   {
    "duration": 17,
    "start_time": "2023-04-23T14:24:59.238Z"
   },
   {
    "duration": 15,
    "start_time": "2023-04-23T14:25:04.695Z"
   },
   {
    "duration": 17,
    "start_time": "2023-04-23T14:25:11.405Z"
   },
   {
    "duration": 541,
    "start_time": "2023-04-23T14:25:36.943Z"
   },
   {
    "duration": 1963,
    "start_time": "2023-04-23T14:25:37.564Z"
   },
   {
    "duration": 25,
    "start_time": "2023-04-23T14:25:43.329Z"
   },
   {
    "duration": 35,
    "start_time": "2023-04-23T14:25:49.600Z"
   },
   {
    "duration": 17,
    "start_time": "2023-04-23T14:28:51.217Z"
   },
   {
    "duration": 564,
    "start_time": "2023-04-23T14:29:06.399Z"
   },
   {
    "duration": 2022,
    "start_time": "2023-04-23T14:29:07.549Z"
   },
   {
    "duration": 36,
    "start_time": "2023-04-23T14:29:09.579Z"
   },
   {
    "duration": 27,
    "start_time": "2023-04-23T14:29:33.535Z"
   },
   {
    "duration": 83,
    "start_time": "2023-04-23T14:30:53.657Z"
   },
   {
    "duration": 71,
    "start_time": "2023-04-23T14:32:12.525Z"
   },
   {
    "duration": 76,
    "start_time": "2023-04-23T14:32:18.594Z"
   },
   {
    "duration": 85,
    "start_time": "2023-04-23T14:32:39.362Z"
   },
   {
    "duration": 519,
    "start_time": "2023-04-23T14:32:54.144Z"
   },
   {
    "duration": 1981,
    "start_time": "2023-04-23T14:32:54.665Z"
   },
   {
    "duration": 26,
    "start_time": "2023-04-23T14:32:56.648Z"
   },
   {
    "duration": 60,
    "start_time": "2023-04-23T14:33:01.500Z"
   },
   {
    "duration": 551,
    "start_time": "2023-04-23T14:33:33.610Z"
   },
   {
    "duration": 2127,
    "start_time": "2023-04-23T14:33:34.163Z"
   },
   {
    "duration": 36,
    "start_time": "2023-04-23T14:33:36.292Z"
   },
   {
    "duration": 118,
    "start_time": "2023-04-23T14:36:01.726Z"
   },
   {
    "duration": 60,
    "start_time": "2023-04-23T14:36:15.859Z"
   },
   {
    "duration": 72,
    "start_time": "2023-04-23T14:36:19.911Z"
   },
   {
    "duration": 91,
    "start_time": "2023-04-23T15:03:08.520Z"
   },
   {
    "duration": 87,
    "start_time": "2023-04-23T15:03:35.115Z"
   },
   {
    "duration": 104,
    "start_time": "2023-04-23T15:03:44.883Z"
   },
   {
    "duration": 117,
    "start_time": "2023-04-23T15:36:10.634Z"
   },
   {
    "duration": 134,
    "start_time": "2023-04-23T15:40:55.220Z"
   },
   {
    "duration": 146,
    "start_time": "2023-04-23T15:42:41.524Z"
   },
   {
    "duration": 128,
    "start_time": "2023-04-23T15:42:52.156Z"
   },
   {
    "duration": 132,
    "start_time": "2023-04-23T15:45:35.140Z"
   },
   {
    "duration": 128,
    "start_time": "2023-04-23T15:47:38.819Z"
   },
   {
    "duration": 127,
    "start_time": "2023-04-23T15:54:33.522Z"
   },
   {
    "duration": 5,
    "start_time": "2023-04-23T16:06:51.040Z"
   },
   {
    "duration": 169,
    "start_time": "2023-04-23T16:39:01.025Z"
   },
   {
    "duration": 1701,
    "start_time": "2023-04-23T16:39:02.121Z"
   },
   {
    "duration": 24,
    "start_time": "2023-04-23T16:39:04.029Z"
   },
   {
    "duration": 138,
    "start_time": "2023-04-23T16:39:05.741Z"
   },
   {
    "duration": 6,
    "start_time": "2023-04-23T16:39:08.520Z"
   },
   {
    "duration": 61,
    "start_time": "2023-04-23T16:43:39.357Z"
   },
   {
    "duration": 62,
    "start_time": "2023-04-23T16:45:35.232Z"
   },
   {
    "duration": 66,
    "start_time": "2023-04-23T16:46:02.934Z"
   },
   {
    "duration": 49,
    "start_time": "2023-04-23T16:49:26.945Z"
   },
   {
    "duration": 57,
    "start_time": "2023-04-23T16:50:37.701Z"
   },
   {
    "duration": 49,
    "start_time": "2023-04-23T16:50:55.702Z"
   },
   {
    "duration": 47,
    "start_time": "2023-04-23T16:51:08.109Z"
   },
   {
    "duration": 64,
    "start_time": "2023-04-23T16:51:19.705Z"
   },
   {
    "duration": 150,
    "start_time": "2023-04-23T16:53:17.866Z"
   },
   {
    "duration": 166,
    "start_time": "2023-04-23T16:54:03.404Z"
   },
   {
    "duration": 54,
    "start_time": "2023-04-23T16:56:42.428Z"
   },
   {
    "duration": 175,
    "start_time": "2023-04-23T16:57:25.627Z"
   },
   {
    "duration": 66,
    "start_time": "2023-04-23T17:00:46.767Z"
   },
   {
    "duration": 51,
    "start_time": "2023-04-23T17:06:02.732Z"
   },
   {
    "duration": 992,
    "start_time": "2023-04-23T17:06:07.595Z"
   },
   {
    "duration": 1715,
    "start_time": "2023-04-23T17:06:09.468Z"
   },
   {
    "duration": 25,
    "start_time": "2023-04-23T17:06:12.042Z"
   },
   {
    "duration": 129,
    "start_time": "2023-04-23T17:06:13.184Z"
   },
   {
    "duration": 60,
    "start_time": "2023-04-23T17:06:14.095Z"
   },
   {
    "duration": 49,
    "start_time": "2023-04-23T17:06:25.533Z"
   },
   {
    "duration": 84,
    "start_time": "2023-04-23T17:07:27.419Z"
   },
   {
    "duration": 84,
    "start_time": "2023-04-23T17:07:44.119Z"
   },
   {
    "duration": 8,
    "start_time": "2023-04-23T17:11:02.070Z"
   },
   {
    "duration": 1025,
    "start_time": "2023-04-23T17:11:07.986Z"
   },
   {
    "duration": 1799,
    "start_time": "2023-04-23T17:11:10.084Z"
   },
   {
    "duration": 26,
    "start_time": "2023-04-23T17:11:12.196Z"
   },
   {
    "duration": 130,
    "start_time": "2023-04-23T17:11:12.712Z"
   },
   {
    "duration": 60,
    "start_time": "2023-04-23T17:11:13.284Z"
   },
   {
    "duration": 2222,
    "start_time": "2023-04-23T17:11:13.699Z"
   },
   {
    "duration": 10,
    "start_time": "2023-04-23T17:11:26.071Z"
   },
   {
    "duration": 5,
    "start_time": "2023-04-23T17:11:39.232Z"
   },
   {
    "duration": 21,
    "start_time": "2023-04-23T17:18:26.800Z"
   },
   {
    "duration": 29,
    "start_time": "2023-04-23T17:18:39.995Z"
   },
   {
    "duration": 60,
    "start_time": "2023-04-23T17:25:35.916Z"
   },
   {
    "duration": 31,
    "start_time": "2023-04-23T17:25:49.317Z"
   },
   {
    "duration": 9,
    "start_time": "2023-04-23T17:29:36.028Z"
   },
   {
    "duration": 19,
    "start_time": "2023-04-23T17:29:46.852Z"
   },
   {
    "duration": 10,
    "start_time": "2023-04-23T17:30:25.674Z"
   },
   {
    "duration": 9,
    "start_time": "2023-04-23T17:30:33.663Z"
   },
   {
    "duration": 29,
    "start_time": "2023-04-23T17:31:07.785Z"
   },
   {
    "duration": 29,
    "start_time": "2023-04-23T17:31:56.776Z"
   },
   {
    "duration": 40,
    "start_time": "2023-04-23T17:33:19.265Z"
   },
   {
    "duration": 40,
    "start_time": "2023-04-23T17:33:41.713Z"
   },
   {
    "duration": 33,
    "start_time": "2023-04-23T17:35:37.454Z"
   },
   {
    "duration": 17,
    "start_time": "2023-04-23T17:35:56.417Z"
   },
   {
    "duration": 17,
    "start_time": "2023-04-23T17:35:59.429Z"
   },
   {
    "duration": 14,
    "start_time": "2023-04-23T17:36:28.151Z"
   },
   {
    "duration": 17,
    "start_time": "2023-04-23T17:36:31.594Z"
   },
   {
    "duration": 148,
    "start_time": "2023-04-23T17:37:57.724Z"
   },
   {
    "duration": 1682,
    "start_time": "2023-04-23T17:37:59.454Z"
   },
   {
    "duration": 24,
    "start_time": "2023-04-23T17:38:02.309Z"
   },
   {
    "duration": 119,
    "start_time": "2023-04-23T17:38:03.619Z"
   },
   {
    "duration": 59,
    "start_time": "2023-04-23T17:38:04.573Z"
   },
   {
    "duration": 20,
    "start_time": "2023-04-23T17:38:05.203Z"
   },
   {
    "duration": 138,
    "start_time": "2023-04-23T17:38:13.892Z"
   },
   {
    "duration": 1658,
    "start_time": "2023-04-23T17:38:14.625Z"
   },
   {
    "duration": 25,
    "start_time": "2023-04-23T17:38:17.347Z"
   },
   {
    "duration": 132,
    "start_time": "2023-04-23T17:38:18.683Z"
   },
   {
    "duration": 63,
    "start_time": "2023-04-23T17:38:20.162Z"
   },
   {
    "duration": 23,
    "start_time": "2023-04-23T17:38:21.037Z"
   },
   {
    "duration": 22,
    "start_time": "2023-04-23T17:39:37.503Z"
   },
   {
    "duration": 18,
    "start_time": "2023-04-23T17:39:49.992Z"
   },
   {
    "duration": 14,
    "start_time": "2023-04-23T17:40:48.913Z"
   },
   {
    "duration": 15,
    "start_time": "2023-04-23T17:41:17.894Z"
   },
   {
    "duration": 138,
    "start_time": "2023-04-23T17:41:33.716Z"
   },
   {
    "duration": 1556,
    "start_time": "2023-04-23T17:41:34.424Z"
   },
   {
    "duration": 25,
    "start_time": "2023-04-23T17:41:36.170Z"
   },
   {
    "duration": 225,
    "start_time": "2023-04-23T17:41:37.316Z"
   },
   {
    "duration": 62,
    "start_time": "2023-04-23T17:41:38.135Z"
   },
   {
    "duration": 36,
    "start_time": "2023-04-23T17:41:53.400Z"
   },
   {
    "duration": 40,
    "start_time": "2023-04-23T17:42:32.350Z"
   },
   {
    "duration": 38,
    "start_time": "2023-04-23T18:08:15.136Z"
   },
   {
    "duration": 4,
    "start_time": "2023-04-23T18:08:32.093Z"
   },
   {
    "duration": 40,
    "start_time": "2023-04-23T18:10:39.666Z"
   },
   {
    "duration": 20,
    "start_time": "2023-04-23T18:14:58.540Z"
   },
   {
    "duration": 30,
    "start_time": "2023-04-23T18:15:13.616Z"
   },
   {
    "duration": 10,
    "start_time": "2023-04-23T18:15:26.007Z"
   },
   {
    "duration": 239,
    "start_time": "2023-04-23T18:52:07.175Z"
   },
   {
    "duration": 228,
    "start_time": "2023-04-23T18:52:33.206Z"
   },
   {
    "duration": 143,
    "start_time": "2023-04-23T18:53:02.136Z"
   },
   {
    "duration": 1657,
    "start_time": "2023-04-23T18:53:02.668Z"
   },
   {
    "duration": 24,
    "start_time": "2023-04-23T18:53:04.881Z"
   },
   {
    "duration": 127,
    "start_time": "2023-04-23T18:53:06.165Z"
   },
   {
    "duration": 57,
    "start_time": "2023-04-23T18:53:07.122Z"
   },
   {
    "duration": 240,
    "start_time": "2023-04-23T18:53:16.932Z"
   },
   {
    "duration": 252,
    "start_time": "2023-04-23T18:55:26.865Z"
   },
   {
    "duration": 240,
    "start_time": "2023-04-23T18:55:39.868Z"
   },
   {
    "duration": 244,
    "start_time": "2023-04-23T18:56:05.601Z"
   },
   {
    "duration": 313,
    "start_time": "2023-04-23T18:56:43.489Z"
   },
   {
    "duration": 246,
    "start_time": "2023-04-23T18:56:59.466Z"
   },
   {
    "duration": 313,
    "start_time": "2023-04-23T18:57:16.075Z"
   },
   {
    "duration": 233,
    "start_time": "2023-04-23T18:57:34.640Z"
   },
   {
    "duration": 160,
    "start_time": "2023-04-23T18:57:51.587Z"
   },
   {
    "duration": 1824,
    "start_time": "2023-04-23T18:57:52.514Z"
   },
   {
    "duration": 28,
    "start_time": "2023-04-23T18:57:54.691Z"
   },
   {
    "duration": 179,
    "start_time": "2023-04-23T18:57:55.928Z"
   },
   {
    "duration": 63,
    "start_time": "2023-04-23T18:57:56.833Z"
   },
   {
    "duration": 228,
    "start_time": "2023-04-23T18:58:11.441Z"
   },
   {
    "duration": 239,
    "start_time": "2023-04-23T18:58:57.023Z"
   },
   {
    "duration": 2,
    "start_time": "2023-04-23T19:01:13.660Z"
   },
   {
    "duration": 242,
    "start_time": "2023-04-23T19:01:15.004Z"
   },
   {
    "duration": 145,
    "start_time": "2023-04-23T19:22:34.458Z"
   },
   {
    "duration": 241,
    "start_time": "2023-04-23T19:30:46.980Z"
   },
   {
    "duration": 2,
    "start_time": "2023-04-23T19:31:14.991Z"
   },
   {
    "duration": 58,
    "start_time": "2023-04-23T19:31:49.063Z"
   },
   {
    "duration": 35,
    "start_time": "2023-04-23T19:42:12.844Z"
   },
   {
    "duration": 35,
    "start_time": "2023-04-23T19:42:33.133Z"
   },
   {
    "duration": 30,
    "start_time": "2023-04-23T19:42:47.646Z"
   },
   {
    "duration": 84,
    "start_time": "2023-04-23T19:56:14.270Z"
   },
   {
    "duration": 76,
    "start_time": "2023-04-23T19:56:33.490Z"
   },
   {
    "duration": 1383,
    "start_time": "2023-04-23T19:56:46.303Z"
   },
   {
    "duration": 1377,
    "start_time": "2023-04-23T19:56:57.541Z"
   },
   {
    "duration": 1378,
    "start_time": "2023-04-23T19:57:13.357Z"
   },
   {
    "duration": 426,
    "start_time": "2023-04-23T19:57:19.255Z"
   },
   {
    "duration": 234,
    "start_time": "2023-04-23T19:58:08.461Z"
   },
   {
    "duration": 241,
    "start_time": "2023-04-23T19:58:14.317Z"
   },
   {
    "duration": 160,
    "start_time": "2023-04-23T19:58:19.069Z"
   },
   {
    "duration": 261,
    "start_time": "2023-04-23T19:58:23.692Z"
   },
   {
    "duration": 239,
    "start_time": "2023-04-23T19:59:09.747Z"
   },
   {
    "duration": 234,
    "start_time": "2023-04-23T19:59:13.245Z"
   },
   {
    "duration": 267,
    "start_time": "2023-04-23T19:59:16.599Z"
   },
   {
    "duration": 245,
    "start_time": "2023-04-23T19:59:35.544Z"
   },
   {
    "duration": 243,
    "start_time": "2023-04-23T19:59:39.340Z"
   },
   {
    "duration": 439,
    "start_time": "2023-04-23T19:59:44.442Z"
   },
   {
    "duration": 237,
    "start_time": "2023-04-23T19:59:48.222Z"
   },
   {
    "duration": 227,
    "start_time": "2023-04-23T20:00:35.189Z"
   },
   {
    "duration": 245,
    "start_time": "2023-04-23T20:00:40.073Z"
   },
   {
    "duration": 230,
    "start_time": "2023-04-23T20:00:48.682Z"
   },
   {
    "duration": 241,
    "start_time": "2023-04-23T20:01:01.240Z"
   },
   {
    "duration": 138,
    "start_time": "2023-04-23T20:01:16.543Z"
   },
   {
    "duration": 1551,
    "start_time": "2023-04-23T20:01:17.027Z"
   },
   {
    "duration": 27,
    "start_time": "2023-04-23T20:01:19.604Z"
   },
   {
    "duration": 133,
    "start_time": "2023-04-23T20:01:21.128Z"
   },
   {
    "duration": 57,
    "start_time": "2023-04-23T20:01:23.857Z"
   },
   {
    "duration": 2,
    "start_time": "2023-04-23T20:01:24.973Z"
   },
   {
    "duration": 241,
    "start_time": "2023-04-23T20:01:31.033Z"
   },
   {
    "duration": 517,
    "start_time": "2023-04-23T20:02:05.620Z"
   },
   {
    "duration": 264,
    "start_time": "2023-04-23T20:02:12.864Z"
   },
   {
    "duration": 272,
    "start_time": "2023-04-23T20:02:20.504Z"
   },
   {
    "duration": 1522,
    "start_time": "2023-04-23T20:02:48.669Z"
   },
   {
    "duration": 244,
    "start_time": "2023-04-23T20:02:54.480Z"
   },
   {
    "duration": 264,
    "start_time": "2023-04-23T20:03:02.790Z"
   },
   {
    "duration": 297,
    "start_time": "2023-04-23T20:03:16.344Z"
   },
   {
    "duration": 250,
    "start_time": "2023-04-23T20:03:24.285Z"
   },
   {
    "duration": 235,
    "start_time": "2023-04-23T20:05:13.075Z"
   },
   {
    "duration": 243,
    "start_time": "2023-04-23T20:05:38.170Z"
   },
   {
    "duration": 229,
    "start_time": "2023-04-23T20:09:04.470Z"
   },
   {
    "duration": 223,
    "start_time": "2023-04-23T20:09:13.869Z"
   },
   {
    "duration": 253,
    "start_time": "2023-04-23T20:09:20.323Z"
   },
   {
    "duration": 31,
    "start_time": "2023-04-23T20:10:51.001Z"
   },
   {
    "duration": 222,
    "start_time": "2023-04-23T20:11:07.250Z"
   },
   {
    "duration": 1515,
    "start_time": "2023-04-23T20:11:14.166Z"
   },
   {
    "duration": 245,
    "start_time": "2023-04-23T20:11:21.936Z"
   },
   {
    "duration": 223,
    "start_time": "2023-04-23T20:11:27.024Z"
   },
   {
    "duration": 232,
    "start_time": "2023-04-23T20:11:33.060Z"
   },
   {
    "duration": 269,
    "start_time": "2023-04-23T20:11:51.312Z"
   },
   {
    "duration": 1568,
    "start_time": "2023-04-23T20:11:57.114Z"
   },
   {
    "duration": 234,
    "start_time": "2023-04-23T20:12:11.259Z"
   },
   {
    "duration": 28,
    "start_time": "2023-04-23T20:17:45.484Z"
   },
   {
    "duration": 74,
    "start_time": "2023-04-23T20:18:37.934Z"
   },
   {
    "duration": 6,
    "start_time": "2023-04-23T20:18:47.271Z"
   },
   {
    "duration": 6,
    "start_time": "2023-04-23T20:21:10.556Z"
   },
   {
    "duration": 5,
    "start_time": "2023-04-23T20:22:17.970Z"
   },
   {
    "duration": 101,
    "start_time": "2023-04-23T20:27:01.628Z"
   },
   {
    "duration": 94,
    "start_time": "2023-04-23T20:27:09.835Z"
   },
   {
    "duration": 8,
    "start_time": "2023-04-23T20:27:25.804Z"
   },
   {
    "duration": 11,
    "start_time": "2023-04-23T20:28:53.505Z"
   },
   {
    "duration": 13,
    "start_time": "2023-04-23T20:31:47.584Z"
   },
   {
    "duration": 231,
    "start_time": "2023-04-23T20:35:14.353Z"
   },
   {
    "duration": 140,
    "start_time": "2023-04-23T20:35:21.788Z"
   },
   {
    "duration": 195,
    "start_time": "2023-04-23T20:35:30.506Z"
   },
   {
    "duration": 1210,
    "start_time": "2023-04-24T17:40:53.777Z"
   },
   {
    "duration": 2209,
    "start_time": "2023-04-24T17:40:54.988Z"
   },
   {
    "duration": 33,
    "start_time": "2023-04-24T17:41:00.205Z"
   },
   {
    "duration": 37,
    "start_time": "2023-04-24T18:21:31.194Z"
   },
   {
    "duration": 24,
    "start_time": "2023-04-24T18:21:43.085Z"
   },
   {
    "duration": 122,
    "start_time": "2023-04-24T18:22:41.851Z"
   },
   {
    "duration": 177,
    "start_time": "2023-04-24T18:22:48.930Z"
   },
   {
    "duration": 180,
    "start_time": "2023-04-24T18:24:37.812Z"
   },
   {
    "duration": 170,
    "start_time": "2023-04-24T18:25:08.841Z"
   },
   {
    "duration": 194,
    "start_time": "2023-04-24T18:25:52.634Z"
   },
   {
    "duration": 2219,
    "start_time": "2023-04-24T18:26:05.837Z"
   },
   {
    "duration": 33,
    "start_time": "2023-04-24T18:26:18.414Z"
   },
   {
    "duration": 30,
    "start_time": "2023-04-24T18:26:40.734Z"
   },
   {
    "duration": 37,
    "start_time": "2023-04-24T18:27:00.367Z"
   },
   {
    "duration": 191,
    "start_time": "2023-04-24T18:27:07.532Z"
   },
   {
    "duration": 2267,
    "start_time": "2023-04-24T18:27:08.317Z"
   },
   {
    "duration": 36,
    "start_time": "2023-04-24T18:27:11.565Z"
   },
   {
    "duration": 29,
    "start_time": "2023-04-24T18:30:49.076Z"
   },
   {
    "duration": 843,
    "start_time": "2023-04-24T18:31:25.614Z"
   },
   {
    "duration": 2230,
    "start_time": "2023-04-24T18:31:26.459Z"
   },
   {
    "duration": 86,
    "start_time": "2023-04-24T18:31:28.691Z"
   },
   {
    "duration": 0,
    "start_time": "2023-04-24T18:31:28.780Z"
   },
   {
    "duration": 0,
    "start_time": "2023-04-24T18:31:28.789Z"
   },
   {
    "duration": 0,
    "start_time": "2023-04-24T18:31:28.791Z"
   },
   {
    "duration": 0,
    "start_time": "2023-04-24T18:31:28.792Z"
   },
   {
    "duration": 0,
    "start_time": "2023-04-24T18:31:28.793Z"
   },
   {
    "duration": 0,
    "start_time": "2023-04-24T18:31:28.794Z"
   },
   {
    "duration": 27,
    "start_time": "2023-04-24T18:37:03.165Z"
   },
   {
    "duration": 30,
    "start_time": "2023-04-24T18:38:25.994Z"
   },
   {
    "duration": 50,
    "start_time": "2023-04-24T18:38:53.362Z"
   },
   {
    "duration": 9,
    "start_time": "2023-04-24T18:47:22.724Z"
   },
   {
    "duration": 922,
    "start_time": "2023-04-24T18:47:33.269Z"
   },
   {
    "duration": 2280,
    "start_time": "2023-04-24T18:47:34.194Z"
   },
   {
    "duration": 32,
    "start_time": "2023-04-24T18:47:36.476Z"
   },
   {
    "duration": 4,
    "start_time": "2023-04-24T18:47:36.511Z"
   },
   {
    "duration": 101,
    "start_time": "2023-04-24T18:47:36.521Z"
   },
   {
    "duration": 3,
    "start_time": "2023-04-24T18:47:36.624Z"
   },
   {
    "duration": 8,
    "start_time": "2023-04-24T18:47:36.629Z"
   },
   {
    "duration": 6,
    "start_time": "2023-04-24T18:47:36.639Z"
   },
   {
    "duration": 10,
    "start_time": "2023-04-24T18:47:36.646Z"
   },
   {
    "duration": 9,
    "start_time": "2023-04-24T18:47:56.897Z"
   },
   {
    "duration": 146,
    "start_time": "2023-04-24T18:53:28.737Z"
   },
   {
    "duration": 398,
    "start_time": "2023-04-24T18:58:16.958Z"
   },
   {
    "duration": 30,
    "start_time": "2023-04-24T18:58:41.347Z"
   },
   {
    "duration": 116,
    "start_time": "2023-04-24T19:02:17.120Z"
   },
   {
    "duration": 92,
    "start_time": "2023-04-24T19:02:33.129Z"
   },
   {
    "duration": 19,
    "start_time": "2023-04-24T19:02:47.425Z"
   },
   {
    "duration": 15,
    "start_time": "2023-04-24T19:03:08.419Z"
   },
   {
    "duration": 41,
    "start_time": "2023-04-24T19:04:58.917Z"
   },
   {
    "duration": 365,
    "start_time": "2023-04-24T19:05:33.085Z"
   },
   {
    "duration": 455,
    "start_time": "2023-04-24T19:06:01.217Z"
   },
   {
    "duration": 339,
    "start_time": "2023-04-24T19:09:54.877Z"
   },
   {
    "duration": 258,
    "start_time": "2023-04-24T19:11:05.158Z"
   },
   {
    "duration": 266,
    "start_time": "2023-04-24T19:12:46.338Z"
   },
   {
    "duration": 280,
    "start_time": "2023-04-24T19:18:31.060Z"
   },
   {
    "duration": 259,
    "start_time": "2023-04-24T19:19:33.819Z"
   },
   {
    "duration": 270,
    "start_time": "2023-04-24T19:20:08.301Z"
   },
   {
    "duration": 174,
    "start_time": "2023-04-24T19:26:50.740Z"
   },
   {
    "duration": 881,
    "start_time": "2023-04-24T19:27:34.306Z"
   },
   {
    "duration": 2301,
    "start_time": "2023-04-24T19:27:35.189Z"
   },
   {
    "duration": 31,
    "start_time": "2023-04-24T19:27:37.492Z"
   },
   {
    "duration": 170,
    "start_time": "2023-04-24T19:27:37.526Z"
   },
   {
    "duration": 92,
    "start_time": "2023-04-24T19:27:37.698Z"
   },
   {
    "duration": 3,
    "start_time": "2023-04-24T19:27:37.792Z"
   },
   {
    "duration": 308,
    "start_time": "2023-04-24T19:27:37.797Z"
   },
   {
    "duration": 254,
    "start_time": "2023-04-24T19:27:38.107Z"
   },
   {
    "duration": 0,
    "start_time": "2023-04-24T19:27:38.363Z"
   },
   {
    "duration": 170,
    "start_time": "2023-04-24T19:27:48.191Z"
   },
   {
    "duration": 329,
    "start_time": "2023-04-24T19:28:10.418Z"
   },
   {
    "duration": 503,
    "start_time": "2023-04-24T19:28:37.086Z"
   },
   {
    "duration": 400,
    "start_time": "2023-04-24T19:32:12.531Z"
   },
   {
    "duration": 397,
    "start_time": "2023-04-24T19:33:11.699Z"
   },
   {
    "duration": 478,
    "start_time": "2023-04-24T19:33:20.133Z"
   },
   {
    "duration": 384,
    "start_time": "2023-04-24T19:33:42.614Z"
   },
   {
    "duration": 177,
    "start_time": "2023-04-24T19:33:56.053Z"
   },
   {
    "duration": 358,
    "start_time": "2023-04-24T19:34:09.750Z"
   },
   {
    "duration": 267,
    "start_time": "2023-04-24T19:34:23.568Z"
   },
   {
    "duration": 194,
    "start_time": "2023-04-24T19:35:32.429Z"
   },
   {
    "duration": 9,
    "start_time": "2023-04-24T19:37:12.086Z"
   },
   {
    "duration": 253,
    "start_time": "2023-04-24T19:37:20.975Z"
   },
   {
    "duration": 192,
    "start_time": "2023-04-24T19:39:17.579Z"
   },
   {
    "duration": 217,
    "start_time": "2023-04-24T19:40:34.963Z"
   },
   {
    "duration": 201,
    "start_time": "2023-04-24T19:40:46.266Z"
   },
   {
    "duration": 218,
    "start_time": "2023-04-24T19:41:33.194Z"
   },
   {
    "duration": 280,
    "start_time": "2023-04-24T19:41:39.446Z"
   },
   {
    "duration": 213,
    "start_time": "2023-04-24T19:41:49.615Z"
   },
   {
    "duration": 314,
    "start_time": "2023-04-24T19:42:27.392Z"
   },
   {
    "duration": 209,
    "start_time": "2023-04-24T19:42:39.325Z"
   },
   {
    "duration": 215,
    "start_time": "2023-04-24T19:43:18.762Z"
   },
   {
    "duration": 5,
    "start_time": "2023-04-24T19:58:48.132Z"
   },
   {
    "duration": 14,
    "start_time": "2023-04-24T19:59:39.297Z"
   },
   {
    "duration": 20,
    "start_time": "2023-04-24T20:02:20.252Z"
   },
   {
    "duration": 53,
    "start_time": "2023-04-24T20:04:04.811Z"
   },
   {
    "duration": 21,
    "start_time": "2023-04-24T20:09:17.531Z"
   },
   {
    "duration": 19,
    "start_time": "2023-04-24T20:09:38.830Z"
   },
   {
    "duration": 19,
    "start_time": "2023-04-24T20:09:44.268Z"
   },
   {
    "duration": 111,
    "start_time": "2023-04-24T20:10:38.801Z"
   },
   {
    "duration": 19,
    "start_time": "2023-04-24T20:13:08.013Z"
   },
   {
    "duration": 22,
    "start_time": "2023-04-24T20:17:23.159Z"
   },
   {
    "duration": 105,
    "start_time": "2023-04-24T20:24:39.668Z"
   },
   {
    "duration": 50,
    "start_time": "2023-04-26T17:06:42.291Z"
   },
   {
    "duration": 1144,
    "start_time": "2023-04-26T17:06:46.151Z"
   },
   {
    "duration": 1940,
    "start_time": "2023-04-26T17:06:48.080Z"
   },
   {
    "duration": 27,
    "start_time": "2023-04-26T17:06:51.456Z"
   },
   {
    "duration": 132,
    "start_time": "2023-04-26T17:06:52.961Z"
   },
   {
    "duration": 76,
    "start_time": "2023-04-26T17:06:54.313Z"
   },
   {
    "duration": 2,
    "start_time": "2023-04-26T17:06:54.963Z"
   },
   {
    "duration": 37,
    "start_time": "2023-04-26T17:06:55.555Z"
   },
   {
    "duration": 55,
    "start_time": "2023-04-26T17:06:56.243Z"
   },
   {
    "duration": 13,
    "start_time": "2023-04-26T17:06:57.331Z"
   },
   {
    "duration": 90,
    "start_time": "2023-04-26T17:06:58.199Z"
   },
   {
    "duration": 5,
    "start_time": "2023-04-26T17:08:57.147Z"
   },
   {
    "duration": 6,
    "start_time": "2023-04-26T17:09:06.370Z"
   },
   {
    "duration": 808,
    "start_time": "2023-04-26T18:02:17.438Z"
   },
   {
    "duration": 1980,
    "start_time": "2023-04-26T18:02:18.248Z"
   },
   {
    "duration": 30,
    "start_time": "2023-04-26T18:02:20.230Z"
   },
   {
    "duration": 163,
    "start_time": "2023-04-26T18:02:20.262Z"
   },
   {
    "duration": 93,
    "start_time": "2023-04-26T18:02:20.427Z"
   },
   {
    "duration": 3,
    "start_time": "2023-04-26T18:02:20.521Z"
   },
   {
    "duration": 52,
    "start_time": "2023-04-26T18:02:20.525Z"
   },
   {
    "duration": 59,
    "start_time": "2023-04-26T18:02:20.583Z"
   },
   {
    "duration": 14,
    "start_time": "2023-04-26T18:02:20.644Z"
   },
   {
    "duration": 125,
    "start_time": "2023-04-26T18:02:20.660Z"
   },
   {
    "duration": 111,
    "start_time": "2023-04-26T18:02:20.787Z"
   },
   {
    "duration": 27,
    "start_time": "2023-04-26T18:02:48.567Z"
   },
   {
    "duration": 58,
    "start_time": "2023-04-26T18:04:35.997Z"
   },
   {
    "duration": 27,
    "start_time": "2023-04-26T18:04:41.974Z"
   },
   {
    "duration": 26,
    "start_time": "2023-04-26T18:17:12.121Z"
   },
   {
    "duration": 76,
    "start_time": "2023-04-26T18:17:22.243Z"
   },
   {
    "duration": 27,
    "start_time": "2023-04-26T18:20:52.678Z"
   },
   {
    "duration": 34,
    "start_time": "2023-04-26T18:22:15.863Z"
   },
   {
    "duration": 30,
    "start_time": "2023-04-26T19:07:05.920Z"
   },
   {
    "duration": 5,
    "start_time": "2023-04-26T19:29:14.486Z"
   },
   {
    "duration": 32,
    "start_time": "2023-04-26T19:34:47.822Z"
   },
   {
    "duration": 15,
    "start_time": "2023-04-26T19:35:05.825Z"
   },
   {
    "duration": 19,
    "start_time": "2023-04-26T19:37:03.914Z"
   },
   {
    "duration": 58,
    "start_time": "2023-04-26T19:43:59.381Z"
   },
   {
    "duration": 47,
    "start_time": "2023-04-26T19:44:07.931Z"
   },
   {
    "duration": 50,
    "start_time": "2023-04-26T19:46:05.803Z"
   },
   {
    "duration": 25,
    "start_time": "2023-04-26T19:48:51.459Z"
   },
   {
    "duration": 25,
    "start_time": "2023-04-26T20:00:29.220Z"
   },
   {
    "duration": 27,
    "start_time": "2023-04-26T20:00:37.549Z"
   },
   {
    "duration": 37,
    "start_time": "2023-04-26T20:00:46.631Z"
   },
   {
    "duration": 28,
    "start_time": "2023-04-26T20:00:58.047Z"
   },
   {
    "duration": 16,
    "start_time": "2023-04-26T20:01:12.263Z"
   },
   {
    "duration": 77,
    "start_time": "2023-04-26T20:01:36.989Z"
   },
   {
    "duration": 9,
    "start_time": "2023-04-26T20:01:46.444Z"
   },
   {
    "duration": 17,
    "start_time": "2023-04-26T20:02:01.918Z"
   },
   {
    "duration": 15,
    "start_time": "2023-04-26T20:02:17.493Z"
   },
   {
    "duration": 27,
    "start_time": "2023-04-26T20:03:23.073Z"
   },
   {
    "duration": 28,
    "start_time": "2023-04-26T20:03:28.428Z"
   },
   {
    "duration": 1180,
    "start_time": "2023-04-27T17:08:41.277Z"
   },
   {
    "duration": 2346,
    "start_time": "2023-04-27T17:08:42.459Z"
   },
   {
    "duration": 40,
    "start_time": "2023-04-27T17:08:45.264Z"
   },
   {
    "duration": 164,
    "start_time": "2023-04-27T17:08:46.873Z"
   },
   {
    "duration": 96,
    "start_time": "2023-04-27T17:08:48.379Z"
   },
   {
    "duration": 3,
    "start_time": "2023-04-27T17:08:48.772Z"
   },
   {
    "duration": 64,
    "start_time": "2023-04-27T17:08:51.682Z"
   },
   {
    "duration": 63,
    "start_time": "2023-04-27T17:08:52.119Z"
   },
   {
    "duration": 18,
    "start_time": "2023-04-27T17:09:02.234Z"
   },
   {
    "duration": 112,
    "start_time": "2023-04-27T17:09:02.741Z"
   },
   {
    "duration": 37,
    "start_time": "2023-04-27T17:09:04.109Z"
   },
   {
    "duration": 5,
    "start_time": "2023-04-27T17:09:04.524Z"
   },
   {
    "duration": 52,
    "start_time": "2023-04-27T17:09:05.632Z"
   },
   {
    "duration": 4,
    "start_time": "2023-04-27T17:09:06.421Z"
   },
   {
    "duration": 32,
    "start_time": "2023-04-27T17:09:07.041Z"
   },
   {
    "duration": 42,
    "start_time": "2023-04-27T17:27:40.685Z"
   },
   {
    "duration": 28,
    "start_time": "2023-04-27T17:28:30.110Z"
   },
   {
    "duration": 11,
    "start_time": "2023-04-27T17:30:10.007Z"
   },
   {
    "duration": 41,
    "start_time": "2023-04-27T17:32:06.479Z"
   },
   {
    "duration": 97,
    "start_time": "2023-04-27T17:36:22.213Z"
   },
   {
    "duration": 234,
    "start_time": "2023-04-27T17:37:14.369Z"
   },
   {
    "duration": 2354,
    "start_time": "2023-04-27T17:37:15.834Z"
   },
   {
    "duration": 20,
    "start_time": "2023-04-27T17:37:49.414Z"
   },
   {
    "duration": 33,
    "start_time": "2023-04-27T17:38:04.321Z"
   },
   {
    "duration": 33,
    "start_time": "2023-04-27T17:38:09.761Z"
   },
   {
    "duration": 44,
    "start_time": "2023-04-27T17:38:35.656Z"
   },
   {
    "duration": 993,
    "start_time": "2023-04-27T17:40:33.107Z"
   },
   {
    "duration": 2477,
    "start_time": "2023-04-27T17:40:34.109Z"
   },
   {
    "duration": 40,
    "start_time": "2023-04-27T17:40:36.587Z"
   },
   {
    "duration": 168,
    "start_time": "2023-04-27T17:40:36.629Z"
   },
   {
    "duration": 90,
    "start_time": "2023-04-27T17:40:36.804Z"
   },
   {
    "duration": 9,
    "start_time": "2023-04-27T17:40:36.895Z"
   },
   {
    "duration": 55,
    "start_time": "2023-04-27T17:40:36.906Z"
   },
   {
    "duration": 81,
    "start_time": "2023-04-27T17:40:36.963Z"
   },
   {
    "duration": 18,
    "start_time": "2023-04-27T17:40:37.046Z"
   },
   {
    "duration": 108,
    "start_time": "2023-04-27T17:40:37.089Z"
   },
   {
    "duration": 3,
    "start_time": "2023-04-27T17:40:37.198Z"
   },
   {
    "duration": 26,
    "start_time": "2023-04-27T17:40:37.203Z"
   },
   {
    "duration": 50,
    "start_time": "2023-04-27T17:40:37.231Z"
   },
   {
    "duration": 15,
    "start_time": "2023-04-27T17:40:37.284Z"
   },
   {
    "duration": 33,
    "start_time": "2023-04-27T17:40:37.305Z"
   },
   {
    "duration": 220,
    "start_time": "2023-04-27T17:40:55.049Z"
   },
   {
    "duration": 2514,
    "start_time": "2023-04-27T17:40:55.458Z"
   },
   {
    "duration": 40,
    "start_time": "2023-04-27T17:40:57.974Z"
   },
   {
    "duration": 189,
    "start_time": "2023-04-27T17:40:58.016Z"
   },
   {
    "duration": 97,
    "start_time": "2023-04-27T17:40:58.210Z"
   },
   {
    "duration": 2,
    "start_time": "2023-04-27T17:40:58.444Z"
   },
   {
    "duration": 54,
    "start_time": "2023-04-27T17:40:58.780Z"
   },
   {
    "duration": 72,
    "start_time": "2023-04-27T17:40:59.170Z"
   },
   {
    "duration": 19,
    "start_time": "2023-04-27T17:41:00.011Z"
   },
   {
    "duration": 220,
    "start_time": "2023-04-27T17:41:00.415Z"
   },
   {
    "duration": 10,
    "start_time": "2023-04-27T17:41:01.062Z"
   },
   {
    "duration": 97,
    "start_time": "2023-04-27T17:42:35.713Z"
   },
   {
    "duration": 247,
    "start_time": "2023-04-27T17:43:14.864Z"
   },
   {
    "duration": 2760,
    "start_time": "2023-04-27T17:43:16.617Z"
   },
   {
    "duration": 55,
    "start_time": "2023-04-27T17:43:19.380Z"
   },
   {
    "duration": 205,
    "start_time": "2023-04-27T17:43:19.835Z"
   },
   {
    "duration": 88,
    "start_time": "2023-04-27T17:43:20.628Z"
   },
   {
    "duration": 3,
    "start_time": "2023-04-27T17:43:21.418Z"
   },
   {
    "duration": 77,
    "start_time": "2023-04-27T17:43:21.931Z"
   },
   {
    "duration": 85,
    "start_time": "2023-04-27T17:43:22.718Z"
   },
   {
    "duration": 22,
    "start_time": "2023-04-27T17:43:23.535Z"
   },
   {
    "duration": 121,
    "start_time": "2023-04-27T17:43:24.031Z"
   },
   {
    "duration": 31,
    "start_time": "2023-04-27T17:43:24.759Z"
   },
   {
    "duration": 29,
    "start_time": "2023-04-27T17:43:43.517Z"
   },
   {
    "duration": 45,
    "start_time": "2023-04-27T17:45:31.187Z"
   },
   {
    "duration": 31,
    "start_time": "2023-04-27T17:47:57.386Z"
   },
   {
    "duration": 17,
    "start_time": "2023-04-27T17:51:05.555Z"
   },
   {
    "duration": 62,
    "start_time": "2023-04-27T17:51:09.481Z"
   },
   {
    "duration": 81,
    "start_time": "2023-04-27T17:51:49.314Z"
   },
   {
    "duration": 30,
    "start_time": "2023-04-27T17:59:30.521Z"
   },
   {
    "duration": 30,
    "start_time": "2023-04-27T18:00:11.912Z"
   },
   {
    "duration": 18,
    "start_time": "2023-04-27T18:02:06.765Z"
   },
   {
    "duration": 8,
    "start_time": "2023-04-27T18:02:14.274Z"
   },
   {
    "duration": 16,
    "start_time": "2023-04-27T18:02:33.878Z"
   },
   {
    "duration": 78,
    "start_time": "2023-04-27T18:03:34.247Z"
   },
   {
    "duration": 5,
    "start_time": "2023-04-27T18:06:32.844Z"
   },
   {
    "duration": 7,
    "start_time": "2023-04-27T18:06:42.629Z"
   },
   {
    "duration": 13,
    "start_time": "2023-04-27T18:07:15.107Z"
   },
   {
    "duration": 10,
    "start_time": "2023-04-27T18:07:22.106Z"
   },
   {
    "duration": 23,
    "start_time": "2023-04-27T18:11:04.076Z"
   },
   {
    "duration": 11,
    "start_time": "2023-04-27T18:11:16.402Z"
   },
   {
    "duration": 52,
    "start_time": "2023-04-27T18:12:39.400Z"
   },
   {
    "duration": 67,
    "start_time": "2023-04-27T18:13:47.445Z"
   },
   {
    "duration": 50,
    "start_time": "2023-04-27T18:14:46.799Z"
   },
   {
    "duration": 19,
    "start_time": "2023-04-27T18:14:58.028Z"
   },
   {
    "duration": 15,
    "start_time": "2023-04-27T18:15:15.913Z"
   },
   {
    "duration": 18,
    "start_time": "2023-04-27T18:17:31.920Z"
   },
   {
    "duration": 19,
    "start_time": "2023-04-27T18:17:43.289Z"
   },
   {
    "duration": 1036,
    "start_time": "2023-04-27T18:18:12.589Z"
   },
   {
    "duration": 2503,
    "start_time": "2023-04-27T18:18:13.630Z"
   },
   {
    "duration": 34,
    "start_time": "2023-04-27T18:18:16.135Z"
   },
   {
    "duration": 163,
    "start_time": "2023-04-27T18:18:16.170Z"
   },
   {
    "duration": 90,
    "start_time": "2023-04-27T18:18:16.336Z"
   },
   {
    "duration": 3,
    "start_time": "2023-04-27T18:18:16.428Z"
   },
   {
    "duration": 62,
    "start_time": "2023-04-27T18:18:16.433Z"
   },
   {
    "duration": 75,
    "start_time": "2023-04-27T18:18:16.500Z"
   },
   {
    "duration": 35,
    "start_time": "2023-04-27T18:18:16.577Z"
   },
   {
    "duration": 124,
    "start_time": "2023-04-27T18:18:16.614Z"
   },
   {
    "duration": 58,
    "start_time": "2023-04-27T18:18:16.740Z"
   },
   {
    "duration": 6,
    "start_time": "2023-04-27T18:18:16.803Z"
   },
   {
    "duration": 65,
    "start_time": "2023-04-27T18:18:16.811Z"
   },
   {
    "duration": 2,
    "start_time": "2023-04-27T18:18:16.879Z"
   },
   {
    "duration": 44,
    "start_time": "2023-04-27T18:18:16.891Z"
   },
   {
    "duration": 82,
    "start_time": "2023-04-27T18:18:16.938Z"
   },
   {
    "duration": 12,
    "start_time": "2023-04-27T18:18:17.022Z"
   },
   {
    "duration": 80,
    "start_time": "2023-04-27T18:18:17.037Z"
   },
   {
    "duration": 231,
    "start_time": "2023-04-27T18:18:18.482Z"
   },
   {
    "duration": 2639,
    "start_time": "2023-04-27T18:18:19.266Z"
   },
   {
    "duration": 34,
    "start_time": "2023-04-27T18:18:21.912Z"
   },
   {
    "duration": 177,
    "start_time": "2023-04-27T18:18:22.755Z"
   },
   {
    "duration": 88,
    "start_time": "2023-04-27T18:18:23.042Z"
   },
   {
    "duration": 3,
    "start_time": "2023-04-27T18:18:23.180Z"
   },
   {
    "duration": 56,
    "start_time": "2023-04-27T18:18:23.284Z"
   },
   {
    "duration": 66,
    "start_time": "2023-04-27T18:18:23.419Z"
   },
   {
    "duration": 21,
    "start_time": "2023-04-27T18:18:23.557Z"
   },
   {
    "duration": 121,
    "start_time": "2023-04-27T18:18:24.228Z"
   },
   {
    "duration": 32,
    "start_time": "2023-04-27T18:18:24.634Z"
   },
   {
    "duration": 6,
    "start_time": "2023-04-27T18:18:25.263Z"
   },
   {
    "duration": 63,
    "start_time": "2023-04-27T18:18:25.642Z"
   },
   {
    "duration": 4,
    "start_time": "2023-04-27T18:18:26.104Z"
   },
   {
    "duration": 34,
    "start_time": "2023-04-27T18:18:26.571Z"
   },
   {
    "duration": 76,
    "start_time": "2023-04-27T18:18:27.039Z"
   },
   {
    "duration": 11,
    "start_time": "2023-04-27T18:18:28.251Z"
   },
   {
    "duration": 59,
    "start_time": "2023-04-27T18:18:28.950Z"
   },
   {
    "duration": 106,
    "start_time": "2023-04-27T18:23:13.182Z"
   },
   {
    "duration": 143,
    "start_time": "2023-04-27T18:23:19.843Z"
   },
   {
    "duration": 158,
    "start_time": "2023-04-27T18:25:03.075Z"
   },
   {
    "duration": 144,
    "start_time": "2023-04-27T18:25:36.414Z"
   },
   {
    "duration": 97,
    "start_time": "2023-04-27T18:25:44.843Z"
   },
   {
    "duration": 142,
    "start_time": "2023-04-27T18:26:03.145Z"
   },
   {
    "duration": 146,
    "start_time": "2023-04-27T18:26:13.406Z"
   },
   {
    "duration": 3,
    "start_time": "2023-04-27T18:31:11.181Z"
   },
   {
    "duration": 28,
    "start_time": "2023-04-27T18:31:23.148Z"
   },
   {
    "duration": 81,
    "start_time": "2023-04-27T18:32:27.772Z"
   },
   {
    "duration": 17,
    "start_time": "2023-04-27T18:32:34.606Z"
   },
   {
    "duration": 8,
    "start_time": "2023-04-27T18:34:34.449Z"
   },
   {
    "duration": 27,
    "start_time": "2023-04-27T18:34:42.143Z"
   },
   {
    "duration": 50,
    "start_time": "2023-04-27T18:35:10.079Z"
   },
   {
    "duration": 13,
    "start_time": "2023-04-27T18:35:15.323Z"
   },
   {
    "duration": 12,
    "start_time": "2023-04-27T18:36:47.715Z"
   },
   {
    "duration": 19,
    "start_time": "2023-04-27T18:37:00.125Z"
   },
   {
    "duration": 12,
    "start_time": "2023-04-27T18:38:52.231Z"
   },
   {
    "duration": 167,
    "start_time": "2023-04-27T18:38:59.174Z"
   },
   {
    "duration": 2923,
    "start_time": "2023-04-27T18:40:24.021Z"
   },
   {
    "duration": 258,
    "start_time": "2023-04-27T18:43:48.823Z"
   },
   {
    "duration": 291,
    "start_time": "2023-04-27T18:44:00.531Z"
   },
   {
    "duration": 255,
    "start_time": "2023-04-27T18:44:32.479Z"
   },
   {
    "duration": 245,
    "start_time": "2023-04-27T18:50:27.754Z"
   },
   {
    "duration": 245,
    "start_time": "2023-04-27T18:50:35.161Z"
   },
   {
    "duration": 270,
    "start_time": "2023-04-27T18:50:43.484Z"
   },
   {
    "duration": 420,
    "start_time": "2023-04-27T18:51:50.488Z"
   },
   {
    "duration": 278,
    "start_time": "2023-04-27T18:52:13.403Z"
   },
   {
    "duration": 290,
    "start_time": "2023-04-27T18:52:23.554Z"
   },
   {
    "duration": 245,
    "start_time": "2023-04-27T18:52:50.823Z"
   },
   {
    "duration": 278,
    "start_time": "2023-04-27T18:52:57.088Z"
   },
   {
    "duration": 246,
    "start_time": "2023-04-27T19:00:34.257Z"
   },
   {
    "duration": 55,
    "start_time": "2023-04-27T19:02:52.160Z"
   },
   {
    "duration": 57,
    "start_time": "2023-04-27T19:03:03.086Z"
   },
   {
    "duration": 215,
    "start_time": "2023-04-27T19:03:16.958Z"
   },
   {
    "duration": 3,
    "start_time": "2023-04-27T19:03:31.886Z"
   },
   {
    "duration": 49,
    "start_time": "2023-04-27T19:05:51.010Z"
   },
   {
    "duration": 4,
    "start_time": "2023-04-27T19:05:59.418Z"
   },
   {
    "duration": 4,
    "start_time": "2023-04-27T19:06:50.651Z"
   },
   {
    "duration": 3,
    "start_time": "2023-04-27T19:07:43.343Z"
   },
   {
    "duration": 8,
    "start_time": "2023-04-27T19:09:00.552Z"
   },
   {
    "duration": 10,
    "start_time": "2023-04-27T19:09:21.628Z"
   },
   {
    "duration": 225,
    "start_time": "2023-04-27T19:10:08.233Z"
   },
   {
    "duration": 233,
    "start_time": "2023-04-27T19:14:10.710Z"
   },
   {
    "duration": 231,
    "start_time": "2023-04-27T19:14:21.026Z"
   },
   {
    "duration": 155,
    "start_time": "2023-04-27T19:25:53.879Z"
   },
   {
    "duration": 277,
    "start_time": "2023-04-27T19:30:48.578Z"
   },
   {
    "duration": 162,
    "start_time": "2023-04-27T19:32:44.051Z"
   },
   {
    "duration": 141,
    "start_time": "2023-04-27T19:33:59.525Z"
   },
   {
    "duration": 324,
    "start_time": "2023-04-27T19:36:10.987Z"
   },
   {
    "duration": 148,
    "start_time": "2023-04-27T19:36:36.603Z"
   },
   {
    "duration": 520,
    "start_time": "2023-04-27T19:39:24.343Z"
   },
   {
    "duration": 150,
    "start_time": "2023-04-27T19:40:30.110Z"
   },
   {
    "duration": 265,
    "start_time": "2023-04-27T19:41:06.520Z"
   },
   {
    "duration": 387,
    "start_time": "2023-04-27T19:44:20.588Z"
   },
   {
    "duration": 157,
    "start_time": "2023-04-27T19:44:25.805Z"
   },
   {
    "duration": 235,
    "start_time": "2023-04-27T19:48:32.570Z"
   },
   {
    "duration": 134,
    "start_time": "2023-04-27T19:49:32.940Z"
   },
   {
    "duration": 160,
    "start_time": "2023-04-27T19:51:09.322Z"
   },
   {
    "duration": 212,
    "start_time": "2023-04-27T19:51:45.249Z"
   },
   {
    "duration": 11,
    "start_time": "2023-04-27T19:53:57.715Z"
   },
   {
    "duration": 209,
    "start_time": "2023-04-27T19:54:05.680Z"
   },
   {
    "duration": 212,
    "start_time": "2023-04-27T19:54:14.860Z"
   },
   {
    "duration": 413,
    "start_time": "2023-04-27T19:57:06.330Z"
   },
   {
    "duration": 273,
    "start_time": "2023-04-27T19:57:40.718Z"
   },
   {
    "duration": 272,
    "start_time": "2023-04-27T19:58:09.226Z"
   },
   {
    "duration": 1293,
    "start_time": "2023-04-28T16:07:47.791Z"
   },
   {
    "duration": 1956,
    "start_time": "2023-04-28T16:07:52.159Z"
   },
   {
    "duration": 29,
    "start_time": "2023-04-28T16:36:27.891Z"
   },
   {
    "duration": 833,
    "start_time": "2023-04-28T16:36:52.150Z"
   },
   {
    "duration": 2073,
    "start_time": "2023-04-28T16:36:52.986Z"
   },
   {
    "duration": 27,
    "start_time": "2023-04-28T16:36:55.061Z"
   },
   {
    "duration": 142,
    "start_time": "2023-04-28T16:36:55.090Z"
   },
   {
    "duration": 102,
    "start_time": "2023-04-28T16:36:55.240Z"
   },
   {
    "duration": 4,
    "start_time": "2023-04-28T16:36:55.344Z"
   },
   {
    "duration": 65,
    "start_time": "2023-04-28T16:36:55.349Z"
   },
   {
    "duration": 63,
    "start_time": "2023-04-28T16:36:55.416Z"
   },
   {
    "duration": 17,
    "start_time": "2023-04-28T16:36:55.481Z"
   },
   {
    "duration": 108,
    "start_time": "2023-04-28T16:36:55.502Z"
   },
   {
    "duration": 33,
    "start_time": "2023-04-28T16:36:55.611Z"
   },
   {
    "duration": 7,
    "start_time": "2023-04-28T16:36:55.645Z"
   },
   {
    "duration": 52,
    "start_time": "2023-04-28T16:36:55.654Z"
   },
   {
    "duration": 2,
    "start_time": "2023-04-28T16:36:55.708Z"
   },
   {
    "duration": 42,
    "start_time": "2023-04-28T16:36:55.712Z"
   },
   {
    "duration": 67,
    "start_time": "2023-04-28T16:36:55.756Z"
   },
   {
    "duration": 17,
    "start_time": "2023-04-28T16:36:55.835Z"
   },
   {
    "duration": 136,
    "start_time": "2023-04-28T16:36:55.853Z"
   },
   {
    "duration": 12,
    "start_time": "2023-04-28T16:36:55.991Z"
   },
   {
    "duration": 11,
    "start_time": "2023-04-28T16:36:56.004Z"
   },
   {
    "duration": 233,
    "start_time": "2023-04-28T16:36:56.017Z"
   },
   {
    "duration": 137,
    "start_time": "2023-04-28T16:36:56.252Z"
   },
   {
    "duration": 157,
    "start_time": "2023-04-28T16:36:56.391Z"
   },
   {
    "duration": 124,
    "start_time": "2023-04-28T16:36:56.551Z"
   },
   {
    "duration": 683,
    "start_time": "2023-04-28T16:36:56.676Z"
   },
   {
    "duration": 185,
    "start_time": "2023-04-28T16:36:57.361Z"
   },
   {
    "duration": 250,
    "start_time": "2023-04-28T16:36:57.550Z"
   },
   {
    "duration": 193,
    "start_time": "2023-04-28T16:36:57.804Z"
   },
   {
    "duration": 1979,
    "start_time": "2023-04-28T16:37:05.600Z"
   },
   {
    "duration": 810,
    "start_time": "2023-04-28T16:38:08.559Z"
   },
   {
    "duration": 1956,
    "start_time": "2023-04-28T16:38:09.371Z"
   },
   {
    "duration": 45,
    "start_time": "2023-04-28T16:38:11.330Z"
   },
   {
    "duration": 180,
    "start_time": "2023-04-28T16:38:11.377Z"
   },
   {
    "duration": 75,
    "start_time": "2023-04-28T16:38:11.560Z"
   },
   {
    "duration": 9,
    "start_time": "2023-04-28T16:38:11.642Z"
   },
   {
    "duration": 39,
    "start_time": "2023-04-28T16:38:11.652Z"
   },
   {
    "duration": 64,
    "start_time": "2023-04-28T16:38:11.693Z"
   },
   {
    "duration": 14,
    "start_time": "2023-04-28T16:38:11.758Z"
   },
   {
    "duration": 110,
    "start_time": "2023-04-28T16:38:11.773Z"
   },
   {
    "duration": 26,
    "start_time": "2023-04-28T16:38:11.884Z"
   },
   {
    "duration": 32,
    "start_time": "2023-04-28T16:38:11.911Z"
   },
   {
    "duration": 51,
    "start_time": "2023-04-28T16:38:11.944Z"
   },
   {
    "duration": 2,
    "start_time": "2023-04-28T16:38:11.998Z"
   },
   {
    "duration": 31,
    "start_time": "2023-04-28T16:38:12.002Z"
   },
   {
    "duration": 71,
    "start_time": "2023-04-28T16:38:12.034Z"
   },
   {
    "duration": 9,
    "start_time": "2023-04-28T16:38:12.107Z"
   },
   {
    "duration": 161,
    "start_time": "2023-04-28T16:38:12.117Z"
   },
   {
    "duration": 9,
    "start_time": "2023-04-28T16:38:12.279Z"
   },
   {
    "duration": 8,
    "start_time": "2023-04-28T16:38:12.290Z"
   },
   {
    "duration": 244,
    "start_time": "2023-04-28T16:38:12.300Z"
   },
   {
    "duration": 142,
    "start_time": "2023-04-28T16:38:12.546Z"
   },
   {
    "duration": 163,
    "start_time": "2023-04-28T16:38:12.690Z"
   },
   {
    "duration": 138,
    "start_time": "2023-04-28T16:38:12.855Z"
   },
   {
    "duration": 669,
    "start_time": "2023-04-28T16:38:12.994Z"
   },
   {
    "duration": 193,
    "start_time": "2023-04-28T16:38:13.664Z"
   },
   {
    "duration": 255,
    "start_time": "2023-04-28T16:38:13.859Z"
   },
   {
    "duration": 198,
    "start_time": "2023-04-28T16:38:14.117Z"
   },
   {
    "duration": 1978,
    "start_time": "2023-04-28T16:38:14.967Z"
   },
   {
    "duration": 32,
    "start_time": "2023-04-28T16:38:55.983Z"
   },
   {
    "duration": 29,
    "start_time": "2023-04-28T16:40:55.580Z"
   },
   {
    "duration": 782,
    "start_time": "2023-04-28T16:41:27.791Z"
   },
   {
    "duration": 2085,
    "start_time": "2023-04-28T16:41:28.575Z"
   },
   {
    "duration": 35,
    "start_time": "2023-04-28T16:41:30.662Z"
   },
   {
    "duration": 258,
    "start_time": "2023-04-28T16:41:30.698Z"
   },
   {
    "duration": 113,
    "start_time": "2023-04-28T16:41:30.959Z"
   },
   {
    "duration": 10,
    "start_time": "2023-04-28T16:41:31.074Z"
   },
   {
    "duration": 100,
    "start_time": "2023-04-28T16:41:31.085Z"
   },
   {
    "duration": 83,
    "start_time": "2023-04-28T16:41:31.186Z"
   },
   {
    "duration": 28,
    "start_time": "2023-04-28T16:41:31.271Z"
   },
   {
    "duration": 155,
    "start_time": "2023-04-28T16:41:31.300Z"
   },
   {
    "duration": 27,
    "start_time": "2023-04-28T16:41:31.457Z"
   },
   {
    "duration": 69,
    "start_time": "2023-04-28T16:41:31.485Z"
   },
   {
    "duration": 97,
    "start_time": "2023-04-28T16:41:31.556Z"
   },
   {
    "duration": 3,
    "start_time": "2023-04-28T16:41:31.657Z"
   },
   {
    "duration": 60,
    "start_time": "2023-04-28T16:41:31.662Z"
   },
   {
    "duration": 80,
    "start_time": "2023-04-28T16:41:31.724Z"
   },
   {
    "duration": 8,
    "start_time": "2023-04-28T16:41:31.806Z"
   },
   {
    "duration": 189,
    "start_time": "2023-04-28T16:41:31.816Z"
   },
   {
    "duration": 22,
    "start_time": "2023-04-28T16:41:32.035Z"
   },
   {
    "duration": 16,
    "start_time": "2023-04-28T16:41:32.059Z"
   },
   {
    "duration": 247,
    "start_time": "2023-04-28T16:41:32.077Z"
   },
   {
    "duration": 138,
    "start_time": "2023-04-28T16:41:32.326Z"
   },
   {
    "duration": 145,
    "start_time": "2023-04-28T16:41:32.467Z"
   },
   {
    "duration": 145,
    "start_time": "2023-04-28T16:41:32.614Z"
   },
   {
    "duration": 661,
    "start_time": "2023-04-28T16:41:32.761Z"
   },
   {
    "duration": 195,
    "start_time": "2023-04-28T16:41:33.424Z"
   },
   {
    "duration": 278,
    "start_time": "2023-04-28T16:41:33.621Z"
   },
   {
    "duration": 206,
    "start_time": "2023-04-28T16:41:33.901Z"
   },
   {
    "duration": 2129,
    "start_time": "2023-04-28T16:41:34.970Z"
   },
   {
    "duration": 865,
    "start_time": "2023-04-28T16:53:22.478Z"
   },
   {
    "duration": 1962,
    "start_time": "2023-04-28T16:53:23.345Z"
   },
   {
    "duration": 35,
    "start_time": "2023-04-28T16:53:25.309Z"
   },
   {
    "duration": 148,
    "start_time": "2023-04-28T16:53:25.346Z"
   },
   {
    "duration": 79,
    "start_time": "2023-04-28T16:53:25.496Z"
   },
   {
    "duration": 3,
    "start_time": "2023-04-28T16:53:25.576Z"
   },
   {
    "duration": 41,
    "start_time": "2023-04-28T16:53:25.580Z"
   },
   {
    "duration": 65,
    "start_time": "2023-04-28T16:53:25.623Z"
   },
   {
    "duration": 12,
    "start_time": "2023-04-28T16:53:25.690Z"
   },
   {
    "duration": 111,
    "start_time": "2023-04-28T16:53:25.705Z"
   },
   {
    "duration": 33,
    "start_time": "2023-04-28T16:53:25.817Z"
   },
   {
    "duration": 7,
    "start_time": "2023-04-28T16:53:25.857Z"
   },
   {
    "duration": 48,
    "start_time": "2023-04-28T16:53:25.865Z"
   },
   {
    "duration": 2,
    "start_time": "2023-04-28T16:53:25.914Z"
   },
   {
    "duration": 41,
    "start_time": "2023-04-28T16:53:25.918Z"
   },
   {
    "duration": 57,
    "start_time": "2023-04-28T16:53:25.961Z"
   },
   {
    "duration": 27,
    "start_time": "2023-04-28T16:53:26.019Z"
   },
   {
    "duration": 134,
    "start_time": "2023-04-28T16:53:26.050Z"
   },
   {
    "duration": 8,
    "start_time": "2023-04-28T16:53:26.185Z"
   },
   {
    "duration": 9,
    "start_time": "2023-04-28T16:53:26.194Z"
   },
   {
    "duration": 218,
    "start_time": "2023-04-28T16:53:26.204Z"
   },
   {
    "duration": 136,
    "start_time": "2023-04-28T16:53:26.424Z"
   },
   {
    "duration": 140,
    "start_time": "2023-04-28T16:53:26.562Z"
   },
   {
    "duration": 128,
    "start_time": "2023-04-28T16:53:26.703Z"
   },
   {
    "duration": 648,
    "start_time": "2023-04-28T16:53:26.835Z"
   },
   {
    "duration": 190,
    "start_time": "2023-04-28T16:53:27.485Z"
   },
   {
    "duration": 259,
    "start_time": "2023-04-28T16:53:27.676Z"
   },
   {
    "duration": 195,
    "start_time": "2023-04-28T16:53:28.360Z"
   },
   {
    "duration": 853,
    "start_time": "2023-04-28T16:54:15.420Z"
   },
   {
    "duration": 2072,
    "start_time": "2023-04-28T16:54:16.275Z"
   },
   {
    "duration": 30,
    "start_time": "2023-04-28T16:54:18.349Z"
   },
   {
    "duration": 146,
    "start_time": "2023-04-28T16:54:18.381Z"
   },
   {
    "duration": 73,
    "start_time": "2023-04-28T16:54:18.528Z"
   },
   {
    "duration": 3,
    "start_time": "2023-04-28T16:54:18.602Z"
   },
   {
    "duration": 61,
    "start_time": "2023-04-28T16:54:18.606Z"
   },
   {
    "duration": 50,
    "start_time": "2023-04-28T16:54:18.669Z"
   },
   {
    "duration": 37,
    "start_time": "2023-04-28T16:54:18.720Z"
   },
   {
    "duration": 97,
    "start_time": "2023-04-28T16:54:18.766Z"
   },
   {
    "duration": 27,
    "start_time": "2023-04-28T16:54:18.865Z"
   },
   {
    "duration": 4,
    "start_time": "2023-04-28T16:54:18.894Z"
   },
   {
    "duration": 69,
    "start_time": "2023-04-28T16:54:18.899Z"
   },
   {
    "duration": 2,
    "start_time": "2023-04-28T16:54:18.970Z"
   },
   {
    "duration": 24,
    "start_time": "2023-04-28T16:54:18.974Z"
   },
   {
    "duration": 75,
    "start_time": "2023-04-28T16:54:19.000Z"
   },
   {
    "duration": 8,
    "start_time": "2023-04-28T16:54:19.077Z"
   },
   {
    "duration": 141,
    "start_time": "2023-04-28T16:54:19.086Z"
   },
   {
    "duration": 20,
    "start_time": "2023-04-28T16:54:19.229Z"
   },
   {
    "duration": 21,
    "start_time": "2023-04-28T16:54:19.250Z"
   },
   {
    "duration": 192,
    "start_time": "2023-04-28T16:54:19.273Z"
   },
   {
    "duration": 128,
    "start_time": "2023-04-28T16:54:19.466Z"
   },
   {
    "duration": 147,
    "start_time": "2023-04-28T16:54:19.596Z"
   },
   {
    "duration": 126,
    "start_time": "2023-04-28T16:54:19.744Z"
   },
   {
    "duration": 628,
    "start_time": "2023-04-28T16:54:19.872Z"
   },
   {
    "duration": 183,
    "start_time": "2023-04-28T16:54:20.502Z"
   },
   {
    "duration": 249,
    "start_time": "2023-04-28T16:54:20.687Z"
   },
   {
    "duration": 192,
    "start_time": "2023-04-28T16:54:23.385Z"
   },
   {
    "duration": 212,
    "start_time": "2023-04-28T16:54:35.252Z"
   },
   {
    "duration": 1964,
    "start_time": "2023-04-28T16:54:36.521Z"
   },
   {
    "duration": 34,
    "start_time": "2023-04-28T16:54:55.136Z"
   },
   {
    "duration": 134,
    "start_time": "2023-04-28T16:54:58.178Z"
   },
   {
    "duration": 75,
    "start_time": "2023-04-28T16:55:01.999Z"
   },
   {
    "duration": 17,
    "start_time": "2023-04-28T17:00:00.841Z"
   },
   {
    "duration": 51,
    "start_time": "2023-04-28T17:00:22.998Z"
   },
   {
    "duration": 13,
    "start_time": "2023-04-28T17:00:37.376Z"
   },
   {
    "duration": 878,
    "start_time": "2023-04-28T17:00:42.089Z"
   },
   {
    "duration": 2127,
    "start_time": "2023-04-28T17:00:42.969Z"
   },
   {
    "duration": 32,
    "start_time": "2023-04-28T17:00:45.098Z"
   },
   {
    "duration": 202,
    "start_time": "2023-04-28T17:00:45.132Z"
   },
   {
    "duration": 110,
    "start_time": "2023-04-28T17:00:45.337Z"
   },
   {
    "duration": 21,
    "start_time": "2023-04-28T17:00:45.449Z"
   },
   {
    "duration": 89,
    "start_time": "2023-04-28T17:00:45.473Z"
   },
   {
    "duration": 18,
    "start_time": "2023-04-28T17:00:45.564Z"
   },
   {
    "duration": 120,
    "start_time": "2023-04-28T17:00:45.584Z"
   },
   {
    "duration": 53,
    "start_time": "2023-04-28T17:00:45.706Z"
   },
   {
    "duration": 6,
    "start_time": "2023-04-28T17:00:45.761Z"
   },
   {
    "duration": 54,
    "start_time": "2023-04-28T17:00:45.768Z"
   },
   {
    "duration": 3,
    "start_time": "2023-04-28T17:00:45.824Z"
   },
   {
    "duration": 35,
    "start_time": "2023-04-28T17:00:45.829Z"
   },
   {
    "duration": 87,
    "start_time": "2023-04-28T17:00:45.866Z"
   },
   {
    "duration": 11,
    "start_time": "2023-04-28T17:00:45.957Z"
   },
   {
    "duration": 159,
    "start_time": "2023-04-28T17:00:45.970Z"
   },
   {
    "duration": 17,
    "start_time": "2023-04-28T17:00:46.130Z"
   },
   {
    "duration": 28,
    "start_time": "2023-04-28T17:00:46.154Z"
   },
   {
    "duration": 245,
    "start_time": "2023-04-28T17:00:46.183Z"
   },
   {
    "duration": 194,
    "start_time": "2023-04-28T17:00:46.430Z"
   },
   {
    "duration": 174,
    "start_time": "2023-04-28T17:00:46.626Z"
   },
   {
    "duration": 150,
    "start_time": "2023-04-28T17:00:46.801Z"
   },
   {
    "duration": 687,
    "start_time": "2023-04-28T17:00:46.955Z"
   },
   {
    "duration": 200,
    "start_time": "2023-04-28T17:00:47.644Z"
   },
   {
    "duration": 268,
    "start_time": "2023-04-28T17:00:47.845Z"
   },
   {
    "duration": 197,
    "start_time": "2023-04-28T17:00:55.778Z"
   },
   {
    "duration": 1955,
    "start_time": "2023-04-28T17:00:56.753Z"
   },
   {
    "duration": 33,
    "start_time": "2023-04-28T17:01:04.824Z"
   },
   {
    "duration": 163,
    "start_time": "2023-04-28T17:01:30.307Z"
   },
   {
    "duration": 79,
    "start_time": "2023-04-28T17:01:33.288Z"
   },
   {
    "duration": 13,
    "start_time": "2023-04-28T17:01:35.969Z"
   },
   {
    "duration": 871,
    "start_time": "2023-04-28T17:02:19.355Z"
   },
   {
    "duration": 2012,
    "start_time": "2023-04-28T17:02:20.239Z"
   },
   {
    "duration": 28,
    "start_time": "2023-04-28T17:02:22.254Z"
   },
   {
    "duration": 134,
    "start_time": "2023-04-28T17:02:22.284Z"
   },
   {
    "duration": 81,
    "start_time": "2023-04-28T17:02:22.420Z"
   },
   {
    "duration": 43,
    "start_time": "2023-04-28T17:02:22.503Z"
   },
   {
    "duration": 53,
    "start_time": "2023-04-28T17:02:22.549Z"
   },
   {
    "duration": 12,
    "start_time": "2023-04-28T17:02:22.604Z"
   },
   {
    "duration": 102,
    "start_time": "2023-04-28T17:02:22.618Z"
   },
   {
    "duration": 51,
    "start_time": "2023-04-28T17:02:22.723Z"
   },
   {
    "duration": 5,
    "start_time": "2023-04-28T17:02:22.776Z"
   },
   {
    "duration": 77,
    "start_time": "2023-04-28T17:02:22.783Z"
   },
   {
    "duration": 3,
    "start_time": "2023-04-28T17:02:22.862Z"
   },
   {
    "duration": 38,
    "start_time": "2023-04-28T17:02:22.867Z"
   },
   {
    "duration": 75,
    "start_time": "2023-04-28T17:02:22.907Z"
   },
   {
    "duration": 9,
    "start_time": "2023-04-28T17:02:22.984Z"
   },
   {
    "duration": 142,
    "start_time": "2023-04-28T17:02:22.994Z"
   },
   {
    "duration": 12,
    "start_time": "2023-04-28T17:02:23.137Z"
   },
   {
    "duration": 11,
    "start_time": "2023-04-28T17:02:23.151Z"
   },
   {
    "duration": 222,
    "start_time": "2023-04-28T17:02:23.163Z"
   },
   {
    "duration": 142,
    "start_time": "2023-04-28T17:02:23.386Z"
   },
   {
    "duration": 194,
    "start_time": "2023-04-28T17:02:23.530Z"
   },
   {
    "duration": 141,
    "start_time": "2023-04-28T17:02:23.725Z"
   },
   {
    "duration": 633,
    "start_time": "2023-04-28T17:02:23.867Z"
   },
   {
    "duration": 181,
    "start_time": "2023-04-28T17:02:24.501Z"
   },
   {
    "duration": 289,
    "start_time": "2023-04-28T17:02:24.683Z"
   },
   {
    "duration": 218,
    "start_time": "2023-04-28T17:02:24.974Z"
   },
   {
    "duration": 1907,
    "start_time": "2023-04-28T17:02:25.196Z"
   },
   {
    "duration": 26,
    "start_time": "2023-04-28T17:02:29.757Z"
   },
   {
    "duration": 148,
    "start_time": "2023-04-28T17:02:31.521Z"
   },
   {
    "duration": 78,
    "start_time": "2023-04-28T17:02:32.890Z"
   },
   {
    "duration": 31,
    "start_time": "2023-04-28T17:02:34.353Z"
   },
   {
    "duration": 67,
    "start_time": "2023-04-28T17:03:06.866Z"
   },
   {
    "duration": 77,
    "start_time": "2023-04-28T17:04:41.772Z"
   },
   {
    "duration": 41,
    "start_time": "2023-04-28T17:12:47.900Z"
   },
   {
    "duration": 60,
    "start_time": "2023-04-28T17:14:12.894Z"
   },
   {
    "duration": 46,
    "start_time": "2023-04-28T17:14:41.747Z"
   },
   {
    "duration": 22,
    "start_time": "2023-04-28T17:21:45.094Z"
   },
   {
    "duration": 14,
    "start_time": "2023-04-28T17:22:08.728Z"
   },
   {
    "duration": 16,
    "start_time": "2023-04-28T17:22:34.421Z"
   },
   {
    "duration": 24,
    "start_time": "2023-04-28T17:23:14.756Z"
   },
   {
    "duration": 380,
    "start_time": "2023-04-28T17:24:42.865Z"
   },
   {
    "duration": 1336,
    "start_time": "2023-04-28T17:25:03.059Z"
   },
   {
    "duration": 2156,
    "start_time": "2023-04-28T17:25:04.397Z"
   },
   {
    "duration": 29,
    "start_time": "2023-04-28T17:25:06.558Z"
   },
   {
    "duration": 172,
    "start_time": "2023-04-28T17:25:06.588Z"
   },
   {
    "duration": 83,
    "start_time": "2023-04-28T17:25:06.765Z"
   },
   {
    "duration": 42,
    "start_time": "2023-04-28T17:25:06.850Z"
   },
   {
    "duration": 17,
    "start_time": "2023-04-28T17:25:06.894Z"
   },
   {
    "duration": 23,
    "start_time": "2023-04-28T17:25:06.912Z"
   },
   {
    "duration": 15,
    "start_time": "2023-04-28T17:25:06.936Z"
   },
   {
    "duration": 63,
    "start_time": "2023-04-28T17:25:06.954Z"
   },
   {
    "duration": 3,
    "start_time": "2023-04-28T17:25:07.019Z"
   },
   {
    "duration": 65,
    "start_time": "2023-04-28T17:25:07.024Z"
   },
   {
    "duration": 74,
    "start_time": "2023-04-28T17:25:07.092Z"
   },
   {
    "duration": 9,
    "start_time": "2023-04-28T17:25:07.169Z"
   },
   {
    "duration": 194,
    "start_time": "2023-04-28T17:25:07.179Z"
   },
   {
    "duration": 8,
    "start_time": "2023-04-28T17:25:07.374Z"
   },
   {
    "duration": 8,
    "start_time": "2023-04-28T17:25:07.384Z"
   },
   {
    "duration": 252,
    "start_time": "2023-04-28T17:25:07.394Z"
   },
   {
    "duration": 140,
    "start_time": "2023-04-28T17:25:07.652Z"
   },
   {
    "duration": 158,
    "start_time": "2023-04-28T17:25:07.794Z"
   },
   {
    "duration": 129,
    "start_time": "2023-04-28T17:25:07.958Z"
   },
   {
    "duration": 733,
    "start_time": "2023-04-28T17:25:08.089Z"
   },
   {
    "duration": 230,
    "start_time": "2023-04-28T17:25:08.824Z"
   },
   {
    "duration": 313,
    "start_time": "2023-04-28T17:25:09.057Z"
   },
   {
    "duration": 215,
    "start_time": "2023-04-28T17:25:09.372Z"
   },
   {
    "duration": 2204,
    "start_time": "2023-04-28T17:25:10.996Z"
   },
   {
    "duration": 35,
    "start_time": "2023-04-28T17:25:22.161Z"
   },
   {
    "duration": 178,
    "start_time": "2023-04-28T17:25:25.600Z"
   },
   {
    "duration": 76,
    "start_time": "2023-04-28T17:25:26.892Z"
   },
   {
    "duration": 48,
    "start_time": "2023-04-28T17:25:28.573Z"
   },
   {
    "duration": 13,
    "start_time": "2023-04-28T17:25:29.409Z"
   },
   {
    "duration": 23,
    "start_time": "2023-04-28T17:25:30.662Z"
   },
   {
    "duration": 5,
    "start_time": "2023-04-28T17:25:31.364Z"
   },
   {
    "duration": 56,
    "start_time": "2023-04-28T17:25:36.405Z"
   },
   {
    "duration": 3,
    "start_time": "2023-04-28T17:25:37.103Z"
   },
   {
    "duration": 27,
    "start_time": "2023-04-28T17:25:37.877Z"
   },
   {
    "duration": 86,
    "start_time": "2023-04-28T17:25:40.575Z"
   },
   {
    "duration": 9,
    "start_time": "2023-04-28T17:25:44.515Z"
   },
   {
    "duration": 204,
    "start_time": "2023-04-28T17:25:45.526Z"
   },
   {
    "duration": 9,
    "start_time": "2023-04-28T17:25:46.098Z"
   },
   {
    "duration": 7,
    "start_time": "2023-04-28T17:25:46.812Z"
   },
   {
    "duration": 198,
    "start_time": "2023-04-28T17:25:49.960Z"
   },
   {
    "duration": 158,
    "start_time": "2023-04-28T17:25:50.727Z"
   },
   {
    "duration": 326,
    "start_time": "2023-04-28T17:26:07.770Z"
   },
   {
    "duration": 774,
    "start_time": "2023-04-28T17:27:52.499Z"
   },
   {
    "duration": 2032,
    "start_time": "2023-04-28T17:27:53.275Z"
   },
   {
    "duration": 44,
    "start_time": "2023-04-28T17:27:55.309Z"
   },
   {
    "duration": 149,
    "start_time": "2023-04-28T17:27:55.358Z"
   },
   {
    "duration": 81,
    "start_time": "2023-04-28T17:27:55.509Z"
   },
   {
    "duration": 52,
    "start_time": "2023-04-28T17:27:55.592Z"
   },
   {
    "duration": 17,
    "start_time": "2023-04-28T17:27:55.650Z"
   },
   {
    "duration": 56,
    "start_time": "2023-04-28T17:27:55.668Z"
   },
   {
    "duration": 12,
    "start_time": "2023-04-28T17:27:55.725Z"
   },
   {
    "duration": 76,
    "start_time": "2023-04-28T17:27:55.738Z"
   },
   {
    "duration": 2,
    "start_time": "2023-04-28T17:27:55.816Z"
   },
   {
    "duration": 45,
    "start_time": "2023-04-28T17:27:55.820Z"
   },
   {
    "duration": 61,
    "start_time": "2023-04-28T17:27:55.867Z"
   },
   {
    "duration": 17,
    "start_time": "2023-04-28T17:27:55.930Z"
   },
   {
    "duration": 209,
    "start_time": "2023-04-28T17:27:55.952Z"
   },
   {
    "duration": 8,
    "start_time": "2023-04-28T17:27:56.164Z"
   },
   {
    "duration": 15,
    "start_time": "2023-04-28T17:27:56.173Z"
   },
   {
    "duration": 204,
    "start_time": "2023-04-28T17:27:56.189Z"
   },
   {
    "duration": 125,
    "start_time": "2023-04-28T17:27:56.394Z"
   },
   {
    "duration": 154,
    "start_time": "2023-04-28T17:27:56.520Z"
   },
   {
    "duration": 126,
    "start_time": "2023-04-28T17:27:56.676Z"
   },
   {
    "duration": 658,
    "start_time": "2023-04-28T17:27:56.804Z"
   },
   {
    "duration": 181,
    "start_time": "2023-04-28T17:27:57.464Z"
   },
   {
    "duration": 247,
    "start_time": "2023-04-28T17:27:57.652Z"
   },
   {
    "duration": 195,
    "start_time": "2023-04-28T17:27:57.901Z"
   },
   {
    "duration": 2003,
    "start_time": "2023-04-28T17:27:59.009Z"
   },
   {
    "duration": 24,
    "start_time": "2023-04-28T17:28:02.171Z"
   },
   {
    "duration": 152,
    "start_time": "2023-04-28T17:28:04.228Z"
   },
   {
    "duration": 76,
    "start_time": "2023-04-28T17:28:07.252Z"
   },
   {
    "duration": 36,
    "start_time": "2023-04-28T17:28:09.771Z"
   },
   {
    "duration": 13,
    "start_time": "2023-04-28T17:28:10.759Z"
   },
   {
    "duration": 837,
    "start_time": "2023-04-28T17:28:29.684Z"
   },
   {
    "duration": 2175,
    "start_time": "2023-04-28T17:28:30.524Z"
   },
   {
    "duration": 29,
    "start_time": "2023-04-28T17:28:32.701Z"
   },
   {
    "duration": 156,
    "start_time": "2023-04-28T17:28:32.734Z"
   },
   {
    "duration": 84,
    "start_time": "2023-04-28T17:28:32.892Z"
   },
   {
    "duration": 37,
    "start_time": "2023-04-28T17:28:32.977Z"
   },
   {
    "duration": 38,
    "start_time": "2023-04-28T17:28:33.015Z"
   },
   {
    "duration": 23,
    "start_time": "2023-04-28T17:28:33.055Z"
   },
   {
    "duration": 5,
    "start_time": "2023-04-28T17:28:33.080Z"
   },
   {
    "duration": 66,
    "start_time": "2023-04-28T17:28:33.088Z"
   },
   {
    "duration": 5,
    "start_time": "2023-04-28T17:28:33.158Z"
   },
   {
    "duration": 28,
    "start_time": "2023-04-28T17:28:33.164Z"
   },
   {
    "duration": 76,
    "start_time": "2023-04-28T17:28:33.194Z"
   },
   {
    "duration": 11,
    "start_time": "2023-04-28T17:28:33.272Z"
   },
   {
    "duration": 220,
    "start_time": "2023-04-28T17:28:33.284Z"
   },
   {
    "duration": 9,
    "start_time": "2023-04-28T17:28:33.505Z"
   },
   {
    "duration": 9,
    "start_time": "2023-04-28T17:28:33.515Z"
   },
   {
    "duration": 235,
    "start_time": "2023-04-28T17:28:33.526Z"
   },
   {
    "duration": 132,
    "start_time": "2023-04-28T17:28:33.763Z"
   },
   {
    "duration": 136,
    "start_time": "2023-04-28T17:28:33.896Z"
   },
   {
    "duration": 128,
    "start_time": "2023-04-28T17:28:34.040Z"
   },
   {
    "duration": 721,
    "start_time": "2023-04-28T17:28:34.170Z"
   },
   {
    "duration": 198,
    "start_time": "2023-04-28T17:28:34.892Z"
   },
   {
    "duration": 264,
    "start_time": "2023-04-28T17:28:35.091Z"
   },
   {
    "duration": 199,
    "start_time": "2023-04-28T17:28:35.360Z"
   },
   {
    "duration": 1989,
    "start_time": "2023-04-28T17:28:37.281Z"
   },
   {
    "duration": 28,
    "start_time": "2023-04-28T17:28:43.191Z"
   },
   {
    "duration": 237,
    "start_time": "2023-04-28T17:28:45.114Z"
   },
   {
    "duration": 75,
    "start_time": "2023-04-28T17:28:46.411Z"
   },
   {
    "duration": 36,
    "start_time": "2023-04-28T17:28:53.558Z"
   },
   {
    "duration": 13,
    "start_time": "2023-04-28T17:28:57.677Z"
   },
   {
    "duration": 17,
    "start_time": "2023-04-28T17:31:06.359Z"
   },
   {
    "duration": 17,
    "start_time": "2023-04-28T17:32:07.501Z"
   },
   {
    "duration": 8,
    "start_time": "2023-04-28T17:32:13.460Z"
   },
   {
    "duration": 76,
    "start_time": "2023-04-28T17:32:45.161Z"
   },
   {
    "duration": 33,
    "start_time": "2023-04-28T17:34:32.182Z"
   },
   {
    "duration": 23,
    "start_time": "2023-04-28T17:35:01.103Z"
   },
   {
    "duration": 22,
    "start_time": "2023-04-28T17:35:48.564Z"
   },
   {
    "duration": 5,
    "start_time": "2023-04-28T17:35:58.413Z"
   },
   {
    "duration": 50,
    "start_time": "2023-04-28T17:36:01.925Z"
   },
   {
    "duration": 51,
    "start_time": "2023-04-28T17:36:24.010Z"
   },
   {
    "duration": 3,
    "start_time": "2023-04-28T17:36:30.011Z"
   },
   {
    "duration": 24,
    "start_time": "2023-04-28T17:36:40.568Z"
   },
   {
    "duration": 69,
    "start_time": "2023-04-28T17:37:31.525Z"
   },
   {
    "duration": 915,
    "start_time": "2023-04-28T17:37:43.993Z"
   },
   {
    "duration": 2228,
    "start_time": "2023-04-28T17:37:44.910Z"
   },
   {
    "duration": 36,
    "start_time": "2023-04-28T17:37:47.143Z"
   },
   {
    "duration": 158,
    "start_time": "2023-04-28T17:37:47.181Z"
   },
   {
    "duration": 82,
    "start_time": "2023-04-28T17:37:47.346Z"
   },
   {
    "duration": 48,
    "start_time": "2023-04-28T17:37:47.429Z"
   },
   {
    "duration": 13,
    "start_time": "2023-04-28T17:37:47.479Z"
   },
   {
    "duration": 24,
    "start_time": "2023-04-28T17:37:47.494Z"
   },
   {
    "duration": 5,
    "start_time": "2023-04-28T17:37:47.535Z"
   },
   {
    "duration": 69,
    "start_time": "2023-04-28T17:37:47.547Z"
   },
   {
    "duration": 28,
    "start_time": "2023-04-28T17:37:47.617Z"
   },
   {
    "duration": 91,
    "start_time": "2023-04-28T17:37:47.646Z"
   },
   {
    "duration": 10,
    "start_time": "2023-04-28T17:37:47.745Z"
   },
   {
    "duration": 217,
    "start_time": "2023-04-28T17:37:47.758Z"
   },
   {
    "duration": 8,
    "start_time": "2023-04-28T17:37:47.977Z"
   },
   {
    "duration": 19,
    "start_time": "2023-04-28T17:37:47.987Z"
   },
   {
    "duration": 258,
    "start_time": "2023-04-28T17:37:48.008Z"
   },
   {
    "duration": 141,
    "start_time": "2023-04-28T17:37:48.268Z"
   },
   {
    "duration": 175,
    "start_time": "2023-04-28T17:37:48.411Z"
   },
   {
    "duration": 191,
    "start_time": "2023-04-28T17:37:48.587Z"
   },
   {
    "duration": 695,
    "start_time": "2023-04-28T17:37:48.780Z"
   },
   {
    "duration": 221,
    "start_time": "2023-04-28T17:37:49.476Z"
   },
   {
    "duration": 269,
    "start_time": "2023-04-28T17:37:49.699Z"
   },
   {
    "duration": 205,
    "start_time": "2023-04-28T17:37:49.971Z"
   },
   {
    "duration": 1930,
    "start_time": "2023-04-28T17:37:52.756Z"
   },
   {
    "duration": 850,
    "start_time": "2023-04-28T17:38:00.812Z"
   },
   {
    "duration": 1992,
    "start_time": "2023-04-28T17:38:01.664Z"
   },
   {
    "duration": 38,
    "start_time": "2023-04-28T17:38:03.664Z"
   },
   {
    "duration": 184,
    "start_time": "2023-04-28T17:38:03.704Z"
   },
   {
    "duration": 83,
    "start_time": "2023-04-28T17:38:03.890Z"
   },
   {
    "duration": 37,
    "start_time": "2023-04-28T17:38:03.974Z"
   },
   {
    "duration": 33,
    "start_time": "2023-04-28T17:38:04.012Z"
   },
   {
    "duration": 59,
    "start_time": "2023-04-28T17:38:04.047Z"
   },
   {
    "duration": 54,
    "start_time": "2023-04-28T17:38:04.108Z"
   },
   {
    "duration": 58,
    "start_time": "2023-04-28T17:38:04.165Z"
   },
   {
    "duration": 35,
    "start_time": "2023-04-28T17:38:04.225Z"
   },
   {
    "duration": 95,
    "start_time": "2023-04-28T17:38:04.264Z"
   },
   {
    "duration": 9,
    "start_time": "2023-04-28T17:38:04.360Z"
   },
   {
    "duration": 231,
    "start_time": "2023-04-28T17:38:04.370Z"
   },
   {
    "duration": 9,
    "start_time": "2023-04-28T17:38:04.602Z"
   },
   {
    "duration": 61,
    "start_time": "2023-04-28T17:38:04.612Z"
   },
   {
    "duration": 291,
    "start_time": "2023-04-28T17:38:04.675Z"
   },
   {
    "duration": 141,
    "start_time": "2023-04-28T17:38:04.968Z"
   },
   {
    "duration": 158,
    "start_time": "2023-04-28T17:38:05.111Z"
   },
   {
    "duration": 150,
    "start_time": "2023-04-28T17:38:05.271Z"
   },
   {
    "duration": 665,
    "start_time": "2023-04-28T17:38:05.423Z"
   },
   {
    "duration": 188,
    "start_time": "2023-04-28T17:38:06.090Z"
   },
   {
    "duration": 249,
    "start_time": "2023-04-28T17:38:06.279Z"
   },
   {
    "duration": 216,
    "start_time": "2023-04-28T17:38:06.534Z"
   },
   {
    "duration": 1902,
    "start_time": "2023-04-28T17:38:08.656Z"
   },
   {
    "duration": 23,
    "start_time": "2023-04-28T17:38:16.788Z"
   },
   {
    "duration": 167,
    "start_time": "2023-04-28T17:38:18.916Z"
   },
   {
    "duration": 70,
    "start_time": "2023-04-28T17:38:20.458Z"
   },
   {
    "duration": 49,
    "start_time": "2023-04-28T17:38:21.629Z"
   },
   {
    "duration": 16,
    "start_time": "2023-04-28T17:38:22.326Z"
   },
   {
    "duration": 32,
    "start_time": "2023-04-28T17:38:22.931Z"
   },
   {
    "duration": 5,
    "start_time": "2023-04-28T17:38:23.985Z"
   },
   {
    "duration": 65,
    "start_time": "2023-04-28T17:38:24.707Z"
   },
   {
    "duration": 42,
    "start_time": "2023-04-28T17:38:25.433Z"
   },
   {
    "duration": 65,
    "start_time": "2023-04-28T17:38:26.233Z"
   },
   {
    "duration": 9,
    "start_time": "2023-04-28T17:38:38.862Z"
   },
   {
    "duration": 213,
    "start_time": "2023-04-28T17:38:39.518Z"
   },
   {
    "duration": 10,
    "start_time": "2023-04-28T17:38:39.902Z"
   },
   {
    "duration": 6,
    "start_time": "2023-04-28T17:38:40.302Z"
   },
   {
    "duration": 234,
    "start_time": "2023-04-28T17:38:41.633Z"
   },
   {
    "duration": 141,
    "start_time": "2023-04-28T17:38:42.030Z"
   },
   {
    "duration": 257,
    "start_time": "2023-04-28T17:38:42.327Z"
   },
   {
    "duration": 144,
    "start_time": "2023-04-28T17:38:42.586Z"
   },
   {
    "duration": 153,
    "start_time": "2023-04-28T17:38:42.732Z"
   },
   {
    "duration": 185,
    "start_time": "2023-04-28T17:38:43.108Z"
   },
   {
    "duration": 237,
    "start_time": "2023-04-28T17:38:43.371Z"
   },
   {
    "duration": 30,
    "start_time": "2023-04-28T17:42:19.220Z"
   },
   {
    "duration": 28,
    "start_time": "2023-04-28T17:45:10.358Z"
   },
   {
    "duration": 23,
    "start_time": "2023-04-28T17:45:27.452Z"
   },
   {
    "duration": 14,
    "start_time": "2023-04-28T17:46:26.844Z"
   },
   {
    "duration": 45,
    "start_time": "2023-04-28T17:46:56.858Z"
   },
   {
    "duration": 105,
    "start_time": "2023-04-28T17:47:21.878Z"
   },
   {
    "duration": 51,
    "start_time": "2023-04-28T17:47:29.282Z"
   },
   {
    "duration": 39,
    "start_time": "2023-04-28T17:48:19.888Z"
   },
   {
    "duration": 46,
    "start_time": "2023-04-28T17:49:15.822Z"
   },
   {
    "duration": 53,
    "start_time": "2023-04-28T17:49:53.697Z"
   },
   {
    "duration": 37,
    "start_time": "2023-04-28T17:50:43.383Z"
   },
   {
    "duration": 50,
    "start_time": "2023-04-28T17:51:51.746Z"
   },
   {
    "duration": 45,
    "start_time": "2023-04-28T17:52:06.769Z"
   },
   {
    "duration": 87,
    "start_time": "2023-04-28T17:52:15.366Z"
   },
   {
    "duration": 27,
    "start_time": "2023-04-28T17:54:42.521Z"
   },
   {
    "duration": 12,
    "start_time": "2023-04-28T17:55:15.004Z"
   },
   {
    "duration": 49,
    "start_time": "2023-04-28T17:55:20.078Z"
   },
   {
    "duration": 49,
    "start_time": "2023-04-28T17:55:28.713Z"
   },
   {
    "duration": 57,
    "start_time": "2023-04-28T17:55:36.722Z"
   },
   {
    "duration": 86,
    "start_time": "2023-04-28T17:56:14.773Z"
   },
   {
    "duration": 822,
    "start_time": "2023-04-28T17:56:39.202Z"
   },
   {
    "duration": 2097,
    "start_time": "2023-04-28T17:56:40.026Z"
   },
   {
    "duration": 35,
    "start_time": "2023-04-28T17:56:42.125Z"
   },
   {
    "duration": 144,
    "start_time": "2023-04-28T17:56:42.166Z"
   },
   {
    "duration": 84,
    "start_time": "2023-04-28T17:56:42.312Z"
   },
   {
    "duration": 56,
    "start_time": "2023-04-28T17:56:42.398Z"
   },
   {
    "duration": 15,
    "start_time": "2023-04-28T17:56:42.456Z"
   },
   {
    "duration": 23,
    "start_time": "2023-04-28T17:56:42.473Z"
   },
   {
    "duration": 5,
    "start_time": "2023-04-28T17:56:42.498Z"
   },
   {
    "duration": 88,
    "start_time": "2023-04-28T17:56:42.505Z"
   },
   {
    "duration": 76,
    "start_time": "2023-04-28T17:56:42.595Z"
   },
   {
    "duration": 86,
    "start_time": "2023-04-28T17:56:42.673Z"
   },
   {
    "duration": 2,
    "start_time": "2023-04-28T17:56:42.763Z"
   },
   {
    "duration": 11,
    "start_time": "2023-04-28T17:56:42.768Z"
   },
   {
    "duration": 219,
    "start_time": "2023-04-28T17:56:42.781Z"
   },
   {
    "duration": 8,
    "start_time": "2023-04-28T17:56:43.002Z"
   },
   {
    "duration": 8,
    "start_time": "2023-04-28T17:56:43.011Z"
   },
   {
    "duration": 204,
    "start_time": "2023-04-28T17:56:43.036Z"
   },
   {
    "duration": 134,
    "start_time": "2023-04-28T17:56:43.244Z"
   },
   {
    "duration": 150,
    "start_time": "2023-04-28T17:56:43.381Z"
   },
   {
    "duration": 135,
    "start_time": "2023-04-28T17:56:43.536Z"
   },
   {
    "duration": 639,
    "start_time": "2023-04-28T17:56:43.672Z"
   },
   {
    "duration": 202,
    "start_time": "2023-04-28T17:56:44.313Z"
   },
   {
    "duration": 260,
    "start_time": "2023-04-28T17:56:44.517Z"
   },
   {
    "duration": 223,
    "start_time": "2023-04-28T17:56:44.779Z"
   },
   {
    "duration": 1913,
    "start_time": "2023-04-28T17:56:58.093Z"
   },
   {
    "duration": 25,
    "start_time": "2023-04-28T17:57:02.360Z"
   },
   {
    "duration": 180,
    "start_time": "2023-04-28T17:57:04.624Z"
   },
   {
    "duration": 66,
    "start_time": "2023-04-28T17:57:07.560Z"
   },
   {
    "duration": 42,
    "start_time": "2023-04-28T17:57:09.360Z"
   },
   {
    "duration": 13,
    "start_time": "2023-04-28T17:57:19.859Z"
   },
   {
    "duration": 23,
    "start_time": "2023-04-28T17:57:21.299Z"
   },
   {
    "duration": 6,
    "start_time": "2023-04-28T17:57:27.609Z"
   },
   {
    "duration": 54,
    "start_time": "2023-04-28T17:57:34.518Z"
   },
   {
    "duration": 51,
    "start_time": "2023-04-28T17:57:45.707Z"
   },
   {
    "duration": 49,
    "start_time": "2023-04-28T17:57:57.082Z"
   },
   {
    "duration": 69,
    "start_time": "2023-04-28T17:58:01.398Z"
   },
   {
    "duration": 840,
    "start_time": "2023-04-28T17:58:53.459Z"
   },
   {
    "duration": 2052,
    "start_time": "2023-04-28T17:58:54.301Z"
   },
   {
    "duration": 32,
    "start_time": "2023-04-28T17:58:56.355Z"
   },
   {
    "duration": 140,
    "start_time": "2023-04-28T17:58:56.388Z"
   },
   {
    "duration": 78,
    "start_time": "2023-04-28T17:58:56.529Z"
   },
   {
    "duration": 112,
    "start_time": "2023-04-28T17:58:56.609Z"
   },
   {
    "duration": 86,
    "start_time": "2023-04-28T17:58:56.722Z"
   },
   {
    "duration": 81,
    "start_time": "2023-04-28T17:58:56.809Z"
   },
   {
    "duration": 74,
    "start_time": "2023-04-28T17:58:56.891Z"
   },
   {
    "duration": 73,
    "start_time": "2023-04-28T17:58:56.966Z"
   },
   {
    "duration": 64,
    "start_time": "2023-04-28T17:58:57.041Z"
   },
   {
    "duration": 74,
    "start_time": "2023-04-28T17:58:57.106Z"
   },
   {
    "duration": 2,
    "start_time": "2023-04-28T17:58:57.181Z"
   },
   {
    "duration": 58,
    "start_time": "2023-04-28T17:58:57.185Z"
   },
   {
    "duration": 250,
    "start_time": "2023-04-28T17:58:57.244Z"
   },
   {
    "duration": 8,
    "start_time": "2023-04-28T17:58:57.496Z"
   },
   {
    "duration": 15,
    "start_time": "2023-04-28T17:58:57.506Z"
   },
   {
    "duration": 243,
    "start_time": "2023-04-28T17:58:57.522Z"
   },
   {
    "duration": 145,
    "start_time": "2023-04-28T17:58:57.766Z"
   },
   {
    "duration": 150,
    "start_time": "2023-04-28T17:58:57.912Z"
   },
   {
    "duration": 136,
    "start_time": "2023-04-28T17:58:58.070Z"
   },
   {
    "duration": 703,
    "start_time": "2023-04-28T17:58:58.208Z"
   },
   {
    "duration": 188,
    "start_time": "2023-04-28T17:58:58.913Z"
   },
   {
    "duration": 267,
    "start_time": "2023-04-28T17:58:59.102Z"
   },
   {
    "duration": 192,
    "start_time": "2023-04-28T17:58:59.371Z"
   },
   {
    "duration": 857,
    "start_time": "2023-04-28T17:59:05.924Z"
   },
   {
    "duration": 2201,
    "start_time": "2023-04-28T17:59:06.783Z"
   },
   {
    "duration": 36,
    "start_time": "2023-04-28T17:59:08.986Z"
   },
   {
    "duration": 180,
    "start_time": "2023-04-28T17:59:09.025Z"
   },
   {
    "duration": 91,
    "start_time": "2023-04-28T17:59:09.207Z"
   },
   {
    "duration": 155,
    "start_time": "2023-04-28T17:59:09.299Z"
   },
   {
    "duration": 99,
    "start_time": "2023-04-28T17:59:09.462Z"
   },
   {
    "duration": 95,
    "start_time": "2023-04-28T17:59:09.567Z"
   },
   {
    "duration": 89,
    "start_time": "2023-04-28T17:59:09.665Z"
   },
   {
    "duration": 78,
    "start_time": "2023-04-28T17:59:09.758Z"
   },
   {
    "duration": 80,
    "start_time": "2023-04-28T17:59:09.838Z"
   },
   {
    "duration": 76,
    "start_time": "2023-04-28T17:59:09.920Z"
   },
   {
    "duration": 3,
    "start_time": "2023-04-28T17:59:09.998Z"
   },
   {
    "duration": 17,
    "start_time": "2023-04-28T17:59:10.004Z"
   },
   {
    "duration": 242,
    "start_time": "2023-04-28T17:59:10.023Z"
   },
   {
    "duration": 11,
    "start_time": "2023-04-28T17:59:10.267Z"
   },
   {
    "duration": 12,
    "start_time": "2023-04-28T17:59:10.279Z"
   },
   {
    "duration": 232,
    "start_time": "2023-04-28T17:59:10.292Z"
   },
   {
    "duration": 148,
    "start_time": "2023-04-28T17:59:10.526Z"
   },
   {
    "duration": 155,
    "start_time": "2023-04-28T17:59:10.676Z"
   },
   {
    "duration": 138,
    "start_time": "2023-04-28T17:59:10.834Z"
   },
   {
    "duration": 647,
    "start_time": "2023-04-28T17:59:10.974Z"
   },
   {
    "duration": 247,
    "start_time": "2023-04-28T17:59:11.623Z"
   },
   {
    "duration": 304,
    "start_time": "2023-04-28T17:59:11.872Z"
   },
   {
    "duration": 213,
    "start_time": "2023-04-28T17:59:12.178Z"
   },
   {
    "duration": 2047,
    "start_time": "2023-04-28T17:59:15.757Z"
   },
   {
    "duration": 26,
    "start_time": "2023-04-28T17:59:22.916Z"
   },
   {
    "duration": 155,
    "start_time": "2023-04-28T17:59:28.014Z"
   },
   {
    "duration": 83,
    "start_time": "2023-04-28T17:59:30.661Z"
   },
   {
    "duration": 107,
    "start_time": "2023-04-28T17:59:33.338Z"
   },
   {
    "duration": 84,
    "start_time": "2023-04-28T17:59:41.681Z"
   },
   {
    "duration": 87,
    "start_time": "2023-04-28T17:59:45.226Z"
   },
   {
    "duration": 74,
    "start_time": "2023-04-28T18:00:41.508Z"
   },
   {
    "duration": 80,
    "start_time": "2023-04-28T18:00:41.713Z"
   },
   {
    "duration": 95,
    "start_time": "2023-04-28T18:00:41.944Z"
   },
   {
    "duration": 67,
    "start_time": "2023-04-28T18:00:42.117Z"
   },
   {
    "duration": 6,
    "start_time": "2023-04-28T18:00:42.536Z"
   },
   {
    "duration": 9,
    "start_time": "2023-04-28T18:00:43.075Z"
   },
   {
    "duration": 236,
    "start_time": "2023-04-28T18:00:43.332Z"
   },
   {
    "duration": 9,
    "start_time": "2023-04-28T18:00:43.677Z"
   },
   {
    "duration": 6,
    "start_time": "2023-04-28T18:00:43.974Z"
   },
   {
    "duration": 243,
    "start_time": "2023-04-28T18:00:44.628Z"
   },
   {
    "duration": 171,
    "start_time": "2023-04-28T18:00:44.873Z"
   },
   {
    "duration": 283,
    "start_time": "2023-04-28T18:00:45.046Z"
   },
   {
    "duration": 171,
    "start_time": "2023-04-28T18:00:45.331Z"
   },
   {
    "duration": 140,
    "start_time": "2023-04-28T18:00:45.504Z"
   },
   {
    "duration": 232,
    "start_time": "2023-04-28T18:00:45.647Z"
   },
   {
    "duration": 291,
    "start_time": "2023-04-28T18:00:45.880Z"
   },
   {
    "duration": 79,
    "start_time": "2023-04-28T18:01:19.118Z"
   },
   {
    "duration": 866,
    "start_time": "2023-04-28T18:01:27.278Z"
   },
   {
    "duration": 2105,
    "start_time": "2023-04-28T18:01:28.149Z"
   },
   {
    "duration": 33,
    "start_time": "2023-04-28T18:01:30.256Z"
   },
   {
    "duration": 199,
    "start_time": "2023-04-28T18:01:30.291Z"
   },
   {
    "duration": 83,
    "start_time": "2023-04-28T18:01:30.492Z"
   },
   {
    "duration": 128,
    "start_time": "2023-04-28T18:01:30.582Z"
   },
   {
    "duration": 98,
    "start_time": "2023-04-28T18:01:30.712Z"
   },
   {
    "duration": 84,
    "start_time": "2023-04-28T18:01:30.811Z"
   },
   {
    "duration": 76,
    "start_time": "2023-04-28T18:01:30.897Z"
   },
   {
    "duration": 95,
    "start_time": "2023-04-28T18:01:30.974Z"
   },
   {
    "duration": 94,
    "start_time": "2023-04-28T18:01:31.073Z"
   },
   {
    "duration": 60,
    "start_time": "2023-04-28T18:01:31.169Z"
   },
   {
    "duration": 2,
    "start_time": "2023-04-28T18:01:31.231Z"
   },
   {
    "duration": 59,
    "start_time": "2023-04-28T18:01:31.242Z"
   },
   {
    "duration": 266,
    "start_time": "2023-04-28T18:01:31.303Z"
   },
   {
    "duration": 9,
    "start_time": "2023-04-28T18:01:31.573Z"
   },
   {
    "duration": 54,
    "start_time": "2023-04-28T18:01:31.584Z"
   },
   {
    "duration": 242,
    "start_time": "2023-04-28T18:01:31.644Z"
   },
   {
    "duration": 136,
    "start_time": "2023-04-28T18:01:31.888Z"
   },
   {
    "duration": 158,
    "start_time": "2023-04-28T18:01:32.026Z"
   },
   {
    "duration": 202,
    "start_time": "2023-04-28T18:01:32.186Z"
   },
   {
    "duration": 727,
    "start_time": "2023-04-28T18:01:32.389Z"
   },
   {
    "duration": 197,
    "start_time": "2023-04-28T18:01:33.117Z"
   },
   {
    "duration": 268,
    "start_time": "2023-04-28T18:01:33.316Z"
   },
   {
    "duration": 198,
    "start_time": "2023-04-28T18:01:33.586Z"
   },
   {
    "duration": 2098,
    "start_time": "2023-04-28T18:01:34.518Z"
   },
   {
    "duration": 29,
    "start_time": "2023-04-28T18:01:39.872Z"
   },
   {
    "duration": 173,
    "start_time": "2023-04-28T18:01:42.574Z"
   },
   {
    "duration": 87,
    "start_time": "2023-04-28T18:01:44.716Z"
   },
   {
    "duration": 116,
    "start_time": "2023-04-28T18:01:46.775Z"
   },
   {
    "duration": 105,
    "start_time": "2023-04-28T18:01:47.770Z"
   },
   {
    "duration": 66,
    "start_time": "2023-04-28T18:01:49.367Z"
   },
   {
    "duration": 66,
    "start_time": "2023-04-28T18:02:06.825Z"
   },
   {
    "duration": 85,
    "start_time": "2023-04-28T18:02:07.040Z"
   },
   {
    "duration": 76,
    "start_time": "2023-04-28T18:02:07.217Z"
   },
   {
    "duration": 71,
    "start_time": "2023-04-28T18:02:07.406Z"
   },
   {
    "duration": 3,
    "start_time": "2023-04-28T18:02:07.591Z"
   },
   {
    "duration": 8,
    "start_time": "2023-04-28T18:02:08.174Z"
   },
   {
    "duration": 208,
    "start_time": "2023-04-28T18:02:08.324Z"
   },
   {
    "duration": 26,
    "start_time": "2023-04-28T18:02:08.534Z"
   },
   {
    "duration": 6,
    "start_time": "2023-04-28T18:02:08.689Z"
   },
   {
    "duration": 242,
    "start_time": "2023-04-28T18:02:09.184Z"
   },
   {
    "duration": 127,
    "start_time": "2023-04-28T18:02:09.674Z"
   },
   {
    "duration": 275,
    "start_time": "2023-04-28T18:02:10.022Z"
   },
   {
    "duration": 170,
    "start_time": "2023-04-28T18:02:10.299Z"
   },
   {
    "duration": 156,
    "start_time": "2023-04-28T18:02:10.752Z"
   },
   {
    "duration": 238,
    "start_time": "2023-04-28T18:02:11.229Z"
   },
   {
    "duration": 244,
    "start_time": "2023-04-28T18:02:12.679Z"
   },
   {
    "duration": 817,
    "start_time": "2023-04-28T18:03:22.969Z"
   },
   {
    "duration": 2063,
    "start_time": "2023-04-28T18:03:23.787Z"
   },
   {
    "duration": 29,
    "start_time": "2023-04-28T18:03:25.851Z"
   },
   {
    "duration": 136,
    "start_time": "2023-04-28T18:03:25.882Z"
   },
   {
    "duration": 76,
    "start_time": "2023-04-28T18:03:26.020Z"
   },
   {
    "duration": 114,
    "start_time": "2023-04-28T18:03:26.097Z"
   },
   {
    "duration": 82,
    "start_time": "2023-04-28T18:03:26.212Z"
   },
   {
    "duration": 79,
    "start_time": "2023-04-28T18:03:26.295Z"
   },
   {
    "duration": 72,
    "start_time": "2023-04-28T18:03:26.376Z"
   },
   {
    "duration": 69,
    "start_time": "2023-04-28T18:03:26.450Z"
   },
   {
    "duration": 71,
    "start_time": "2023-04-28T18:03:26.521Z"
   },
   {
    "duration": 73,
    "start_time": "2023-04-28T18:03:26.594Z"
   },
   {
    "duration": 2,
    "start_time": "2023-04-28T18:03:26.669Z"
   },
   {
    "duration": 13,
    "start_time": "2023-04-28T18:03:26.673Z"
   },
   {
    "duration": 197,
    "start_time": "2023-04-28T18:03:26.688Z"
   },
   {
    "duration": 7,
    "start_time": "2023-04-28T18:03:26.887Z"
   },
   {
    "duration": 8,
    "start_time": "2023-04-28T18:03:26.895Z"
   },
   {
    "duration": 212,
    "start_time": "2023-04-28T18:03:26.905Z"
   },
   {
    "duration": 135,
    "start_time": "2023-04-28T18:03:27.119Z"
   },
   {
    "duration": 148,
    "start_time": "2023-04-28T18:03:27.255Z"
   },
   {
    "duration": 153,
    "start_time": "2023-04-28T18:03:27.404Z"
   },
   {
    "duration": 668,
    "start_time": "2023-04-28T18:03:27.558Z"
   },
   {
    "duration": 183,
    "start_time": "2023-04-28T18:03:28.228Z"
   },
   {
    "duration": 251,
    "start_time": "2023-04-28T18:03:28.413Z"
   },
   {
    "duration": 200,
    "start_time": "2023-04-28T18:03:28.667Z"
   },
   {
    "duration": 2039,
    "start_time": "2023-04-28T18:03:29.758Z"
   },
   {
    "duration": 26,
    "start_time": "2023-04-28T18:03:33.996Z"
   },
   {
    "duration": 142,
    "start_time": "2023-04-28T18:03:37.061Z"
   },
   {
    "duration": 68,
    "start_time": "2023-04-28T18:03:39.361Z"
   },
   {
    "duration": 116,
    "start_time": "2023-04-28T18:03:43.276Z"
   },
   {
    "duration": 89,
    "start_time": "2023-04-28T18:03:50.320Z"
   },
   {
    "duration": 12,
    "start_time": "2023-04-28T18:04:01.643Z"
   },
   {
    "duration": 93,
    "start_time": "2023-04-28T18:04:12.890Z"
   },
   {
    "duration": 1822,
    "start_time": "2023-04-28T18:04:59.107Z"
   },
   {
    "duration": 59,
    "start_time": "2023-04-28T18:05:17.366Z"
   },
   {
    "duration": 83,
    "start_time": "2023-04-28T18:06:21.697Z"
   },
   {
    "duration": 70,
    "start_time": "2023-04-28T18:06:29.873Z"
   },
   {
    "duration": 133,
    "start_time": "2023-04-28T18:06:50.869Z"
   },
   {
    "duration": 130,
    "start_time": "2023-04-28T18:07:36.640Z"
   },
   {
    "duration": 903,
    "start_time": "2023-04-28T18:08:59.774Z"
   },
   {
    "duration": 2132,
    "start_time": "2023-04-28T18:09:00.679Z"
   },
   {
    "duration": 37,
    "start_time": "2023-04-28T18:09:02.813Z"
   },
   {
    "duration": 164,
    "start_time": "2023-04-28T18:09:02.860Z"
   },
   {
    "duration": 87,
    "start_time": "2023-04-28T18:09:03.026Z"
   },
   {
    "duration": 129,
    "start_time": "2023-04-28T18:09:03.115Z"
   },
   {
    "duration": 91,
    "start_time": "2023-04-28T18:09:03.246Z"
   },
   {
    "duration": 3,
    "start_time": "2023-04-28T18:09:03.339Z"
   },
   {
    "duration": 73,
    "start_time": "2023-04-28T18:09:03.343Z"
   },
   {
    "duration": 96,
    "start_time": "2023-04-28T18:09:03.417Z"
   },
   {
    "duration": 94,
    "start_time": "2023-04-28T18:09:03.515Z"
   },
   {
    "duration": 76,
    "start_time": "2023-04-28T18:09:03.610Z"
   },
   {
    "duration": 2,
    "start_time": "2023-04-28T18:09:03.687Z"
   },
   {
    "duration": 28,
    "start_time": "2023-04-28T18:09:03.691Z"
   },
   {
    "duration": 303,
    "start_time": "2023-04-28T18:09:03.721Z"
   },
   {
    "duration": 26,
    "start_time": "2023-04-28T18:09:04.026Z"
   },
   {
    "duration": 45,
    "start_time": "2023-04-28T18:09:04.053Z"
   },
   {
    "duration": 199,
    "start_time": "2023-04-28T18:09:04.099Z"
   },
   {
    "duration": 165,
    "start_time": "2023-04-28T18:09:04.299Z"
   },
   {
    "duration": 188,
    "start_time": "2023-04-28T18:09:04.471Z"
   },
   {
    "duration": 154,
    "start_time": "2023-04-28T18:09:04.661Z"
   },
   {
    "duration": 719,
    "start_time": "2023-04-28T18:09:04.817Z"
   },
   {
    "duration": 194,
    "start_time": "2023-04-28T18:09:05.546Z"
   },
   {
    "duration": 264,
    "start_time": "2023-04-28T18:09:05.745Z"
   },
   {
    "duration": 234,
    "start_time": "2023-04-28T18:09:06.011Z"
   },
   {
    "duration": 2003,
    "start_time": "2023-04-28T18:09:07.516Z"
   },
   {
    "duration": 38,
    "start_time": "2023-04-28T18:09:11.053Z"
   },
   {
    "duration": 220,
    "start_time": "2023-04-28T18:09:12.674Z"
   },
   {
    "duration": 96,
    "start_time": "2023-04-28T18:09:13.884Z"
   },
   {
    "duration": 127,
    "start_time": "2023-04-28T18:09:16.072Z"
   },
   {
    "duration": 87,
    "start_time": "2023-04-28T18:09:17.682Z"
   },
   {
    "duration": 85,
    "start_time": "2023-04-28T18:09:37.295Z"
   },
   {
    "duration": 122,
    "start_time": "2023-04-28T18:21:33.891Z"
   },
   {
    "duration": 913,
    "start_time": "2023-04-28T18:22:36.675Z"
   },
   {
    "duration": 2233,
    "start_time": "2023-04-28T18:22:37.590Z"
   },
   {
    "duration": 52,
    "start_time": "2023-04-28T18:22:39.826Z"
   },
   {
    "duration": 175,
    "start_time": "2023-04-28T18:22:39.881Z"
   },
   {
    "duration": 100,
    "start_time": "2023-04-28T18:22:40.059Z"
   },
   {
    "duration": 131,
    "start_time": "2023-04-28T18:22:40.161Z"
   },
   {
    "duration": 112,
    "start_time": "2023-04-28T18:22:40.294Z"
   },
   {
    "duration": 137,
    "start_time": "2023-04-28T18:22:40.408Z"
   },
   {
    "duration": 66,
    "start_time": "2023-04-28T18:22:40.548Z"
   },
   {
    "duration": 79,
    "start_time": "2023-04-28T18:22:40.616Z"
   },
   {
    "duration": 78,
    "start_time": "2023-04-28T18:22:40.696Z"
   },
   {
    "duration": 68,
    "start_time": "2023-04-28T18:22:40.776Z"
   },
   {
    "duration": 3,
    "start_time": "2023-04-28T18:22:40.845Z"
   },
   {
    "duration": 29,
    "start_time": "2023-04-28T18:22:40.850Z"
   },
   {
    "duration": 272,
    "start_time": "2023-04-28T18:22:40.884Z"
   },
   {
    "duration": 25,
    "start_time": "2023-04-28T18:22:41.163Z"
   },
   {
    "duration": 14,
    "start_time": "2023-04-28T18:22:41.190Z"
   },
   {
    "duration": 233,
    "start_time": "2023-04-28T18:22:41.206Z"
   },
   {
    "duration": 152,
    "start_time": "2023-04-28T18:22:41.448Z"
   },
   {
    "duration": 179,
    "start_time": "2023-04-28T18:22:41.602Z"
   },
   {
    "duration": 163,
    "start_time": "2023-04-28T18:22:41.783Z"
   },
   {
    "duration": 684,
    "start_time": "2023-04-28T18:22:41.954Z"
   },
   {
    "duration": 224,
    "start_time": "2023-04-28T18:22:42.640Z"
   },
   {
    "duration": 295,
    "start_time": "2023-04-28T18:22:42.866Z"
   },
   {
    "duration": 228,
    "start_time": "2023-04-28T18:22:46.956Z"
   },
   {
    "duration": 2249,
    "start_time": "2023-04-28T18:22:48.879Z"
   },
   {
    "duration": 35,
    "start_time": "2023-04-28T18:23:00.626Z"
   },
   {
    "duration": 160,
    "start_time": "2023-04-28T18:23:04.361Z"
   },
   {
    "duration": 76,
    "start_time": "2023-04-28T18:23:06.655Z"
   },
   {
    "duration": 115,
    "start_time": "2023-04-28T18:23:53.195Z"
   },
   {
    "duration": 111,
    "start_time": "2023-04-28T18:24:16.059Z"
   },
   {
    "duration": 68,
    "start_time": "2023-04-28T18:26:15.263Z"
   },
   {
    "duration": 81,
    "start_time": "2023-04-28T18:26:26.472Z"
   },
   {
    "duration": 129,
    "start_time": "2023-04-28T18:27:13.921Z"
   },
   {
    "duration": 213,
    "start_time": "2023-04-28T18:27:45.257Z"
   },
   {
    "duration": 76,
    "start_time": "2023-04-28T18:32:58.807Z"
   },
   {
    "duration": 144,
    "start_time": "2023-04-28T18:33:05.157Z"
   },
   {
    "duration": 158,
    "start_time": "2023-04-28T18:35:12.513Z"
   },
   {
    "duration": 104,
    "start_time": "2023-04-28T18:35:17.280Z"
   },
   {
    "duration": 79,
    "start_time": "2023-04-28T18:36:45.619Z"
   },
   {
    "duration": 107,
    "start_time": "2023-04-28T18:37:24.465Z"
   },
   {
    "duration": 128,
    "start_time": "2023-04-28T18:38:24.675Z"
   },
   {
    "duration": 83,
    "start_time": "2023-04-28T18:38:45.902Z"
   },
   {
    "duration": 88,
    "start_time": "2023-04-28T18:39:06.761Z"
   },
   {
    "duration": 91,
    "start_time": "2023-04-28T18:39:18.099Z"
   },
   {
    "duration": 77,
    "start_time": "2023-04-28T18:39:32.199Z"
   },
   {
    "duration": 78,
    "start_time": "2023-04-28T18:39:48.570Z"
   },
   {
    "duration": 869,
    "start_time": "2023-04-28T18:40:45.501Z"
   },
   {
    "duration": 2147,
    "start_time": "2023-04-28T18:40:46.372Z"
   },
   {
    "duration": 30,
    "start_time": "2023-04-28T18:40:48.521Z"
   },
   {
    "duration": 157,
    "start_time": "2023-04-28T18:40:48.553Z"
   },
   {
    "duration": 107,
    "start_time": "2023-04-28T18:40:48.713Z"
   },
   {
    "duration": 143,
    "start_time": "2023-04-28T18:40:48.822Z"
   },
   {
    "duration": 92,
    "start_time": "2023-04-28T18:40:48.966Z"
   },
   {
    "duration": 96,
    "start_time": "2023-04-28T18:40:49.060Z"
   },
   {
    "duration": 62,
    "start_time": "2023-04-28T18:40:49.165Z"
   },
   {
    "duration": 87,
    "start_time": "2023-04-28T18:40:49.228Z"
   },
   {
    "duration": 91,
    "start_time": "2023-04-28T18:40:49.316Z"
   },
   {
    "duration": 68,
    "start_time": "2023-04-28T18:40:49.409Z"
   },
   {
    "duration": 2,
    "start_time": "2023-04-28T18:40:49.478Z"
   },
   {
    "duration": 11,
    "start_time": "2023-04-28T18:40:49.483Z"
   },
   {
    "duration": 323,
    "start_time": "2023-04-28T18:40:49.495Z"
   },
   {
    "duration": 21,
    "start_time": "2023-04-28T18:40:49.820Z"
   },
   {
    "duration": 26,
    "start_time": "2023-04-28T18:40:49.845Z"
   },
   {
    "duration": 206,
    "start_time": "2023-04-28T18:40:49.873Z"
   },
   {
    "duration": 171,
    "start_time": "2023-04-28T18:40:50.081Z"
   },
   {
    "duration": 189,
    "start_time": "2023-04-28T18:40:50.258Z"
   },
   {
    "duration": 156,
    "start_time": "2023-04-28T18:40:50.453Z"
   },
   {
    "duration": 711,
    "start_time": "2023-04-28T18:40:50.611Z"
   },
   {
    "duration": 199,
    "start_time": "2023-04-28T18:40:51.324Z"
   },
   {
    "duration": 255,
    "start_time": "2023-04-28T18:40:51.525Z"
   },
   {
    "duration": 200,
    "start_time": "2023-04-28T18:40:51.783Z"
   },
   {
    "duration": 2061,
    "start_time": "2023-04-28T18:40:54.259Z"
   },
   {
    "duration": 36,
    "start_time": "2023-04-28T18:41:01.104Z"
   },
   {
    "duration": 158,
    "start_time": "2023-04-28T18:41:04.429Z"
   },
   {
    "duration": 80,
    "start_time": "2023-04-28T18:41:06.115Z"
   },
   {
    "duration": 106,
    "start_time": "2023-04-28T18:41:08.776Z"
   },
   {
    "duration": 93,
    "start_time": "2023-04-28T18:41:13.097Z"
   },
   {
    "duration": 108,
    "start_time": "2023-04-28T18:41:15.308Z"
   },
   {
    "duration": 68,
    "start_time": "2023-04-28T18:41:18.360Z"
   },
   {
    "duration": 98,
    "start_time": "2023-04-28T18:42:30.996Z"
   },
   {
    "duration": 97,
    "start_time": "2023-04-28T18:43:32.549Z"
   },
   {
    "duration": 845,
    "start_time": "2023-04-28T18:44:13.866Z"
   },
   {
    "duration": 2090,
    "start_time": "2023-04-28T18:44:14.713Z"
   },
   {
    "duration": 28,
    "start_time": "2023-04-28T18:44:16.805Z"
   },
   {
    "duration": 144,
    "start_time": "2023-04-28T18:44:16.839Z"
   },
   {
    "duration": 84,
    "start_time": "2023-04-28T18:44:16.985Z"
   },
   {
    "duration": 103,
    "start_time": "2023-04-28T18:44:17.071Z"
   },
   {
    "duration": 85,
    "start_time": "2023-04-28T18:44:17.176Z"
   },
   {
    "duration": 117,
    "start_time": "2023-04-28T18:44:17.263Z"
   },
   {
    "duration": 95,
    "start_time": "2023-04-28T18:44:17.382Z"
   },
   {
    "duration": 96,
    "start_time": "2023-04-28T18:44:17.479Z"
   },
   {
    "duration": 80,
    "start_time": "2023-04-28T18:44:17.576Z"
   },
   {
    "duration": 78,
    "start_time": "2023-04-28T18:44:17.658Z"
   },
   {
    "duration": 6,
    "start_time": "2023-04-28T18:44:17.738Z"
   },
   {
    "duration": 43,
    "start_time": "2023-04-28T18:44:17.750Z"
   },
   {
    "duration": 302,
    "start_time": "2023-04-28T18:44:17.796Z"
   },
   {
    "duration": 10,
    "start_time": "2023-04-28T18:44:18.100Z"
   },
   {
    "duration": 30,
    "start_time": "2023-04-28T18:44:18.111Z"
   },
   {
    "duration": 211,
    "start_time": "2023-04-28T18:44:18.143Z"
   },
   {
    "duration": 167,
    "start_time": "2023-04-28T18:44:18.355Z"
   },
   {
    "duration": 182,
    "start_time": "2023-04-28T18:44:18.524Z"
   },
   {
    "duration": 154,
    "start_time": "2023-04-28T18:44:18.708Z"
   },
   {
    "duration": 674,
    "start_time": "2023-04-28T18:44:18.864Z"
   },
   {
    "duration": 177,
    "start_time": "2023-04-28T18:44:19.544Z"
   },
   {
    "duration": 277,
    "start_time": "2023-04-28T18:44:19.723Z"
   },
   {
    "duration": 187,
    "start_time": "2023-04-28T18:44:20.002Z"
   },
   {
    "duration": 1979,
    "start_time": "2023-04-28T18:44:20.932Z"
   },
   {
    "duration": 26,
    "start_time": "2023-04-28T18:44:24.482Z"
   },
   {
    "duration": 130,
    "start_time": "2023-04-28T18:44:26.058Z"
   },
   {
    "duration": 73,
    "start_time": "2023-04-28T18:44:27.093Z"
   },
   {
    "duration": 101,
    "start_time": "2023-04-28T18:44:28.298Z"
   },
   {
    "duration": 87,
    "start_time": "2023-04-28T18:44:29.131Z"
   },
   {
    "duration": 83,
    "start_time": "2023-04-28T18:44:32.211Z"
   },
   {
    "duration": 74,
    "start_time": "2023-04-28T18:44:35.745Z"
   },
   {
    "duration": 92,
    "start_time": "2023-04-28T18:44:39.668Z"
   },
   {
    "duration": 83,
    "start_time": "2023-04-28T18:45:10.710Z"
   },
   {
    "duration": 86,
    "start_time": "2023-04-28T18:45:15.225Z"
   },
   {
    "duration": 75,
    "start_time": "2023-04-28T18:45:22.058Z"
   },
   {
    "duration": 835,
    "start_time": "2023-04-28T18:45:49.733Z"
   },
   {
    "duration": 2052,
    "start_time": "2023-04-28T18:45:50.571Z"
   },
   {
    "duration": 40,
    "start_time": "2023-04-28T18:45:52.625Z"
   },
   {
    "duration": 150,
    "start_time": "2023-04-28T18:45:52.668Z"
   },
   {
    "duration": 79,
    "start_time": "2023-04-28T18:45:52.821Z"
   },
   {
    "duration": 117,
    "start_time": "2023-04-28T18:45:52.902Z"
   },
   {
    "duration": 89,
    "start_time": "2023-04-28T18:45:53.021Z"
   },
   {
    "duration": 101,
    "start_time": "2023-04-28T18:45:53.112Z"
   },
   {
    "duration": 73,
    "start_time": "2023-04-28T18:45:53.214Z"
   },
   {
    "duration": 3,
    "start_time": "2023-04-28T18:45:53.289Z"
   },
   {
    "duration": 85,
    "start_time": "2023-04-28T18:45:53.293Z"
   },
   {
    "duration": 75,
    "start_time": "2023-04-28T18:45:53.380Z"
   },
   {
    "duration": 2,
    "start_time": "2023-04-28T18:45:53.456Z"
   },
   {
    "duration": 30,
    "start_time": "2023-04-28T18:45:53.460Z"
   },
   {
    "duration": 289,
    "start_time": "2023-04-28T18:45:53.492Z"
   },
   {
    "duration": 10,
    "start_time": "2023-04-28T18:45:53.782Z"
   },
   {
    "duration": 10,
    "start_time": "2023-04-28T18:45:53.793Z"
   },
   {
    "duration": 219,
    "start_time": "2023-04-28T18:45:53.805Z"
   },
   {
    "duration": 153,
    "start_time": "2023-04-28T18:45:54.026Z"
   },
   {
    "duration": 190,
    "start_time": "2023-04-28T18:45:54.181Z"
   },
   {
    "duration": 142,
    "start_time": "2023-04-28T18:45:54.373Z"
   },
   {
    "duration": 680,
    "start_time": "2023-04-28T18:45:54.517Z"
   },
   {
    "duration": 239,
    "start_time": "2023-04-28T18:45:55.199Z"
   },
   {
    "duration": 236,
    "start_time": "2023-04-28T18:45:55.443Z"
   },
   {
    "duration": 183,
    "start_time": "2023-04-28T18:45:55.680Z"
   },
   {
    "duration": 1869,
    "start_time": "2023-04-28T18:45:56.602Z"
   },
   {
    "duration": 25,
    "start_time": "2023-04-28T18:45:59.257Z"
   },
   {
    "duration": 153,
    "start_time": "2023-04-28T18:46:01.095Z"
   },
   {
    "duration": 74,
    "start_time": "2023-04-28T18:46:02.312Z"
   },
   {
    "duration": 117,
    "start_time": "2023-04-28T18:46:05.404Z"
   },
   {
    "duration": 85,
    "start_time": "2023-04-28T18:46:06.397Z"
   },
   {
    "duration": 98,
    "start_time": "2023-04-28T18:46:08.669Z"
   },
   {
    "duration": 89,
    "start_time": "2023-04-28T18:46:10.472Z"
   },
   {
    "duration": 31,
    "start_time": "2023-04-28T18:46:17.595Z"
   },
   {
    "duration": 7,
    "start_time": "2023-04-28T18:46:24.175Z"
   },
   {
    "duration": 10,
    "start_time": "2023-04-28T18:46:28.659Z"
   },
   {
    "duration": 47,
    "start_time": "2023-04-28T18:46:34.982Z"
   },
   {
    "duration": 67,
    "start_time": "2023-04-28T18:46:44.596Z"
   },
   {
    "duration": 82,
    "start_time": "2023-04-28T18:46:48.083Z"
   },
   {
    "duration": 22,
    "start_time": "2023-04-28T18:47:59.306Z"
   },
   {
    "duration": 9,
    "start_time": "2023-04-28T18:48:55.954Z"
   },
   {
    "duration": 12,
    "start_time": "2023-04-28T18:49:39.731Z"
   },
   {
    "duration": 79,
    "start_time": "2023-04-28T18:49:52.304Z"
   },
   {
    "duration": 29,
    "start_time": "2023-04-28T18:51:03.943Z"
   },
   {
    "duration": 6,
    "start_time": "2023-04-28T18:51:13.553Z"
   },
   {
    "duration": 7,
    "start_time": "2023-04-28T18:51:20.150Z"
   },
   {
    "duration": 67,
    "start_time": "2023-04-28T18:51:27.657Z"
   },
   {
    "duration": 70,
    "start_time": "2023-04-28T18:52:33.967Z"
   },
   {
    "duration": 29,
    "start_time": "2023-04-28T18:55:35.127Z"
   },
   {
    "duration": 97,
    "start_time": "2023-04-28T18:57:07.605Z"
   },
   {
    "duration": 75,
    "start_time": "2023-04-28T18:57:33.363Z"
   },
   {
    "duration": 114,
    "start_time": "2023-04-28T18:57:50.007Z"
   },
   {
    "duration": 41,
    "start_time": "2023-04-28T18:58:52.624Z"
   },
   {
    "duration": 10,
    "start_time": "2023-04-28T19:11:34.520Z"
   },
   {
    "duration": 14,
    "start_time": "2023-04-28T19:12:13.300Z"
   },
   {
    "duration": 13,
    "start_time": "2023-04-28T19:14:04.450Z"
   },
   {
    "duration": 6342,
    "start_time": "2023-04-28T19:14:39.202Z"
   },
   {
    "duration": 1418,
    "start_time": "2023-04-28T19:18:03.425Z"
   },
   {
    "duration": 827,
    "start_time": "2023-04-28T19:20:07.316Z"
   },
   {
    "duration": 1922,
    "start_time": "2023-04-28T19:20:08.145Z"
   },
   {
    "duration": 27,
    "start_time": "2023-04-28T19:20:10.070Z"
   },
   {
    "duration": 124,
    "start_time": "2023-04-28T19:20:10.099Z"
   },
   {
    "duration": 86,
    "start_time": "2023-04-28T19:20:10.227Z"
   },
   {
    "duration": 114,
    "start_time": "2023-04-28T19:20:10.315Z"
   },
   {
    "duration": 74,
    "start_time": "2023-04-28T19:20:10.435Z"
   },
   {
    "duration": 87,
    "start_time": "2023-04-28T19:20:10.510Z"
   },
   {
    "duration": 75,
    "start_time": "2023-04-28T19:20:10.599Z"
   },
   {
    "duration": 91,
    "start_time": "2023-04-28T19:20:10.675Z"
   },
   {
    "duration": 88,
    "start_time": "2023-04-28T19:20:10.767Z"
   },
   {
    "duration": 78,
    "start_time": "2023-04-28T19:20:10.857Z"
   },
   {
    "duration": 2,
    "start_time": "2023-04-28T19:20:10.937Z"
   },
   {
    "duration": 7,
    "start_time": "2023-04-28T19:20:10.941Z"
   },
   {
    "duration": 19,
    "start_time": "2023-04-28T19:20:10.949Z"
   },
   {
    "duration": 358,
    "start_time": "2023-04-28T19:20:10.969Z"
   },
   {
    "duration": 11,
    "start_time": "2023-04-28T19:20:11.334Z"
   },
   {
    "duration": 9,
    "start_time": "2023-04-28T19:20:11.347Z"
   },
   {
    "duration": 213,
    "start_time": "2023-04-28T19:20:11.357Z"
   },
   {
    "duration": 166,
    "start_time": "2023-04-28T19:20:11.572Z"
   },
   {
    "duration": 185,
    "start_time": "2023-04-28T19:20:11.740Z"
   },
   {
    "duration": 165,
    "start_time": "2023-04-28T19:20:11.927Z"
   },
   {
    "duration": 708,
    "start_time": "2023-04-28T19:20:12.094Z"
   },
   {
    "duration": 184,
    "start_time": "2023-04-28T19:20:12.803Z"
   },
   {
    "duration": 268,
    "start_time": "2023-04-28T19:20:12.989Z"
   },
   {
    "duration": 186,
    "start_time": "2023-04-28T19:20:13.259Z"
   },
   {
    "duration": 1907,
    "start_time": "2023-04-28T19:20:15.100Z"
   },
   {
    "duration": 24,
    "start_time": "2023-04-28T19:20:23.671Z"
   },
   {
    "duration": 160,
    "start_time": "2023-04-28T19:20:24.642Z"
   },
   {
    "duration": 65,
    "start_time": "2023-04-28T19:20:25.100Z"
   },
   {
    "duration": 113,
    "start_time": "2023-04-28T19:20:25.397Z"
   },
   {
    "duration": 77,
    "start_time": "2023-04-28T19:20:25.639Z"
   },
   {
    "duration": 81,
    "start_time": "2023-04-28T19:20:27.002Z"
   },
   {
    "duration": 67,
    "start_time": "2023-04-28T19:20:27.773Z"
   },
   {
    "duration": 75,
    "start_time": "2023-04-28T19:20:28.602Z"
   },
   {
    "duration": 81,
    "start_time": "2023-04-28T19:20:30.101Z"
   },
   {
    "duration": 69,
    "start_time": "2023-04-28T19:20:32.211Z"
   },
   {
    "duration": 33,
    "start_time": "2023-04-28T19:22:23.704Z"
   },
   {
    "duration": 1546,
    "start_time": "2023-04-28T19:23:49.475Z"
   },
   {
    "duration": 36,
    "start_time": "2023-04-28T19:24:13.610Z"
   },
   {
    "duration": 5354,
    "start_time": "2023-04-28T19:26:19.393Z"
   },
   {
    "duration": 6270,
    "start_time": "2023-04-28T19:29:20.419Z"
   },
   {
    "duration": 73,
    "start_time": "2023-04-28T19:29:26.691Z"
   },
   {
    "duration": 1393,
    "start_time": "2023-04-28T19:31:56.216Z"
   },
   {
    "duration": 40,
    "start_time": "2023-04-28T19:32:41.420Z"
   },
   {
    "duration": 67,
    "start_time": "2023-04-28T19:32:57.621Z"
   },
   {
    "duration": 9,
    "start_time": "2023-04-28T19:33:34.794Z"
   },
   {
    "duration": 338,
    "start_time": "2023-04-28T19:33:49.391Z"
   },
   {
    "duration": 11,
    "start_time": "2023-04-28T19:33:56.894Z"
   },
   {
    "duration": 7,
    "start_time": "2023-04-28T19:34:10.554Z"
   },
   {
    "duration": 245,
    "start_time": "2023-04-28T19:35:17.628Z"
   },
   {
    "duration": 259,
    "start_time": "2023-04-28T19:36:23.012Z"
   },
   {
    "duration": 172,
    "start_time": "2023-04-28T19:36:28.002Z"
   },
   {
    "duration": 158,
    "start_time": "2023-04-28T19:36:35.651Z"
   },
   {
    "duration": 150,
    "start_time": "2023-04-28T19:36:39.879Z"
   },
   {
    "duration": 145,
    "start_time": "2023-04-28T19:36:48.777Z"
   },
   {
    "duration": 175,
    "start_time": "2023-04-28T19:36:53.611Z"
   },
   {
    "duration": 233,
    "start_time": "2023-04-28T19:37:17.524Z"
   },
   {
    "duration": 189,
    "start_time": "2023-04-28T19:38:41.053Z"
   },
   {
    "duration": 170,
    "start_time": "2023-04-28T19:44:29.946Z"
   },
   {
    "duration": 426,
    "start_time": "2023-04-28T19:45:04.941Z"
   },
   {
    "duration": 297,
    "start_time": "2023-04-28T19:45:16.649Z"
   },
   {
    "duration": 82,
    "start_time": "2023-04-28T19:46:01.373Z"
   },
   {
    "duration": 311,
    "start_time": "2023-04-28T19:46:05.369Z"
   },
   {
    "duration": 92,
    "start_time": "2023-04-28T19:52:41.319Z"
   },
   {
    "duration": 3,
    "start_time": "2023-04-28T19:52:49.010Z"
   },
   {
    "duration": 3,
    "start_time": "2023-04-28T19:53:01.680Z"
   },
   {
    "duration": 4,
    "start_time": "2023-04-28T19:53:07.805Z"
   },
   {
    "duration": 5,
    "start_time": "2023-04-28T19:53:31.972Z"
   },
   {
    "duration": 8,
    "start_time": "2023-04-28T19:53:51.631Z"
   },
   {
    "duration": 11,
    "start_time": "2023-04-28T19:57:39.837Z"
   },
   {
    "duration": 9,
    "start_time": "2023-04-28T19:58:00.404Z"
   },
   {
    "duration": 8,
    "start_time": "2023-04-28T19:58:19.478Z"
   },
   {
    "duration": 10,
    "start_time": "2023-04-28T19:58:39.766Z"
   },
   {
    "duration": 9,
    "start_time": "2023-04-28T19:58:44.561Z"
   },
   {
    "duration": 8,
    "start_time": "2023-04-28T19:58:56.828Z"
   },
   {
    "duration": 7,
    "start_time": "2023-04-28T20:01:19.425Z"
   },
   {
    "duration": 10,
    "start_time": "2023-04-28T20:01:27.637Z"
   },
   {
    "duration": 8,
    "start_time": "2023-04-28T20:02:31.357Z"
   },
   {
    "duration": 14,
    "start_time": "2023-04-28T20:03:21.930Z"
   },
   {
    "duration": 19,
    "start_time": "2023-04-28T20:04:36.024Z"
   },
   {
    "duration": 1147,
    "start_time": "2023-04-28T20:05:06.915Z"
   },
   {
    "duration": 1390,
    "start_time": "2023-04-28T20:05:31.231Z"
   },
   {
    "duration": 9,
    "start_time": "2023-04-28T20:05:46.435Z"
   },
   {
    "duration": 4,
    "start_time": "2023-04-28T20:06:17.074Z"
   },
   {
    "duration": 11,
    "start_time": "2023-04-28T20:09:54.544Z"
   },
   {
    "duration": 8,
    "start_time": "2023-04-28T20:10:28.318Z"
   },
   {
    "duration": 8,
    "start_time": "2023-04-28T20:11:02.933Z"
   },
   {
    "duration": 6,
    "start_time": "2023-04-28T20:11:20.013Z"
   },
   {
    "duration": 10,
    "start_time": "2023-04-28T20:11:27.516Z"
   },
   {
    "duration": 16,
    "start_time": "2023-04-28T20:13:03.379Z"
   },
   {
    "duration": 8,
    "start_time": "2023-04-28T20:13:07.147Z"
   },
   {
    "duration": 9,
    "start_time": "2023-04-28T20:13:12.400Z"
   },
   {
    "duration": 5,
    "start_time": "2023-04-28T20:15:19.285Z"
   },
   {
    "duration": 37,
    "start_time": "2023-04-28T20:18:51.802Z"
   },
   {
    "duration": 5,
    "start_time": "2023-04-28T20:22:08.281Z"
   },
   {
    "duration": 8,
    "start_time": "2023-04-28T20:22:24.688Z"
   },
   {
    "duration": 16,
    "start_time": "2023-04-28T20:24:43.043Z"
   },
   {
    "duration": 14,
    "start_time": "2023-04-28T20:25:12.180Z"
   },
   {
    "duration": 14,
    "start_time": "2023-04-28T20:26:44.457Z"
   },
   {
    "duration": 5,
    "start_time": "2023-04-28T20:27:07.836Z"
   },
   {
    "duration": 8,
    "start_time": "2023-04-28T20:27:51.767Z"
   },
   {
    "duration": 41,
    "start_time": "2023-04-28T20:30:01.847Z"
   },
   {
    "duration": 6,
    "start_time": "2023-04-28T20:39:15.706Z"
   },
   {
    "duration": 14,
    "start_time": "2023-04-28T20:40:14.116Z"
   },
   {
    "duration": 14,
    "start_time": "2023-04-28T20:41:08.029Z"
   },
   {
    "duration": 11,
    "start_time": "2023-04-28T20:42:42.022Z"
   },
   {
    "duration": 12,
    "start_time": "2023-04-28T20:43:30.530Z"
   },
   {
    "duration": 76,
    "start_time": "2023-04-28T20:43:54.570Z"
   },
   {
    "duration": 12,
    "start_time": "2023-04-28T20:44:00.922Z"
   },
   {
    "duration": 15,
    "start_time": "2023-04-28T20:45:43.751Z"
   },
   {
    "duration": 8,
    "start_time": "2023-04-28T20:49:50.619Z"
   },
   {
    "duration": 9,
    "start_time": "2023-04-28T20:50:50.462Z"
   },
   {
    "duration": 15,
    "start_time": "2023-04-28T20:51:04.734Z"
   },
   {
    "duration": 19,
    "start_time": "2023-04-28T20:56:40.373Z"
   },
   {
    "duration": 16,
    "start_time": "2023-04-28T20:56:53.965Z"
   },
   {
    "duration": 10,
    "start_time": "2023-04-28T20:57:04.051Z"
   },
   {
    "duration": 15,
    "start_time": "2023-04-28T20:57:23.579Z"
   },
   {
    "duration": 11,
    "start_time": "2023-04-28T20:57:36.477Z"
   },
   {
    "duration": 15,
    "start_time": "2023-04-28T20:57:47.842Z"
   },
   {
    "duration": 10,
    "start_time": "2023-04-28T20:57:59.726Z"
   },
   {
    "duration": 11,
    "start_time": "2023-04-28T20:59:04.645Z"
   },
   {
    "duration": 153273,
    "start_time": "2023-04-28T21:06:55.065Z"
   },
   {
    "duration": 1192,
    "start_time": "2023-04-29T09:52:33.749Z"
   },
   {
    "duration": 2388,
    "start_time": "2023-04-29T09:52:36.682Z"
   },
   {
    "duration": 30,
    "start_time": "2023-04-29T09:53:44.353Z"
   },
   {
    "duration": 169,
    "start_time": "2023-04-29T09:53:51.148Z"
   },
   {
    "duration": 84,
    "start_time": "2023-04-29T09:53:55.406Z"
   },
   {
    "duration": 127,
    "start_time": "2023-04-29T09:53:59.142Z"
   },
   {
    "duration": 137,
    "start_time": "2023-04-29T09:56:30.662Z"
   },
   {
    "duration": 88,
    "start_time": "2023-04-29T09:56:31.931Z"
   },
   {
    "duration": 88,
    "start_time": "2023-04-29T09:56:33.551Z"
   },
   {
    "duration": 80,
    "start_time": "2023-04-29T09:56:34.821Z"
   },
   {
    "duration": 90,
    "start_time": "2023-04-29T09:56:38.835Z"
   },
   {
    "duration": 91,
    "start_time": "2023-04-29T09:56:39.937Z"
   },
   {
    "duration": 79,
    "start_time": "2023-04-29T09:56:41.420Z"
   },
   {
    "duration": 2459,
    "start_time": "2023-04-29T09:56:44.350Z"
   },
   {
    "duration": 87,
    "start_time": "2023-04-29T09:56:46.811Z"
   },
   {
    "duration": 11,
    "start_time": "2023-04-29T09:57:41.264Z"
   },
   {
    "duration": 408,
    "start_time": "2023-04-29T09:57:44.870Z"
   },
   {
    "duration": 12,
    "start_time": "2023-04-29T09:57:46.912Z"
   },
   {
    "duration": 13,
    "start_time": "2023-04-29T09:58:45.531Z"
   },
   {
    "duration": 7,
    "start_time": "2023-04-29T09:58:47.234Z"
   },
   {
    "duration": 217,
    "start_time": "2023-04-29T09:59:29.304Z"
   },
   {
    "duration": 260,
    "start_time": "2023-04-29T10:00:20.149Z"
   },
   {
    "duration": 354,
    "start_time": "2023-04-29T10:00:55.598Z"
   },
   {
    "duration": 335,
    "start_time": "2023-04-29T10:01:59.748Z"
   },
   {
    "duration": 262,
    "start_time": "2023-04-29T10:02:08.276Z"
   },
   {
    "duration": 246,
    "start_time": "2023-04-29T10:02:12.418Z"
   },
   {
    "duration": 242,
    "start_time": "2023-04-29T10:08:48.776Z"
   },
   {
    "duration": 278,
    "start_time": "2023-04-29T10:09:00.125Z"
   },
   {
    "duration": 311,
    "start_time": "2023-04-29T10:13:26.301Z"
   },
   {
    "duration": 362,
    "start_time": "2023-04-29T10:14:11.605Z"
   },
   {
    "duration": 299,
    "start_time": "2023-04-29T10:14:19.574Z"
   },
   {
    "duration": 236,
    "start_time": "2023-04-29T10:15:49.431Z"
   },
   {
    "duration": 266,
    "start_time": "2023-04-29T10:16:38.743Z"
   },
   {
    "duration": 264,
    "start_time": "2023-04-29T10:16:57.968Z"
   },
   {
    "duration": 293,
    "start_time": "2023-04-29T10:17:45.563Z"
   },
   {
    "duration": 375,
    "start_time": "2023-04-29T10:18:21.134Z"
   },
   {
    "duration": 276,
    "start_time": "2023-04-29T10:18:28.478Z"
   },
   {
    "duration": 311,
    "start_time": "2023-04-29T10:18:32.918Z"
   },
   {
    "duration": 270,
    "start_time": "2023-04-29T10:19:58.906Z"
   },
   {
    "duration": 338,
    "start_time": "2023-04-29T10:20:09.909Z"
   },
   {
    "duration": 328,
    "start_time": "2023-04-29T10:20:51.982Z"
   },
   {
    "duration": 256,
    "start_time": "2023-04-29T10:26:28.703Z"
   },
   {
    "duration": 424,
    "start_time": "2023-04-29T10:26:34.717Z"
   },
   {
    "duration": 263,
    "start_time": "2023-04-29T10:26:42.144Z"
   },
   {
    "duration": 278,
    "start_time": "2023-04-29T10:26:54.373Z"
   },
   {
    "duration": 325,
    "start_time": "2023-04-29T10:27:50.210Z"
   },
   {
    "duration": 319,
    "start_time": "2023-04-29T10:28:20.171Z"
   },
   {
    "duration": 279,
    "start_time": "2023-04-29T10:28:37.645Z"
   },
   {
    "duration": 269,
    "start_time": "2023-04-29T10:29:23.733Z"
   },
   {
    "duration": 270,
    "start_time": "2023-04-29T10:31:44.042Z"
   },
   {
    "duration": 270,
    "start_time": "2023-04-29T10:31:56.504Z"
   },
   {
    "duration": 261,
    "start_time": "2023-04-29T10:32:23.172Z"
   },
   {
    "duration": 415,
    "start_time": "2023-04-29T10:32:31.955Z"
   },
   {
    "duration": 317,
    "start_time": "2023-04-29T10:32:38.268Z"
   },
   {
    "duration": 356,
    "start_time": "2023-04-29T10:32:59.841Z"
   },
   {
    "duration": 380,
    "start_time": "2023-04-29T10:34:58.766Z"
   },
   {
    "duration": 347,
    "start_time": "2023-04-29T10:35:19.130Z"
   },
   {
    "duration": 350,
    "start_time": "2023-04-29T10:35:25.413Z"
   },
   {
    "duration": 737,
    "start_time": "2023-04-29T10:35:47.034Z"
   },
   {
    "duration": 323,
    "start_time": "2023-04-29T10:36:00.756Z"
   },
   {
    "duration": 457,
    "start_time": "2023-04-29T10:36:12.747Z"
   },
   {
    "duration": 276,
    "start_time": "2023-04-29T10:37:32.907Z"
   },
   {
    "duration": 369,
    "start_time": "2023-04-29T10:38:05.684Z"
   },
   {
    "duration": 352,
    "start_time": "2023-04-29T10:38:20.665Z"
   },
   {
    "duration": 372,
    "start_time": "2023-04-29T10:38:26.223Z"
   },
   {
    "duration": 375,
    "start_time": "2023-04-29T10:38:33.750Z"
   },
   {
    "duration": 391,
    "start_time": "2023-04-29T10:40:31.226Z"
   },
   {
    "duration": 389,
    "start_time": "2023-04-29T10:40:37.002Z"
   },
   {
    "duration": 402,
    "start_time": "2023-04-29T10:41:10.542Z"
   },
   {
    "duration": 621,
    "start_time": "2023-04-29T10:41:58.413Z"
   },
   {
    "duration": 371,
    "start_time": "2023-04-29T10:42:08.306Z"
   },
   {
    "duration": 407,
    "start_time": "2023-04-29T10:44:01.447Z"
   },
   {
    "duration": 283,
    "start_time": "2023-04-29T10:44:38.454Z"
   },
   {
    "duration": 277,
    "start_time": "2023-04-29T10:44:39.905Z"
   },
   {
    "duration": 281,
    "start_time": "2023-04-29T10:44:40.433Z"
   },
   {
    "duration": 193,
    "start_time": "2023-04-29T10:44:41.066Z"
   },
   {
    "duration": 230,
    "start_time": "2023-04-29T10:44:41.636Z"
   },
   {
    "duration": 206,
    "start_time": "2023-04-29T10:44:42.140Z"
   },
   {
    "duration": 710,
    "start_time": "2023-04-29T10:44:42.461Z"
   },
   {
    "duration": 264,
    "start_time": "2023-04-29T10:44:43.173Z"
   },
   {
    "duration": 310,
    "start_time": "2023-04-29T10:44:43.440Z"
   },
   {
    "duration": 264,
    "start_time": "2023-04-29T10:44:43.753Z"
   },
   {
    "duration": 393,
    "start_time": "2023-04-29T10:44:44.250Z"
   },
   {
    "duration": 12,
    "start_time": "2023-04-29T10:44:44.711Z"
   },
   {
    "duration": 47,
    "start_time": "2023-04-29T10:44:45.163Z"
   },
   {
    "duration": 118,
    "start_time": "2023-04-29T10:44:45.521Z"
   },
   {
    "duration": 10,
    "start_time": "2023-04-29T10:44:45.816Z"
   },
   {
    "duration": 1005,
    "start_time": "2023-04-30T13:53:33.109Z"
   },
   {
    "duration": 1998,
    "start_time": "2023-04-30T13:53:35.331Z"
   },
   {
    "duration": 26,
    "start_time": "2023-04-30T13:54:57.948Z"
   },
   {
    "duration": 143,
    "start_time": "2023-04-30T13:55:58.888Z"
   },
   {
    "duration": 187,
    "start_time": "2023-04-30T13:56:07.486Z"
   },
   {
    "duration": 75,
    "start_time": "2023-04-30T13:56:11.110Z"
   },
   {
    "duration": 111,
    "start_time": "2023-04-30T13:56:33.817Z"
   },
   {
    "duration": 92,
    "start_time": "2023-04-30T13:56:40.779Z"
   },
   {
    "duration": 108,
    "start_time": "2023-04-30T13:56:42.160Z"
   },
   {
    "duration": 78,
    "start_time": "2023-04-30T13:56:43.212Z"
   },
   {
    "duration": 105,
    "start_time": "2023-04-30T13:56:46.501Z"
   },
   {
    "duration": 88,
    "start_time": "2023-04-30T13:56:48.033Z"
   },
   {
    "duration": 74,
    "start_time": "2023-04-30T13:57:03.763Z"
   },
   {
    "duration": 2093,
    "start_time": "2023-04-30T13:57:04.817Z"
   },
   {
    "duration": 80,
    "start_time": "2023-04-30T13:57:06.912Z"
   },
   {
    "duration": 176,
    "start_time": "2023-04-30T14:15:15.623Z"
   },
   {
    "duration": 1995,
    "start_time": "2023-04-30T14:15:16.734Z"
   },
   {
    "duration": 26,
    "start_time": "2023-04-30T14:15:21.664Z"
   },
   {
    "duration": 152,
    "start_time": "2023-04-30T14:15:24.330Z"
   },
   {
    "duration": 70,
    "start_time": "2023-04-30T14:15:26.181Z"
   },
   {
    "duration": 110,
    "start_time": "2023-04-30T14:15:29.034Z"
   },
   {
    "duration": 82,
    "start_time": "2023-04-30T14:15:30.190Z"
   },
   {
    "duration": 86,
    "start_time": "2023-04-30T14:15:32.218Z"
   },
   {
    "duration": 69,
    "start_time": "2023-04-30T14:15:33.134Z"
   },
   {
    "duration": 79,
    "start_time": "2023-04-30T14:15:35.651Z"
   },
   {
    "duration": 85,
    "start_time": "2023-04-30T14:15:37.434Z"
   },
   {
    "duration": 68,
    "start_time": "2023-04-30T14:15:40.089Z"
   },
   {
    "duration": 2230,
    "start_time": "2023-04-30T14:15:46.426Z"
   },
   {
    "duration": 75,
    "start_time": "2023-04-30T14:15:48.658Z"
   },
   {
    "duration": 6,
    "start_time": "2023-04-30T14:16:23.257Z"
   },
   {
    "duration": 348,
    "start_time": "2023-04-30T14:16:55.983Z"
   },
   {
    "duration": 13,
    "start_time": "2023-04-30T14:17:04.830Z"
   },
   {
    "duration": 8,
    "start_time": "2023-04-30T14:17:08.226Z"
   },
   {
    "duration": 753,
    "start_time": "2023-04-30T14:25:51.342Z"
   },
   {
    "duration": 2037,
    "start_time": "2023-04-30T14:25:52.096Z"
   },
   {
    "duration": 29,
    "start_time": "2023-04-30T14:25:54.135Z"
   },
   {
    "duration": 134,
    "start_time": "2023-04-30T14:25:54.165Z"
   },
   {
    "duration": 101,
    "start_time": "2023-04-30T14:25:54.302Z"
   },
   {
    "duration": 138,
    "start_time": "2023-04-30T14:25:54.406Z"
   },
   {
    "duration": 93,
    "start_time": "2023-04-30T14:25:54.546Z"
   },
   {
    "duration": 94,
    "start_time": "2023-04-30T14:25:54.641Z"
   },
   {
    "duration": 84,
    "start_time": "2023-04-30T14:25:54.736Z"
   },
   {
    "duration": 88,
    "start_time": "2023-04-30T14:25:54.821Z"
   },
   {
    "duration": 86,
    "start_time": "2023-04-30T14:25:54.911Z"
   },
   {
    "duration": 72,
    "start_time": "2023-04-30T14:25:54.999Z"
   },
   {
    "duration": 2140,
    "start_time": "2023-04-30T14:25:55.072Z"
   },
   {
    "duration": 79,
    "start_time": "2023-04-30T14:25:57.215Z"
   },
   {
    "duration": 7,
    "start_time": "2023-04-30T14:25:57.296Z"
   },
   {
    "duration": 446,
    "start_time": "2023-04-30T14:25:57.305Z"
   },
   {
    "duration": 12,
    "start_time": "2023-04-30T14:25:57.753Z"
   },
   {
    "duration": 27,
    "start_time": "2023-04-30T14:25:57.767Z"
   },
   {
    "duration": 307,
    "start_time": "2023-04-30T14:25:57.796Z"
   },
   {
    "duration": 310,
    "start_time": "2023-04-30T14:25:58.106Z"
   },
   {
    "duration": 233,
    "start_time": "2023-04-30T14:25:58.418Z"
   },
   {
    "duration": 220,
    "start_time": "2023-04-30T14:25:58.653Z"
   },
   {
    "duration": 166,
    "start_time": "2023-04-30T14:25:58.874Z"
   },
   {
    "duration": 194,
    "start_time": "2023-04-30T14:25:59.041Z"
   },
   {
    "duration": 171,
    "start_time": "2023-04-30T14:25:59.237Z"
   },
   {
    "duration": 650,
    "start_time": "2023-04-30T14:25:59.410Z"
   },
   {
    "duration": 203,
    "start_time": "2023-04-30T14:26:00.062Z"
   },
   {
    "duration": 271,
    "start_time": "2023-04-30T14:26:00.267Z"
   },
   {
    "duration": 223,
    "start_time": "2023-04-30T14:26:00.540Z"
   },
   {
    "duration": 327,
    "start_time": "2023-04-30T14:26:00.765Z"
   },
   {
    "duration": 8,
    "start_time": "2023-04-30T14:26:01.093Z"
   },
   {
    "duration": 70,
    "start_time": "2023-04-30T14:26:01.102Z"
   },
   {
    "duration": 11,
    "start_time": "2023-04-30T14:26:01.174Z"
   },
   {
    "duration": 51,
    "start_time": "2023-04-30T14:26:01.187Z"
   },
   {
    "duration": 169141,
    "start_time": "2023-04-30T14:26:01.240Z"
   },
   {
    "duration": 163,
    "start_time": "2023-04-30T14:30:51.783Z"
   },
   {
    "duration": 1911,
    "start_time": "2023-04-30T14:30:53.847Z"
   },
   {
    "duration": 27,
    "start_time": "2023-04-30T14:30:57.083Z"
   },
   {
    "duration": 132,
    "start_time": "2023-04-30T14:30:58.325Z"
   },
   {
    "duration": 83,
    "start_time": "2023-04-30T14:30:59.357Z"
   },
   {
    "duration": 117,
    "start_time": "2023-04-30T14:31:00.526Z"
   },
   {
    "duration": 82,
    "start_time": "2023-04-30T14:31:01.365Z"
   },
   {
    "duration": 102,
    "start_time": "2023-04-30T14:31:01.960Z"
   },
   {
    "duration": 78,
    "start_time": "2023-04-30T14:31:02.720Z"
   },
   {
    "duration": 85,
    "start_time": "2023-04-30T14:31:03.723Z"
   },
   {
    "duration": 96,
    "start_time": "2023-04-30T14:31:04.855Z"
   },
   {
    "duration": 71,
    "start_time": "2023-04-30T14:31:05.718Z"
   },
   {
    "duration": 2336,
    "start_time": "2023-04-30T14:31:06.850Z"
   },
   {
    "duration": 82,
    "start_time": "2023-04-30T14:31:11.665Z"
   },
   {
    "duration": 8,
    "start_time": "2023-04-30T14:31:19.450Z"
   },
   {
    "duration": 373,
    "start_time": "2023-04-30T14:31:21.118Z"
   },
   {
    "duration": 13,
    "start_time": "2023-04-30T14:31:29.474Z"
   },
   {
    "duration": 5,
    "start_time": "2023-04-30T14:37:07.318Z"
   },
   {
    "duration": 89,
    "start_time": "2023-04-30T14:37:17.286Z"
   },
   {
    "duration": 76,
    "start_time": "2023-04-30T14:38:29.347Z"
   },
   {
    "duration": 308,
    "start_time": "2023-04-30T14:38:32.755Z"
   },
   {
    "duration": 229,
    "start_time": "2023-04-30T14:38:33.466Z"
   },
   {
    "duration": 247,
    "start_time": "2023-04-30T14:38:34.463Z"
   },
   {
    "duration": 210,
    "start_time": "2023-04-30T14:38:36.777Z"
   },
   {
    "duration": 166,
    "start_time": "2023-04-30T14:38:38.719Z"
   },
   {
    "duration": 176,
    "start_time": "2023-04-30T14:38:39.579Z"
   },
   {
    "duration": 185,
    "start_time": "2023-04-30T14:38:40.382Z"
   },
   {
    "duration": 144,
    "start_time": "2023-04-30T14:38:41.264Z"
   },
   {
    "duration": 193,
    "start_time": "2023-04-30T14:38:42.183Z"
   },
   {
    "duration": 278,
    "start_time": "2023-04-30T14:38:42.378Z"
   },
   {
    "duration": 191,
    "start_time": "2023-04-30T14:38:43.723Z"
   },
   {
    "duration": 310,
    "start_time": "2023-04-30T14:38:56.646Z"
   },
   {
    "duration": 9,
    "start_time": "2023-04-30T14:38:58.687Z"
   },
   {
    "duration": 42,
    "start_time": "2023-04-30T14:39:01.088Z"
   },
   {
    "duration": 10,
    "start_time": "2023-04-30T14:39:07.179Z"
   },
   {
    "duration": 10,
    "start_time": "2023-04-30T14:41:56.063Z"
   },
   {
    "duration": 162,
    "start_time": "2023-04-30T14:43:42.585Z"
   },
   {
    "duration": 222,
    "start_time": "2023-04-30T14:46:49.034Z"
   },
   {
    "duration": 294,
    "start_time": "2023-04-30T14:50:30.069Z"
   },
   {
    "duration": 211,
    "start_time": "2023-04-30T14:51:29.086Z"
   },
   {
    "duration": 234,
    "start_time": "2023-04-30T14:51:42.080Z"
   },
   {
    "duration": 456,
    "start_time": "2023-04-30T14:52:16.423Z"
   },
   {
    "duration": 220,
    "start_time": "2023-04-30T14:52:23.986Z"
   },
   {
    "duration": 197,
    "start_time": "2023-04-30T14:53:30.682Z"
   },
   {
    "duration": 242,
    "start_time": "2023-04-30T14:53:37.226Z"
   },
   {
    "duration": 463,
    "start_time": "2023-04-30T15:09:47.879Z"
   },
   {
    "duration": 225,
    "start_time": "2023-04-30T15:09:55.042Z"
   },
   {
    "duration": 406,
    "start_time": "2023-04-30T15:09:59.242Z"
   },
   {
    "duration": 235,
    "start_time": "2023-04-30T15:11:17.981Z"
   },
   {
    "duration": 252,
    "start_time": "2023-04-30T15:11:35.065Z"
   },
   {
    "duration": 190,
    "start_time": "2023-04-30T15:11:39.382Z"
   },
   {
    "duration": 226,
    "start_time": "2023-04-30T15:15:57.026Z"
   },
   {
    "duration": 195,
    "start_time": "2023-04-30T15:16:39.180Z"
   },
   {
    "duration": 182,
    "start_time": "2023-04-30T15:17:58.164Z"
   },
   {
    "duration": 207,
    "start_time": "2023-04-30T15:18:11.157Z"
   },
   {
    "duration": 188,
    "start_time": "2023-04-30T15:19:01.734Z"
   },
   {
    "duration": 212,
    "start_time": "2023-04-30T15:23:11.745Z"
   },
   {
    "duration": 377,
    "start_time": "2023-04-30T15:24:51.330Z"
   },
   {
    "duration": 488,
    "start_time": "2023-04-30T15:27:03.634Z"
   },
   {
    "duration": 396,
    "start_time": "2023-04-30T15:28:21.788Z"
   },
   {
    "duration": 419,
    "start_time": "2023-04-30T15:28:33.339Z"
   },
   {
    "duration": 472,
    "start_time": "2023-04-30T15:28:42.957Z"
   },
   {
    "duration": 483,
    "start_time": "2023-04-30T15:28:50.330Z"
   },
   {
    "duration": 152,
    "start_time": "2023-04-30T15:29:18.849Z"
   },
   {
    "duration": 149,
    "start_time": "2023-04-30T15:31:33.660Z"
   },
   {
    "duration": 157,
    "start_time": "2023-04-30T15:31:42.726Z"
   },
   {
    "duration": 161,
    "start_time": "2023-04-30T15:32:37.050Z"
   },
   {
    "duration": 196,
    "start_time": "2023-04-30T15:32:52.631Z"
   },
   {
    "duration": 245,
    "start_time": "2023-04-30T15:36:54.326Z"
   },
   {
    "duration": 239,
    "start_time": "2023-04-30T15:37:59.631Z"
   },
   {
    "duration": 235,
    "start_time": "2023-04-30T15:38:07.222Z"
   },
   {
    "duration": 226,
    "start_time": "2023-04-30T15:38:31.418Z"
   },
   {
    "duration": 221,
    "start_time": "2023-04-30T15:38:46.506Z"
   },
   {
    "duration": 208,
    "start_time": "2023-04-30T15:38:58.826Z"
   },
   {
    "duration": 200,
    "start_time": "2023-04-30T15:39:03.926Z"
   },
   {
    "duration": 249,
    "start_time": "2023-04-30T15:41:37.162Z"
   },
   {
    "duration": 206,
    "start_time": "2023-04-30T15:43:03.934Z"
   },
   {
    "duration": 221,
    "start_time": "2023-04-30T15:43:43.271Z"
   },
   {
    "duration": 448,
    "start_time": "2023-04-30T15:44:30.147Z"
   },
   {
    "duration": 212,
    "start_time": "2023-04-30T15:47:48.619Z"
   },
   {
    "duration": 233,
    "start_time": "2023-04-30T15:48:23.719Z"
   },
   {
    "duration": 194,
    "start_time": "2023-04-30T15:48:42.336Z"
   },
   {
    "duration": 241,
    "start_time": "2023-04-30T15:48:49.822Z"
   },
   {
    "duration": 25,
    "start_time": "2023-04-30T15:50:58.812Z"
   },
   {
    "duration": 10,
    "start_time": "2023-04-30T15:51:35.048Z"
   },
   {
    "duration": 20,
    "start_time": "2023-04-30T15:51:41.083Z"
   },
   {
    "duration": 11,
    "start_time": "2023-04-30T15:51:53.258Z"
   },
   {
    "duration": 10,
    "start_time": "2023-04-30T15:52:17.905Z"
   },
   {
    "duration": 10,
    "start_time": "2023-04-30T15:52:39.389Z"
   },
   {
    "duration": 19,
    "start_time": "2023-04-30T15:53:12.614Z"
   },
   {
    "duration": 0,
    "start_time": "2023-04-30T15:54:54.377Z"
   },
   {
    "duration": 821,
    "start_time": "2023-04-30T15:55:05.572Z"
   },
   {
    "duration": 2174,
    "start_time": "2023-04-30T15:55:06.395Z"
   },
   {
    "duration": 29,
    "start_time": "2023-04-30T15:55:08.571Z"
   },
   {
    "duration": 138,
    "start_time": "2023-04-30T15:55:08.602Z"
   },
   {
    "duration": 85,
    "start_time": "2023-04-30T15:55:08.742Z"
   },
   {
    "duration": 116,
    "start_time": "2023-04-30T15:55:08.828Z"
   },
   {
    "duration": 86,
    "start_time": "2023-04-30T15:55:08.946Z"
   },
   {
    "duration": 97,
    "start_time": "2023-04-30T15:55:09.034Z"
   },
   {
    "duration": 78,
    "start_time": "2023-04-30T15:55:09.133Z"
   },
   {
    "duration": 88,
    "start_time": "2023-04-30T15:55:09.213Z"
   },
   {
    "duration": 91,
    "start_time": "2023-04-30T15:55:09.303Z"
   },
   {
    "duration": 74,
    "start_time": "2023-04-30T15:55:09.395Z"
   },
   {
    "duration": 2116,
    "start_time": "2023-04-30T15:55:09.470Z"
   },
   {
    "duration": 72,
    "start_time": "2023-04-30T15:55:11.591Z"
   },
   {
    "duration": 7,
    "start_time": "2023-04-30T15:55:11.664Z"
   },
   {
    "duration": 358,
    "start_time": "2023-04-30T15:55:11.692Z"
   },
   {
    "duration": 11,
    "start_time": "2023-04-30T15:55:12.051Z"
   },
   {
    "duration": 103,
    "start_time": "2023-04-30T15:55:12.064Z"
   },
   {
    "duration": 220,
    "start_time": "2023-04-30T15:55:12.168Z"
   },
   {
    "duration": 621,
    "start_time": "2023-04-30T15:55:12.393Z"
   },
   {
    "duration": 234,
    "start_time": "2023-04-30T15:55:13.016Z"
   },
   {
    "duration": 221,
    "start_time": "2023-04-30T15:55:13.252Z"
   },
   {
    "duration": 244,
    "start_time": "2023-04-30T15:55:13.475Z"
   },
   {
    "duration": 463,
    "start_time": "2023-04-30T15:55:13.721Z"
   },
   {
    "duration": 237,
    "start_time": "2023-04-30T15:55:14.186Z"
   },
   {
    "duration": 88,
    "start_time": "2023-04-30T15:55:14.425Z"
   },
   {
    "duration": 0,
    "start_time": "2023-04-30T15:55:14.515Z"
   },
   {
    "duration": 0,
    "start_time": "2023-04-30T15:55:14.516Z"
   },
   {
    "duration": 0,
    "start_time": "2023-04-30T15:55:14.518Z"
   },
   {
    "duration": 0,
    "start_time": "2023-04-30T15:55:14.519Z"
   },
   {
    "duration": 0,
    "start_time": "2023-04-30T15:55:14.521Z"
   },
   {
    "duration": 0,
    "start_time": "2023-04-30T15:55:14.522Z"
   },
   {
    "duration": 0,
    "start_time": "2023-04-30T15:55:14.523Z"
   },
   {
    "duration": 0,
    "start_time": "2023-04-30T15:55:14.525Z"
   },
   {
    "duration": 0,
    "start_time": "2023-04-30T15:55:14.526Z"
   },
   {
    "duration": 0,
    "start_time": "2023-04-30T15:55:14.527Z"
   },
   {
    "duration": 0,
    "start_time": "2023-04-30T15:55:14.529Z"
   },
   {
    "duration": 0,
    "start_time": "2023-04-30T15:55:14.530Z"
   },
   {
    "duration": 0,
    "start_time": "2023-04-30T15:55:14.532Z"
   },
   {
    "duration": 0,
    "start_time": "2023-04-30T15:55:14.533Z"
   },
   {
    "duration": 0,
    "start_time": "2023-04-30T15:55:14.534Z"
   },
   {
    "duration": 180,
    "start_time": "2023-04-30T15:55:45.483Z"
   },
   {
    "duration": 2009,
    "start_time": "2023-04-30T15:55:46.849Z"
   },
   {
    "duration": 28,
    "start_time": "2023-04-30T15:55:52.325Z"
   },
   {
    "duration": 149,
    "start_time": "2023-04-30T15:55:52.911Z"
   },
   {
    "duration": 78,
    "start_time": "2023-04-30T15:55:53.220Z"
   },
   {
    "duration": 124,
    "start_time": "2023-04-30T15:55:53.504Z"
   },
   {
    "duration": 114,
    "start_time": "2023-04-30T15:55:53.659Z"
   },
   {
    "duration": 93,
    "start_time": "2023-04-30T15:55:53.829Z"
   },
   {
    "duration": 84,
    "start_time": "2023-04-30T15:55:54.015Z"
   },
   {
    "duration": 96,
    "start_time": "2023-04-30T15:55:54.174Z"
   },
   {
    "duration": 89,
    "start_time": "2023-04-30T15:55:54.338Z"
   },
   {
    "duration": 88,
    "start_time": "2023-04-30T15:55:54.486Z"
   },
   {
    "duration": 2107,
    "start_time": "2023-04-30T15:55:54.646Z"
   },
   {
    "duration": 77,
    "start_time": "2023-04-30T15:55:56.754Z"
   },
   {
    "duration": 8,
    "start_time": "2023-04-30T15:55:57.527Z"
   },
   {
    "duration": 373,
    "start_time": "2023-04-30T15:55:58.149Z"
   },
   {
    "duration": 11,
    "start_time": "2023-04-30T15:55:58.876Z"
   },
   {
    "duration": 80,
    "start_time": "2023-04-30T15:55:59.585Z"
   },
   {
    "duration": 212,
    "start_time": "2023-04-30T15:56:01.923Z"
   },
   {
    "duration": 533,
    "start_time": "2023-04-30T15:56:02.846Z"
   },
   {
    "duration": 221,
    "start_time": "2023-04-30T15:56:04.387Z"
   },
   {
    "duration": 133,
    "start_time": "2023-04-30T15:56:06.047Z"
   },
   {
    "duration": 231,
    "start_time": "2023-04-30T15:56:08.326Z"
   },
   {
    "duration": 427,
    "start_time": "2023-04-30T15:56:09.834Z"
   },
   {
    "duration": 226,
    "start_time": "2023-04-30T15:56:14.328Z"
   },
   {
    "duration": 8,
    "start_time": "2023-04-30T16:00:12.522Z"
   },
   {
    "duration": 630,
    "start_time": "2023-04-30T16:00:28.326Z"
   },
   {
    "duration": 215,
    "start_time": "2023-04-30T16:02:58.949Z"
   },
   {
    "duration": 250,
    "start_time": "2023-04-30T16:03:13.620Z"
   },
   {
    "duration": 209,
    "start_time": "2023-04-30T16:03:29.245Z"
   },
   {
    "duration": 282,
    "start_time": "2023-04-30T16:03:37.575Z"
   },
   {
    "duration": 226,
    "start_time": "2023-04-30T16:04:01.860Z"
   },
   {
    "duration": 256,
    "start_time": "2023-04-30T16:04:08.240Z"
   },
   {
    "duration": 289,
    "start_time": "2023-04-30T16:04:30.218Z"
   },
   {
    "duration": 138,
    "start_time": "2023-04-30T16:07:40.883Z"
   },
   {
    "duration": 254,
    "start_time": "2023-04-30T16:08:06.340Z"
   },
   {
    "duration": 367,
    "start_time": "2023-04-30T16:08:20.619Z"
   },
   {
    "duration": 258,
    "start_time": "2023-04-30T16:08:51.518Z"
   },
   {
    "duration": 302,
    "start_time": "2023-04-30T16:09:43.765Z"
   },
   {
    "duration": 272,
    "start_time": "2023-04-30T16:09:57.473Z"
   },
   {
    "duration": 234,
    "start_time": "2023-04-30T16:11:42.617Z"
   },
   {
    "duration": 242,
    "start_time": "2023-04-30T16:15:48.215Z"
   },
   {
    "duration": 145,
    "start_time": "2023-04-30T16:18:42.623Z"
   },
   {
    "duration": 173,
    "start_time": "2023-04-30T16:21:04.115Z"
   },
   {
    "duration": 212,
    "start_time": "2023-04-30T16:24:04.818Z"
   },
   {
    "duration": 248,
    "start_time": "2023-04-30T16:24:06.225Z"
   },
   {
    "duration": 242,
    "start_time": "2023-04-30T16:24:07.448Z"
   },
   {
    "duration": 228,
    "start_time": "2023-04-30T16:24:08.414Z"
   },
   {
    "duration": 198,
    "start_time": "2023-04-30T16:24:08.840Z"
   },
   {
    "duration": 182,
    "start_time": "2023-04-30T16:24:09.274Z"
   },
   {
    "duration": 243,
    "start_time": "2023-04-30T16:24:09.458Z"
   },
   {
    "duration": 477,
    "start_time": "2023-04-30T16:24:09.703Z"
   },
   {
    "duration": 246,
    "start_time": "2023-04-30T16:24:10.182Z"
   },
   {
    "duration": 402,
    "start_time": "2023-04-30T16:24:10.430Z"
   },
   {
    "duration": 9,
    "start_time": "2023-04-30T16:24:10.834Z"
   },
   {
    "duration": 65,
    "start_time": "2023-04-30T16:24:10.845Z"
   },
   {
    "duration": 16,
    "start_time": "2023-04-30T16:24:10.912Z"
   },
   {
    "duration": 12,
    "start_time": "2023-04-30T16:24:11.082Z"
   },
   {
    "duration": 206,
    "start_time": "2023-04-30T16:24:13.017Z"
   },
   {
    "duration": 193,
    "start_time": "2023-04-30T16:50:53.788Z"
   },
   {
    "duration": 2256,
    "start_time": "2023-04-30T16:50:55.306Z"
   },
   {
    "duration": 29,
    "start_time": "2023-04-30T16:51:00.671Z"
   },
   {
    "duration": 135,
    "start_time": "2023-04-30T16:51:01.320Z"
   },
   {
    "duration": 107,
    "start_time": "2023-04-30T16:51:01.658Z"
   },
   {
    "duration": 118,
    "start_time": "2023-04-30T16:51:02.012Z"
   },
   {
    "duration": 94,
    "start_time": "2023-04-30T16:51:02.214Z"
   },
   {
    "duration": 102,
    "start_time": "2023-04-30T16:51:02.405Z"
   },
   {
    "duration": 78,
    "start_time": "2023-04-30T16:51:02.610Z"
   },
   {
    "duration": 118,
    "start_time": "2023-04-30T16:51:02.777Z"
   },
   {
    "duration": 108,
    "start_time": "2023-04-30T16:51:02.956Z"
   },
   {
    "duration": 81,
    "start_time": "2023-04-30T16:51:03.136Z"
   },
   {
    "duration": 2462,
    "start_time": "2023-04-30T16:51:03.316Z"
   },
   {
    "duration": 106,
    "start_time": "2023-04-30T16:51:05.780Z"
   },
   {
    "duration": 8,
    "start_time": "2023-04-30T16:51:05.893Z"
   },
   {
    "duration": 401,
    "start_time": "2023-04-30T16:51:05.903Z"
   },
   {
    "duration": 13,
    "start_time": "2023-04-30T16:51:06.307Z"
   },
   {
    "duration": 111,
    "start_time": "2023-04-30T16:51:06.322Z"
   },
   {
    "duration": 266,
    "start_time": "2023-04-30T16:51:06.435Z"
   },
   {
    "duration": 467,
    "start_time": "2023-04-30T16:51:06.703Z"
   },
   {
    "duration": 274,
    "start_time": "2023-04-30T16:51:07.172Z"
   },
   {
    "duration": 247,
    "start_time": "2023-04-30T16:51:07.451Z"
   },
   {
    "duration": 254,
    "start_time": "2023-04-30T16:51:07.701Z"
   },
   {
    "duration": 572,
    "start_time": "2023-04-30T16:51:07.957Z"
   },
   {
    "duration": 261,
    "start_time": "2023-04-30T16:51:08.531Z"
   },
   {
    "duration": 284,
    "start_time": "2023-04-30T16:51:08.794Z"
   },
   {
    "duration": 157,
    "start_time": "2023-04-30T16:51:09.080Z"
   },
   {
    "duration": 210,
    "start_time": "2023-04-30T16:51:09.239Z"
   },
   {
    "duration": 460,
    "start_time": "2023-04-30T16:51:09.451Z"
   },
   {
    "duration": 259,
    "start_time": "2023-04-30T16:51:09.913Z"
   },
   {
    "duration": 176,
    "start_time": "2023-04-30T16:51:10.174Z"
   },
   {
    "duration": 248,
    "start_time": "2023-04-30T16:51:10.354Z"
   },
   {
    "duration": 276,
    "start_time": "2023-04-30T16:51:10.605Z"
   },
   {
    "duration": 225,
    "start_time": "2023-04-30T16:51:10.883Z"
   },
   {
    "duration": 211,
    "start_time": "2023-04-30T16:51:11.110Z"
   },
   {
    "duration": 203,
    "start_time": "2023-04-30T16:51:11.323Z"
   },
   {
    "duration": 209,
    "start_time": "2023-04-30T16:51:11.528Z"
   },
   {
    "duration": 260,
    "start_time": "2023-04-30T16:51:11.739Z"
   },
   {
    "duration": 307,
    "start_time": "2023-04-30T16:51:12.003Z"
   },
   {
    "duration": 234,
    "start_time": "2023-04-30T16:51:12.313Z"
   },
   {
    "duration": 402,
    "start_time": "2023-04-30T16:51:12.549Z"
   },
   {
    "duration": 14,
    "start_time": "2023-04-30T16:51:12.954Z"
   },
   {
    "duration": 60,
    "start_time": "2023-04-30T16:51:12.971Z"
   },
   {
    "duration": 12,
    "start_time": "2023-04-30T16:51:13.033Z"
   },
   {
    "duration": 14,
    "start_time": "2023-04-30T16:51:13.047Z"
   },
   {
    "duration": 203,
    "start_time": "2023-04-30T16:51:13.092Z"
   },
   {
    "duration": 141,
    "start_time": "2023-04-30T16:59:57.903Z"
   },
   {
    "duration": 57,
    "start_time": "2023-04-30T17:00:08.067Z"
   },
   {
    "duration": 225,
    "start_time": "2023-04-30T17:02:04.500Z"
   },
   {
    "duration": 851,
    "start_time": "2023-04-30T17:41:31.556Z"
   },
   {
    "duration": 2156,
    "start_time": "2023-04-30T17:41:32.409Z"
   },
   {
    "duration": 37,
    "start_time": "2023-04-30T17:41:34.567Z"
   },
   {
    "duration": 157,
    "start_time": "2023-04-30T17:41:34.605Z"
   },
   {
    "duration": 83,
    "start_time": "2023-04-30T17:41:34.764Z"
   },
   {
    "duration": 123,
    "start_time": "2023-04-30T17:41:34.849Z"
   },
   {
    "duration": 91,
    "start_time": "2023-04-30T17:41:34.973Z"
   },
   {
    "duration": 101,
    "start_time": "2023-04-30T17:41:35.065Z"
   },
   {
    "duration": 85,
    "start_time": "2023-04-30T17:41:35.167Z"
   },
   {
    "duration": 88,
    "start_time": "2023-04-30T17:41:35.254Z"
   },
   {
    "duration": 87,
    "start_time": "2023-04-30T17:41:35.344Z"
   },
   {
    "duration": 85,
    "start_time": "2023-04-30T17:41:35.433Z"
   },
   {
    "duration": 2263,
    "start_time": "2023-04-30T17:41:35.520Z"
   },
   {
    "duration": 106,
    "start_time": "2023-04-30T17:41:37.787Z"
   },
   {
    "duration": 14,
    "start_time": "2023-04-30T17:41:37.901Z"
   },
   {
    "duration": 424,
    "start_time": "2023-04-30T17:41:37.916Z"
   },
   {
    "duration": 12,
    "start_time": "2023-04-30T17:41:38.341Z"
   },
   {
    "duration": 106,
    "start_time": "2023-04-30T17:41:38.355Z"
   },
   {
    "duration": 219,
    "start_time": "2023-04-30T17:41:38.463Z"
   },
   {
    "duration": 534,
    "start_time": "2023-04-30T17:41:38.684Z"
   },
   {
    "duration": 217,
    "start_time": "2023-04-30T17:41:39.220Z"
   },
   {
    "duration": 167,
    "start_time": "2023-04-30T17:41:39.438Z"
   },
   {
    "duration": 214,
    "start_time": "2023-04-30T17:41:39.606Z"
   },
   {
    "duration": 427,
    "start_time": "2023-04-30T17:41:39.821Z"
   },
   {
    "duration": 254,
    "start_time": "2023-04-30T17:41:40.250Z"
   },
   {
    "duration": 230,
    "start_time": "2023-04-30T17:41:40.506Z"
   },
   {
    "duration": 645,
    "start_time": "2023-04-30T17:41:40.738Z"
   },
   {
    "duration": 199,
    "start_time": "2023-04-30T17:41:41.385Z"
   },
   {
    "duration": 238,
    "start_time": "2023-04-30T17:41:41.585Z"
   },
   {
    "duration": 214,
    "start_time": "2023-04-30T17:41:41.824Z"
   },
   {
    "duration": 139,
    "start_time": "2023-04-30T17:41:42.040Z"
   },
   {
    "duration": 173,
    "start_time": "2023-04-30T17:41:42.181Z"
   },
   {
    "duration": 243,
    "start_time": "2023-04-30T17:41:42.356Z"
   },
   {
    "duration": 298,
    "start_time": "2023-04-30T17:41:42.604Z"
   },
   {
    "duration": 205,
    "start_time": "2023-04-30T17:41:42.904Z"
   },
   {
    "duration": 196,
    "start_time": "2023-04-30T17:41:43.113Z"
   },
   {
    "duration": 167,
    "start_time": "2023-04-30T17:41:43.314Z"
   },
   {
    "duration": 264,
    "start_time": "2023-04-30T17:41:43.483Z"
   },
   {
    "duration": 341,
    "start_time": "2023-04-30T17:41:43.749Z"
   },
   {
    "duration": 224,
    "start_time": "2023-04-30T17:41:44.092Z"
   },
   {
    "duration": 357,
    "start_time": "2023-04-30T17:41:44.319Z"
   },
   {
    "duration": 34,
    "start_time": "2023-04-30T17:41:44.678Z"
   },
   {
    "duration": 35,
    "start_time": "2023-04-30T17:41:44.714Z"
   },
   {
    "duration": 11,
    "start_time": "2023-04-30T17:41:44.751Z"
   },
   {
    "duration": 28,
    "start_time": "2023-04-30T17:41:44.764Z"
   },
   {
    "duration": 198,
    "start_time": "2023-04-30T17:41:44.796Z"
   },
   {
    "duration": 207,
    "start_time": "2023-04-30T17:41:45.000Z"
   },
   {
    "duration": 2215,
    "start_time": "2023-04-30T17:41:46.366Z"
   },
   {
    "duration": 29,
    "start_time": "2023-04-30T17:41:54.199Z"
   },
   {
    "duration": 130,
    "start_time": "2023-04-30T17:41:57.634Z"
   },
   {
    "duration": 75,
    "start_time": "2023-04-30T17:42:00.164Z"
   },
   {
    "duration": 113,
    "start_time": "2023-04-30T17:42:03.785Z"
   },
   {
    "duration": 74,
    "start_time": "2023-04-30T17:42:05.224Z"
   },
   {
    "duration": 97,
    "start_time": "2023-04-30T17:42:07.569Z"
   },
   {
    "duration": 70,
    "start_time": "2023-04-30T17:42:09.956Z"
   },
   {
    "duration": 80,
    "start_time": "2023-04-30T17:42:12.448Z"
   },
   {
    "duration": 84,
    "start_time": "2023-04-30T17:42:14.203Z"
   },
   {
    "duration": 73,
    "start_time": "2023-04-30T17:42:16.319Z"
   },
   {
    "duration": 2330,
    "start_time": "2023-04-30T17:42:20.514Z"
   },
   {
    "duration": 84,
    "start_time": "2023-04-30T17:42:22.846Z"
   },
   {
    "duration": 13,
    "start_time": "2023-04-30T17:42:34.713Z"
   },
   {
    "duration": 375,
    "start_time": "2023-04-30T17:42:38.239Z"
   },
   {
    "duration": 11,
    "start_time": "2023-04-30T17:42:38.898Z"
   },
   {
    "duration": 77,
    "start_time": "2023-04-30T17:42:39.307Z"
   },
   {
    "duration": 202,
    "start_time": "2023-04-30T17:42:40.238Z"
   },
   {
    "duration": 417,
    "start_time": "2023-04-30T17:42:40.821Z"
   },
   {
    "duration": 189,
    "start_time": "2023-04-30T17:42:41.240Z"
   },
   {
    "duration": 133,
    "start_time": "2023-04-30T17:42:41.507Z"
   },
   {
    "duration": 203,
    "start_time": "2023-04-30T17:42:41.790Z"
   },
   {
    "duration": 428,
    "start_time": "2023-04-30T17:42:42.081Z"
   },
   {
    "duration": 224,
    "start_time": "2023-04-30T17:42:42.510Z"
   },
   {
    "duration": 253,
    "start_time": "2023-04-30T17:42:42.736Z"
   },
   {
    "duration": 128,
    "start_time": "2023-04-30T17:42:43.239Z"
   },
   {
    "duration": 178,
    "start_time": "2023-04-30T17:42:43.939Z"
   },
   {
    "duration": 206,
    "start_time": "2023-04-30T17:42:44.574Z"
   },
   {
    "duration": 332,
    "start_time": "2023-04-30T17:42:45.177Z"
   },
   {
    "duration": 126,
    "start_time": "2023-04-30T17:42:45.920Z"
   },
   {
    "duration": 172,
    "start_time": "2023-04-30T17:42:46.405Z"
   },
   {
    "duration": 205,
    "start_time": "2023-04-30T17:42:46.919Z"
   },
   {
    "duration": 152,
    "start_time": "2023-04-30T17:42:47.709Z"
   },
   {
    "duration": 167,
    "start_time": "2023-04-30T17:42:48.041Z"
   },
   {
    "duration": 166,
    "start_time": "2023-04-30T17:42:48.330Z"
   },
   {
    "duration": 143,
    "start_time": "2023-04-30T17:42:48.619Z"
   },
   {
    "duration": 187,
    "start_time": "2023-04-30T17:42:48.910Z"
   },
   {
    "duration": 251,
    "start_time": "2023-04-30T17:42:49.202Z"
   },
   {
    "duration": 192,
    "start_time": "2023-04-30T17:42:49.455Z"
   },
   {
    "duration": 308,
    "start_time": "2023-04-30T17:42:50.105Z"
   },
   {
    "duration": 8,
    "start_time": "2023-04-30T17:42:50.671Z"
   },
   {
    "duration": 35,
    "start_time": "2023-04-30T17:42:51.055Z"
   },
   {
    "duration": 10,
    "start_time": "2023-04-30T17:42:51.381Z"
   },
   {
    "duration": 10,
    "start_time": "2023-04-30T17:42:52.356Z"
   },
   {
    "duration": 157,
    "start_time": "2023-04-30T17:42:52.820Z"
   },
   {
    "duration": 1035,
    "start_time": "2023-04-30T17:52:49.315Z"
   },
   {
    "duration": 2559,
    "start_time": "2023-04-30T17:52:50.352Z"
   },
   {
    "duration": 48,
    "start_time": "2023-04-30T17:52:52.915Z"
   },
   {
    "duration": 209,
    "start_time": "2023-04-30T17:52:52.965Z"
   },
   {
    "duration": 101,
    "start_time": "2023-04-30T17:52:53.176Z"
   },
   {
    "duration": 155,
    "start_time": "2023-04-30T17:52:53.280Z"
   },
   {
    "duration": 97,
    "start_time": "2023-04-30T17:52:53.437Z"
   },
   {
    "duration": 104,
    "start_time": "2023-04-30T17:52:53.543Z"
   },
   {
    "duration": 88,
    "start_time": "2023-04-30T17:52:53.649Z"
   },
   {
    "duration": 123,
    "start_time": "2023-04-30T17:52:53.748Z"
   },
   {
    "duration": 103,
    "start_time": "2023-04-30T17:52:53.873Z"
   },
   {
    "duration": 97,
    "start_time": "2023-04-30T17:52:53.978Z"
   },
   {
    "duration": 2702,
    "start_time": "2023-04-30T17:52:54.076Z"
   },
   {
    "duration": 94,
    "start_time": "2023-04-30T17:52:56.781Z"
   },
   {
    "duration": 17,
    "start_time": "2023-04-30T17:52:56.877Z"
   },
   {
    "duration": 534,
    "start_time": "2023-04-30T17:52:56.912Z"
   },
   {
    "duration": 18,
    "start_time": "2023-04-30T17:52:57.448Z"
   },
   {
    "duration": 117,
    "start_time": "2023-04-30T17:52:57.468Z"
   },
   {
    "duration": 282,
    "start_time": "2023-04-30T17:52:57.587Z"
   },
   {
    "duration": 690,
    "start_time": "2023-04-30T17:52:57.870Z"
   },
   {
    "duration": 234,
    "start_time": "2023-04-30T17:52:58.561Z"
   },
   {
    "duration": 182,
    "start_time": "2023-04-30T17:52:58.797Z"
   },
   {
    "duration": 280,
    "start_time": "2023-04-30T17:52:58.981Z"
   },
   {
    "duration": 553,
    "start_time": "2023-04-30T17:52:59.263Z"
   },
   {
    "duration": 293,
    "start_time": "2023-04-30T17:52:59.818Z"
   },
   {
    "duration": 294,
    "start_time": "2023-04-30T17:53:00.115Z"
   },
   {
    "duration": 871,
    "start_time": "2023-04-30T17:53:00.413Z"
   },
   {
    "duration": 269,
    "start_time": "2023-04-30T17:53:01.286Z"
   },
   {
    "duration": 252,
    "start_time": "2023-04-30T17:53:01.557Z"
   },
   {
    "duration": 264,
    "start_time": "2023-04-30T17:53:01.818Z"
   },
   {
    "duration": 176,
    "start_time": "2023-04-30T17:53:02.085Z"
   },
   {
    "duration": 224,
    "start_time": "2023-04-30T17:53:02.262Z"
   },
   {
    "duration": 351,
    "start_time": "2023-04-30T17:53:02.488Z"
   },
   {
    "duration": 296,
    "start_time": "2023-04-30T17:53:02.850Z"
   },
   {
    "duration": 271,
    "start_time": "2023-04-30T17:53:03.147Z"
   },
   {
    "duration": 234,
    "start_time": "2023-04-30T17:53:03.424Z"
   },
   {
    "duration": 173,
    "start_time": "2023-04-30T17:53:03.660Z"
   },
   {
    "duration": 238,
    "start_time": "2023-04-30T17:53:03.838Z"
   },
   {
    "duration": 365,
    "start_time": "2023-04-30T17:53:04.078Z"
   },
   {
    "duration": 242,
    "start_time": "2023-04-30T17:53:04.445Z"
   },
   {
    "duration": 422,
    "start_time": "2023-04-30T17:53:04.695Z"
   },
   {
    "duration": 13,
    "start_time": "2023-04-30T17:53:05.119Z"
   },
   {
    "duration": 41,
    "start_time": "2023-04-30T17:53:05.136Z"
   },
   {
    "duration": 10,
    "start_time": "2023-04-30T17:53:05.179Z"
   },
   {
    "duration": 26,
    "start_time": "2023-04-30T17:53:05.191Z"
   },
   {
    "duration": 206,
    "start_time": "2023-04-30T17:53:05.222Z"
   },
   {
    "duration": 44,
    "start_time": "2023-04-30T18:14:22.020Z"
   },
   {
    "duration": 144,
    "start_time": "2023-04-30T18:14:25.726Z"
   },
   {
    "duration": 19,
    "start_time": "2023-04-30T18:14:40.992Z"
   },
   {
    "duration": 1634,
    "start_time": "2023-05-01T17:17:30.529Z"
   },
   {
    "duration": 714,
    "start_time": "2023-05-01T17:17:35.785Z"
   },
   {
    "duration": 255,
    "start_time": "2023-05-01T17:17:54.425Z"
   },
   {
    "duration": 278,
    "start_time": "2023-05-01T17:18:12.840Z"
   },
   {
    "duration": 2922,
    "start_time": "2023-05-01T17:18:24.526Z"
   },
   {
    "duration": 43,
    "start_time": "2023-05-01T17:18:35.132Z"
   },
   {
    "duration": 171,
    "start_time": "2023-05-01T17:18:40.193Z"
   },
   {
    "duration": 94,
    "start_time": "2023-05-01T17:18:42.199Z"
   },
   {
    "duration": 20,
    "start_time": "2023-05-01T17:20:41.107Z"
   },
   {
    "duration": 22,
    "start_time": "2023-05-01T17:21:04.932Z"
   },
   {
    "duration": 20,
    "start_time": "2023-05-01T17:21:55.204Z"
   },
   {
    "duration": 26,
    "start_time": "2023-05-01T17:24:26.711Z"
   },
   {
    "duration": 1390,
    "start_time": "2023-05-01T17:25:42.388Z"
   },
   {
    "duration": 268,
    "start_time": "2023-05-01T17:25:43.784Z"
   },
   {
    "duration": 1562,
    "start_time": "2023-05-01T17:25:48.442Z"
   },
   {
    "duration": 268,
    "start_time": "2023-05-01T17:25:50.007Z"
   },
   {
    "duration": 2790,
    "start_time": "2023-05-01T17:25:50.277Z"
   },
   {
    "duration": 44,
    "start_time": "2023-05-01T17:25:53.069Z"
   },
   {
    "duration": 222,
    "start_time": "2023-05-01T17:25:53.116Z"
   },
   {
    "duration": 110,
    "start_time": "2023-05-01T17:25:53.341Z"
   },
   {
    "duration": 172,
    "start_time": "2023-05-01T17:25:53.453Z"
   },
   {
    "duration": 41,
    "start_time": "2023-05-01T17:25:53.628Z"
   },
   {
    "duration": 153,
    "start_time": "2023-05-01T17:25:53.685Z"
   },
   {
    "duration": 131,
    "start_time": "2023-05-01T17:25:53.840Z"
   },
   {
    "duration": 162,
    "start_time": "2023-05-01T17:25:53.975Z"
   },
   {
    "duration": 120,
    "start_time": "2023-05-01T17:25:54.139Z"
   },
   {
    "duration": 117,
    "start_time": "2023-05-01T17:25:54.261Z"
   },
   {
    "duration": 2892,
    "start_time": "2023-05-01T17:25:54.382Z"
   },
   {
    "duration": 116,
    "start_time": "2023-05-01T17:25:57.279Z"
   },
   {
    "duration": 12,
    "start_time": "2023-05-01T17:25:57.397Z"
   },
   {
    "duration": 769,
    "start_time": "2023-05-01T17:25:57.411Z"
   },
   {
    "duration": 19,
    "start_time": "2023-05-01T17:25:58.184Z"
   },
   {
    "duration": 113,
    "start_time": "2023-05-01T17:25:58.205Z"
   },
   {
    "duration": 282,
    "start_time": "2023-05-01T17:25:58.321Z"
   },
   {
    "duration": 572,
    "start_time": "2023-05-01T17:25:58.605Z"
   },
   {
    "duration": 302,
    "start_time": "2023-05-01T17:25:59.187Z"
   },
   {
    "duration": 193,
    "start_time": "2023-05-01T17:25:59.492Z"
   },
   {
    "duration": 258,
    "start_time": "2023-05-01T17:25:59.692Z"
   },
   {
    "duration": 750,
    "start_time": "2023-05-01T17:25:59.952Z"
   },
   {
    "duration": 333,
    "start_time": "2023-05-01T17:26:00.705Z"
   },
   {
    "duration": 349,
    "start_time": "2023-05-01T17:26:01.041Z"
   },
   {
    "duration": 186,
    "start_time": "2023-05-01T17:26:01.394Z"
   },
   {
    "duration": 252,
    "start_time": "2023-05-01T17:26:01.583Z"
   },
   {
    "duration": 275,
    "start_time": "2023-05-01T17:26:01.840Z"
   },
   {
    "duration": 287,
    "start_time": "2023-05-01T17:26:02.117Z"
   },
   {
    "duration": 188,
    "start_time": "2023-05-01T17:26:02.406Z"
   },
   {
    "duration": 219,
    "start_time": "2023-05-01T17:26:02.596Z"
   },
   {
    "duration": 288,
    "start_time": "2023-05-01T17:26:02.817Z"
   },
   {
    "duration": 356,
    "start_time": "2023-05-01T17:26:03.107Z"
   },
   {
    "duration": 235,
    "start_time": "2023-05-01T17:26:03.465Z"
   },
   {
    "duration": 213,
    "start_time": "2023-05-01T17:26:03.703Z"
   },
   {
    "duration": 194,
    "start_time": "2023-05-01T17:26:03.919Z"
   },
   {
    "duration": 260,
    "start_time": "2023-05-01T17:26:04.115Z"
   },
   {
    "duration": 337,
    "start_time": "2023-05-01T17:26:04.384Z"
   },
   {
    "duration": 269,
    "start_time": "2023-05-01T17:26:04.725Z"
   },
   {
    "duration": 307,
    "start_time": "2023-05-01T17:26:04.997Z"
   },
   {
    "duration": 11,
    "start_time": "2023-05-01T17:26:05.306Z"
   },
   {
    "duration": 66,
    "start_time": "2023-05-01T17:26:05.319Z"
   },
   {
    "duration": 19,
    "start_time": "2023-05-01T17:26:05.390Z"
   },
   {
    "duration": 44,
    "start_time": "2023-05-01T17:26:05.411Z"
   },
   {
    "duration": 240,
    "start_time": "2023-05-01T17:26:05.461Z"
   },
   {
    "duration": 3,
    "start_time": "2023-05-01T17:26:05.703Z"
   },
   {
    "duration": 330,
    "start_time": "2023-05-01T17:26:05.708Z"
   },
   {
    "duration": 2863,
    "start_time": "2023-05-01T17:26:10.672Z"
   },
   {
    "duration": 60,
    "start_time": "2023-05-01T17:26:15.030Z"
   },
   {
    "duration": 258,
    "start_time": "2023-05-01T17:26:17.326Z"
   },
   {
    "duration": 104,
    "start_time": "2023-05-01T17:26:19.113Z"
   },
   {
    "duration": 167,
    "start_time": "2023-05-01T17:26:22.181Z"
   },
   {
    "duration": 24,
    "start_time": "2023-05-01T17:26:24.988Z"
   },
   {
    "duration": 9,
    "start_time": "2023-05-01T17:28:43.930Z"
   },
   {
    "duration": 596,
    "start_time": "2023-05-01T17:32:32.096Z"
   },
   {
    "duration": 9,
    "start_time": "2023-05-01T17:35:24.780Z"
   },
   {
    "duration": 1420,
    "start_time": "2023-05-01T17:35:55.989Z"
   },
   {
    "duration": 251,
    "start_time": "2023-05-01T17:35:57.412Z"
   },
   {
    "duration": 2593,
    "start_time": "2023-05-01T17:35:57.666Z"
   },
   {
    "duration": 40,
    "start_time": "2023-05-01T17:36:00.261Z"
   },
   {
    "duration": 216,
    "start_time": "2023-05-01T17:36:00.303Z"
   },
   {
    "duration": 102,
    "start_time": "2023-05-01T17:36:00.521Z"
   },
   {
    "duration": 172,
    "start_time": "2023-05-01T17:36:00.627Z"
   },
   {
    "duration": 52,
    "start_time": "2023-05-01T17:36:00.802Z"
   },
   {
    "duration": 24,
    "start_time": "2023-05-01T17:36:00.861Z"
   },
   {
    "duration": 182,
    "start_time": "2023-05-01T17:36:00.888Z"
   },
   {
    "duration": 108,
    "start_time": "2023-05-01T17:36:01.072Z"
   },
   {
    "duration": 143,
    "start_time": "2023-05-01T17:36:01.182Z"
   },
   {
    "duration": 122,
    "start_time": "2023-05-01T17:36:01.327Z"
   },
   {
    "duration": 105,
    "start_time": "2023-05-01T17:36:01.453Z"
   },
   {
    "duration": 2516,
    "start_time": "2023-05-01T17:36:01.560Z"
   },
   {
    "duration": 104,
    "start_time": "2023-05-01T17:36:04.078Z"
   },
   {
    "duration": 16,
    "start_time": "2023-05-01T17:36:04.185Z"
   },
   {
    "duration": 471,
    "start_time": "2023-05-01T17:36:04.203Z"
   },
   {
    "duration": 15,
    "start_time": "2023-05-01T17:36:04.676Z"
   },
   {
    "duration": 125,
    "start_time": "2023-05-01T17:36:04.693Z"
   },
   {
    "duration": 529,
    "start_time": "2023-05-01T17:36:04.820Z"
   },
   {
    "duration": 513,
    "start_time": "2023-05-01T17:36:05.351Z"
   },
   {
    "duration": 278,
    "start_time": "2023-05-01T17:36:05.866Z"
   },
   {
    "duration": 236,
    "start_time": "2023-05-01T17:36:06.146Z"
   },
   {
    "duration": 500,
    "start_time": "2023-05-01T17:36:06.384Z"
   },
   {
    "duration": 542,
    "start_time": "2023-05-01T17:36:06.886Z"
   },
   {
    "duration": 271,
    "start_time": "2023-05-01T17:36:07.431Z"
   },
   {
    "duration": 300,
    "start_time": "2023-05-01T17:36:07.704Z"
   },
   {
    "duration": 166,
    "start_time": "2023-05-01T17:36:08.006Z"
   },
   {
    "duration": 247,
    "start_time": "2023-05-01T17:36:08.174Z"
   },
   {
    "duration": 278,
    "start_time": "2023-05-01T17:36:08.424Z"
   },
   {
    "duration": 266,
    "start_time": "2023-05-01T17:36:08.704Z"
   },
   {
    "duration": 190,
    "start_time": "2023-05-01T17:36:08.972Z"
   },
   {
    "duration": 220,
    "start_time": "2023-05-01T17:36:09.165Z"
   },
   {
    "duration": 390,
    "start_time": "2023-05-01T17:36:09.387Z"
   },
   {
    "duration": 225,
    "start_time": "2023-05-01T17:36:09.779Z"
   },
   {
    "duration": 206,
    "start_time": "2023-05-01T17:36:10.006Z"
   },
   {
    "duration": 216,
    "start_time": "2023-05-01T17:36:10.214Z"
   },
   {
    "duration": 186,
    "start_time": "2023-05-01T17:36:10.432Z"
   },
   {
    "duration": 240,
    "start_time": "2023-05-01T17:36:10.620Z"
   },
   {
    "duration": 336,
    "start_time": "2023-05-01T17:36:10.864Z"
   },
   {
    "duration": 234,
    "start_time": "2023-05-01T17:36:11.202Z"
   },
   {
    "duration": 323,
    "start_time": "2023-05-01T17:36:11.440Z"
   },
   {
    "duration": 9,
    "start_time": "2023-05-01T17:36:11.765Z"
   },
   {
    "duration": 75,
    "start_time": "2023-05-01T17:36:11.778Z"
   },
   {
    "duration": 13,
    "start_time": "2023-05-01T17:36:11.856Z"
   },
   {
    "duration": 41,
    "start_time": "2023-05-01T17:36:11.871Z"
   },
   {
    "duration": 193,
    "start_time": "2023-05-01T17:36:11.914Z"
   },
   {
    "duration": 3,
    "start_time": "2023-05-01T17:36:12.110Z"
   },
   {
    "duration": 231,
    "start_time": "2023-05-01T17:36:13.859Z"
   },
   {
    "duration": 2523,
    "start_time": "2023-05-01T17:36:16.170Z"
   },
   {
    "duration": 53,
    "start_time": "2023-05-01T17:36:18.696Z"
   },
   {
    "duration": 180,
    "start_time": "2023-05-01T17:36:19.096Z"
   },
   {
    "duration": 101,
    "start_time": "2023-05-01T17:36:20.237Z"
   },
   {
    "duration": 164,
    "start_time": "2023-05-01T17:36:20.901Z"
   },
   {
    "duration": 25,
    "start_time": "2023-05-01T17:36:21.281Z"
   },
   {
    "duration": 9,
    "start_time": "2023-05-01T17:36:22.269Z"
   },
   {
    "duration": 103,
    "start_time": "2023-05-01T17:36:23.939Z"
   },
   {
    "duration": 113,
    "start_time": "2023-05-01T17:36:25.839Z"
   },
   {
    "duration": 107,
    "start_time": "2023-05-01T17:36:28.064Z"
   },
   {
    "duration": 117,
    "start_time": "2023-05-01T17:36:32.359Z"
   },
   {
    "duration": 92,
    "start_time": "2023-05-01T17:36:33.655Z"
   },
   {
    "duration": 2734,
    "start_time": "2023-05-01T17:36:36.759Z"
   },
   {
    "duration": 106,
    "start_time": "2023-05-01T17:36:39.496Z"
   },
   {
    "duration": 14,
    "start_time": "2023-05-01T17:36:59.864Z"
   },
   {
    "duration": 463,
    "start_time": "2023-05-01T17:37:02.418Z"
   },
   {
    "duration": 94,
    "start_time": "2023-05-01T17:48:08.981Z"
   },
   {
    "duration": 124,
    "start_time": "2023-05-01T17:48:54.779Z"
   },
   {
    "duration": 17,
    "start_time": "2023-05-01T17:51:55.901Z"
   },
   {
    "duration": 5,
    "start_time": "2023-05-01T17:52:49.180Z"
   },
   {
    "duration": 29,
    "start_time": "2023-05-01T17:53:36.162Z"
   },
   {
    "duration": 6,
    "start_time": "2023-05-01T17:55:23.309Z"
   },
   {
    "duration": 20,
    "start_time": "2023-05-01T17:55:37.300Z"
   },
   {
    "duration": 24,
    "start_time": "2023-05-01T17:56:27.552Z"
   },
   {
    "duration": 21,
    "start_time": "2023-05-01T17:58:07.156Z"
   },
   {
    "duration": 1221,
    "start_time": "2023-05-01T17:58:25.115Z"
   },
   {
    "duration": 1439,
    "start_time": "2023-05-01T17:58:42.699Z"
   },
   {
    "duration": 5,
    "start_time": "2023-05-01T18:01:44.417Z"
   },
   {
    "duration": 1265,
    "start_time": "2023-05-01T18:02:24.046Z"
   },
   {
    "duration": 1319,
    "start_time": "2023-05-01T18:06:23.580Z"
   },
   {
    "duration": 1430,
    "start_time": "2023-05-01T18:09:15.998Z"
   },
   {
    "duration": 83,
    "start_time": "2023-05-01T18:19:11.523Z"
   },
   {
    "duration": 107,
    "start_time": "2023-05-01T18:22:22.255Z"
   },
   {
    "duration": 100,
    "start_time": "2023-05-01T18:22:29.473Z"
   },
   {
    "duration": 627,
    "start_time": "2023-05-01T18:22:39.644Z"
   },
   {
    "duration": 768,
    "start_time": "2023-05-01T18:22:43.586Z"
   },
   {
    "duration": 683,
    "start_time": "2023-05-01T18:23:02.983Z"
   },
   {
    "duration": 90,
    "start_time": "2023-05-01T18:23:04.797Z"
   },
   {
    "duration": 476,
    "start_time": "2023-05-01T18:23:13.844Z"
   },
   {
    "duration": 489,
    "start_time": "2023-05-01T18:23:15.311Z"
   },
   {
    "duration": 232,
    "start_time": "2023-05-01T18:23:16.672Z"
   },
   {
    "duration": 150,
    "start_time": "2023-05-01T18:23:18.063Z"
   },
   {
    "duration": 285,
    "start_time": "2023-05-01T18:23:19.473Z"
   },
   {
    "duration": 503,
    "start_time": "2023-05-01T18:23:20.952Z"
   },
   {
    "duration": 269,
    "start_time": "2023-05-01T18:23:22.782Z"
   },
   {
    "duration": 456,
    "start_time": "2023-05-01T18:23:26.136Z"
   },
   {
    "duration": 154,
    "start_time": "2023-05-01T18:23:30.137Z"
   },
   {
    "duration": 1324,
    "start_time": "2023-05-01T18:23:55.193Z"
   },
   {
    "duration": 249,
    "start_time": "2023-05-01T18:23:56.519Z"
   },
   {
    "duration": 2337,
    "start_time": "2023-05-01T18:23:56.770Z"
   },
   {
    "duration": 33,
    "start_time": "2023-05-01T18:23:59.110Z"
   },
   {
    "duration": 160,
    "start_time": "2023-05-01T18:23:59.147Z"
   },
   {
    "duration": 93,
    "start_time": "2023-05-01T18:23:59.310Z"
   },
   {
    "duration": 136,
    "start_time": "2023-05-01T18:23:59.406Z"
   },
   {
    "duration": 21,
    "start_time": "2023-05-01T18:23:59.544Z"
   },
   {
    "duration": 7,
    "start_time": "2023-05-01T18:23:59.567Z"
   },
   {
    "duration": 124,
    "start_time": "2023-05-01T18:23:59.575Z"
   },
   {
    "duration": 93,
    "start_time": "2023-05-01T18:23:59.701Z"
   },
   {
    "duration": 107,
    "start_time": "2023-05-01T18:23:59.796Z"
   },
   {
    "duration": 105,
    "start_time": "2023-05-01T18:23:59.906Z"
   },
   {
    "duration": 106,
    "start_time": "2023-05-01T18:24:00.017Z"
   },
   {
    "duration": 2408,
    "start_time": "2023-05-01T18:24:00.126Z"
   },
   {
    "duration": 87,
    "start_time": "2023-05-01T18:24:02.536Z"
   },
   {
    "duration": 24,
    "start_time": "2023-05-01T18:24:02.625Z"
   },
   {
    "duration": 437,
    "start_time": "2023-05-01T18:24:02.651Z"
   },
   {
    "duration": 638,
    "start_time": "2023-05-01T18:24:03.091Z"
   },
   {
    "duration": 96,
    "start_time": "2023-05-01T18:24:03.731Z"
   },
   {
    "duration": 483,
    "start_time": "2023-05-01T18:24:03.828Z"
   },
   {
    "duration": 655,
    "start_time": "2023-05-01T18:24:04.313Z"
   },
   {
    "duration": 235,
    "start_time": "2023-05-01T18:24:04.970Z"
   },
   {
    "duration": 170,
    "start_time": "2023-05-01T18:24:05.207Z"
   },
   {
    "duration": 267,
    "start_time": "2023-05-01T18:24:05.379Z"
   },
   {
    "duration": 535,
    "start_time": "2023-05-01T18:24:05.648Z"
   },
   {
    "duration": 283,
    "start_time": "2023-05-01T18:24:06.185Z"
   },
   {
    "duration": 299,
    "start_time": "2023-05-01T18:24:06.471Z"
   },
   {
    "duration": 148,
    "start_time": "2023-05-01T18:24:06.772Z"
   },
   {
    "duration": 229,
    "start_time": "2023-05-01T18:24:06.923Z"
   },
   {
    "duration": 232,
    "start_time": "2023-05-01T18:24:07.154Z"
   },
   {
    "duration": 375,
    "start_time": "2023-05-01T18:24:07.388Z"
   },
   {
    "duration": 166,
    "start_time": "2023-05-01T18:24:07.765Z"
   },
   {
    "duration": 183,
    "start_time": "2023-05-01T18:24:07.933Z"
   },
   {
    "duration": 249,
    "start_time": "2023-05-01T18:24:08.118Z"
   },
   {
    "duration": 197,
    "start_time": "2023-05-01T18:24:08.368Z"
   },
   {
    "duration": 184,
    "start_time": "2023-05-01T18:24:08.568Z"
   },
   {
    "duration": 187,
    "start_time": "2023-05-01T18:24:08.754Z"
   },
   {
    "duration": 164,
    "start_time": "2023-05-01T18:24:08.943Z"
   },
   {
    "duration": 228,
    "start_time": "2023-05-01T18:24:09.109Z"
   },
   {
    "duration": 297,
    "start_time": "2023-05-01T18:24:09.345Z"
   },
   {
    "duration": 208,
    "start_time": "2023-05-01T18:24:09.645Z"
   },
   {
    "duration": 402,
    "start_time": "2023-05-01T18:24:09.855Z"
   },
   {
    "duration": 10,
    "start_time": "2023-05-01T18:24:10.259Z"
   },
   {
    "duration": 47,
    "start_time": "2023-05-01T18:24:10.270Z"
   },
   {
    "duration": 34,
    "start_time": "2023-05-01T18:24:10.319Z"
   },
   {
    "duration": 12,
    "start_time": "2023-05-01T18:24:10.355Z"
   },
   {
    "duration": 202,
    "start_time": "2023-05-01T18:24:10.369Z"
   },
   {
    "duration": 3,
    "start_time": "2023-05-01T18:24:10.573Z"
   },
   {
    "duration": 216,
    "start_time": "2023-05-01T18:24:10.578Z"
   },
   {
    "duration": 2451,
    "start_time": "2023-05-01T18:24:14.852Z"
   },
   {
    "duration": 43,
    "start_time": "2023-05-01T18:24:17.307Z"
   },
   {
    "duration": 343,
    "start_time": "2023-05-01T18:24:17.753Z"
   },
   {
    "duration": 81,
    "start_time": "2023-05-01T18:24:18.503Z"
   },
   {
    "duration": 131,
    "start_time": "2023-05-01T18:24:19.034Z"
   },
   {
    "duration": 21,
    "start_time": "2023-05-01T18:24:19.327Z"
   },
   {
    "duration": 8,
    "start_time": "2023-05-01T18:24:19.576Z"
   },
   {
    "duration": 96,
    "start_time": "2023-05-01T18:24:19.859Z"
   },
   {
    "duration": 79,
    "start_time": "2023-05-01T18:24:20.519Z"
   },
   {
    "duration": 95,
    "start_time": "2023-05-01T18:24:21.037Z"
   },
   {
    "duration": 96,
    "start_time": "2023-05-01T18:24:21.992Z"
   },
   {
    "duration": 86,
    "start_time": "2023-05-01T18:24:22.235Z"
   },
   {
    "duration": 2342,
    "start_time": "2023-05-01T18:24:22.581Z"
   },
   {
    "duration": 91,
    "start_time": "2023-05-01T18:24:24.926Z"
   },
   {
    "duration": 13,
    "start_time": "2023-05-01T18:24:25.134Z"
   },
   {
    "duration": 409,
    "start_time": "2023-05-01T18:24:25.375Z"
   },
   {
    "duration": 720,
    "start_time": "2023-05-01T18:24:25.787Z"
   },
   {
    "duration": 92,
    "start_time": "2023-05-01T18:24:27.052Z"
   },
   {
    "duration": 444,
    "start_time": "2023-05-01T18:24:29.113Z"
   },
   {
    "duration": 484,
    "start_time": "2023-05-01T18:24:30.076Z"
   },
   {
    "duration": 229,
    "start_time": "2023-05-01T18:24:31.194Z"
   },
   {
    "duration": 338,
    "start_time": "2023-05-01T18:24:32.423Z"
   },
   {
    "duration": 232,
    "start_time": "2023-05-01T18:24:34.998Z"
   },
   {
    "duration": 530,
    "start_time": "2023-05-01T18:24:36.372Z"
   },
   {
    "duration": 238,
    "start_time": "2023-05-01T18:24:37.931Z"
   },
   {
    "duration": 283,
    "start_time": "2023-05-01T18:24:39.125Z"
   },
   {
    "duration": 144,
    "start_time": "2023-05-01T18:24:41.130Z"
   },
   {
    "duration": 245,
    "start_time": "2023-05-01T18:25:23.714Z"
   },
   {
    "duration": 235,
    "start_time": "2023-05-01T18:25:25.230Z"
   },
   {
    "duration": 258,
    "start_time": "2023-05-01T18:25:26.818Z"
   },
   {
    "duration": 184,
    "start_time": "2023-05-01T18:25:28.736Z"
   },
   {
    "duration": 185,
    "start_time": "2023-05-01T18:25:30.458Z"
   },
   {
    "duration": 252,
    "start_time": "2023-05-01T18:25:36.297Z"
   },
   {
    "duration": 195,
    "start_time": "2023-05-01T18:25:42.735Z"
   },
   {
    "duration": 215,
    "start_time": "2023-05-01T18:25:43.631Z"
   },
   {
    "duration": 187,
    "start_time": "2023-05-01T18:25:44.100Z"
   },
   {
    "duration": 356,
    "start_time": "2023-05-01T18:25:47.614Z"
   },
   {
    "duration": 232,
    "start_time": "2023-05-01T18:25:50.371Z"
   },
   {
    "duration": 311,
    "start_time": "2023-05-01T18:25:51.807Z"
   },
   {
    "duration": 239,
    "start_time": "2023-05-01T18:25:54.158Z"
   },
   {
    "duration": 273,
    "start_time": "2023-05-01T18:25:55.609Z"
   },
   {
    "duration": 13,
    "start_time": "2023-05-01T18:26:00.852Z"
   },
   {
    "duration": 44,
    "start_time": "2023-05-01T18:26:13.775Z"
   },
   {
    "duration": 130,
    "start_time": "2023-05-01T18:30:50.129Z"
   },
   {
    "duration": 18,
    "start_time": "2023-05-01T18:31:41.640Z"
   },
   {
    "duration": 20,
    "start_time": "2023-05-01T18:32:09.168Z"
   },
   {
    "duration": 24,
    "start_time": "2023-05-01T18:34:38.412Z"
   },
   {
    "duration": 21,
    "start_time": "2023-05-01T18:39:00.250Z"
   },
   {
    "duration": 75,
    "start_time": "2023-05-01T18:41:42.850Z"
   },
   {
    "duration": 75,
    "start_time": "2023-05-01T18:41:49.869Z"
   },
   {
    "duration": 87,
    "start_time": "2023-05-01T18:41:52.917Z"
   },
   {
    "duration": 35,
    "start_time": "2023-05-01T18:44:48.900Z"
   },
   {
    "duration": 40,
    "start_time": "2023-05-01T18:45:19.916Z"
   },
   {
    "duration": 35,
    "start_time": "2023-05-01T18:45:40.723Z"
   },
   {
    "duration": 22,
    "start_time": "2023-05-01T18:46:07.072Z"
   },
   {
    "duration": 14,
    "start_time": "2023-05-01T18:46:09.532Z"
   },
   {
    "duration": 184,
    "start_time": "2023-05-01T18:46:10.151Z"
   },
   {
    "duration": 27,
    "start_time": "2023-05-01T19:04:48.334Z"
   },
   {
    "duration": 24,
    "start_time": "2023-05-01T19:05:16.277Z"
   },
   {
    "duration": 27,
    "start_time": "2023-05-01T19:05:37.184Z"
   },
   {
    "duration": 39,
    "start_time": "2023-05-01T19:06:28.807Z"
   },
   {
    "duration": 41,
    "start_time": "2023-05-01T19:06:54.015Z"
   },
   {
    "duration": 1464,
    "start_time": "2023-05-01T19:12:20.051Z"
   },
   {
    "duration": 234,
    "start_time": "2023-05-01T19:12:21.518Z"
   },
   {
    "duration": 2498,
    "start_time": "2023-05-01T19:12:21.759Z"
   },
   {
    "duration": 31,
    "start_time": "2023-05-01T19:12:24.262Z"
   },
   {
    "duration": 172,
    "start_time": "2023-05-01T19:12:24.296Z"
   },
   {
    "duration": 94,
    "start_time": "2023-05-01T19:12:24.470Z"
   },
   {
    "duration": 144,
    "start_time": "2023-05-01T19:12:24.566Z"
   },
   {
    "duration": 38,
    "start_time": "2023-05-01T19:12:24.713Z"
   },
   {
    "duration": 9,
    "start_time": "2023-05-01T19:12:24.752Z"
   },
   {
    "duration": 122,
    "start_time": "2023-05-01T19:12:24.764Z"
   },
   {
    "duration": 95,
    "start_time": "2023-05-01T19:12:24.888Z"
   },
   {
    "duration": 107,
    "start_time": "2023-05-01T19:12:24.984Z"
   },
   {
    "duration": 107,
    "start_time": "2023-05-01T19:12:25.093Z"
   },
   {
    "duration": 95,
    "start_time": "2023-05-01T19:12:25.203Z"
   },
   {
    "duration": 2587,
    "start_time": "2023-05-01T19:12:25.299Z"
   },
   {
    "duration": 106,
    "start_time": "2023-05-01T19:12:27.889Z"
   },
   {
    "duration": 12,
    "start_time": "2023-05-01T19:12:27.997Z"
   },
   {
    "duration": 462,
    "start_time": "2023-05-01T19:12:28.011Z"
   },
   {
    "duration": 684,
    "start_time": "2023-05-01T19:12:28.475Z"
   },
   {
    "duration": 105,
    "start_time": "2023-05-01T19:12:29.161Z"
   },
   {
    "duration": 505,
    "start_time": "2023-05-01T19:12:29.268Z"
   },
   {
    "duration": 703,
    "start_time": "2023-05-01T19:12:29.776Z"
   },
   {
    "duration": 278,
    "start_time": "2023-05-01T19:12:30.482Z"
   },
   {
    "duration": 189,
    "start_time": "2023-05-01T19:12:30.763Z"
   },
   {
    "duration": 261,
    "start_time": "2023-05-01T19:12:30.954Z"
   },
   {
    "duration": 514,
    "start_time": "2023-05-01T19:12:31.218Z"
   },
   {
    "duration": 323,
    "start_time": "2023-05-01T19:12:31.734Z"
   },
   {
    "duration": 288,
    "start_time": "2023-05-01T19:12:32.062Z"
   },
   {
    "duration": 145,
    "start_time": "2023-05-01T19:12:32.355Z"
   },
   {
    "duration": 375,
    "start_time": "2023-05-01T19:12:32.502Z"
   },
   {
    "duration": 311,
    "start_time": "2023-05-01T19:12:32.879Z"
   },
   {
    "duration": 384,
    "start_time": "2023-05-01T19:12:33.193Z"
   },
   {
    "duration": 181,
    "start_time": "2023-05-01T19:12:33.579Z"
   },
   {
    "duration": 199,
    "start_time": "2023-05-01T19:12:33.763Z"
   },
   {
    "duration": 302,
    "start_time": "2023-05-01T19:12:33.964Z"
   },
   {
    "duration": 212,
    "start_time": "2023-05-01T19:12:34.269Z"
   },
   {
    "duration": 206,
    "start_time": "2023-05-01T19:12:34.483Z"
   },
   {
    "duration": 193,
    "start_time": "2023-05-01T19:12:34.691Z"
   },
   {
    "duration": 181,
    "start_time": "2023-05-01T19:12:34.886Z"
   },
   {
    "duration": 249,
    "start_time": "2023-05-01T19:12:35.069Z"
   },
   {
    "duration": 312,
    "start_time": "2023-05-01T19:12:35.320Z"
   },
   {
    "duration": 239,
    "start_time": "2023-05-01T19:12:35.634Z"
   },
   {
    "duration": 494,
    "start_time": "2023-05-01T19:12:35.875Z"
   },
   {
    "duration": 11,
    "start_time": "2023-05-01T19:12:36.371Z"
   },
   {
    "duration": 60,
    "start_time": "2023-05-01T19:12:36.384Z"
   },
   {
    "duration": 22,
    "start_time": "2023-05-01T19:12:36.451Z"
   },
   {
    "duration": 13,
    "start_time": "2023-05-01T19:12:36.475Z"
   },
   {
    "duration": 227,
    "start_time": "2023-05-01T19:12:36.489Z"
   },
   {
    "duration": 60,
    "start_time": "2023-05-01T19:12:36.718Z"
   },
   {
    "duration": 3,
    "start_time": "2023-05-01T19:12:36.780Z"
   },
   {
    "duration": 226,
    "start_time": "2023-05-01T19:12:38.140Z"
   },
   {
    "duration": 2331,
    "start_time": "2023-05-01T19:12:40.039Z"
   },
   {
    "duration": 47,
    "start_time": "2023-05-01T19:12:42.511Z"
   },
   {
    "duration": 342,
    "start_time": "2023-05-01T19:12:43.156Z"
   },
   {
    "duration": 86,
    "start_time": "2023-05-01T19:12:43.608Z"
   },
   {
    "duration": 139,
    "start_time": "2023-05-01T19:12:43.918Z"
   },
   {
    "duration": 29,
    "start_time": "2023-05-01T19:12:44.097Z"
   },
   {
    "duration": 11,
    "start_time": "2023-05-01T19:12:44.256Z"
   },
   {
    "duration": 121,
    "start_time": "2023-05-01T19:12:44.435Z"
   },
   {
    "duration": 86,
    "start_time": "2023-05-01T19:12:44.806Z"
   },
   {
    "duration": 104,
    "start_time": "2023-05-01T19:12:44.991Z"
   },
   {
    "duration": 104,
    "start_time": "2023-05-01T19:12:45.352Z"
   },
   {
    "duration": 87,
    "start_time": "2023-05-01T19:12:45.530Z"
   },
   {
    "duration": 2650,
    "start_time": "2023-05-01T19:12:45.907Z"
   },
   {
    "duration": 95,
    "start_time": "2023-05-01T19:12:48.560Z"
   },
   {
    "duration": 12,
    "start_time": "2023-05-01T19:12:48.659Z"
   },
   {
    "duration": 444,
    "start_time": "2023-05-01T19:12:48.673Z"
   },
   {
    "duration": 703,
    "start_time": "2023-05-01T19:12:49.119Z"
   },
   {
    "duration": 97,
    "start_time": "2023-05-01T19:12:49.824Z"
   },
   {
    "duration": 509,
    "start_time": "2023-05-01T19:12:49.923Z"
   },
   {
    "duration": 501,
    "start_time": "2023-05-01T19:12:50.441Z"
   },
   {
    "duration": 243,
    "start_time": "2023-05-01T19:12:51.018Z"
   },
   {
    "duration": 302,
    "start_time": "2023-05-01T19:12:51.640Z"
   },
   {
    "duration": 248,
    "start_time": "2023-05-01T19:12:52.398Z"
   },
   {
    "duration": 505,
    "start_time": "2023-05-01T19:12:53.074Z"
   },
   {
    "duration": 253,
    "start_time": "2023-05-01T19:12:53.752Z"
   },
   {
    "duration": 268,
    "start_time": "2023-05-01T19:12:54.359Z"
   },
   {
    "duration": 149,
    "start_time": "2023-05-01T19:12:54.746Z"
   },
   {
    "duration": 223,
    "start_time": "2023-05-01T19:12:55.458Z"
   },
   {
    "duration": 290,
    "start_time": "2023-05-01T19:12:55.913Z"
   },
   {
    "duration": 252,
    "start_time": "2023-05-01T19:12:56.360Z"
   },
   {
    "duration": 183,
    "start_time": "2023-05-01T19:12:56.836Z"
   },
   {
    "duration": 193,
    "start_time": "2023-05-01T19:12:57.389Z"
   },
   {
    "duration": 254,
    "start_time": "2023-05-01T19:12:58.617Z"
   },
   {
    "duration": 195,
    "start_time": "2023-05-01T19:12:59.566Z"
   },
   {
    "duration": 192,
    "start_time": "2023-05-01T19:12:59.808Z"
   },
   {
    "duration": 192,
    "start_time": "2023-05-01T19:13:00.028Z"
   },
   {
    "duration": 358,
    "start_time": "2023-05-01T19:13:00.262Z"
   },
   {
    "duration": 258,
    "start_time": "2023-05-01T19:13:00.622Z"
   },
   {
    "duration": 371,
    "start_time": "2023-05-01T19:13:00.883Z"
   },
   {
    "duration": 221,
    "start_time": "2023-05-01T19:13:01.261Z"
   },
   {
    "duration": 281,
    "start_time": "2023-05-01T19:13:01.484Z"
   },
   {
    "duration": 14,
    "start_time": "2023-05-01T19:13:02.191Z"
   },
   {
    "duration": 47,
    "start_time": "2023-05-01T19:13:02.436Z"
   },
   {
    "duration": 22,
    "start_time": "2023-05-01T19:13:02.710Z"
   },
   {
    "duration": 14,
    "start_time": "2023-05-01T19:13:03.783Z"
   },
   {
    "duration": 185,
    "start_time": "2023-05-01T19:13:04.113Z"
   },
   {
    "duration": 62,
    "start_time": "2023-05-01T19:13:04.338Z"
   },
   {
    "duration": 112,
    "start_time": "2023-05-01T19:15:52.812Z"
   },
   {
    "duration": 2809,
    "start_time": "2023-05-02T08:35:06.670Z"
   },
   {
    "duration": 251,
    "start_time": "2023-05-02T08:35:09.482Z"
   },
   {
    "duration": 6028,
    "start_time": "2023-05-02T08:35:09.736Z"
   },
   {
    "duration": 119,
    "start_time": "2023-05-02T08:35:15.767Z"
   },
   {
    "duration": 602,
    "start_time": "2023-05-02T08:35:15.891Z"
   },
   {
    "duration": 306,
    "start_time": "2023-05-02T08:35:16.495Z"
   },
   {
    "duration": 452,
    "start_time": "2023-05-02T08:35:16.803Z"
   },
   {
    "duration": 86,
    "start_time": "2023-05-02T08:35:17.257Z"
   },
   {
    "duration": 8,
    "start_time": "2023-05-02T08:35:17.346Z"
   },
   {
    "duration": 335,
    "start_time": "2023-05-02T08:35:17.357Z"
   },
   {
    "duration": 273,
    "start_time": "2023-05-02T08:35:17.695Z"
   },
   {
    "duration": 287,
    "start_time": "2023-05-02T08:35:17.974Z"
   },
   {
    "duration": 330,
    "start_time": "2023-05-02T08:35:18.264Z"
   },
   {
    "duration": 245,
    "start_time": "2023-05-02T08:35:18.644Z"
   },
   {
    "duration": 8631,
    "start_time": "2023-05-02T08:35:18.949Z"
   },
   {
    "duration": 300,
    "start_time": "2023-05-02T08:35:27.583Z"
   },
   {
    "duration": 70,
    "start_time": "2023-05-02T08:35:27.887Z"
   },
   {
    "duration": 1337,
    "start_time": "2023-05-02T08:35:27.960Z"
   },
   {
    "duration": 1921,
    "start_time": "2023-05-02T08:35:29.343Z"
   },
   {
    "duration": 230,
    "start_time": "2023-05-02T08:35:31.266Z"
   },
   {
    "duration": 651,
    "start_time": "2023-05-02T08:35:31.541Z"
   },
   {
    "duration": 1370,
    "start_time": "2023-05-02T08:35:32.194Z"
   },
   {
    "duration": 1192,
    "start_time": "2023-05-02T08:35:33.567Z"
   },
   {
    "duration": 581,
    "start_time": "2023-05-02T08:35:34.764Z"
   },
   {
    "duration": 788,
    "start_time": "2023-05-02T08:35:35.359Z"
   },
   {
    "duration": 1610,
    "start_time": "2023-05-02T08:35:36.150Z"
   },
   {
    "duration": 823,
    "start_time": "2023-05-02T08:35:37.763Z"
   },
   {
    "duration": 1062,
    "start_time": "2023-05-02T08:35:38.589Z"
   },
   {
    "duration": 516,
    "start_time": "2023-05-02T08:35:39.653Z"
   },
   {
    "duration": 984,
    "start_time": "2023-05-02T08:35:40.173Z"
   },
   {
    "duration": 686,
    "start_time": "2023-05-02T08:35:41.161Z"
   },
   {
    "duration": 753,
    "start_time": "2023-05-02T08:35:41.850Z"
   },
   {
    "duration": 800,
    "start_time": "2023-05-02T08:35:42.641Z"
   },
   {
    "duration": 543,
    "start_time": "2023-05-02T08:35:43.444Z"
   },
   {
    "duration": 786,
    "start_time": "2023-05-02T08:35:43.989Z"
   },
   {
    "duration": 510,
    "start_time": "2023-05-02T08:35:44.779Z"
   },
   {
    "duration": 504,
    "start_time": "2023-05-02T08:35:45.293Z"
   },
   {
    "duration": 498,
    "start_time": "2023-05-02T08:35:45.848Z"
   },
   {
    "duration": 542,
    "start_time": "2023-05-02T08:35:46.349Z"
   },
   {
    "duration": 621,
    "start_time": "2023-05-02T08:35:46.942Z"
   },
   {
    "duration": 887,
    "start_time": "2023-05-02T08:35:47.569Z"
   },
   {
    "duration": 627,
    "start_time": "2023-05-02T08:35:48.460Z"
   },
   {
    "duration": 1023,
    "start_time": "2023-05-02T08:35:49.089Z"
   },
   {
    "duration": 38,
    "start_time": "2023-05-02T08:35:50.114Z"
   },
   {
    "duration": 142,
    "start_time": "2023-05-02T08:35:50.154Z"
   },
   {
    "duration": 45,
    "start_time": "2023-05-02T08:35:50.348Z"
   },
   {
    "duration": 28,
    "start_time": "2023-05-02T08:35:50.449Z"
   },
   {
    "duration": 600,
    "start_time": "2023-05-02T08:35:50.481Z"
   },
   {
    "duration": 197,
    "start_time": "2023-05-02T08:35:51.085Z"
   },
   {
    "duration": 52,
    "start_time": "2023-05-02T08:36:08.804Z"
   },
   {
    "duration": 269,
    "start_time": "2023-05-02T08:36:12.717Z"
   },
   {
    "duration": 10,
    "start_time": "2023-05-02T08:36:30.104Z"
   },
   {
    "duration": 1139,
    "start_time": "2023-10-10T11:43:42.507Z"
   },
   {
    "duration": 242,
    "start_time": "2023-10-10T11:43:43.648Z"
   },
   {
    "duration": 1915,
    "start_time": "2023-10-10T11:43:43.892Z"
   },
   {
    "duration": 38,
    "start_time": "2023-10-10T11:43:45.809Z"
   },
   {
    "duration": 138,
    "start_time": "2023-10-10T11:43:45.849Z"
   },
   {
    "duration": 82,
    "start_time": "2023-10-10T11:43:45.989Z"
   },
   {
    "duration": 119,
    "start_time": "2023-10-10T11:43:46.072Z"
   },
   {
    "duration": 17,
    "start_time": "2023-10-10T11:43:46.193Z"
   },
   {
    "duration": 8,
    "start_time": "2023-10-10T11:43:46.212Z"
   },
   {
    "duration": 110,
    "start_time": "2023-10-10T11:43:46.222Z"
   },
   {
    "duration": 75,
    "start_time": "2023-10-10T11:43:46.334Z"
   },
   {
    "duration": 92,
    "start_time": "2023-10-10T11:43:46.410Z"
   },
   {
    "duration": 82,
    "start_time": "2023-10-10T11:43:46.504Z"
   },
   {
    "duration": 71,
    "start_time": "2023-10-10T11:43:46.588Z"
   },
   {
    "duration": 2060,
    "start_time": "2023-10-10T11:43:46.660Z"
   },
   {
    "duration": 80,
    "start_time": "2023-10-10T11:43:48.722Z"
   },
   {
    "duration": 10,
    "start_time": "2023-10-10T11:43:48.803Z"
   },
   {
    "duration": 385,
    "start_time": "2023-10-10T11:43:48.814Z"
   },
   {
    "duration": 578,
    "start_time": "2023-10-10T11:43:49.201Z"
   },
   {
    "duration": 82,
    "start_time": "2023-10-10T11:43:49.781Z"
   },
   {
    "duration": 183,
    "start_time": "2023-10-10T11:43:49.865Z"
   },
   {
    "duration": 400,
    "start_time": "2023-10-10T11:43:50.049Z"
   },
   {
    "duration": 288,
    "start_time": "2023-10-10T11:43:50.451Z"
   },
   {
    "duration": 122,
    "start_time": "2023-10-10T11:43:50.740Z"
   },
   {
    "duration": 198,
    "start_time": "2023-10-10T11:43:50.864Z"
   },
   {
    "duration": 397,
    "start_time": "2023-10-10T11:43:51.063Z"
   },
   {
    "duration": 204,
    "start_time": "2023-10-10T11:43:51.461Z"
   },
   {
    "duration": 221,
    "start_time": "2023-10-10T11:43:51.668Z"
   },
   {
    "duration": 117,
    "start_time": "2023-10-10T11:43:51.891Z"
   },
   {
    "duration": 190,
    "start_time": "2023-10-10T11:43:52.010Z"
   },
   {
    "duration": 190,
    "start_time": "2023-10-10T11:43:52.201Z"
   },
   {
    "duration": 193,
    "start_time": "2023-10-10T11:43:52.393Z"
   },
   {
    "duration": 234,
    "start_time": "2023-10-10T11:43:52.587Z"
   },
   {
    "duration": 155,
    "start_time": "2023-10-10T11:43:52.823Z"
   },
   {
    "duration": 205,
    "start_time": "2023-10-10T11:43:52.979Z"
   },
   {
    "duration": 173,
    "start_time": "2023-10-10T11:43:53.186Z"
   },
   {
    "duration": 167,
    "start_time": "2023-10-10T11:43:53.361Z"
   },
   {
    "duration": 157,
    "start_time": "2023-10-10T11:43:53.530Z"
   },
   {
    "duration": 139,
    "start_time": "2023-10-10T11:43:53.688Z"
   },
   {
    "duration": 197,
    "start_time": "2023-10-10T11:43:53.829Z"
   },
   {
    "duration": 327,
    "start_time": "2023-10-10T11:43:54.028Z"
   },
   {
    "duration": 178,
    "start_time": "2023-10-10T11:43:54.356Z"
   },
   {
    "duration": 322,
    "start_time": "2023-10-10T11:43:54.535Z"
   },
   {
    "duration": 7,
    "start_time": "2023-10-10T11:43:54.859Z"
   },
   {
    "duration": 39,
    "start_time": "2023-10-10T11:43:54.868Z"
   },
   {
    "duration": 17,
    "start_time": "2023-10-10T11:43:54.909Z"
   },
   {
    "duration": 28,
    "start_time": "2023-10-10T11:43:54.927Z"
   },
   {
    "duration": 168,
    "start_time": "2023-10-10T11:43:54.956Z"
   },
   {
    "duration": 46,
    "start_time": "2023-10-10T11:43:55.126Z"
   },
   {
    "duration": 201,
    "start_time": "2023-10-10T11:44:41.371Z"
   },
   {
    "duration": 1412,
    "start_time": "2024-04-17T18:34:09.628Z"
   },
   {
    "duration": 517,
    "start_time": "2024-04-17T18:34:12.194Z"
   },
   {
    "duration": 214,
    "start_time": "2024-04-17T18:34:49.517Z"
   },
   {
    "duration": 2234,
    "start_time": "2024-04-17T18:34:59.050Z"
   },
   {
    "duration": 1178,
    "start_time": "2024-04-17T18:40:18.455Z"
   },
   {
    "duration": 233,
    "start_time": "2024-04-17T18:40:19.635Z"
   },
   {
    "duration": 2243,
    "start_time": "2024-04-17T18:40:19.869Z"
   },
   {
    "duration": 32,
    "start_time": "2024-04-17T18:40:22.114Z"
   },
   {
    "duration": 157,
    "start_time": "2024-04-17T18:40:22.147Z"
   },
   {
    "duration": 86,
    "start_time": "2024-04-17T18:40:22.306Z"
   },
   {
    "duration": 163,
    "start_time": "2024-04-17T18:40:22.394Z"
   },
   {
    "duration": 32,
    "start_time": "2024-04-17T18:40:22.559Z"
   },
   {
    "duration": 7,
    "start_time": "2024-04-17T18:40:22.593Z"
   },
   {
    "duration": 119,
    "start_time": "2024-04-17T18:40:22.604Z"
   },
   {
    "duration": 79,
    "start_time": "2024-04-17T18:40:22.725Z"
   },
   {
    "duration": 97,
    "start_time": "2024-04-17T18:40:22.806Z"
   },
   {
    "duration": 98,
    "start_time": "2024-04-17T18:40:22.905Z"
   },
   {
    "duration": 76,
    "start_time": "2024-04-17T18:40:23.004Z"
   },
   {
    "duration": 2334,
    "start_time": "2024-04-17T18:40:23.091Z"
   },
   {
    "duration": 91,
    "start_time": "2024-04-17T18:40:25.427Z"
   },
   {
    "duration": 11,
    "start_time": "2024-04-17T18:40:25.519Z"
   },
   {
    "duration": 418,
    "start_time": "2024-04-17T18:40:25.531Z"
   },
   {
    "duration": 598,
    "start_time": "2024-04-17T18:40:25.951Z"
   },
   {
    "duration": 96,
    "start_time": "2024-04-17T18:40:26.551Z"
   },
   {
    "duration": 215,
    "start_time": "2024-04-17T18:40:26.649Z"
   },
   {
    "duration": 536,
    "start_time": "2024-04-17T18:40:26.866Z"
   },
   {
    "duration": 215,
    "start_time": "2024-04-17T18:40:27.404Z"
   },
   {
    "duration": 140,
    "start_time": "2024-04-17T18:40:27.621Z"
   },
   {
    "duration": 229,
    "start_time": "2024-04-17T18:40:27.763Z"
   },
   {
    "duration": 459,
    "start_time": "2024-04-17T18:40:27.994Z"
   },
   {
    "duration": 230,
    "start_time": "2024-04-17T18:40:28.454Z"
   },
   {
    "duration": 249,
    "start_time": "2024-04-17T18:40:28.687Z"
   },
   {
    "duration": 135,
    "start_time": "2024-04-17T18:40:28.938Z"
   },
   {
    "duration": 204,
    "start_time": "2024-04-17T18:40:29.075Z"
   },
   {
    "duration": 216,
    "start_time": "2024-04-17T18:40:29.281Z"
   },
   {
    "duration": 323,
    "start_time": "2024-04-17T18:40:29.499Z"
   },
   {
    "duration": 171,
    "start_time": "2024-04-17T18:40:29.824Z"
   },
   {
    "duration": 198,
    "start_time": "2024-04-17T18:40:29.997Z"
   },
   {
    "duration": 464,
    "start_time": "2024-04-17T18:40:30.197Z"
   },
   {
    "duration": 419,
    "start_time": "2024-04-17T18:40:30.663Z"
   },
   {
    "duration": 173,
    "start_time": "2024-04-17T18:40:31.084Z"
   },
   {
    "duration": 250,
    "start_time": "2024-04-17T18:40:31.259Z"
   },
   {
    "duration": 303,
    "start_time": "2024-04-17T18:40:31.511Z"
   },
   {
    "duration": 208,
    "start_time": "2024-04-17T18:40:31.815Z"
   },
   {
    "duration": 269,
    "start_time": "2024-04-17T18:40:32.024Z"
   },
   {
    "duration": 203,
    "start_time": "2024-04-17T18:40:32.295Z"
   },
   {
    "duration": 359,
    "start_time": "2024-04-17T18:40:32.500Z"
   },
   {
    "duration": 9,
    "start_time": "2024-04-17T18:40:32.860Z"
   },
   {
    "duration": 91,
    "start_time": "2024-04-17T18:40:32.871Z"
   },
   {
    "duration": 19,
    "start_time": "2024-04-17T18:40:32.964Z"
   },
   {
    "duration": 12,
    "start_time": "2024-04-17T18:40:32.984Z"
   },
   {
    "duration": 221,
    "start_time": "2024-04-17T18:40:32.998Z"
   },
   {
    "duration": 39,
    "start_time": "2024-04-17T18:40:33.221Z"
   }
  ],
  "kernelspec": {
   "display_name": "Python 3 (ipykernel)",
   "language": "python",
   "name": "python3"
  },
  "language_info": {
   "codemirror_mode": {
    "name": "ipython",
    "version": 3
   },
   "file_extension": ".py",
   "mimetype": "text/x-python",
   "name": "python",
   "nbconvert_exporter": "python",
   "pygments_lexer": "ipython3",
   "version": "3.9.5"
  },
  "toc": {
   "base_numbering": 1,
   "nav_menu": {},
   "number_sections": true,
   "sideBar": true,
   "skip_h1_title": true,
   "title_cell": "Table of Contents",
   "title_sidebar": "Contents",
   "toc_cell": false,
   "toc_position": {},
   "toc_section_display": true,
   "toc_window_display": false
  }
 },
 "nbformat": 4,
 "nbformat_minor": 2
}
